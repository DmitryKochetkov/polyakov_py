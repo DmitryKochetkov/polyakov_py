{
 "cells": [
  {
   "cell_type": "markdown",
   "metadata": {},
   "source": [
    "# Задание 8 (Комбинаторика)"
   ]
  },
  {
   "cell_type": "code",
   "execution_count": 98,
   "metadata": {},
   "outputs": [],
   "source": [
    "from itertools import *"
   ]
  },
  {
   "cell_type": "markdown",
   "metadata": {},
   "source": [
    "## №29"
   ]
  },
  {
   "cell_type": "code",
   "execution_count": 99,
   "metadata": {},
   "outputs": [],
   "source": [
    "alphabet = ['К', 'А', 'Н', 'Т']\n"
   ]
  },
  {
   "cell_type": "markdown",
   "metadata": {},
   "source": [
    "## №30"
   ]
  },
  {
   "cell_type": "code",
   "execution_count": 100,
   "metadata": {},
   "outputs": [
    {
     "name": "stdout",
     "output_type": "stream",
     "text": [
      "324\n"
     ]
    }
   ],
   "source": [
    "print(len(list(product(['Г', 'О', 'Д'], repeat=4))) * len(list(product(['Г', 'Д'], repeat=2))))"
   ]
  },
  {
   "cell_type": "markdown",
   "metadata": {},
   "source": [
    "## №43"
   ]
  },
  {
   "cell_type": "code",
   "execution_count": 101,
   "metadata": {},
   "outputs": [
    {
     "name": "stdout",
     "output_type": "stream",
     "text": [
      "781\n"
     ]
    }
   ],
   "source": [
    "alphabet = ['Л', 'Е', 'Т', 'О']\n",
    "answer = 0\n",
    "for word in product(alphabet, repeat=5):\n",
    "    if 'Е' in word:\n",
    "        answer += 1\n",
    "print(answer)"
   ]
  },
  {
   "cell_type": "markdown",
   "metadata": {},
   "source": [
    "## №50"
   ]
  },
  {
   "cell_type": "code",
   "execution_count": 102,
   "metadata": {},
   "outputs": [
    {
     "name": "stdout",
     "output_type": "stream",
     "text": [
      "113\n"
     ]
    }
   ],
   "source": [
    "alphabet = ['К', 'А', 'Т', 'Е', 'Р']\n",
    "answer = 0\n",
    "for word in product(alphabet, repeat=4):\n",
    "    if word.count('Р') >= 2:\n",
    "        answer += 1\n",
    "print(answer)"
   ]
  },
  {
   "cell_type": "markdown",
   "metadata": {},
   "source": [
    "## №58"
   ]
  },
  {
   "cell_type": "code",
   "execution_count": 103,
   "metadata": {},
   "outputs": [
    {
     "name": "stdout",
     "output_type": "stream",
     "text": [
      "409\n"
     ]
    }
   ],
   "source": [
    "consonants = ['П', 'Р', 'Г']\n",
    "vowels = ['И', 'О']\n",
    "alphabet = consonants + vowels\n",
    "\n",
    "def check_word(word):\n",
    "    if word.count('О') > 2 or word[0] == 'О':\n",
    "        return False\n",
    "\n",
    "    for i in range(1, len(word)):\n",
    "        if word[i] == 'О' and word[i-1] not in consonants:\n",
    "            return False\n",
    "    \n",
    "    return True\n",
    "\n",
    "answer = 0\n",
    "for word in product(alphabet, repeat=4):\n",
    "    if check_word(word):\n",
    "        answer += 1\n",
    "print(answer)"
   ]
  },
  {
   "cell_type": "markdown",
   "metadata": {},
   "source": [
    "## №60"
   ]
  },
  {
   "cell_type": "code",
   "execution_count": 104,
   "metadata": {},
   "outputs": [
    {
     "name": "stdout",
     "output_type": "stream",
     "text": [
      "576\n"
     ]
    }
   ],
   "source": [
    "alphabet_middle = ['А', 'Б', 'В', 'Г']\n",
    "alphabet_first_and_last = ['Э', 'Ю', 'Я']\n",
    "answer = 0\n",
    "\n",
    "def check_word(word):\n",
    "    if word[0] not in alphabet_first_and_last:\n",
    "        return False\n",
    "    \n",
    "    if word[-1] not in alphabet_first_and_last:\n",
    "        return False\n",
    "    \n",
    "    return all([letter in alphabet_middle for letter in word[1:-1]])\n",
    "\n",
    "for word in product(alphabet_middle + alphabet_first_and_last, repeat=5):\n",
    "    if check_word(word):\n",
    "        answer += 1\n",
    "\n",
    "print(answer)"
   ]
  }
 ],
 "metadata": {
  "interpreter": {
   "hash": "63fd5069d213b44bf678585dea6b12cceca9941eaf7f819626cde1f2670de90d"
  },
  "kernelspec": {
   "display_name": "Python 3.9.1 64-bit",
   "name": "python3"
  },
  "language_info": {
   "codemirror_mode": {
    "name": "ipython",
    "version": 3
   },
   "file_extension": ".py",
   "mimetype": "text/x-python",
   "name": "python",
   "nbconvert_exporter": "python",
   "pygments_lexer": "ipython3",
   "version": "3.9.1"
  },
  "orig_nbformat": 4
 },
 "nbformat": 4,
 "nbformat_minor": 2
}
