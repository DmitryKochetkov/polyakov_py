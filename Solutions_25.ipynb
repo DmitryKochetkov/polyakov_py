{
 "cells": [
  {
   "cell_type": "markdown",
   "metadata": {},
   "source": [
    "# Задача 25 (Характеристика диапазона чисел)"
   ]
  },
  {
   "cell_type": "code",
   "execution_count": 25,
   "metadata": {},
   "outputs": [],
   "source": [
    "import pandas as pd\n",
    "answers = pd.read_csv('answers.csv', encoding='windows-1251')['25'].to_list()\n",
    "answers = [None] + answers\n",
    "\n",
    "solutions = [None] * (len(answers)+1) # solutions[i] - решение i-й задачи. solutions[0] не используется."
   ]
  },
  {
   "cell_type": "markdown",
   "metadata": {},
   "source": [
    "## №9"
   ]
  },
  {
   "cell_type": "code",
   "execution_count": null,
   "metadata": {},
   "outputs": [],
   "source": [
    "def isSimple(x):\n",
    "    for i in range(2, x):\n",
    "        if x % i == 0:\n",
    "            return False\n",
    "    return True\n",
    "\n",
    "def del4(x):\n",
    "    d = []\n",
    "    i = 2\n",
    "    while i * i < x:\n",
    "        if x % i == 0:\n",
    "            d.append(i)\n",
    "            d.append(x // i)\n",
    "            if len(d) > 2:\n",
    "                return None\n",
    "        i += 1\n",
    "\n",
    "    if i * i == x:\n",
    "        d.append(i)\n",
    "\n",
    "    if len(d) == 2:\n",
    "        return (1, d[0], d[1], x)\n",
    "    return None\n",
    "\n",
    "for x in range(258274, 258297+1):\n",
    "    ans = del4(x)\n",
    "    if ans != None:\n",
    "        print(ans[0], ans[1], ans[2], ans[3])"
   ]
  },
  {
   "cell_type": "markdown",
   "metadata": {},
   "source": []
  },
  {
   "cell_type": "code",
   "execution_count": null,
   "metadata": {},
   "outputs": [],
   "source": [
    "def isPrime(n):\n",
    "    i = 2\n",
    "    while i * i <= n:\n",
    "        if n % i == 0:\n",
    "            return False\n",
    "        i += 1\n",
    "    return True\n",
    "\n",
    "def match(x):\n",
    "    i = 2\n",
    "    while i * i <= x:\n",
    "        if x % i == 0 and i != x // i and isPrime(i) and isPrime(x // i) and i * (x // i) == x:\n",
    "            return True\n",
    "        i += 1\n",
    "    return False\n",
    "\n",
    "k = 0\n",
    "s = 0\n",
    "\n",
    "all_numbers = []\n",
    "\n",
    "for i in range(298435, 363249+1):\n",
    "    if match(i):\n",
    "        k += 1\n",
    "        s += i\n",
    "        all_numbers.append(i)\n",
    "\n",
    "avg = s / k\n",
    "ans = all_numbers[0]\n",
    "for i in all_numbers:\n",
    "    if abs(i - avg) < abs(ans - avg):\n",
    "        ans = i\n",
    "\n",
    "print(k)\n",
    "print(ans)"
   ]
  },
  {
   "cell_type": "markdown",
   "metadata": {},
   "source": [
    "## №54"
   ]
  },
  {
   "cell_type": "markdown",
   "metadata": {},
   "source": [
    "## №102"
   ]
  },
  {
   "cell_type": "code",
   "execution_count": 20,
   "metadata": {},
   "outputs": [
    {
     "name": "stdout",
     "output_type": "stream",
     "text": [
      "14380 268313\n"
     ]
    }
   ],
   "source": [
    "def isPrime(n: int):\n",
    "    if n < 2:\n",
    "        return False\n",
    "\n",
    "    i = 2\n",
    "    while i * i <= n:\n",
    "        if n % i == 0:\n",
    "            return False\n",
    "        i += 1\n",
    "    return True\n",
    "\n",
    "\n",
    "def check_two_divisors(x):\n",
    "    d = 2\n",
    "    while d * d < x:\n",
    "        if x % d == 0:\n",
    "            return isPrime(d) and isPrime(x // d)\n",
    "\n",
    "        d += 1\n",
    "    \n",
    "    return False\n",
    "\n",
    "count = 0\n",
    "m = 10 ** 20\n",
    "\n",
    "for x in range(268312, 336492):\n",
    "    if check_two_divisors(x):\n",
    "        count += 1\n",
    "        m = min(m, x)\n",
    "\n",
    "print(count, m)"
   ]
  },
  {
   "cell_type": "code",
   "execution_count": 26,
   "metadata": {},
   "outputs": [
    {
     "data": {
      "text/plain": [
       "'14380 268313'"
      ]
     },
     "execution_count": 26,
     "metadata": {},
     "output_type": "execute_result"
    }
   ],
   "source": [
    "answers[102]"
   ]
  },
  {
   "cell_type": "code",
   "execution_count": null,
   "metadata": {},
   "outputs": [],
   "source": []
  },
  {
   "cell_type": "code",
   "execution_count": 23,
   "metadata": {},
   "outputs": [],
   "source": [
    "assert check_two_divisors(1) == False\n",
    "assert check_two_divisors(2) == False\n",
    "assert check_two_divisors(4) == False\n",
    "assert check_two_divisors(15) == True\n",
    "assert check_two_divisors(16) == False\n",
    "assert check_two_divisors(17) == False\n",
    "assert check_two_divisors(34) == True"
   ]
  },
  {
   "cell_type": "markdown",
   "metadata": {},
   "source": [
    "## №109"
   ]
  },
  {
   "cell_type": "code",
   "execution_count": 32,
   "metadata": {},
   "outputs": [
    {
     "name": "stdout",
     "output_type": "stream",
     "text": [
      "1710 173231\n"
     ]
    }
   ],
   "source": [
    "def isPrime(n: int):\n",
    "    if n < 2:\n",
    "        return False\n",
    "\n",
    "    i = 2\n",
    "    while i * i <= n:\n",
    "        if n % i == 0:\n",
    "            return False\n",
    "        i += 1\n",
    "    return True\n",
    "\n",
    "\n",
    "def check_two_divisors(x):\n",
    "    d = 2\n",
    "    while d * d < x:\n",
    "        if x % d == 0:\n",
    "            return isPrime(d) and isPrime(x // d) and (d != x // d) and (d % 10 == (x // d) % 10)\n",
    "\n",
    "        d += 1\n",
    "    \n",
    "    return False\n",
    "\n",
    "count = 0\n",
    "m = 10 ** 20\n",
    "\n",
    "for x in range(173225, 217437):\n",
    "    if check_two_divisors(x):\n",
    "        count += 1\n",
    "        m = min(m, x)\n",
    "\n",
    "print(count, m)"
   ]
  },
  {
   "cell_type": "code",
   "execution_count": 33,
   "metadata": {},
   "outputs": [
    {
     "data": {
      "text/plain": [
       "'1710 173231'"
      ]
     },
     "execution_count": 33,
     "metadata": {},
     "output_type": "execute_result"
    }
   ],
   "source": [
    "answers[109]"
   ]
  },
  {
   "cell_type": "markdown",
   "metadata": {},
   "source": [
    "## №117"
   ]
  },
  {
   "cell_type": "code",
   "execution_count": 69,
   "metadata": {},
   "outputs": [
    {
     "name": "stderr",
     "output_type": "stream",
     "text": [
      "100%|██████████| 115112/115112 [00:01<00:00, 84890.99it/s]"
     ]
    },
    {
     "name": "stdout",
     "output_type": "stream",
     "text": [
      "23707 220778\n"
     ]
    },
    {
     "name": "stderr",
     "output_type": "stream",
     "text": [
      "\n"
     ]
    }
   ],
   "source": [
    "def isPrime(n: int):\n",
    "    if n < 2:\n",
    "        return False\n",
    "\n",
    "    i = 2\n",
    "    while i * i <= n:\n",
    "        if n % i == 0:\n",
    "            return False\n",
    "        i += 1\n",
    "    return True\n",
    "\n",
    "def check_two_divisors(x, prev):\n",
    "    d = 2\n",
    "    while d * d < x:\n",
    "        if x % d == 0:\n",
    "            return isPrime(d) and isPrime(x // d) and (prev != d) and (prev != x // d)\n",
    "        d += 1\n",
    "    \n",
    "    return False\n",
    "\n",
    "def check_three_divisors(x):\n",
    "    if x < 2:\n",
    "        return False\n",
    "\n",
    "    d = 2\n",
    "    while d * d < x:\n",
    "        if x % d == 0:\n",
    "            if not isPrime(d):\n",
    "                return False\n",
    "            \n",
    "            return check_two_divisors(x // d, d)\n",
    "\n",
    "        d += 1\n",
    "    \n",
    "    return False\n",
    "\n",
    "count = 0\n",
    "m = 0\n",
    "for x in tqdm(range(105673, 220784+1)):\n",
    "    if check_three_divisors(x):\n",
    "        count += 1\n",
    "        m = max(m, x)\n",
    "\n",
    "print(count, m)"
   ]
  },
  {
   "cell_type": "code",
   "execution_count": 71,
   "metadata": {},
   "outputs": [],
   "source": [
    "# from collections import defaultdict\n",
    "# from tqdm import tqdm\n",
    "\n",
    "# def prime_divisors(m):\n",
    "#     pos = defaultdict(int)\n",
    "#     d = 2\n",
    "#     while m > 1:\n",
    "#         while m % d == 0:\n",
    "#             pos[d] += 1\n",
    "#             m //= d\n",
    "#         d += 1\n",
    "\n",
    "#     return pos\n",
    "\n",
    "# count = 0\n",
    "# m = 0\n",
    "# for x in tqdm(range(105673, 220784+1)):\n",
    "#     if list(prime_divisors(x)) == [1, 1, 1]:\n",
    "#         count += 1\n",
    "#         m = max(m, x)\n",
    "\n",
    "# print(count, m)"
   ]
  },
  {
   "cell_type": "code",
   "execution_count": 53,
   "metadata": {},
   "outputs": [
    {
     "name": "stdout",
     "output_type": "stream",
     "text": [
      "29014 220778\n"
     ]
    }
   ],
   "source": [
    "m = 0\n",
    "count = 0\n",
    "for x in range(105673, 220784+1):\n",
    "    if check_three_divisors(x):\n",
    "        count += 1\n",
    "        m = max(m, x)\n",
    "\n",
    "print(count, m)"
   ]
  },
  {
   "cell_type": "code",
   "execution_count": 43,
   "metadata": {},
   "outputs": [
    {
     "data": {
      "text/plain": [
       "'23707 220778'"
      ]
     },
     "execution_count": 43,
     "metadata": {},
     "output_type": "execute_result"
    }
   ],
   "source": [
    "answers[117]"
   ]
  },
  {
   "cell_type": "markdown",
   "metadata": {},
   "source": [
    "## №206"
   ]
  },
  {
   "cell_type": "code",
   "execution_count": 10,
   "metadata": {},
   "outputs": [
    {
     "name": "stdout",
     "output_type": "stream",
     "text": [
      "113456759 6673927\n",
      "133456749 7850397\n",
      "153456739 9026867\n",
      "173456729 10203337\n",
      "193456719 11379807\n"
     ]
    }
   ],
   "source": [
    "def check(a):\n",
    "    if len(a) == 9 and a[0] == '1' and a[2:7] == '34567' and a[8] == '9':\n",
    "        return True\n",
    "\n",
    "for i in range(100000001,200000000, 17):\n",
    "    if check(str(i)):\n",
    "        print(i, i//17)"
   ]
  },
  {
   "cell_type": "markdown",
   "metadata": {},
   "source": [
    "## №208"
   ]
  },
  {
   "cell_type": "code",
   "execution_count": 6,
   "metadata": {},
   "outputs": [
    {
     "name": "stdout",
     "output_type": "stream",
     "text": [
      "122145 2395\n",
      "122451 2401\n",
      "124542 2442\n",
      "124593 2443\n",
      "127245 2495\n"
     ]
    }
   ],
   "source": [
    "def mask_check(x):\n",
    "    s = str(x)\n",
    "    if not (s[0] == '1' and s[1] == '2'):\n",
    "        return False\n",
    "\n",
    "    if '45' in s:\n",
    "        return True\n",
    "\n",
    "    return False\n",
    "\n",
    "# for i in range(51, 10**6+1, 51):\n",
    "#     if mask_check(i):\n",
    "#         print(i, i // 51)\n",
    "\n",
    "for i in range(10, 10**6+1):\n",
    "    if mask_check(i) and i % 51 == 0:\n",
    "        print(i, i // 51)"
   ]
  },
  {
   "cell_type": "markdown",
   "metadata": {},
   "source": [
    "## №222"
   ]
  },
  {
   "cell_type": "code",
   "execution_count": 4,
   "metadata": {},
   "outputs": [
    {
     "data": {
      "text/plain": [
       "[(1538, 3), (3992, 9), (6450, 27), (8912, 63), (11378, 3)]"
      ]
     },
     "execution_count": 4,
     "metadata": {},
     "output_type": "execute_result"
    }
   ],
   "source": [
    "answer = []\n",
    "def count_divisors(x):\n",
    "    c = 0\n",
    "    i = 1\n",
    "    while i * i <= x:\n",
    "        if x % i == 0:\n",
    "            if i % 2 == 0:\n",
    "                c += 1\n",
    "            if (x // i) % 2 == 0 and i * i != x:\n",
    "                c += 1\n",
    "        i += 1\n",
    "\n",
    "    return c\n",
    "\n",
    "k = 1\n",
    "while len(answer) < 5:\n",
    "    x = 750000 + k\n",
    "    c = count_divisors(x)\n",
    "    if c % 2 == 1:\n",
    "        answer.append((k, c))\n",
    "    k += 1\n",
    "\n",
    "answer"
   ]
  },
  {
   "cell_type": "code",
   "execution_count": 12,
   "metadata": {},
   "outputs": [
    {
     "name": "stdout",
     "output_type": "stream",
     "text": [
      "Found new number!\n",
      "Found new number!\n",
      "Found new number!\n",
      "Found new number!\n",
      "Found new number!\n"
     ]
    },
    {
     "data": {
      "text/plain": [
       "[(22792, 81), (144450, 81), (266112, 27), (387778, 9), (509448, 27)]"
      ]
     },
     "execution_count": 12,
     "metadata": {},
     "output_type": "execute_result"
    }
   ],
   "source": [
    "answer = []\n",
    "def count_divisors(x):\n",
    "    c = 0\n",
    "    i = 1\n",
    "    while i * i <= x:\n",
    "        if x % i == 0:\n",
    "            if i % 2 == 0:\n",
    "                c += 1\n",
    "            if (x // i) % 2 == 0 and i * i != x:\n",
    "                c += 1\n",
    "        i += 1\n",
    "\n",
    "    return c\n",
    "\n",
    "k = 2\n",
    "while len(answer) < 5:\n",
    "    x = 1850000000 + k\n",
    "    c = count_divisors(x)\n",
    "    if c % 2 == 1:\n",
    "        answer.append((k, c))\n",
    "        print('Found new number!')\n",
    "    k += 2\n",
    "\n",
    "answer"
   ]
  }
 ],
 "metadata": {
  "interpreter": {
   "hash": "73e03da126b73bfff3642ec5261d56fa25c444ea595de51041687efaa60dda41"
  },
  "kernelspec": {
   "display_name": "Python 3.9.7 ('base')",
   "language": "python",
   "name": "python3"
  },
  "language_info": {
   "codemirror_mode": {
    "name": "ipython",
    "version": 3
   },
   "file_extension": ".py",
   "mimetype": "text/x-python",
   "name": "python",
   "nbconvert_exporter": "python",
   "pygments_lexer": "ipython3",
   "version": "3.9.7"
  },
  "orig_nbformat": 4
 },
 "nbformat": 4,
 "nbformat_minor": 2
}
