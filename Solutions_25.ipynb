{
 "cells": [
  {
   "cell_type": "markdown",
   "metadata": {},
   "source": [
    "# Задача 25 (Характеристика диапазона чисел)"
   ]
  },
  {
   "cell_type": "markdown",
   "metadata": {},
   "source": [
    "## №9"
   ]
  },
  {
   "cell_type": "code",
   "execution_count": null,
   "metadata": {},
   "outputs": [],
   "source": [
    "def isSimple(x):\n",
    "    for i in range(2, x):\n",
    "        if x % i == 0:\n",
    "            return False\n",
    "    return True\n",
    "\n",
    "def del4(x):\n",
    "    d = []\n",
    "    i = 2\n",
    "    while i * i < x:\n",
    "        if x % i == 0:\n",
    "            d.append(i)\n",
    "            d.append(x // i)\n",
    "            if len(d) > 2:\n",
    "                return None\n",
    "        i += 1\n",
    "\n",
    "    if i * i == x:\n",
    "        d.append(i)\n",
    "\n",
    "    if len(d) == 2:\n",
    "        return (1, d[0], d[1], x)\n",
    "    return None\n",
    "\n",
    "for x in range(258274, 258297+1):\n",
    "    ans = del4(x)\n",
    "    if ans != None:\n",
    "        print(ans[0], ans[1], ans[2], ans[3])"
   ]
  },
  {
   "cell_type": "markdown",
   "metadata": {},
   "source": [
    "## №112 "
   ]
  },
  {
   "cell_type": "code",
   "execution_count": null,
   "metadata": {},
   "outputs": [],
   "source": [
    "def isPrime(n):\n",
    "    i = 2\n",
    "    while i * i <= n:\n",
    "        if n % i == 0:\n",
    "            return False\n",
    "        i += 1\n",
    "    return True\n",
    "\n",
    "def match(x):\n",
    "    i = 2\n",
    "    while i * i <= x:\n",
    "        if x % i == 0 and i != x // i and isPrime(i) and isPrime(x // i) and i * (x // i) == x:\n",
    "            return True\n",
    "        i += 1\n",
    "    return False\n",
    "\n",
    "k = 0\n",
    "s = 0\n",
    "\n",
    "all_numbers = []\n",
    "\n",
    "for i in range(298435, 363249+1):\n",
    "    if match(i):\n",
    "        k += 1\n",
    "        s += i\n",
    "        all_numbers.append(i)\n",
    "\n",
    "avg = s / k\n",
    "ans = all_numbers[0]\n",
    "for i in all_numbers:\n",
    "    if abs(i - avg) < abs(ans - avg):\n",
    "        ans = i\n",
    "\n",
    "print(k)\n",
    "print(ans)"
   ]
  }
 ],
 "metadata": {
  "interpreter": {
   "hash": "73e03da126b73bfff3642ec5261d56fa25c444ea595de51041687efaa60dda41"
  },
  "kernelspec": {
   "display_name": "Python 3.9.7 ('base')",
   "language": "python",
   "name": "python3"
  },
  "language_info": {
   "codemirror_mode": {
    "name": "ipython",
    "version": 3
   },
   "file_extension": ".py",
   "mimetype": "text/x-python",
   "name": "python",
   "nbconvert_exporter": "python",
   "pygments_lexer": "ipython3",
   "version": "3.9.7"
  },
  "orig_nbformat": 4
 },
 "nbformat": 4,
 "nbformat_minor": 2
}
