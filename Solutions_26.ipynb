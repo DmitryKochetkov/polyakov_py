{
 "cells": [
  {
   "cell_type": "markdown",
   "metadata": {},
   "source": [
    "# Задача 26"
   ]
  },
  {
   "cell_type": "code",
   "execution_count": 16,
   "metadata": {},
   "outputs": [],
   "source": [
    "import pandas as pd\n",
    "answers = pd.read_csv('answers.csv', encoding='windows-1251')['26'].to_list()\n",
    "answers = [None] + answers\n",
    "\n",
    "solutions = [None] * (len(answers)+1) # solutions[i] - решение i-й задачи. solutions[0] не используется."
   ]
  },
  {
   "cell_type": "markdown",
   "metadata": {},
   "source": [
    "## #1-20 (Задача в формате демо-варианта 2021)"
   ]
  },
  {
   "cell_type": "markdown",
   "metadata": {},
   "source": [
    "Системный администратор раз в неделю создаёт архив пользовательских файлов. Однако объём диска, куда он помещает архив, может быть меньше, чем суммарный объём архивируемых файлов. Известно, какой объём занимает файл каждого пользователя. По заданной информации об объёме файлов пользователей и свободном объёме на архивном диске определите максимальное число пользователей, чьи файлы можно сохранить в архиве, а также максимальный размер имеющегося файла, который может быть сохранён в архиве, при условии, что сохранены файлы максимально возможного числа пользователей."
   ]
  },
  {
   "cell_type": "code",
   "execution_count": 2,
   "metadata": {},
   "outputs": [],
   "source": [
    "# Неправильное решение, которое первым приходит в голову\n",
    "\n",
    "def demo2021_wrong_solution(path):\n",
    "    with open(path) as f:\n",
    "        disk_size, n = map(int, f.readline().split())\n",
    "        files = list()\n",
    "\n",
    "        for i in range(n):\n",
    "            files.append(int(f.readline()))\n",
    "\n",
    "        files.sort()\n",
    "\n",
    "        occupied = 0\n",
    "        i = 0\n",
    "\n",
    "        while i < n and occupied + files[i] <= disk_size:\n",
    "            occupied += files[i]\n",
    "            i += 1\n",
    "\n",
    "        return '{} {}'.format(i, files[i])"
   ]
  },
  {
   "cell_type": "code",
   "execution_count": 3,
   "metadata": {},
   "outputs": [],
   "source": [
    "def demo2021(path):\n",
    "    with open(path) as f:\n",
    "        disk_size, n = map(int, f.readline().split())\n",
    "        files = list()\n",
    "\n",
    "        for i in range(n):\n",
    "            files.append(int(f.readline()))\n",
    "\n",
    "        files.sort()\n",
    "\n",
    "        occupied = 0\n",
    "        max_file = 0\n",
    "        file_count = 0\n",
    "        i = 0\n",
    "\n",
    "        while file_count < n and occupied + files[i] <= disk_size:\n",
    "            occupied += files[i]\n",
    "            max_file = files[i]\n",
    "            i += 1\n",
    "            file_count += 1\n",
    "\n",
    "        while i < n and occupied + files[i] - max_file <= disk_size:\n",
    "            occupied = occupied + files[i] - max_file\n",
    "            max_file = files[i]\n",
    "            i += 1\n",
    "\n",
    "        return '{} {}'.format(file_count, max_file)"
   ]
  },
  {
   "cell_type": "code",
   "execution_count": 4,
   "metadata": {},
   "outputs": [],
   "source": [
    "for i in range(1, 20+1):\n",
    "    solutions[i] = demo2021('./data/26data/26-{}.txt'.format(i))"
   ]
  },
  {
   "cell_type": "markdown",
   "metadata": {},
   "source": [
    "## #21"
   ]
  },
  {
   "cell_type": "code",
   "execution_count": 5,
   "metadata": {},
   "outputs": [],
   "source": [
    "with open('./data/26data/26-k1.txt') as f:\n",
    "    n, k = map(int, f.readline().split())\n",
    "    prices = list()\n",
    "    for i in range(n):\n",
    "        prices.append(int(f.readline()))\n",
    "\n",
    "    prices.sort()\n",
    "\n",
    "    s = sum(prices[n-k : n])\n",
    "\n",
    "    answer = '{} {}'.format(prices[n-k-1], int(s * 0.2))\n",
    "\n",
    "solutions[21] = answer"
   ]
  },
  {
   "cell_type": "markdown",
   "metadata": {},
   "source": [
    "## #22"
   ]
  },
  {
   "cell_type": "code",
   "execution_count": 6,
   "metadata": {},
   "outputs": [
    {
     "name": "stdout",
     "output_type": "stream",
     "text": [
      "957 501\n"
     ]
    }
   ],
   "source": [
    "with open('./data/26data/26-k2.txt') as f:\n",
    "    n, k = map(int, f.readline().split())\n",
    "    measures = list()\n",
    "\n",
    "    for i in range(n):\n",
    "        measures.append(int(f.readline()))\n",
    "\n",
    "    measures.sort()\n",
    "    \n",
    "    measures = measures[k : -k]\n",
    "    avg = sum(measures) / len(measures)\n",
    "    solutions[22] = '{} {}'.format(max(measures), int(avg))\n",
    "\n",
    "print(solutions[22])"
   ]
  },
  {
   "cell_type": "markdown",
   "metadata": {},
   "source": [
    "## #23"
   ]
  },
  {
   "cell_type": "code",
   "execution_count": 7,
   "metadata": {},
   "outputs": [],
   "source": [
    "def problem23(path):\n",
    "    with open(path) as f:\n",
    "        n, k, m = map(int, f.readline().split())\n",
    "\n",
    "        scores = list()\n",
    "        for i in range(n):\n",
    "            scores.append(int(f.readline()))\n",
    "        \n",
    "        scores.sort()\n",
    "\n",
    "        return '{} {}'.format(scores[n-k-m], scores[n-k])"
   ]
  },
  {
   "cell_type": "code",
   "execution_count": 8,
   "metadata": {},
   "outputs": [],
   "source": [
    "def problem23_descending(path):\n",
    "    with open(path) as f:\n",
    "        n, k, m = map(int, f.readline().split())\n",
    "\n",
    "        scores = list()\n",
    "        for i in range(n):\n",
    "            scores.append(int(f.readline()))\n",
    "        \n",
    "        scores.sort(reverse=True)\n",
    "\n",
    "        # k победителей - от 0 до k-1\n",
    "        # Первый призер имеет номер k\n",
    "        # Всего призеров m\n",
    "        # Призеры - от k до k+m-1\n",
    "\n",
    "        return '{} {}'.format(scores[m+k-1], scores[k-1])"
   ]
  },
  {
   "cell_type": "code",
   "execution_count": 9,
   "metadata": {},
   "outputs": [
    {
     "data": {
      "text/plain": [
       "'519 909'"
      ]
     },
     "execution_count": 9,
     "metadata": {},
     "output_type": "execute_result"
    }
   ],
   "source": [
    "solutions[23] = problem23_descending('./data/26data/26-k3.txt')\n",
    "solutions[23]"
   ]
  },
  {
   "cell_type": "code",
   "execution_count": 10,
   "metadata": {},
   "outputs": [
    {
     "data": {
      "text/plain": [
       "'519 909'"
      ]
     },
     "execution_count": 10,
     "metadata": {},
     "output_type": "execute_result"
    }
   ],
   "source": [
    "answers[23]"
   ]
  },
  {
   "cell_type": "markdown",
   "metadata": {},
   "source": [
    "## #24"
   ]
  },
  {
   "cell_type": "code",
   "execution_count": 11,
   "metadata": {},
   "outputs": [
    {
     "data": {
      "text/plain": [
       "'856 953'"
      ]
     },
     "execution_count": 11,
     "metadata": {},
     "output_type": "execute_result"
    }
   ],
   "source": [
    "with open('./data/26data/26-k4.txt') as f:\n",
    "    n, k = map(int, f.readline().split())\n",
    "    a = list()\n",
    "\n",
    "    for i in range(n):\n",
    "        a.append(int(f.readline()))\n",
    "\n",
    "    a.sort()\n",
    "\n",
    "    avg1 = int(sum(a[n-2*k:n-k]) / k)\n",
    "    avg2 = int(sum(a[n-k:]) / k)\n",
    "\n",
    "    solutions[24] = '{} {}'.format(avg1, avg2)\n",
    "\n",
    "solutions[24]"
   ]
  },
  {
   "cell_type": "markdown",
   "metadata": {},
   "source": [
    "## #25"
   ]
  },
  {
   "cell_type": "code",
   "execution_count": 12,
   "metadata": {},
   "outputs": [
    {
     "data": {
      "text/plain": [
       "'27700 7896'"
      ]
     },
     "execution_count": 12,
     "metadata": {},
     "output_type": "execute_result"
    }
   ],
   "source": [
    "with open('./data/26data/26-k5.txt') as f:\n",
    "    n, k, m = map(int, f.readline().split())\n",
    "    prices = list()\n",
    "\n",
    "    for i in range(n):\n",
    "        prices.append(int(f.readline()))\n",
    "    prices.sort()\n",
    "\n",
    "    solutions[25] = '{} {}'.format(prices[n-m], int(sum(prices[:k]) / k))\n",
    "\n",
    "solutions[25]"
   ]
  },
  {
   "cell_type": "markdown",
   "metadata": {},
   "source": [
    "## #26"
   ]
  },
  {
   "cell_type": "code",
   "execution_count": 13,
   "metadata": {},
   "outputs": [],
   "source": [
    "def problem26_bruteforce(path):\n",
    "    with open(path) as f:\n",
    "        a = list()\n",
    "\n",
    "        n = int(f.readline())\n",
    "        for i in range(n):\n",
    "            x = int(f.readline())\n",
    "            a.append(x)\n",
    "\n",
    "        res = 0\n",
    "        for i in range(n):\n",
    "            for j in range(i):\n",
    "                if a[i] + a[j] == 100:\n",
    "                    res += 1\n",
    "                    a[i] = 0\n",
    "                    a[j] = 0\n",
    "\n",
    "        return res"
   ]
  },
  {
   "cell_type": "code",
   "execution_count": 14,
   "metadata": {},
   "outputs": [],
   "source": [
    "def problem26(path):\n",
    "    with open(path) as f:\n",
    "        count = [0] * 100\n",
    "        count[0] = 0 # не используется\n",
    "\n",
    "        n = int(f.readline())\n",
    "        for i in range(n):\n",
    "            x = int(f.readline()) # всегда от 1 до 99\n",
    "            count[x] += 1\n",
    "\n",
    "        res = 0\n",
    "        for i in range(1, 50):\n",
    "            res += min(count[i], count[99-i+1])\n",
    "        res += count[50] // 2\n",
    "\n",
    "        return res"
   ]
  },
  {
   "cell_type": "code",
   "execution_count": 15,
   "metadata": {},
   "outputs": [],
   "source": [
    "solutions[26] = problem26('./data/26data/26-J1.txt')"
   ]
  },
  {
   "cell_type": "code",
   "execution_count": 16,
   "metadata": {},
   "outputs": [
    {
     "data": {
      "text/plain": [
       "'3845'"
      ]
     },
     "execution_count": 16,
     "metadata": {},
     "output_type": "execute_result"
    }
   ],
   "source": [
    "answers[26]"
   ]
  },
  {
   "cell_type": "markdown",
   "metadata": {},
   "source": [
    "## #27"
   ]
  },
  {
   "cell_type": "code",
   "execution_count": 17,
   "metadata": {},
   "outputs": [],
   "source": [
    "f = open('./data/26data/26-j2.txt')\n",
    "\n",
    "n = int(f.readline())\n",
    "a = list()\n",
    "\n",
    "for i in range(n):\n",
    "    a.append(int(f.readline()))\n",
    "\n",
    "a.sort()\n",
    "\n",
    "avg = sum(a) / n\n",
    "mid = a[n // 2]\n",
    "\n",
    "l = min(avg, mid)\n",
    "r = max(avg, mid)\n",
    "\n",
    "answer = 0\n",
    "\n",
    "for i in range(n):\n",
    "    if a[i] >= l and a[i] <= r:\n",
    "        answer += 1\n",
    "\n",
    "solutions[27] = answer"
   ]
  },
  {
   "cell_type": "markdown",
   "metadata": {},
   "source": [
    "## #28"
   ]
  },
  {
   "cell_type": "code",
   "execution_count": 18,
   "metadata": {},
   "outputs": [
    {
     "data": {
      "text/plain": [
       "'1054 732'"
      ]
     },
     "execution_count": 18,
     "metadata": {},
     "output_type": "execute_result"
    }
   ],
   "source": [
    "f = open('./data/26data/26-j3.txt')\n",
    "\n",
    "s, n = map(int, f.readline().split())\n",
    "a = list()\n",
    "\n",
    "for i in range(n):\n",
    "    a.append(int(f.readline()))\n",
    "\n",
    "a.sort(reverse=True)\n",
    "\n",
    "used_space = 0\n",
    "i = 0\n",
    "min_saved_file = a[0]\n",
    "count = 0\n",
    "\n",
    "while i < n and used_space + a[i] <= s:\n",
    "    used_space += a[i]\n",
    "    if a[i] < min_saved_file:\n",
    "        min_saved_file = a[i]\n",
    "    i += 1\n",
    "    count += 1\n",
    "\n",
    "j = i\n",
    "while j < n:\n",
    "    if used_space + a[j] <= s:\n",
    "        used_space += a[j]\n",
    "        if a[j] < min_saved_file:\n",
    "            min_saved_file = a[j]\n",
    "        count += 1\n",
    "    j += 1\n",
    "\n",
    "solutions[28] = '{} {}'.format(count, min_saved_file)\n",
    "solutions[28]"
   ]
  },
  {
   "cell_type": "markdown",
   "metadata": {},
   "source": [
    "## #29"
   ]
  },
  {
   "cell_type": "code",
   "execution_count": 19,
   "metadata": {},
   "outputs": [],
   "source": [
    "f = open('./data/26data/26-j4.txt')\n",
    "n = int(f.readline())\n",
    "\n",
    "files = []\n",
    "for i in range(n):\n",
    "    files.append(int(f.readline()))\n",
    "\n",
    "files.sort()\n",
    "total = sum(files)\n",
    "\n",
    "p = n // 10\n",
    "solutions[29] = '{} {}'.format(sum(files[p:-p]), max(files[p:-p]))"
   ]
  },
  {
   "cell_type": "code",
   "execution_count": 20,
   "metadata": {},
   "outputs": [
    {
     "data": {
      "text/plain": [
       "'440962 91'"
      ]
     },
     "execution_count": 20,
     "metadata": {},
     "output_type": "execute_result"
    }
   ],
   "source": [
    "solutions[29]"
   ]
  },
  {
   "cell_type": "markdown",
   "metadata": {},
   "source": [
    "## #30"
   ]
  },
  {
   "cell_type": "code",
   "execution_count": 21,
   "metadata": {},
   "outputs": [
    {
     "name": "stdout",
     "output_type": "stream",
     "text": [
      "[10, 12, 12, 8, 20, 20, 16, 10]\n"
     ]
    },
    {
     "data": {
      "text/plain": [
       "'1 14'"
      ]
     },
     "execution_count": 21,
     "metadata": {},
     "output_type": "execute_result"
    }
   ],
   "source": [
    "f = open('./data/26data/26-J5.txt')\n",
    "n = int(f.readline())\n",
    "\n",
    "a = list()\n",
    "for i in range(n):\n",
    "    a.append(int(f.readline()))\n",
    "\n",
    "# b = [0] * len(a)\n",
    "# b[0] = a[0]\n",
    "# b[-1] = a[-1]\n",
    "\n",
    "n = 8\n",
    "a = [10, 12, 8, 6, 20, 12, 16, 10]\n",
    "b = a.copy()\n",
    "\n",
    "for i in range(1, n-1):\n",
    "    b[i] = sorted(a[i-1:i+1])[1]\n",
    "\n",
    "print(b)\n",
    "solutions[30] = '{} {}'.format(b.count(min(b)), sum([abs(a[i]-b[i]) for i in range(len(a))]))\n",
    "solutions[30]"
   ]
  },
  {
   "cell_type": "code",
   "execution_count": 22,
   "metadata": {},
   "outputs": [
    {
     "data": {
      "text/plain": [
       "'72 17730'"
      ]
     },
     "execution_count": 22,
     "metadata": {},
     "output_type": "execute_result"
    }
   ],
   "source": [
    "answers[30]"
   ]
  },
  {
   "cell_type": "markdown",
   "metadata": {},
   "source": [
    "## #31"
   ]
  },
  {
   "cell_type": "code",
   "execution_count": 23,
   "metadata": {},
   "outputs": [
    {
     "data": {
      "text/plain": [
       "'499078 550'"
      ]
     },
     "execution_count": 23,
     "metadata": {},
     "output_type": "execute_result"
    }
   ],
   "source": [
    "from math import ceil\n",
    "\n",
    "f = open('./data/26data/26-s1.txt')\n",
    "\n",
    "n = int(f.readline())\n",
    "\n",
    "a1 = list()\n",
    "a2 = list()\n",
    "\n",
    "for i in range(n):\n",
    "    x = int(f.readline())\n",
    "    if x > 100:\n",
    "        a2.append(x)\n",
    "    else:\n",
    "        a1.append(x)\n",
    "\n",
    "sale = 0\n",
    "\n",
    "a1.sort()\n",
    "a2.sort()\n",
    "for i in range(len(a2) // 2):\n",
    "    sale += 0.1 * a2[i]\n",
    "\n",
    "solutions[31] = '{} {}'.format(ceil(sum(a1) + sum(a2) - sale), a2[len(a2) // 2 - 1])\n",
    "solutions[31]"
   ]
  },
  {
   "cell_type": "code",
   "execution_count": 24,
   "metadata": {},
   "outputs": [
    {
     "data": {
      "text/plain": [
       "'499078 550'"
      ]
     },
     "execution_count": 24,
     "metadata": {},
     "output_type": "execute_result"
    }
   ],
   "source": [
    "answers[31]"
   ]
  },
  {
   "cell_type": "markdown",
   "metadata": {},
   "source": [
    "## #32"
   ]
  },
  {
   "cell_type": "code",
   "execution_count": 25,
   "metadata": {},
   "outputs": [
    {
     "data": {
      "text/plain": [
       "'482303 576'"
      ]
     },
     "execution_count": 25,
     "metadata": {},
     "output_type": "execute_result"
    }
   ],
   "source": [
    "from math import ceil\n",
    "\n",
    "f = open('./data/26data/26-s1.txt')\n",
    "\n",
    "n = int(f.readline())\n",
    "\n",
    "a1 = list()\n",
    "a2 = list()\n",
    "\n",
    "for i in range(n):\n",
    "    x = int(f.readline())\n",
    "    if x > 150:\n",
    "        a2.append(x)\n",
    "    else:\n",
    "        a1.append(x)\n",
    "\n",
    "sale = 0\n",
    "\n",
    "a1.sort()\n",
    "a2.sort()\n",
    "for i in range(len(a2) // 2):\n",
    "    sale += 0.2 * a2[i]\n",
    "\n",
    "solutions[32] = '{} {}'.format(ceil(sum(a1) + sum(a2) - sale), a2[len(a2) // 2 - 1])\n",
    "solutions[32]"
   ]
  },
  {
   "cell_type": "markdown",
   "metadata": {},
   "source": [
    "## #33"
   ]
  },
  {
   "cell_type": "code",
   "execution_count": 26,
   "metadata": {},
   "outputs": [
    {
     "data": {
      "text/plain": [
       "'464632 602'"
      ]
     },
     "execution_count": 26,
     "metadata": {},
     "output_type": "execute_result"
    }
   ],
   "source": [
    "from math import ceil\n",
    "\n",
    "f = open('./data/26data/26-s1.txt')\n",
    "\n",
    "n = int(f.readline())\n",
    "\n",
    "a1 = list()\n",
    "a2 = list()\n",
    "\n",
    "for i in range(n):\n",
    "    x = int(f.readline())\n",
    "    if x > 200:\n",
    "        a2.append(x)\n",
    "    else:\n",
    "        a1.append(x)\n",
    "\n",
    "sale = 0\n",
    "\n",
    "a1.sort()\n",
    "a2.sort()\n",
    "for i in range(len(a2) // 2):\n",
    "    sale += 0.3 * a2[i]\n",
    "\n",
    "solutions[33] = '{} {}'.format(ceil(sum(a1) + sum(a2) - sale), a2[len(a2) // 2 - 1])\n",
    "solutions[33]"
   ]
  },
  {
   "cell_type": "markdown",
   "metadata": {},
   "source": [
    "## #34"
   ]
  },
  {
   "cell_type": "code",
   "execution_count": 27,
   "metadata": {},
   "outputs": [
    {
     "name": "stdout",
     "output_type": "stream",
     "text": [
      "3192\n"
     ]
    },
    {
     "data": {
      "text/plain": [
       "'6808 71'"
      ]
     },
     "execution_count": 27,
     "metadata": {},
     "output_type": "execute_result"
    }
   ],
   "source": [
    "with open('./data/26data/26-j6.txt') as f:\n",
    "    n = int(f.readline())\n",
    "    a = list()\n",
    "    for i in range(n):\n",
    "        a.append(int(f.readline()))\n",
    "    \n",
    "    a.sort(reverse=True)\n",
    "    i = 0\n",
    "\n",
    "    used_space = sum(a)\n",
    "    available = 0.9 * sum(a)\n",
    "    \n",
    "    while used_space > available:\n",
    "        used_space = used_space - 0.2 * a[i]\n",
    "        i += 1\n",
    "\n",
    "    print(i)\n",
    "    \n",
    "    solutions[34] = '{} {}'.format(n-i, a[i])\n",
    "\n",
    "solutions[34]"
   ]
  },
  {
   "cell_type": "code",
   "execution_count": 28,
   "metadata": {},
   "outputs": [
    {
     "data": {
      "text/plain": [
       "'6808 99'"
      ]
     },
     "execution_count": 28,
     "metadata": {},
     "output_type": "execute_result"
    }
   ],
   "source": [
    "answers[34]"
   ]
  },
  {
   "cell_type": "markdown",
   "metadata": {},
   "source": [
    "## #39"
   ]
  },
  {
   "cell_type": "code",
   "execution_count": 29,
   "metadata": {},
   "outputs": [],
   "source": [
    "f = open('./data/26data/26-39.txt')\n",
    "\n",
    "n, m = f.readline().split()\n",
    "n = int(n)\n",
    "m = int(m)\n",
    "\n",
    "p1 = list() # от 180 до 200\n",
    "p2 = list() # остальные\n",
    "\n",
    "for i in range(n):\n",
    "    x = int(f.readline())\n",
    "    if x >= 180 and x <= 200:\n",
    "        p1.append(x)\n",
    "    else:\n",
    "        p2.append(x)\n",
    "\n",
    "s = 0\n",
    "k = 0\n",
    "\n",
    "p1.sort()\n",
    "p2.sort()\n",
    "\n",
    "for x in p1:\n",
    "    if s + x <= m:\n",
    "        k += 1\n",
    "        s += x\n",
    "    else:\n",
    "        break\n",
    "\n",
    "if s < m:\n",
    "    i = 0 # количество взятых из p2\n",
    "    for x in p2:\n",
    "        if s + x <= m:\n",
    "            k += 1\n",
    "            i += 1\n",
    "            s += x\n",
    "        else:\n",
    "            break\n",
    "\n",
    "    next_w = len(p2) - 1 # индекс кандидата на очередную замену\n",
    "    for j in range(i-1, 0, -1):\n",
    "        while s - p2[j] + p2[next_w] > m:\n",
    "            next_w -= 1\n",
    "\n",
    "        if next_w < j:\n",
    "            break\n",
    "\n",
    "        s = s - p2[j] + p2[next_w]\n",
    "        next_w -= 1"
   ]
  },
  {
   "cell_type": "code",
   "execution_count": 30,
   "metadata": {},
   "outputs": [],
   "source": [
    "f = open('./data/26data/26-39.txt')\n",
    "\n",
    "n, m = f.readline().split()\n",
    "n = int(n)\n",
    "m = int(m)\n",
    "\n",
    "p1 = list() # от 310 до 320\n",
    "p2 = list() # остальные\n",
    "\n",
    "for i in range(n):\n",
    "    x = int(f.readline())\n",
    "    if x >= 310 and x <= 320:\n",
    "        p1.append(x)\n",
    "    else:\n",
    "        p2.append(x)\n",
    "\n",
    "s = 0\n",
    "k = 0\n",
    "\n",
    "p1.sort()\n",
    "p2.sort()\n",
    "\n",
    "for x in p1:\n",
    "    if s + x <= m:\n",
    "        k += 1\n",
    "        s += x\n",
    "    else:\n",
    "        break\n",
    "\n",
    "if s < m:\n",
    "    i = 0 # количество взятых из p2\n",
    "    for x in p2:\n",
    "        if s + x <= m:\n",
    "            k += 1\n",
    "            i += 1\n",
    "            s += x\n",
    "        else:\n",
    "            break\n",
    "\n",
    "    next_w = len(p2) - 1 # индекс кандидата на очередную замену\n",
    "    for j in range(i-1, 0, -1):\n",
    "        while s - p2[j] + p2[next_w] > m:\n",
    "            next_w -= 1\n",
    "\n",
    "        if next_w < j:\n",
    "            break\n",
    "\n",
    "        s = s - p2[j] + p2[next_w]\n",
    "        next_w -= 1"
   ]
  },
  {
   "cell_type": "code",
   "execution_count": 31,
   "metadata": {},
   "outputs": [
    {
     "data": {
      "text/plain": [
       "'113 9999'"
      ]
     },
     "execution_count": 31,
     "metadata": {},
     "output_type": "execute_result"
    }
   ],
   "source": [
    "solutions[40] = '{} {}'.format(k, s)\n",
    "solutions[40]"
   ]
  },
  {
   "cell_type": "code",
   "execution_count": 32,
   "metadata": {},
   "outputs": [
    {
     "data": {
      "text/plain": [
       "'118 10000'"
      ]
     },
     "execution_count": 32,
     "metadata": {},
     "output_type": "execute_result"
    }
   ],
   "source": [
    "answers[39]"
   ]
  },
  {
   "cell_type": "markdown",
   "metadata": {},
   "source": [
    "## 48"
   ]
  },
  {
   "cell_type": "markdown",
   "metadata": {},
   "source": [
    "(А. Кабанов) В текстовом файле записан набор натуральных чисел. Гарантируется,  что  все  числа  различны.  Для каждой пары различных чисел из набора с чётной суммой вычисляется значение $K$ – наименьшая разница между средним арифметическим пары и каким-либо числом из набора. Необходимо  определить количество пар чисел, для которых значение $K$ равно 5, а также наименьшее из средних арифметических таких пар.\n",
    "Входные данные представлены в файле `26-48.txt` следующим образом.  Первая строка содержит целое число $N$ – общее количество чисел в наборе. Каждая из следующих $N$ строк содержит одно число, не превышающее $10^9$. \n",
    "В  ответе  запишите  два  целых  числа:  сначала  количество пар,  затем наименьшее среднее арифметическое."
   ]
  },
  {
   "cell_type": "markdown",
   "metadata": {},
   "source": [
    "Пусть $ a_i, a_j $ - пара чисел из набора, причем $a_j > a_i$. Тогда:\n",
    "\n",
    "$$ K(a_i, a_j) = \\min_{a[k] \\in A}{\\frac{a_i + a_j}{2} - a_k} = 5 $$ "
   ]
  },
  {
   "cell_type": "code",
   "execution_count": 33,
   "metadata": {},
   "outputs": [
    {
     "data": {
      "text/plain": [
       "'2 50725296'"
      ]
     },
     "execution_count": 33,
     "metadata": {},
     "output_type": "execute_result"
    }
   ],
   "source": [
    "def problem48_bruteforce():\n",
    "    with open('./data/26data/26-48.txt') as f:\n",
    "        n = int(f.readline())\n",
    "        a = list()\n",
    "        for i in range(n):\n",
    "            x = int(f.readline())\n",
    "            a.append(x)\n",
    "\n",
    "        a.sort()\n",
    "\n",
    "        count = 0\n",
    "        min_avg = float('inf')\n",
    "\n",
    "        for i in range(n):\n",
    "            for j in range(i+1, n):\n",
    "                if (a[i] + a[j]) % 2 == 0:\n",
    "                    avg = (a[i] + a[j]) // 2\n",
    "                    min_diff = float('inf')\n",
    "\n",
    "                    for k in range(n):\n",
    "                        min_diff = min(min_diff, abs(a[k] - avg))\n",
    "\n",
    "                    if min_diff == 5:\n",
    "                        min_avg = min(avg, min_avg)\n",
    "                        count += 1\n",
    "\n",
    "        return '{} {}'.format(count, min_avg)\n",
    "\n",
    "solutions[48] = problem48_bruteforce()\n",
    "solutions[48]"
   ]
  },
  {
   "cell_type": "code",
   "execution_count": 34,
   "metadata": {},
   "outputs": [
    {
     "data": {
      "text/plain": [
       "'2 50725296'"
      ]
     },
     "execution_count": 34,
     "metadata": {},
     "output_type": "execute_result"
    }
   ],
   "source": [
    "def problem48():\n",
    "    with open('./data/26data/26-48.txt') as f:\n",
    "        n = int(f.readline())\n",
    "        a = list()\n",
    "        for i in range(n):\n",
    "            x = int(f.readline())\n",
    "            a.append(x)\n",
    "\n",
    "        a.sort()\n",
    "\n",
    "        count = 0\n",
    "        min_avg = float('inf')\n",
    "\n",
    "        for i in range(n):\n",
    "            for j in range(i+1, n):\n",
    "                if (a[i] + a[j]) % 2 == 0:\n",
    "                    avg = (a[i] + a[j]) // 2\n",
    "                    min_diff = float('inf')\n",
    "\n",
    "                    if avg - 5 in a or avg + 5 in a:\n",
    "                        min_avg = min(avg, min_avg)\n",
    "                        count += 1\n",
    "\n",
    "        return '{} {}'.format(count, min_avg)\n",
    "\n",
    "solutions[48] = problem48()\n",
    "solutions[48]"
   ]
  },
  {
   "cell_type": "markdown",
   "metadata": {},
   "source": [
    "## 53"
   ]
  },
  {
   "cell_type": "code",
   "execution_count": 35,
   "metadata": {},
   "outputs": [
    {
     "name": "stdout",
     "output_type": "stream",
     "text": [
      "38 124617779\n"
     ]
    }
   ],
   "source": [
    "def binary_search(a, elem):\n",
    "    l = -1\n",
    "    r = len(a)\n",
    "\n",
    "    while l <= r:\n",
    "        mid = (l + r) // 2\n",
    "        if a[mid] == elem:\n",
    "            return True\n",
    "        elif a[mid] < elem:\n",
    "            l = mid+1\n",
    "        else:\n",
    "            r = mid-1\n",
    "    \n",
    "    return False\n",
    "\n",
    "with open('./data/26data/26-53.txt') as f:\n",
    "    n = int(f.readline())\n",
    "    data = list()\n",
    "\n",
    "    for i in range(n):\n",
    "        data.append(int(f.readline()))\n",
    "\n",
    "    data.sort()\n",
    "\n",
    "    # averages = list()\n",
    "\n",
    "    count = 0\n",
    "    max_average = None\n",
    "\n",
    "    for i in range(n):\n",
    "        for j in range(i+1, n):\n",
    "            if data[i] % 2 != 0 and data[j] % 2 != 0:\n",
    "                avg = (data[i] + data[j]) // 2\n",
    "                if binary_search(data, avg):\n",
    "                    count += 1\n",
    "                    if max_average == None or avg < max_average:\n",
    "                        max_average = avg\n",
    "                # averages.append((a[i] + a[j]) // 2)\n",
    "\n",
    "    solutions[53] = '{} {}'.format(count, max_average)\n",
    "    print(solutions[53])"
   ]
  },
  {
   "cell_type": "markdown",
   "metadata": {},
   "source": [
    "## 54"
   ]
  },
  {
   "cell_type": "code",
   "execution_count": 36,
   "metadata": {},
   "outputs": [
    {
     "name": "stdout",
     "output_type": "stream",
     "text": [
      "15 762496511\n"
     ]
    }
   ],
   "source": [
    "def binary_search(a, elem):\n",
    "    l = -1\n",
    "    r = len(a)\n",
    "\n",
    "    while l <= r:\n",
    "        mid = (l + r) // 2\n",
    "        if a[mid] == elem:\n",
    "            return True\n",
    "        elif a[mid] < elem:\n",
    "            l = mid+1\n",
    "        else:\n",
    "            r = mid-1\n",
    "    \n",
    "    return False\n",
    "\n",
    "with open('./data/26data/26-53.txt') as f:\n",
    "    n = int(f.readline())\n",
    "    data = list()\n",
    "\n",
    "    for i in range(n):\n",
    "        data.append(int(f.readline()))\n",
    "\n",
    "    data.sort()\n",
    "\n",
    "    # averages = list()\n",
    "\n",
    "    count = 0\n",
    "    min_average = None\n",
    "\n",
    "    for i in range(n):\n",
    "        for j in range(i+1, n):\n",
    "            if data[i] % 2 == 0 and data[j] % 2 == 0:\n",
    "                avg = (data[i] + data[j]) // 2\n",
    "                if binary_search(data, avg):\n",
    "                    count += 1\n",
    "                    if min_average == None or avg > min_average:\n",
    "                        min_average = avg\n",
    "                # averages.append((a[i] + a[j]) // 2)\n",
    "\n",
    "    solutions[54] = '{} {}'.format(count, min_average)\n",
    "    print(solutions[54])"
   ]
  },
  {
   "cell_type": "markdown",
   "metadata": {},
   "source": [
    "## 58"
   ]
  },
  {
   "cell_type": "code",
   "execution_count": 37,
   "metadata": {},
   "outputs": [],
   "source": [
    "with open('./data/26data/26-58.txt') as f:\n",
    "    s, n = map(int, f.readline().split())\n",
    "    for i in range(n):\n",
    "        x = int(f.readline())\n",
    "        "
   ]
  },
  {
   "cell_type": "markdown",
   "metadata": {},
   "source": [
    "## 59"
   ]
  },
  {
   "cell_type": "code",
   "execution_count": 38,
   "metadata": {},
   "outputs": [],
   "source": [
    "from collections import defaultdict\n",
    "\n",
    "occupied_places = defaultdict(list)\n",
    "\n",
    "with open('./data/26data/26-59.txt') as f:\n",
    "    n = int(f.readline())\n",
    "    for i in range(n):\n",
    "        row, column = map(int, f.readline().split())\n",
    "        occupied_places[row].append(column)\n",
    "\n",
    "for key in occupied_places.keys():\n",
    "    occupied_places[key].sort()\n",
    "\n",
    "answer = None\n",
    "\n",
    "def find_place(occupied_places):\n",
    "    for key in sorted(list(occupied_places.keys()), key = lambda i: -i):\n",
    "        row = occupied_places[key]\n",
    "        for i in range(len(row)-1):\n",
    "            if row[i+1] == row[i] + 3:\n",
    "                answer = (key, row[i] + 1)\n",
    "                return answer\n",
    "\n",
    "solutions[59] = '{} {}'.format(*find_place(occupied_places))"
   ]
  },
  {
   "cell_type": "markdown",
   "metadata": {},
   "source": [
    "## 62"
   ]
  },
  {
   "cell_type": "code",
   "execution_count": 43,
   "metadata": {},
   "outputs": [
    {
     "name": "stdout",
     "output_type": "stream",
     "text": [
      "83 0\n"
     ]
    }
   ],
   "source": [
    "class Good:\n",
    "    def __init__(self, price, category):\n",
    "        self.price = price\n",
    "        self.category = category\n",
    "\n",
    "    def __str__(self):\n",
    "        return '({}, {})'.format(self.price, self.category)\n",
    "        \n",
    "with open('./data/26data/26-62.txt') as f:\n",
    "    n, m = map(int, f.readline().split())\n",
    "\n",
    "    goods = list()\n",
    "\n",
    "    for i in range(n):\n",
    "        price, category = f.readline().split()\n",
    "        price = int(price)\n",
    "\n",
    "        goods.append(Good(price, category))\n",
    "\n",
    "    goods.sort(key = lambda item: item.price)\n",
    "\n",
    "    # Покупаем макисмальное количество товаров\n",
    "\n",
    "    index = 0\n",
    "    count_q = 0\n",
    "\n",
    "    while index < n and m - goods[index].price >= 0:\n",
    "        m -= goods[index].price\n",
    "        if goods[index].category == 'Q':\n",
    "            count_q += 1\n",
    "        index += 1\n",
    "\n",
    "    # По возможности заменяем товары Z на Q\n",
    "\n",
    "    j = index\n",
    "\n",
    "    for i in range(index-1, 0, -1):\n",
    "        if goods[i].category == 'Z':\n",
    "            # while j < n:\n",
    "            # for j in range(n-1, i, -1):\n",
    "            while j > i:\n",
    "                if goods[j].category == 'Q' and m + goods[i].price - goods[j].price >= 0:\n",
    "                    m = m + goods[i].price - goods[j].price\n",
    "                    count_q += 1\n",
    "                    break\n",
    "                j -= 1\n",
    "\n",
    "    print(count_q, m)\n",
    "    solutions[62] = str(count_q) + ' ' + str(m)\n"
   ]
  },
  {
   "cell_type": "markdown",
   "metadata": {},
   "source": [
    "## 68"
   ]
  },
  {
   "cell_type": "code",
   "execution_count": 40,
   "metadata": {},
   "outputs": [],
   "source": [
    "with open('./data/26data/26-68.txt') as f:\n",
    "    n, t = map(int, f.readline().split())\n",
    "    \n",
    "    viruses = []\n",
    "    super_viruses = []\n",
    "    not_super_viruses = []\n",
    "\n",
    "    avg_level = 0\n",
    "    for i in range(n):\n",
    "        level, del_time = map(int, f.readline().split())\n",
    "        avg_level += level\n",
    "        viruses.append((level, del_time))\n",
    "\n",
    "    avg_level /= n\n",
    "    for virus in viruses:\n",
    "        level = virus[0]\n",
    "        del_time = virus[1]\n",
    "        if level > avg_level:\n",
    "            super_viruses.append(virus)\n",
    "        else:\n",
    "            not_super_viruses.append(virus)\n",
    "    \n",
    "    super_viruses.sort(key=lambda virus: virus[1])\n",
    "    not_super_viruses.sort(key=lambda virus: virus[1])\n",
    "    # print(super_viruses)\n",
    "\n",
    "    deleted = 0\n",
    "    spent_time = 0"
   ]
  },
  {
   "cell_type": "markdown",
   "metadata": {},
   "source": [
    "## 70"
   ]
  },
  {
   "cell_type": "markdown",
   "metadata": {},
   "source": [
    "TODO: математическое доказательство корректности алгоритма"
   ]
  },
  {
   "cell_type": "code",
   "execution_count": 9,
   "metadata": {},
   "outputs": [
    {
     "name": "stdout",
     "output_type": "stream",
     "text": [
      "[1, 1, 1, 1, 3, 4, 6, 7, 9, 10, 12, 13, 13, 13, 13, 13, 15, 16, 18, 20, 22, 22, 24, 258, 261, 262, 263, 264, 265, 265, 266, 268, 270, 272, 272, 272, 274, 274, 276, 277, 277, 278, 280, 281, 281, 282, 282, 282, 283, 284, 285, 286, 286, 288, 289, 289, 291, 293, 293, 295, 295, 297, 297, 298, 300, 300, 302, 303, 303, 305, 307, 307, 307, 307, 309, 311, 313, 315, 315, 317, 319, 321, 322, 323, 325, 325, 325, 325, 325, 325, 325, 326, 327, 328, 328, 328, 329, 330, 330, 332, 334, 335, 335, 335, 337, 338, 339, 341, 343, 345, 347, 348, 349, 350, 352, 353, 353, 355, 356, 357, 359, 361, 363, 363, 364, 364, 32500, 32503, 32506, 32509, 32509, 32510, 32512, 32513, 32513, 32514, 357320, 357320, 357320, 357320, 357320, 357323, 357325, 357326, 357328, 357331, 357334, 357335, 357337, 357338]\n",
      "(32224, 126)\n"
     ]
    }
   ],
   "source": [
    "def problem70(a):\n",
    "    a.sort()\n",
    "\n",
    "    print(a)\n",
    "\n",
    "    s = 0\n",
    "    for i in range(len(a)-1):\n",
    "        s += a[i]\n",
    "        if s+1 < a[i+1]:\n",
    "            return s+1, i+1\n",
    "\n",
    "    return sum(a) + 1, len(a)\n",
    "\n",
    "with open('./data/26data/26-70.txt') as f:\n",
    "    n = int(f.readline())\n",
    "    a = list(map(int, f.readlines()))\n",
    "    \n",
    "    print(problem70(a))"
   ]
  },
  {
   "cell_type": "code",
   "execution_count": 10,
   "metadata": {},
   "outputs": [
    {
     "name": "stdout",
     "output_type": "stream",
     "text": [
      "[2, 2, 5, 10]\n"
     ]
    },
    {
     "data": {
      "text/plain": [
       "(20, 4)"
      ]
     },
     "execution_count": 10,
     "metadata": {},
     "output_type": "execute_result"
    }
   ],
   "source": [
    "problem70([2, 2, 5, 10])"
   ]
  },
  {
   "cell_type": "markdown",
   "metadata": {},
   "source": [
    "## 75"
   ]
  },
  {
   "cell_type": "code",
   "execution_count": 34,
   "metadata": {},
   "outputs": [],
   "source": [
    "def problem75(path):\n",
    "    measures = 1000000\n",
    "    delta = [0] * measures # изменение количества процессов в момент времени i\n",
    "\n",
    "    with open(path) as f:\n",
    "        n = int(f.readline())\n",
    "        for i in range(n):\n",
    "            start_time, end_time = map(int, f.readline().split())\n",
    "\n",
    "            if start_time >= 0 and start_time <= 1000000:\n",
    "                delta[start_time] += 1\n",
    "\n",
    "            if end_time >= 0 and end_time <= 1000000:\n",
    "                delta[end_time] -= 1\n",
    "\n",
    "        max_passengers = 0\n",
    "        n_passengers = 0\n",
    "        duration = 0\n",
    "\n",
    "        count_not_empty = 0\n",
    "\n",
    "        for i in range(len(delta)):\n",
    "            n_passengers += delta[i]\n",
    "            if n_passengers > max_passengers:\n",
    "                max_passengers = n_passengers\n",
    "                duration = 0\n",
    "            if n_passengers == max_passengers:\n",
    "                duration += 1\n",
    "\n",
    "            if n_passengers > 0:\n",
    "                count_not_empty += 1\n",
    "\n",
    "    return max_passengers, count_not_empty"
   ]
  },
  {
   "cell_type": "code",
   "execution_count": 35,
   "metadata": {},
   "outputs": [
    {
     "data": {
      "text/plain": [
       "(3, 160)"
      ]
     },
     "execution_count": 35,
     "metadata": {},
     "output_type": "execute_result"
    }
   ],
   "source": [
    "problem75('./problem26_75_sample.txt')"
   ]
  },
  {
   "cell_type": "code",
   "execution_count": 36,
   "metadata": {},
   "outputs": [
    {
     "data": {
      "text/plain": [
       "(23, 44662)"
      ]
     },
     "execution_count": 36,
     "metadata": {},
     "output_type": "execute_result"
    }
   ],
   "source": [
    "problem75('./data/26data/26-75.txt')"
   ]
  },
  {
   "cell_type": "code",
   "execution_count": 38,
   "metadata": {},
   "outputs": [
    {
     "data": {
      "text/plain": [
       "'23 44662'"
      ]
     },
     "execution_count": 38,
     "metadata": {},
     "output_type": "execute_result"
    }
   ],
   "source": [
    "answers[75]"
   ]
  },
  {
   "cell_type": "markdown",
   "metadata": {},
   "source": [
    "## 79"
   ]
  },
  {
   "cell_type": "code",
   "execution_count": 41,
   "metadata": {},
   "outputs": [
    {
     "data": {
      "text/plain": [
       "'2261 5087'"
      ]
     },
     "execution_count": 41,
     "metadata": {},
     "output_type": "execute_result"
    }
   ],
   "source": [
    "with open('./data/26data/26-79.txt') as f:\n",
    "    n, k = map(int, f.readline().split())\n",
    "\n",
    "    seedlings = list()\n",
    "    for i in range(n):\n",
    "        seedlings.append(tuple(map(int, f.readline().split())))\n",
    "    \n",
    "    seedlings.sort()\n",
    "    result_row = 0\n",
    "    result_col = 0\n",
    "\n",
    "    for i in range(n-1):\n",
    "        row1, col1 = seedlings[i]\n",
    "        row2, col2 = seedlings[i+1]\n",
    "\n",
    "        if row1 == row2 and col2 - col1 - 1 == k and row1 > result_row:\n",
    "            result_row = row1\n",
    "            result_col = col1 + 1\n",
    "\n",
    "solutions[79] = str(result_row) + ' ' + str(result_col)\n",
    "solutions[79]"
   ]
  },
  {
   "cell_type": "markdown",
   "metadata": {},
   "source": [
    "## Checking solutions"
   ]
  },
  {
   "cell_type": "code",
   "execution_count": 44,
   "metadata": {},
   "outputs": [
    {
     "name": "stdout",
     "output_type": "stream",
     "text": [
      "Error in problem 30. Correct Answer: 72 17730. Given: 1 14\n",
      "Error in problem 34. Correct Answer: 6808 99. Given: 6808 71\n",
      "Error in problem 53. Correct Answer: 38 884877115. Given: 38 124617779\n",
      "Error in problem 54. Correct Answer: 15 133397333. Given: 15 762496511\n",
      "Error in problem 62. Correct Answer: 68 33. Given: 83 0\n",
      "Solved problems: [1, 2, 3, 4, 5, 6, 7, 8, 9, 10, 11, 12, 13, 14, 15, 16, 17, 18, 19, 20, 21, 22, 23, 24, 25, 26, 27, 28, 29, 31, 32, 33, 40, 48, 59, 79]\n"
     ]
    }
   ],
   "source": [
    "ok_flag = True\n",
    "\n",
    "solutions = [str(solution) if solution != None else None for solution in solutions]\n",
    "solved = []\n",
    "\n",
    "for i in range(1, len(answers)):\n",
    "    if solutions[i] is not None:\n",
    "        if solutions[i] == answers[i]:\n",
    "            solved.append(i)\n",
    "        else:\n",
    "            print('Error in problem {}. Correct Answer: {}. Given: {}'.format(i, answers[i], solutions[i]))\n",
    "            ok_flag = False\n",
    "\n",
    "if ok_flag:\n",
    "    print('OK!')\n",
    "print('Solved problems: {}'.format(solved))"
   ]
  }
 ],
 "metadata": {
  "interpreter": {
   "hash": "73e03da126b73bfff3642ec5261d56fa25c444ea595de51041687efaa60dda41"
  },
  "kernelspec": {
   "display_name": "Python 3.8.8 64-bit ('base': conda)",
   "name": "python3"
  },
  "language_info": {
   "codemirror_mode": {
    "name": "ipython",
    "version": 3
   },
   "file_extension": ".py",
   "mimetype": "text/x-python",
   "name": "python",
   "nbconvert_exporter": "python",
   "pygments_lexer": "ipython3",
   "version": "3.9.7"
  },
  "orig_nbformat": 4
 },
 "nbformat": 4,
 "nbformat_minor": 2
}
