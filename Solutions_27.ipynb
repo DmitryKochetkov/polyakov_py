{
 "cells": [
  {
   "cell_type": "markdown",
   "metadata": {},
   "source": [
    "# Задача 27 (Самая сложная программа в ЕГЭ)"
   ]
  },
  {
   "cell_type": "code",
   "execution_count": 2,
   "metadata": {},
   "outputs": [],
   "source": [
    "import pandas as pd\n",
    "answers = pd.read_csv('answers.csv', encoding='windows-1251')['27'].to_list()\n",
    "answers = [None] + answers\n",
    "\n",
    "solutions = [None] * (len(answers)+1) # solutions[i] - решение i-й задачи. solutions[0] не используется."
   ]
  },
  {
   "cell_type": "code",
   "execution_count": 3,
   "metadata": {},
   "outputs": [],
   "source": [
    "test_env = True  # если True, то тесты будут запущены"
   ]
  },
  {
   "cell_type": "code",
   "execution_count": 4,
   "metadata": {},
   "outputs": [],
   "source": [
    "from tqdm import tqdm\n",
    "\n",
    "def run_tests(f_bruteforce, f, input_generator):\n",
    "    \"\"\"\n",
    "    Runs random tests using bruteforce solution.\n",
    "\n",
    "    ## Parameters\n",
    "\n",
    "    `f_bruteforce`: bruteforce solution.\n",
    "\n",
    "    `f`: Efficient solution.\n",
    "\n",
    "    `path`: Path to the input files folder.\n",
    "    \"\"\"\n",
    "\n",
    "    if test_env:\n",
    "        path = 'tests/tmp.txt'\n",
    "\n",
    "        failed_tests = 0\n",
    "        print('Testing in progress...')\n",
    "        for test_id in tqdm(range(1, 1000+1)):\n",
    "            input_generator(path)\n",
    "            expected = f_bruteforce(path)\n",
    "            actual = f(path)\n",
    "            \n",
    "            if expected != actual:\n",
    "                failed_tests += 1\n",
    "                print('Test {} failed. Expected {}, actual {}'.format(test_id, expected, actual))\n",
    "\n",
    "            if failed_tests >= 10:\n",
    "                print('Testing is stopped after 10 failed tests.')\n",
    "                break\n",
    "\n",
    "        if failed_tests == 0:\n",
    "            print('OK! All tests passed.')\n",
    "    else:\n",
    "        print('Tests are skipped. Set test_env variable to True in order to test.')"
   ]
  },
  {
   "cell_type": "code",
   "execution_count": 23,
   "metadata": {},
   "outputs": [],
   "source": [
    "from random import randint\n",
    "\n",
    "\"\"\"\n",
    "Генерирует входные данные в виде набора троек натуральных чисел.\n",
    "\"\"\"\n",
    "def positive_triplet_generator(path):\n",
    "    with open(path, 'w+') as f:\n",
    "        n = 10\n",
    "        f.write(str(n) + '\\n')\n",
    "\n",
    "        for i in range(n):\n",
    "            f.write(str(randint(1, 100000)) + ' ' + str(randint(1, 100000)) + ' ' + str(randint(1, 100000)) + '\\n')"
   ]
  },
  {
   "cell_type": "code",
   "execution_count": 37,
   "metadata": {},
   "outputs": [],
   "source": [
    "from random import randint\n",
    "\n",
    "\"\"\"\n",
    "Генерирует входные данные в виде набора пар натуральных чисел.\n",
    "\"\"\"\n",
    "def positive_pair_generator(path):\n",
    "    with open(path, 'w+') as f:\n",
    "        n = 10\n",
    "        f.write(str(n) + '\\n')\n",
    "\n",
    "        for i in range(n):\n",
    "            f.write(str(randint(1, 100000)) + ' ' + str(randint(1, 100000)) + '\\n')"
   ]
  },
  {
   "cell_type": "markdown",
   "metadata": {},
   "source": [
    "## Задача 1"
   ]
  },
  {
   "cell_type": "markdown",
   "metadata": {},
   "source": [
    "Имеется набор данных, состоящий из целых чисел. Необходимо выбрать из каждой пары ровно одно число так, чтобы сумма всех выбранных чисел не делилась на 3 и при этом была минимально возможной. Гарантируется, что искомую сумму получить можно. Программа должна напечатать одно число – минимально возможную сумму, соответствующую условиям задачи.\n",
    "\n",
    "**Входные данные**: Даны два входных файла: файл A (`27-1a.txt`) и файл B (`27-1b.txt`), каждый из которых содержит в первой строке количество чисел $N (1 ≤ N ≤ 100000)$. Каждая из следующих N строк содержит два натуральных числа, не превышающих по модулю 10000.\n",
    "\n",
    "**Пример входного файла:**\n",
    "\n",
    "```\n",
    "6\n",
    "1 3\n",
    "5 12\n",
    "6 9\n",
    "5 4\n",
    "3 3\n",
    "1 1\n",
    "```\n",
    "\n",
    "Для указанных входных данных значением искомой суммы должно быть число 20.\n",
    "\n",
    "\n",
    "В ответе укажите два числа: сначала искомое значение для файла А, затем для файла B."
   ]
  },
  {
   "cell_type": "code",
   "execution_count": 6,
   "metadata": {},
   "outputs": [
    {
     "data": {
      "text/plain": [
       "'67303 200157496'"
      ]
     },
     "execution_count": 6,
     "metadata": {},
     "output_type": "execute_result"
    }
   ],
   "source": [
    "from itertools import product\n",
    "\n",
    "def problem1_bruteforce(path):\n",
    "    with open(path) as f:\n",
    "        n = int(f.readline())\n",
    "        a = list()\n",
    "        for _ in range(n):\n",
    "            pair = list(map(int, f.readline().split()))\n",
    "            a.append(pair)\n",
    "\n",
    "        result = None\n",
    "\n",
    "        # option - кортеж вида (i, x), где i - номер пары, x - 0 или 1, индекс элемента пары, который выбран в сумму\n",
    "        for option in list(product([0, 1], repeat=n)):\n",
    "            s = 0\n",
    "            for i, x in enumerate(option):\n",
    "                s += a[i][x]\n",
    "\n",
    "            if s % 3 != 0 and (result == None or s < result):\n",
    "                result = s\n",
    "\n",
    "        return result\n",
    "\n",
    "def problem1(path):\n",
    "    with open(path) as f:\n",
    "        n = int(f.readline())\n",
    "\n",
    "        # Очевидно, наша цель - брать все время меньшее число.\n",
    "\n",
    "        r1 = 100001 # минимальное из всех не взятых в сумму чисел, дающее в остатке от деление на 3 число 1\n",
    "        r2 = 100001 # минимальное из всех не взятых чисел, дающее в остатке от деление на 3 число 2\n",
    "\n",
    "        s = 0 # ответ на задачу\n",
    "\n",
    "        for _ in range(n):\n",
    "            x, y = map(int, f.readline().split())\n",
    "            if x > y:\n",
    "                x, y = y, x\n",
    "\n",
    "            # теперь x - меньшее из чисел, y - большее\n",
    "\n",
    "            s += x\n",
    "\n",
    "            d = y - x\n",
    "            if d < r1 and d % 3 == 1:\n",
    "                r1 = d\n",
    "            if d < r2 and d % 3 == 2:\n",
    "                r2 = d\n",
    "\n",
    "        if s % 3 != 0:\n",
    "            return s\n",
    "        \n",
    "        return min(s + r1, s + r2)\n",
    "\n",
    "\n",
    "solutions[1] = '{} {}'.format(problem1('./data/27data/1/27-1a.txt'), problem1('./data/27data/1/27-1b.txt'))\n",
    "solutions[1]"
   ]
  },
  {
   "cell_type": "code",
   "execution_count": 7,
   "metadata": {},
   "outputs": [],
   "source": [
    "def problem1_polyakov(path):\n",
    "    with open(path) as f:\n",
    "        n = int(f.readline())\n",
    "        D = 3\n",
    "\n",
    "        s, dMin  = 0, 10001\n",
    "        for i in range(n):\n",
    "            a, b = map( int, f.readline().split() )\n",
    "            s += min( a, b )\n",
    "            d = abs( a-b )\n",
    "            if d % D > 0:\n",
    "                dMin = min( d, dMin )\n",
    "\n",
    "        if s % D != 0:\n",
    "            return s\n",
    "        else:\n",
    "            return s + dMin"
   ]
  },
  {
   "cell_type": "code",
   "execution_count": 8,
   "metadata": {},
   "outputs": [],
   "source": [
    "from random import randint\n",
    "\n",
    "def input_generator1(path):\n",
    "    with open(path, 'w+') as f:\n",
    "        n = 12\n",
    "        f.write(str(n) + '\\n')\n",
    "\n",
    "        for i in range(n):\n",
    "            f.write(str(randint(1, 30000)) + ' ' + str(randint(1, 30000)) + '\\n')"
   ]
  },
  {
   "cell_type": "code",
   "execution_count": 9,
   "metadata": {},
   "outputs": [
    {
     "name": "stdout",
     "output_type": "stream",
     "text": [
      "Testing in progress...\n"
     ]
    },
    {
     "name": "stderr",
     "output_type": "stream",
     "text": [
      "100%|██████████| 1000/1000 [00:08<00:00, 123.87it/s]"
     ]
    },
    {
     "name": "stdout",
     "output_type": "stream",
     "text": [
      "OK! All tests passed.\n"
     ]
    },
    {
     "name": "stderr",
     "output_type": "stream",
     "text": [
      "\n"
     ]
    }
   ],
   "source": [
    "run_tests(problem1_bruteforce, problem1, input_generator1)"
   ]
  },
  {
   "cell_type": "code",
   "execution_count": 10,
   "metadata": {},
   "outputs": [
    {
     "name": "stdout",
     "output_type": "stream",
     "text": [
      "Testing in progress...\n"
     ]
    },
    {
     "name": "stderr",
     "output_type": "stream",
     "text": [
      " 62%|██████▏   | 617/1000 [00:04<00:03, 125.05it/s]"
     ]
    },
    {
     "name": "stdout",
     "output_type": "stream",
     "text": [
      "Test 597 failed. Expected 139159, actual 136310\n"
     ]
    },
    {
     "name": "stderr",
     "output_type": "stream",
     "text": [
      "100%|██████████| 1000/1000 [00:08<00:00, 123.44it/s]\n"
     ]
    }
   ],
   "source": [
    "run_tests(problem1_bruteforce, problem1_polyakov, input_generator1)"
   ]
  },
  {
   "cell_type": "markdown",
   "metadata": {},
   "source": [
    "## Задача 2"
   ]
  },
  {
   "cell_type": "code",
   "execution_count": 11,
   "metadata": {},
   "outputs": [
    {
     "data": {
      "text/plain": [
       "'109737 401536407'"
      ]
     },
     "execution_count": 11,
     "metadata": {},
     "output_type": "execute_result"
    }
   ],
   "source": [
    "def problem2_bruteforce(path):\n",
    "    with open(path) as f:\n",
    "        n = int(f.readline())\n",
    "        a = list()\n",
    "        for _ in range(n):\n",
    "            pair = list(map(int, f.readline().split()))\n",
    "            a.append(pair)\n",
    "\n",
    "        result = None\n",
    "\n",
    "        for option in list(product([0, 1], repeat=n)):\n",
    "            s = 0\n",
    "            for i, x in enumerate(option):\n",
    "                s += a[i][x]\n",
    "\n",
    "            if s % 3 == 0 and (result == None or s > result):\n",
    "                result = s\n",
    "\n",
    "        return result\n",
    "\n",
    "def problem2(path):\n",
    "    with open(path) as f:\n",
    "        n = int(f.readline())\n",
    "\n",
    "        # Очевидно, наша цель - брать все время наибольшее число из пары.\n",
    "\n",
    "        r11 = 100001\n",
    "        r12 = 100001\n",
    "        r21 = 100001\n",
    "        r22 = 100001\n",
    "\n",
    "        s = 0 # ответ на задачу\n",
    "\n",
    "        for _ in range(n):\n",
    "            x, y = map(int, f.readline().split())\n",
    "            if x > y:\n",
    "                x, y = y, x\n",
    "\n",
    "            # теперь x - меньшее из чисел, y - большее\n",
    "\n",
    "            s += y\n",
    "\n",
    "            d = y - x\n",
    "            \n",
    "            if d % 3 == 1:\n",
    "                if d < r11:\n",
    "                    r12 = r11\n",
    "                    r11 = d\n",
    "                elif (d < r12):\n",
    "                    r12 = d\n",
    "            \n",
    "            elif d % 3 == 2:\n",
    "                if d < r21:\n",
    "                    r22 = r21\n",
    "                    r21 = d\n",
    "                elif d < r22:\n",
    "                    r22 = d\n",
    "\n",
    "        if s % 3 == 0:\n",
    "            return s\n",
    "        elif s % 3 == 1:\n",
    "            return max(s - r11, s - r21 - r22)\n",
    "        else:\n",
    "            return max(s - r21, s - r11 - r12)\n",
    "\n",
    "\n",
    "solutions[2] = '{} {}'.format(problem2('./data/27data/2/27-2a.txt'), problem2('./data/27data/2/27-2b.txt'))\n",
    "solutions[2]"
   ]
  },
  {
   "cell_type": "code",
   "execution_count": 12,
   "metadata": {},
   "outputs": [],
   "source": [
    "from random import randint\n",
    "\n",
    "def input_generator2(path):\n",
    "    with open(path, 'w+') as f:\n",
    "        n = 12\n",
    "        f.write(str(n) + '\\n')\n",
    "\n",
    "        for i in range(n):\n",
    "            f.write(str(randint(1, 30000)) + ' ' + str(randint(1, 30000)) + '\\n')"
   ]
  },
  {
   "cell_type": "code",
   "execution_count": 13,
   "metadata": {},
   "outputs": [
    {
     "name": "stdout",
     "output_type": "stream",
     "text": [
      "Testing in progress...\n"
     ]
    },
    {
     "name": "stderr",
     "output_type": "stream",
     "text": [
      "100%|██████████| 1000/1000 [00:08<00:00, 122.45it/s]"
     ]
    },
    {
     "name": "stdout",
     "output_type": "stream",
     "text": [
      "OK! All tests passed.\n"
     ]
    },
    {
     "name": "stderr",
     "output_type": "stream",
     "text": [
      "\n"
     ]
    }
   ],
   "source": [
    "run_tests(problem2_bruteforce, problem2, input_generator2)"
   ]
  },
  {
   "cell_type": "markdown",
   "metadata": {},
   "source": [
    "## Задача 4"
   ]
  },
  {
   "cell_type": "code",
   "execution_count": 14,
   "metadata": {},
   "outputs": [],
   "source": [
    "def problem4_incorrect(path):\n",
    "    with open(path) as f:\n",
    "        n = int(f.readline())\n",
    "\n",
    "        s = 0 # ответ на задачу\n",
    "        r = [10001] * 5 # r[i] - наименьшая разница между x и y по всем парам среди тех разниц, у которых остаток от деления на 5 равен i\n",
    "\n",
    "        for _ in range(n):\n",
    "            x, y = map(int, f.readline().split())\n",
    "            if x > y:\n",
    "                x, y = y, x\n",
    "\n",
    "            s += x\n",
    "            d = y - x\n",
    "            r[d % 5] = min(r[d % 5], d)\n",
    "\n",
    "        print(r)\n",
    "\n",
    "        if s % 5 == 0:\n",
    "            return s\n",
    "\n",
    "        return s - r[1]"
   ]
  },
  {
   "cell_type": "code",
   "execution_count": 15,
   "metadata": {},
   "outputs": [
    {
     "data": {
      "text/plain": [
       "'123720 402332230'"
      ]
     },
     "execution_count": 15,
     "metadata": {},
     "output_type": "execute_result"
    }
   ],
   "source": [
    "def problem4_bruteforce(path):\n",
    "    with open(path) as f:\n",
    "        n = int(f.readline())\n",
    "        a = list()\n",
    "        for _ in range(n):\n",
    "            pair = list(map(int, f.readline().split()))\n",
    "            a.append(pair)\n",
    "\n",
    "        result = None\n",
    "\n",
    "        for option in list(product([0, 1], repeat=n)):\n",
    "            s = 0\n",
    "            for i, x in enumerate(option):\n",
    "                s += a[i][x]\n",
    "\n",
    "            if s % 5 == 0 and (result == None or s > result):\n",
    "                result = s\n",
    "\n",
    "        return result\n",
    "\n",
    "def problem4(path):\n",
    "    with open(path) as f:\n",
    "        n = int(f.readline())\n",
    "\n",
    "        s = 0\n",
    "        m = [10 ** 20] * 5\n",
    "        for i in range(n):\n",
    "            x, y = map(int, f.readline().split())\n",
    "            a = abs(x-y)\n",
    "            s += max(x,y)\n",
    "\n",
    "            m[a % 5] = min(m[a % 5], a)\n",
    "\n",
    "        \n",
    "        if s % 5 == 1:\n",
    "            s -= m[1]\n",
    "        if s % 5 == 2:\n",
    "            s -= m[2]\n",
    "        if s % 5 == 3:\n",
    "            s -= min(m[1]+m[2],m[3])\n",
    "        if s % 5 == 4:\n",
    "            s -= min(m[1]+m[3],m[4])\n",
    "\n",
    "        return s\n",
    "\n",
    "solutions[4] = '{} {}'.format(problem4('./data/27data/4/27-4a.txt'), problem4('./data/27data/4/27-4b.txt'))\n",
    "solutions[4]"
   ]
  },
  {
   "cell_type": "code",
   "execution_count": 16,
   "metadata": {},
   "outputs": [],
   "source": [
    "from random import randint\n",
    "\n",
    "def input_generator4(path):\n",
    "    with open(path, 'w+') as f:\n",
    "        n = 12\n",
    "        f.write(str(n) + '\\n')\n",
    "\n",
    "        for i in range(n):\n",
    "            f.write(str(randint(1, 100000)) + ' ' + str(randint(1, 100000)) + '\\n')"
   ]
  },
  {
   "cell_type": "code",
   "execution_count": 17,
   "metadata": {},
   "outputs": [
    {
     "name": "stdout",
     "output_type": "stream",
     "text": [
      "Testing in progress...\n"
     ]
    },
    {
     "name": "stderr",
     "output_type": "stream",
     "text": [
      "  1%|▏         | 13/1000 [00:00<00:08, 122.07it/s]"
     ]
    },
    {
     "name": "stdout",
     "output_type": "stream",
     "text": [
      "Test 2 failed. Expected 719510, actual -99999999999999273074\n",
      "Test 10 failed. Expected 774405, actual 770710\n",
      "Test 19 failed. Expected 801855, actual 767155\n",
      "Test 21 failed. Expected 811700, actual 771045\n",
      "Test 22 failed. Expected 824340, actual -99999999999999133518\n"
     ]
    },
    {
     "name": "stderr",
     "output_type": "stream",
     "text": [
      "  5%|▌         | 52/1000 [00:00<00:07, 123.06it/s]"
     ]
    },
    {
     "name": "stdout",
     "output_type": "stream",
     "text": [
      "Test 34 failed. Expected 718245, actual 651880\n",
      "Test 39 failed. Expected 795730, actual 791845\n",
      "Test 43 failed. Expected 854950, actual 830470\n",
      "Test 54 failed. Expected 858750, actual 829580\n"
     ]
    },
    {
     "name": "stderr",
     "output_type": "stream",
     "text": [
      "  6%|▌         | 59/1000 [00:00<00:07, 121.03it/s]"
     ]
    },
    {
     "name": "stdout",
     "output_type": "stream",
     "text": [
      "Test 60 failed. Expected 712605, actual 707280\n",
      "Testing is stopped after 10 failed tests.\n"
     ]
    },
    {
     "name": "stderr",
     "output_type": "stream",
     "text": [
      "\n"
     ]
    }
   ],
   "source": [
    "run_tests(problem4_bruteforce, problem4, input_generator4)"
   ]
  },
  {
   "cell_type": "markdown",
   "metadata": {},
   "source": [
    "## Задача 5"
   ]
  },
  {
   "cell_type": "code",
   "execution_count": 18,
   "metadata": {},
   "outputs": [],
   "source": [
    "def problem5_bruteforce(path):\n",
    "    with open(path) as f:\n",
    "        n = int(f.readline())\n",
    "        a = list()\n",
    "        for _ in range(n):\n",
    "            pair = list(map(int, f.readline().split()))\n",
    "            a.append(pair)\n",
    "\n",
    "        result = None\n",
    "\n",
    "        for option in list(product([0, 1], repeat=n)):\n",
    "            s = 0\n",
    "            for i, x in enumerate(option):\n",
    "                s += a[i][x]\n",
    "\n",
    "            if s % 5 == 0 and (result == None or s < result):\n",
    "                result = s\n",
    "\n",
    "        return result\n",
    "\n",
    "\n",
    "def problem5(path):\n",
    "    with open(path) as f:\n",
    "        n = int(f.readline())\n",
    "        s = 0\n",
    "\n",
    "        infty = 10 ** 20\n",
    "        m = [infty] * 5\n",
    "\n",
    "        for i in range(n):\n",
    "            x, y = map(int, f.readline().split())\n",
    "            a = abs(x - y)\n",
    "            s += min(x, y)\n",
    "            m[a % 5] = min(m[a % 5], a)\n",
    "\n",
    "        if s % 5 == 1:\n",
    "            s += min(m[1] + m[3], m[4])\n",
    "        if s % 5 == 2:\n",
    "            s += min(m[1] + m[2], m[3])\n",
    "        if s % 5 == 3:\n",
    "            s += m[2]\n",
    "        if s % 5 == 4:\n",
    "            s += m[1]\n",
    "\n",
    "        return s\n",
    "\n",
    "\n",
    "\n"
   ]
  },
  {
   "cell_type": "code",
   "execution_count": 19,
   "metadata": {},
   "outputs": [
    {
     "data": {
      "text/plain": [
       "75960"
      ]
     },
     "execution_count": 19,
     "metadata": {},
     "output_type": "execute_result"
    }
   ],
   "source": [
    "problem5_bruteforce('./data/27data/5/27-5a.txt')"
   ]
  },
  {
   "cell_type": "code",
   "execution_count": 20,
   "metadata": {},
   "outputs": [
    {
     "data": {
      "text/plain": [
       "'75960 203343860'"
      ]
     },
     "execution_count": 20,
     "metadata": {},
     "output_type": "execute_result"
    }
   ],
   "source": [
    "solutions[5] = '{} {}'.format(problem5('./data/27data/5/27-5a.txt'), problem5('./data/27data/5/27-5b.txt'))\n",
    "solutions[5]"
   ]
  },
  {
   "cell_type": "code",
   "execution_count": 21,
   "metadata": {},
   "outputs": [],
   "source": [
    "from random import randint\n",
    "\n",
    "def input_generator5(path):\n",
    "    with open(path, 'w+') as f:\n",
    "        n = 12\n",
    "        f.write(str(n) + '\\n')\n",
    "\n",
    "        for i in range(n):\n",
    "            f.write(str(randint(1, 30000)) + ' ' + str(randint(1, 30000)) + '\\n')"
   ]
  },
  {
   "cell_type": "code",
   "execution_count": 22,
   "metadata": {},
   "outputs": [
    {
     "name": "stdout",
     "output_type": "stream",
     "text": [
      "Testing in progress...\n"
     ]
    },
    {
     "name": "stderr",
     "output_type": "stream",
     "text": [
      "  2%|▎         | 25/1000 [00:00<00:07, 122.39it/s]"
     ]
    },
    {
     "name": "stdout",
     "output_type": "stream",
     "text": [
      "Test 7 failed. Expected 128825, actual 144695\n",
      "Test 18 failed. Expected 129115, actual 132935\n"
     ]
    },
    {
     "name": "stderr",
     "output_type": "stream",
     "text": [
      "  5%|▌         | 51/1000 [00:00<00:07, 123.89it/s]"
     ]
    },
    {
     "name": "stdout",
     "output_type": "stream",
     "text": [
      "Test 34 failed. Expected 119670, actual 126405\n",
      "Test 37 failed. Expected 190225, actual 100000000000000184319\n",
      "Test 38 failed. Expected 136505, actual 140975\n",
      "Test 40 failed. Expected 149950, actual 158430\n",
      "Test 51 failed. Expected 88375, actual 95500\n",
      "Test 52 failed. Expected 107540, actual 109250\n"
     ]
    },
    {
     "name": "stderr",
     "output_type": "stream",
     "text": [
      "  8%|▊         | 76/1000 [00:00<00:07, 122.58it/s]"
     ]
    },
    {
     "name": "stdout",
     "output_type": "stream",
     "text": [
      "Test 73 failed. Expected 147205, actual 157160\n",
      "Test 77 failed. Expected 122655, actual 124610\n",
      "Testing is stopped after 10 failed tests.\n"
     ]
    },
    {
     "name": "stderr",
     "output_type": "stream",
     "text": [
      "\n"
     ]
    }
   ],
   "source": [
    "run_tests(problem5_bruteforce, problem5, input_generator5)"
   ]
  },
  {
   "cell_type": "code",
   "execution_count": 23,
   "metadata": {},
   "outputs": [],
   "source": [
    "def problem5_polyakov(path):\n",
    "    with open(path) as f:\n",
    "        n = int(f.readline())\n",
    "        s = 0\n",
    "\n",
    "        D = 5\n",
    "        s = 0\n",
    "        dMin = [10 ** 20] * D\n",
    "\n",
    "        for i in range(n):\n",
    "            a, b = map(int, f.readline().split())\n",
    "            s += min(a, b)\n",
    "            d = abs(a-b)\n",
    "            r = d % D\n",
    "\n",
    "            if r > 0:\n",
    "                dMinNew = dMin.copy()\n",
    "                for k in range(1, D):\n",
    "                    r0 = (r + k) % D\n",
    "                    dMinNew[r0] = min(d + dMin[k], dMinNew[r0])\n",
    "                dMinNew[r] = min(d, dMinNew[r])\n",
    "                dMin = dMinNew.copy()\n",
    "\n",
    "        if s % D == 0:\n",
    "            return s\n",
    "        else:\n",
    "            return s + dMin[D - s % D]"
   ]
  },
  {
   "cell_type": "markdown",
   "metadata": {},
   "source": [
    "dMin[i] - сумма разностей, такая что она дает остаток от деления на D равный i"
   ]
  },
  {
   "cell_type": "code",
   "execution_count": 24,
   "metadata": {},
   "outputs": [
    {
     "name": "stdout",
     "output_type": "stream",
     "text": [
      "Testing in progress...\n"
     ]
    },
    {
     "name": "stderr",
     "output_type": "stream",
     "text": [
      "100%|██████████| 1000/1000 [00:08<00:00, 121.46it/s]"
     ]
    },
    {
     "name": "stdout",
     "output_type": "stream",
     "text": [
      "OK! All tests passed.\n"
     ]
    },
    {
     "name": "stderr",
     "output_type": "stream",
     "text": [
      "\n"
     ]
    }
   ],
   "source": [
    "run_tests(problem5_bruteforce, problem5_polyakov, input_generator5)"
   ]
  },
  {
   "cell_type": "markdown",
   "metadata": {},
   "source": [
    "## Задача 6"
   ]
  },
  {
   "cell_type": "markdown",
   "metadata": {},
   "source": [
    "Имеется набор данных, состоящий из положительных целых чисел, каждое из которых не превышает 1000. Требуется найти для этой последовательности контрольное значение – наибольшее число $R$, удовлетворяющее следующим условиям:\n",
    "\n",
    "* $R$ – произведение двух различных переданных элементов последовательности («различные» означает, что не рассматриваются квадраты переданных чисел, произведения различных, но равных по величине элементов допускаются);\n",
    "* $R$ делится на 6.\n",
    "\n",
    "**Входные данные**: Даны два входных файла: файл A (`27-1a.txt`) и файл B (`27-1b.txt`), каждый из которых содержит в первой строке количество чисел $N (1 ≤ N ≤ 100000)$. Каждая из следующих N строк содержит два натуральных числа, не превышающих по модулю 10000.\n",
    "\n",
    "**Пример входного файла:**\n",
    "\n",
    "```\n",
    "6\n",
    "60\n",
    "17\n",
    "3\n",
    "7\n",
    "9\n",
    "60\n",
    "```\n",
    "\n",
    "Для указанных входных данных искомое контрольное значение равно 3600.\n",
    "\n",
    "В ответе укажите два числа: сначала искомое значение для файла А, затем для файла B."
   ]
  },
  {
   "cell_type": "code",
   "execution_count": 25,
   "metadata": {},
   "outputs": [],
   "source": [
    "def problem6_bruteforce(path: str):\n",
    "    with open(path) as f:\n",
    "        n = int(f.readline())\n",
    "        a = list()\n",
    "        for i in range(n):\n",
    "            a.append(int(f.readline()))\n",
    "        \n",
    "        result = 0\n",
    "        for i in range(n):\n",
    "            for j in range(i+1, n):\n",
    "                x = a[i] * a[j]\n",
    "                if x % 6 == 0 and x > result:\n",
    "                    result = x\n",
    "\n",
    "        return result"
   ]
  },
  {
   "cell_type": "code",
   "execution_count": 26,
   "metadata": {},
   "outputs": [],
   "source": [
    "def problem6(path: str):\n",
    "    with open(path) as f:\n",
    "        n = int(f.readline())\n",
    "\n",
    "        m = 0\n",
    "        m2 = 0\n",
    "        m3 = 0\n",
    "        m61 = 0\n",
    "        m62 = 0\n",
    "\n",
    "        for i in range(n):\n",
    "            x = int(f.readline())\n",
    "            if x % 6 == 0:\n",
    "                if x > m61:\n",
    "                    m62 = m61\n",
    "                    m61 = x\n",
    "                elif x > m62:\n",
    "                    m62 = x\n",
    "            elif x % 3 == 0:\n",
    "                m3 = max(m3, x)\n",
    "            elif x % 2 == 0:\n",
    "                m2 = max(m2, x)\n",
    "            else:\n",
    "                m = max(m, x)\n",
    "\n",
    "        return max(m2 * m3, max(m2, m3, m) * m61, m61 * m62)"
   ]
  },
  {
   "cell_type": "code",
   "execution_count": 27,
   "metadata": {},
   "outputs": [],
   "source": [
    "def problem6_polyakov(path: str):\n",
    "    with open(path) as f:\n",
    "        n = int(f.readline())\n",
    "        max6 = 0\n",
    "        maxX = 0\n",
    "        max2 = 0\n",
    "        max3 = 0\n",
    "        for i in range(n):\n",
    "            x = int(f.readline())\n",
    "            if x % 6 == 0 and x > max6:\n",
    "                if max6 > maxX: maxX = max6\n",
    "                max6 = x\n",
    "            else:\n",
    "                if x > maxX: maxX = x\n",
    "                if x % 2 == 0 and x > max2: max2 = x\n",
    "                elif x % 3 == 0 and x > max3: max3 = x\n",
    "\n",
    "        R = max( max6*maxX, max2*max3 )\n",
    "\n",
    "        return R"
   ]
  },
  {
   "cell_type": "code",
   "execution_count": 28,
   "metadata": {},
   "outputs": [
    {
     "data": {
      "text/plain": [
       "'782040 997002'"
      ]
     },
     "execution_count": 28,
     "metadata": {},
     "output_type": "execute_result"
    }
   ],
   "source": [
    "solutions[6] = '{} {}'.format(problem6_bruteforce('./data/27data/6/27-6a.txt'), problem6('./data/27data/6/27-6b.txt'))\n",
    "solutions[6]"
   ]
  },
  {
   "cell_type": "markdown",
   "metadata": {},
   "source": [
    "### Генерация тестов"
   ]
  },
  {
   "cell_type": "code",
   "execution_count": 29,
   "metadata": {},
   "outputs": [],
   "source": [
    "from random import randint\n",
    "\n",
    "def input_generator6(path):\n",
    "    with open(path, 'w+') as f:\n",
    "        n = 100\n",
    "        f.write(str(n) + '\\n')\n",
    "\n",
    "        for i in range(n):\n",
    "            f.write(str(randint(1, 30000)) + '\\n')"
   ]
  },
  {
   "cell_type": "code",
   "execution_count": 30,
   "metadata": {},
   "outputs": [
    {
     "name": "stdout",
     "output_type": "stream",
     "text": [
      "Testing in progress...\n"
     ]
    },
    {
     "name": "stderr",
     "output_type": "stream",
     "text": [
      "100%|██████████| 1000/1000 [00:03<00:00, 274.84it/s]"
     ]
    },
    {
     "name": "stdout",
     "output_type": "stream",
     "text": [
      "OK! All tests passed.\n"
     ]
    },
    {
     "name": "stderr",
     "output_type": "stream",
     "text": [
      "\n"
     ]
    }
   ],
   "source": [
    "run_tests(problem6_bruteforce, problem6, input_generator6)"
   ]
  },
  {
   "cell_type": "code",
   "execution_count": 31,
   "metadata": {},
   "outputs": [
    {
     "name": "stdout",
     "output_type": "stream",
     "text": [
      "Testing in progress...\n"
     ]
    },
    {
     "name": "stderr",
     "output_type": "stream",
     "text": [
      "100%|██████████| 1000/1000 [00:03<00:00, 262.74it/s]"
     ]
    },
    {
     "name": "stdout",
     "output_type": "stream",
     "text": [
      "OK! All tests passed.\n"
     ]
    },
    {
     "name": "stderr",
     "output_type": "stream",
     "text": [
      "\n"
     ]
    }
   ],
   "source": [
    "run_tests(problem6_bruteforce, problem6_polyakov, input_generator6)"
   ]
  },
  {
   "cell_type": "markdown",
   "metadata": {},
   "source": [
    "## Задача 7"
   ]
  },
  {
   "cell_type": "code",
   "execution_count": 32,
   "metadata": {},
   "outputs": [],
   "source": [
    "def problem7_bruteforce(path: str):\n",
    "    with open(path) as f:\n",
    "        n = int(f.readline())\n",
    "        a = list()\n",
    "\n",
    "        for i in range(n):\n",
    "            a.append(int(f.readline()))\n",
    "        \n",
    "        result = 0\n",
    "        for i in range(n):\n",
    "            for j in range(i+1, n):\n",
    "                x = a[i] * a[j]\n",
    "                if x % 7 == 0 and x % 49 != 0 and x > result:\n",
    "                    result = x\n",
    "\n",
    "        return result"
   ]
  },
  {
   "cell_type": "code",
   "execution_count": 33,
   "metadata": {},
   "outputs": [],
   "source": [
    "def problem7(path: str):\n",
    "    with open(path) as f:\n",
    "        n = int(f.readline())\n",
    "        m7 = 0\n",
    "        m = 0\n",
    "\n",
    "        for i in range(n):\n",
    "            x = int(f.readline())\n",
    "            if x % 7 == 0 and x % 49 != 0 and x > m7:\n",
    "                m7 = x\n",
    "            elif x % 7 != 0 and x > m:\n",
    "                m = x\n",
    "\n",
    "        return m7 * m"
   ]
  },
  {
   "cell_type": "code",
   "execution_count": 34,
   "metadata": {},
   "outputs": [
    {
     "data": {
      "text/plain": [
       "'692286 952567'"
      ]
     },
     "execution_count": 34,
     "metadata": {},
     "output_type": "execute_result"
    }
   ],
   "source": [
    "solutions[7] = '{} {}'.format(problem7_bruteforce('./data/27data/7/27-7a.txt'), problem7('./data/27data/7/27-7b.txt'))\n",
    "solutions[7]"
   ]
  },
  {
   "cell_type": "code",
   "execution_count": 35,
   "metadata": {},
   "outputs": [],
   "source": [
    "from random import randint\n",
    "\n",
    "def input_generator7(path):\n",
    "    with open(path, 'w+') as f:\n",
    "        n = 100\n",
    "        f.write(str(n) + '\\n')\n",
    "\n",
    "        for i in range(n):\n",
    "            f.write(str(randint(1, 100000)) + '\\n')"
   ]
  },
  {
   "cell_type": "code",
   "execution_count": 36,
   "metadata": {},
   "outputs": [
    {
     "name": "stdout",
     "output_type": "stream",
     "text": [
      "Testing in progress...\n"
     ]
    },
    {
     "name": "stderr",
     "output_type": "stream",
     "text": [
      "100%|██████████| 1000/1000 [00:04<00:00, 247.40it/s]"
     ]
    },
    {
     "name": "stdout",
     "output_type": "stream",
     "text": [
      "OK! All tests passed.\n"
     ]
    },
    {
     "name": "stderr",
     "output_type": "stream",
     "text": [
      "\n"
     ]
    }
   ],
   "source": [
    "run_tests(problem7_bruteforce, problem7, input_generator7)"
   ]
  },
  {
   "cell_type": "markdown",
   "metadata": {},
   "source": [
    "## Задача 8"
   ]
  },
  {
   "cell_type": "markdown",
   "metadata": {},
   "source": [
    "Имеется набор данных, состоящий из положительных целых чисел, каждое из которых не превышает 1000. Они представляют собой результаты измерений, выполняемых прибором с интервалом 1 минута. Требуется найти для этой последовательности контрольное значение – наименьшую сумму квадратов двух результатов измерений, выполненных с интервалом не менее, чем в 5 минут."
   ]
  },
  {
   "cell_type": "code",
   "execution_count": 37,
   "metadata": {},
   "outputs": [
    {
     "data": {
      "text/plain": [
       "'11009 200'"
      ]
     },
     "execution_count": 37,
     "metadata": {},
     "output_type": "execute_result"
    }
   ],
   "source": [
    "def problem8_bruteforce(path: str):\n",
    "    with open(path) as f:\n",
    "        n = int(f.readline())\n",
    "        a = list()\n",
    "\n",
    "        for i in range(n):\n",
    "            a.append(int(f.readline()))\n",
    "        \n",
    "        result = 10 ** 20\n",
    "        for i in range(n):\n",
    "            for j in range(i+5, n):\n",
    "                x = (a[i] ** 2) + (a[j] ** 2)\n",
    "                if x < result:\n",
    "                    result = x\n",
    "\n",
    "        return result\n",
    "\n",
    "def problem8(path: str):\n",
    "    with open(path) as f:\n",
    "        n = int(f.readline())\n",
    "        window = [0] * 5\n",
    "        answer = 10 ** 20\n",
    "        m = None\n",
    "\n",
    "        for i in range(n):\n",
    "            if i >= 5 and (m == None or window[i % 5] < m):\n",
    "                m = window[i % 5]\n",
    "            x = int(f.readline())\n",
    "            window[i % 5] = x\n",
    "\n",
    "            if m != None:\n",
    "                answer = min(answer, m ** 2 + window[i % 5] ** 2)\n",
    "\n",
    "        return answer\n",
    "\n",
    "solutions[8] = '{} {}'.format(problem8('./data/27data/8/27-8a.txt'), problem8('./data/27data/8/27-8b.txt'))\n",
    "solutions[8]"
   ]
  },
  {
   "cell_type": "code",
   "execution_count": 38,
   "metadata": {},
   "outputs": [
    {
     "data": {
      "text/plain": [
       "'3809 200'"
      ]
     },
     "execution_count": 38,
     "metadata": {},
     "output_type": "execute_result"
    }
   ],
   "source": [
    "def problem8(path: str):\n",
    "    with open(path) as f:\n",
    "        n = int(f.readline())\n",
    "        # window = [0] * 5\n",
    "        answer = 10 ** 20\n",
    "        m = 10 ** 20\n",
    "\n",
    "        for i in range(n):\n",
    "            x = int(f.readline())\n",
    "\n",
    "            if i >= 5:\n",
    "                answer = min(answer, m ** 2 + x ** 2)\n",
    "\n",
    "            m = min(m, x)\n",
    "\n",
    "        return answer\n",
    "\n",
    "solutions[8] = '{} {}'.format(problem8('./data/27data/8/27-8a.txt'), problem8('./data/27data/8/27-8b.txt'))\n",
    "solutions[8]"
   ]
  },
  {
   "cell_type": "markdown",
   "metadata": {},
   "source": [
    "0, 1, 2, 3, 4\n",
    "\n",
    "1, 2, 3, 4, 5\n",
    "\n",
    "2, 3, 4, 5, 6\n",
    "\n",
    "3, 4, 5, 6, 7\n",
    "\n",
    "5, 6, 7, 8, 4"
   ]
  },
  {
   "cell_type": "code",
   "execution_count": 39,
   "metadata": {},
   "outputs": [
    {
     "data": {
      "text/plain": [
       "'11009 200'"
      ]
     },
     "execution_count": 39,
     "metadata": {},
     "output_type": "execute_result"
    }
   ],
   "source": [
    "answers[8]"
   ]
  },
  {
   "cell_type": "code",
   "execution_count": 40,
   "metadata": {},
   "outputs": [
    {
     "data": {
      "text/plain": [
       "3809"
      ]
     },
     "execution_count": 40,
     "metadata": {},
     "output_type": "execute_result"
    }
   ],
   "source": [
    "problem8('./data/27data/8/27-8a.txt')"
   ]
  },
  {
   "cell_type": "code",
   "execution_count": 41,
   "metadata": {},
   "outputs": [],
   "source": [
    "from random import randint\n",
    "\n",
    "def input_generator8(path):\n",
    "    with open(path, 'w+') as f:\n",
    "        n = 100\n",
    "        f.write(str(n) + '\\n')\n",
    "\n",
    "        for i in range(n):\n",
    "            f.write(str(randint(1, 100000)) + '\\n')"
   ]
  },
  {
   "cell_type": "code",
   "execution_count": 42,
   "metadata": {},
   "outputs": [
    {
     "name": "stdout",
     "output_type": "stream",
     "text": [
      "Testing in progress...\n"
     ]
    },
    {
     "name": "stderr",
     "output_type": "stream",
     "text": [
      "  2%|▏         | 17/1000 [00:00<00:05, 168.32it/s]"
     ]
    },
    {
     "name": "stdout",
     "output_type": "stream",
     "text": [
      "Test 16 failed. Expected 39281530, actual 26244250\n",
      "Test 26 failed. Expected 8935929, actual 7063993\n"
     ]
    },
    {
     "name": "stderr",
     "output_type": "stream",
     "text": [
      "  7%|▋         | 66/1000 [00:00<00:06, 150.95it/s]"
     ]
    },
    {
     "name": "stdout",
     "output_type": "stream",
     "text": [
      "Test 50 failed. Expected 8531442, actual 7661425\n",
      "Test 54 failed. Expected 14663426, actual 5196626\n"
     ]
    },
    {
     "name": "stderr",
     "output_type": "stream",
     "text": [
      " 12%|█▏        | 119/1000 [00:00<00:05, 166.98it/s]"
     ]
    },
    {
     "name": "stdout",
     "output_type": "stream",
     "text": [
      "Test 86 failed. Expected 4345289, actual 2333129\n",
      "Test 102 failed. Expected 39628468, actual 8955400\n",
      "Test 117 failed. Expected 3170484, actual 1205845\n"
     ]
    },
    {
     "name": "stderr",
     "output_type": "stream",
     "text": [
      " 15%|█▌        | 153/1000 [00:00<00:05, 159.45it/s]"
     ]
    },
    {
     "name": "stdout",
     "output_type": "stream",
     "text": [
      "Test 133 failed. Expected 55787738, actual 6474410\n",
      "Test 135 failed. Expected 1587088, actual 1320080\n",
      "Test 154 failed. Expected 3024565, actual 1281290\n",
      "Testing is stopped after 10 failed tests.\n"
     ]
    },
    {
     "name": "stderr",
     "output_type": "stream",
     "text": [
      "\n"
     ]
    }
   ],
   "source": [
    "run_tests(problem8_bruteforce, problem8, input_generator8)"
   ]
  },
  {
   "cell_type": "markdown",
   "metadata": {},
   "source": [
    "## Задача 9"
   ]
  },
  {
   "cell_type": "code",
   "execution_count": 43,
   "metadata": {},
   "outputs": [],
   "source": [
    "def problem9_bruteforce(path: str):\n",
    "    with open(path) as f:\n",
    "        n = int(f.readline())\n",
    "        a = list()\n",
    "\n",
    "        for i in range(n):\n",
    "            a.append(int(f.readline()))\n",
    "        \n",
    "        result = None\n",
    "        for i in range(n-6):\n",
    "            for j in range(i+6, n):\n",
    "                x = a[i] * a[j]\n",
    "                if x % 2 == 1 and (result == None or x < result):\n",
    "                    result = x\n",
    "\n",
    "        if result == None:\n",
    "            return -1\n",
    "        \n",
    "        return result"
   ]
  },
  {
   "cell_type": "markdown",
   "metadata": {},
   "source": [
    "## Задача 11"
   ]
  },
  {
   "cell_type": "code",
   "execution_count": 44,
   "metadata": {},
   "outputs": [
    {
     "data": {
      "text/plain": [
       "'14432 45978688'"
      ]
     },
     "execution_count": 44,
     "metadata": {},
     "output_type": "execute_result"
    }
   ],
   "source": [
    "from itertools import combinations, product\n",
    "\n",
    "def problem11_bruteforce(path):\n",
    "    with open(path) as f:\n",
    "        n = int(f.readline())\n",
    "        a = list()\n",
    "        for _ in range(n):\n",
    "            triplet = list(map(int, f.readline().split()))\n",
    "            a.append(triplet)\n",
    "\n",
    "        result = 0\n",
    "        \n",
    "        for option in list(product([0, 1, 2], repeat=n)):\n",
    "            s = 0\n",
    "            for i, x in enumerate(option):\n",
    "                s += a[i][x]\n",
    "\n",
    "            if s % 8 == 0 and s > result:\n",
    "                result = s\n",
    "\n",
    "        return result\n",
    "\n",
    "def problem11(path):\n",
    "    with open(path) as f:\n",
    "        n = int(f.readline())\n",
    "        s = 0\n",
    "\n",
    "        dMin = [10 ** 20] * 8\n",
    "        for _ in range(n):\n",
    "            triplet = list(map(int, f.readline().split()))\n",
    "            triplet.sort()\n",
    "            s += triplet[2]\n",
    "\n",
    "            dMinNew = dMin.copy()\n",
    "            for i in range(0, 2):\n",
    "                d = triplet[2] - triplet[i]\n",
    "                r = d % 8\n",
    "\n",
    "                if r > 0:\n",
    "                    for k in range(1, 8):\n",
    "                        r0 = (r + k) % 8\n",
    "                        dMinNew[r0] = min(dMinNew[r0], dMin[k] + d)\n",
    "\n",
    "                    dMinNew[r] = min(dMinNew[r], d)\n",
    "            dMin = dMinNew.copy()\n",
    "        \n",
    "        if s % 8 == 0:\n",
    "            return s\n",
    "\n",
    "        return s - dMin[s % 8]\n",
    "\n",
    "solutions[11] = '{} {}'.format(problem11('./data/27data/11/27-11a.txt'), problem11('./data/27data/11/27-11b.txt'))\n",
    "solutions[11]"
   ]
  },
  {
   "cell_type": "code",
   "execution_count": 45,
   "metadata": {},
   "outputs": [
    {
     "data": {
      "text/plain": [
       "'14432 45978688'"
      ]
     },
     "execution_count": 45,
     "metadata": {},
     "output_type": "execute_result"
    }
   ],
   "source": [
    "answers[11]"
   ]
  },
  {
   "cell_type": "code",
   "execution_count": 46,
   "metadata": {},
   "outputs": [
    {
     "name": "stdout",
     "output_type": "stream",
     "text": [
      "Testing in progress...\n"
     ]
    },
    {
     "name": "stderr",
     "output_type": "stream",
     "text": [
      "100%|██████████| 1000/1000 [01:04<00:00, 15.39it/s]"
     ]
    },
    {
     "name": "stdout",
     "output_type": "stream",
     "text": [
      "OK! All tests passed.\n"
     ]
    },
    {
     "name": "stderr",
     "output_type": "stream",
     "text": [
      "\n"
     ]
    }
   ],
   "source": [
    "run_tests(problem11_bruteforce, problem11, positive_triplet_generator)"
   ]
  },
  {
   "cell_type": "markdown",
   "metadata": {},
   "source": [
    "## Задача 12"
   ]
  },
  {
   "cell_type": "code",
   "execution_count": 47,
   "metadata": {},
   "outputs": [
    {
     "data": {
      "text/plain": [
       "'47 745460178'"
      ]
     },
     "execution_count": 47,
     "metadata": {},
     "output_type": "execute_result"
    }
   ],
   "source": [
    "def problem12_bruteforce(path: str):\n",
    "    with open(path) as f:\n",
    "        n = int(f.readline())\n",
    "        a = list()\n",
    "\n",
    "        for i in range(n):\n",
    "            a.append(int(f.readline()))\n",
    "\n",
    "        answer = 0\n",
    "        for i in range(n):\n",
    "            for j in range(i+1, n):\n",
    "                if (a[i] * a[j]) % 6 == 0:\n",
    "                    answer += 1\n",
    "\n",
    "        return answer\n",
    "\n",
    "def problem12(path: str):\n",
    "    with open(path) as f:\n",
    "        n = int(f.readline())\n",
    "\n",
    "        answer = 0\n",
    "        k6 = 0 # количество кратных 6\n",
    "        k3 = 0 # количество не кратных 6, кратных 3\n",
    "        k2 = 0 # количество не кратных 6, кратных 2\n",
    "\n",
    "        for i in range(n):\n",
    "            x = int(f.readline())\n",
    "            if x % 6 == 0:\n",
    "                k6 += 1\n",
    "            elif x % 3 == 0:\n",
    "                k3 += 1\n",
    "            elif x % 2 == 0:\n",
    "                k2 += 1\n",
    "        \n",
    "        answer = k2 * k3 + k6 * (n - k6) + (k6 * (k6-1) // 2)\n",
    "        return answer\n",
    "\n",
    "solutions[12] = '{} {}'.format(problem12_bruteforce('./data/27data/12/27-12a.txt'), problem12('./data/27data/12/27-12b.txt'))\n",
    "solutions[12]"
   ]
  },
  {
   "cell_type": "markdown",
   "metadata": {},
   "source": [
    "## Задача 13"
   ]
  },
  {
   "cell_type": "code",
   "execution_count": 48,
   "metadata": {},
   "outputs": [
    {
     "data": {
      "text/plain": [
       "'30 360137507'"
      ]
     },
     "execution_count": 48,
     "metadata": {},
     "output_type": "execute_result"
    }
   ],
   "source": [
    "def problem13_bruteforce(path: str):\n",
    "    with open(path) as f:\n",
    "        n = int(f.readline())\n",
    "        a = list()\n",
    "\n",
    "        for i in range(n):\n",
    "            a.append(int(f.readline()))\n",
    "        \n",
    "        answer = 0\n",
    "        for i in range(n):\n",
    "            for j in range(i+7, n):\n",
    "                if (a[i] * a[j]) % 14 == 0:\n",
    "                    answer += 1\n",
    "\n",
    "        return answer\n",
    "\n",
    "def problem13(path: str):\n",
    "    with open(path) as f:\n",
    "        n = int(f.readline())\n",
    "        buf = [int(f.readline()) for i in range(7)]\n",
    "        answer = 0\n",
    "        c14 = 0 # количество чисел, кратных 14, с индексами от 0 до i-7\n",
    "        c2 = 0 # количество чисел, кратных 2, с индексами от 0 до i-7\n",
    "        c7 = 0 # количество чисел, кратных 7, с индексами от 0 до i-7\n",
    "        c = 0 # количество чисел, не кратных 2 и 7, с индексами от 0 до i-7\n",
    "\n",
    "        for i in range(7, n):\n",
    "            x = int(f.readline())\n",
    "            if buf[i % 7] % 14 == 0:\n",
    "                c14 += 1\n",
    "            elif buf[i % 7] % 2 == 0:\n",
    "                c2 += 1\n",
    "            elif buf[i % 7] % 7 == 0:\n",
    "                c7 += 1\n",
    "            else:\n",
    "                c += 1\n",
    "\n",
    "            buf[i % 7] = x\n",
    "\n",
    "            if x % 14 == 0:\n",
    "                answer += c14 + c7 + c2 + c\n",
    "            elif x % 2 == 0:\n",
    "                answer += c14 + c7\n",
    "            elif x % 7 == 0:\n",
    "                answer += c14 + c2\n",
    "            else:\n",
    "                answer += c14\n",
    "        \n",
    "        return answer\n",
    "\n",
    "solutions[13] = '{} {}'.format(problem13_bruteforce('./data/27data/13/27-13a.txt'), problem13('./data/27data/13/27-13b.txt'))\n",
    "solutions[13]"
   ]
  },
  {
   "cell_type": "code",
   "execution_count": 49,
   "metadata": {},
   "outputs": [
    {
     "data": {
      "text/plain": [
       "'30 360137507'"
      ]
     },
     "execution_count": 49,
     "metadata": {},
     "output_type": "execute_result"
    }
   ],
   "source": [
    "answers[13]"
   ]
  },
  {
   "cell_type": "code",
   "execution_count": 50,
   "metadata": {},
   "outputs": [],
   "source": [
    "from random import randint\n",
    "\n",
    "def input_generator13(path):\n",
    "    with open(path, 'w+') as f:\n",
    "        n = 100\n",
    "        f.write(str(n) + '\\n')\n",
    "\n",
    "        for i in range(n):\n",
    "            f.write(str(randint(1, 100000)) + '\\n')"
   ]
  },
  {
   "cell_type": "code",
   "execution_count": 51,
   "metadata": {},
   "outputs": [
    {
     "name": "stdout",
     "output_type": "stream",
     "text": [
      "Testing in progress...\n"
     ]
    },
    {
     "name": "stderr",
     "output_type": "stream",
     "text": [
      "100%|██████████| 1000/1000 [00:03<00:00, 263.92it/s]"
     ]
    },
    {
     "name": "stdout",
     "output_type": "stream",
     "text": [
      "OK! All tests passed.\n"
     ]
    },
    {
     "name": "stderr",
     "output_type": "stream",
     "text": [
      "\n"
     ]
    }
   ],
   "source": [
    "run_tests(problem13_bruteforce, problem13, input_generator13)"
   ]
  },
  {
   "cell_type": "code",
   "execution_count": 52,
   "metadata": {},
   "outputs": [
    {
     "data": {
      "text/plain": [
       "'30 360137507'"
      ]
     },
     "execution_count": 52,
     "metadata": {},
     "output_type": "execute_result"
    }
   ],
   "source": [
    "answers[13]"
   ]
  },
  {
   "cell_type": "markdown",
   "metadata": {},
   "source": [
    "## Задача 14"
   ]
  },
  {
   "cell_type": "code",
   "execution_count": 53,
   "metadata": {},
   "outputs": [
    {
     "data": {
      "text/plain": [
       "'17 150016535'"
      ]
     },
     "execution_count": 53,
     "metadata": {},
     "output_type": "execute_result"
    }
   ],
   "source": [
    "def problem14_bruteforce(path: str):\n",
    "    with open(path) as f:\n",
    "        n = int(f.readline())\n",
    "        a = list()\n",
    "\n",
    "        for i in range(n):\n",
    "            a.append(int(f.readline()))\n",
    "\n",
    "        answer = 0\n",
    "        for i in range(n):\n",
    "            for j in range(i+1, n):\n",
    "                if (a[i] + a[j]) % 12 == 0:\n",
    "                    answer += 1\n",
    "\n",
    "        return answer\n",
    "\n",
    "def problem14(path: str):\n",
    "    with open(path) as f:\n",
    "        n = int(f.readline())\n",
    "\n",
    "        answer = 0\n",
    "        r = [0] * 12\n",
    "        for i in range(n):\n",
    "            x = int(f.readline())\n",
    "            r[x % 12] += 1\n",
    "\n",
    "        answer += r[0] * (r[0] - 1) // 2\n",
    "        answer += r[6] * (r[6] - 1) // 2\n",
    "\n",
    "        for i in range(1, 6):\n",
    "            answer += r[i] * r[12-i]\n",
    "        return answer\n",
    "\n",
    "solutions[14] = '{} {}'.format(problem14_bruteforce('./data/27data/14/27-14a.txt'), problem14('./data/27data/14/27-14b.txt'))\n",
    "solutions[14]"
   ]
  },
  {
   "cell_type": "code",
   "execution_count": 54,
   "metadata": {},
   "outputs": [
    {
     "data": {
      "text/plain": [
       "'17 150016535'"
      ]
     },
     "execution_count": 54,
     "metadata": {},
     "output_type": "execute_result"
    }
   ],
   "source": [
    "answers[14]"
   ]
  },
  {
   "cell_type": "code",
   "execution_count": 55,
   "metadata": {},
   "outputs": [
    {
     "data": {
      "text/plain": [
       "17"
      ]
     },
     "execution_count": 55,
     "metadata": {},
     "output_type": "execute_result"
    }
   ],
   "source": [
    "problem14('./data/27data/14/27-14a.txt')"
   ]
  },
  {
   "cell_type": "code",
   "execution_count": 56,
   "metadata": {},
   "outputs": [],
   "source": [
    "from random import randint\n",
    "\n",
    "def input_generator14(path):\n",
    "    with open(path, 'w+') as f:\n",
    "        n = 100\n",
    "        f.write(str(n) + '\\n')\n",
    "\n",
    "        for i in range(n):\n",
    "            f.write(str(randint(1, 1000)) + '\\n')"
   ]
  },
  {
   "cell_type": "code",
   "execution_count": 57,
   "metadata": {},
   "outputs": [
    {
     "name": "stdout",
     "output_type": "stream",
     "text": [
      "Testing in progress...\n"
     ]
    },
    {
     "name": "stderr",
     "output_type": "stream",
     "text": [
      "100%|██████████| 1000/1000 [00:03<00:00, 271.59it/s]"
     ]
    },
    {
     "name": "stdout",
     "output_type": "stream",
     "text": [
      "OK! All tests passed.\n"
     ]
    },
    {
     "name": "stderr",
     "output_type": "stream",
     "text": [
      "\n"
     ]
    }
   ],
   "source": [
    "run_tests(problem14_bruteforce, problem14, input_generator14)"
   ]
  },
  {
   "cell_type": "markdown",
   "metadata": {},
   "source": [
    "## Задача 15"
   ]
  },
  {
   "cell_type": "code",
   "execution_count": 58,
   "metadata": {},
   "outputs": [],
   "source": [
    "def problem15_bruteforce(path: str):\n",
    "    with open(path) as f:\n",
    "        n = int(f.readline())\n",
    "        a = list()\n",
    "\n",
    "        for i in range(n):\n",
    "            a.append(int(f.readline()))\n",
    "        \n",
    "        answer = 0\n",
    "        for i in range(n):\n",
    "            for j in range(i+5, n):\n",
    "                s = a[i] + a[j]\n",
    "                if s % 14 == 0:\n",
    "                    answer += 1\n",
    "\n",
    "        return answer\n",
    "\n",
    "def problem15(path: str):\n",
    "    with open(path) as f:\n",
    "        n = int(f.readline())\n",
    "        answer = 0\n",
    "\n",
    "        window = [0] * 5\n",
    "\n",
    "        for i in range(n):\n",
    "            x = int(f.readline())\n",
    "\n",
    "        return answer"
   ]
  },
  {
   "cell_type": "code",
   "execution_count": 59,
   "metadata": {},
   "outputs": [],
   "source": [
    "# run_tests(problem15_bruteforce, problem15, input_generator15)"
   ]
  },
  {
   "cell_type": "markdown",
   "metadata": {},
   "source": [
    "## Задача 18"
   ]
  },
  {
   "cell_type": "code",
   "execution_count": 60,
   "metadata": {},
   "outputs": [],
   "source": [
    "def problem18_bruteforce(path: str):\n",
    "    with open(path) as f:\n",
    "        n = int(f.readline())\n",
    "        a = list()\n",
    "\n",
    "        for i in range(n):\n",
    "            a.append(int(f.readline()))\n",
    "\n",
    "        answer = 0\n",
    "        for i in range(n):\n",
    "            for j in range(i+1, min(i+5, n)):\n",
    "                if (a[i] * a[j]) % 13 == 0 and (a[i] + a[j]) % 2 == 1:\n",
    "                    answer += 1\n",
    "\n",
    "        return answer"
   ]
  },
  {
   "cell_type": "code",
   "execution_count": 61,
   "metadata": {},
   "outputs": [
    {
     "data": {
      "text/plain": [
       "'11 17813'"
      ]
     },
     "execution_count": 61,
     "metadata": {},
     "output_type": "execute_result"
    }
   ],
   "source": [
    "answers[18]"
   ]
  },
  {
   "cell_type": "code",
   "execution_count": 62,
   "metadata": {},
   "outputs": [],
   "source": [
    "def problem18(path: str):\n",
    "    with open(path) as f:\n",
    "        n = int(f.readline())\n",
    "\n",
    "        return 0"
   ]
  },
  {
   "cell_type": "code",
   "execution_count": 63,
   "metadata": {},
   "outputs": [
    {
     "data": {
      "text/plain": [
       "'11 17813'"
      ]
     },
     "execution_count": 63,
     "metadata": {},
     "output_type": "execute_result"
    }
   ],
   "source": [
    "solutions[18] = '{} {}'.format(problem18_bruteforce('./data/27data/18/27-18a.txt'), problem18_bruteforce('./data/27data/18/27-18b.txt'))\n",
    "solutions[18]"
   ]
  },
  {
   "cell_type": "markdown",
   "metadata": {},
   "source": [
    "## Задача 19"
   ]
  },
  {
   "cell_type": "markdown",
   "metadata": {},
   "source": [
    "Имеется набор данных, состоящий из целых чисел. Необходимо определить максимальное произведение подпоследовательности, состоящей из одного или более идущих подряд элементов.\n",
    "\n",
    "\n",
    "**Входные данные**: Даны два входных файла: файл A (`27-19a.txt`) и файл B (`27-19b.txt`), каждый из которых содержит в первой строке количество чисел N (1 ≤ N ≤ 100000). Каждая из следующих N строк содержит целое число, не превышающее по модулю 100.\n",
    "\n",
    "**Пример входного файла:**\n",
    "\n",
    "```\n",
    "7\n",
    "2\n",
    "3\n",
    "-2\n",
    "-3\n",
    "-1\n",
    "4\n",
    "6\n",
    "```\n",
    "\n",
    "Для указанных входных данных наибольшее произведение равно 72. Его можно получить для последовательности -3 -1 4 6. \n",
    "\n",
    "\n",
    "В ответе укажите два числа: сначала искомое значение для файла А, затем для файла B.\n",
    "\n"
   ]
  },
  {
   "cell_type": "code",
   "execution_count": 64,
   "metadata": {},
   "outputs": [],
   "source": [
    "def problem19_bruteforce(path):\n",
    "    with open(path) as f:\n",
    "        n = int(f.readline())\n",
    "        a = list()\n",
    "        for i in range(n):\n",
    "            a.append(int(f.readline()))\n",
    "\n",
    "        result = float('-inf')\n",
    "        for length in range(n):\n",
    "            for l in range(n-length):\n",
    "                p = 1\n",
    "                for x in a[l:l+length]:\n",
    "                    p *= x\n",
    "\n",
    "                if p > result:\n",
    "                    result = p\n",
    "\n",
    "        return result"
   ]
  },
  {
   "cell_type": "code",
   "execution_count": 65,
   "metadata": {},
   "outputs": [
    {
     "data": {
      "text/plain": [
       "'663497670 999398400'"
      ]
     },
     "execution_count": 65,
     "metadata": {},
     "output_type": "execute_result"
    }
   ],
   "source": [
    "def problem19(path):\n",
    "    with open(path) as f:\n",
    "        ans = 1\n",
    "        p = 1\n",
    "\n",
    "        n = int(f.readline())\n",
    "        for i in range(n):\n",
    "            x = int(f.readline())\n",
    "            if x > 0:\n",
    "                if p > 0:\n",
    "                    p *= x\n",
    "                else:\n",
    "                    if p > ans:\n",
    "                        ans = p\n",
    "                    p = 1\n",
    "            else:\n",
    "                if p < 0:\n",
    "                    p *= x\n",
    "                else:\n",
    "                    if p > ans:\n",
    "                        ans = p\n",
    "                    p = 1\n",
    "        \n",
    "        return ans\n",
    "\n",
    "solutions[19] = '{} {}'.format(problem19_bruteforce('./data/27data/19/27-19a.txt'), problem19('./data/27data/19/27-19b.txt'))\n",
    "solutions[19]"
   ]
  },
  {
   "cell_type": "code",
   "execution_count": 66,
   "metadata": {},
   "outputs": [
    {
     "data": {
      "text/plain": [
       "'663497670 97618752000'"
      ]
     },
     "execution_count": 66,
     "metadata": {},
     "output_type": "execute_result"
    }
   ],
   "source": [
    "def problem19_polyakov(path):\n",
    "    with open(path) as f:\n",
    "        n = int(f.readline())\n",
    "\n",
    "        x = int(f.readline())  # первое число\n",
    "        dp_min = dp_max = answer = x\n",
    "\n",
    "        for _ in range(n-1):\n",
    "            x = int(f.readline())\n",
    "            t = min(dp_min, dp_max, x)\n",
    "            dp_max = max(dp_min*x, dp_max*x, x)\n",
    "            dp_min = t\n",
    "            answer = max(answer, dp_max)\n",
    "\n",
    "        return answer\n",
    "\n",
    "solutions[19] = '{} {}'.format(problem19_bruteforce('./data/27data/19/27-19a.txt'), problem19_polyakov('./data/27data/19/27-19b.txt'))\n",
    "solutions[19]"
   ]
  },
  {
   "cell_type": "code",
   "execution_count": 67,
   "metadata": {},
   "outputs": [],
   "source": [
    "from random import randint\n",
    "\n",
    "def input_generator19(path):\n",
    "    with open(path, 'w+') as f:\n",
    "        n = 50\n",
    "        f.write(str(n) + '\\n')\n",
    "\n",
    "        for i in range(n):\n",
    "            f.write(str(randint(-100, 100)) + '\\n')"
   ]
  },
  {
   "cell_type": "code",
   "execution_count": 68,
   "metadata": {},
   "outputs": [
    {
     "name": "stdout",
     "output_type": "stream",
     "text": [
      "Testing in progress...\n"
     ]
    },
    {
     "name": "stderr",
     "output_type": "stream",
     "text": [
      "  1%|          | 9/1000 [00:00<00:05, 187.50it/s]"
     ]
    },
    {
     "name": "stdout",
     "output_type": "stream",
     "text": [
      "Test 1 failed. Expected 305228166628021610397229118659220863458826676231351080779773268669235200000, actual 4989495\n",
      "Test 2 failed. Expected 1012036092916830077654310941079245551733233839197166223446754541017497600000000, actual 329843565\n",
      "Test 3 failed. Expected 9112310081525056285323649656484252004880216591000440243170301706240000000000000, actual 16619200\n",
      "Test 4 failed. Expected 910468184632649976041704110033660973047887107921247933558685696000000000000, actual 15300000\n",
      "Test 5 failed. Expected 195311308569062220499203386155008000000000, actual 193844\n",
      "Test 6 failed. Expected 7800840307563325020741620771316177740022526323548928008241807360000000000000, actual 296496\n",
      "Test 7 failed. Expected 632912850360311746357059147662481117413365217897878779307961761136640000000, actual 3251052\n",
      "Test 8 failed. Expected 28269658736474456276303330523428683776000000000, actual 2972970\n",
      "Test 9 failed. Expected 84818542271568118567491208393373444145689709772800000000000000, actual 169258636800\n",
      "Test 10 failed. Expected 424914529898752719848147816090033720599999625075827696331205906530304000000000, actual 211711680\n",
      "Testing is stopped after 10 failed tests.\n"
     ]
    },
    {
     "name": "stderr",
     "output_type": "stream",
     "text": [
      "\n"
     ]
    }
   ],
   "source": [
    "run_tests(problem19_bruteforce, problem19, input_generator19)"
   ]
  },
  {
   "cell_type": "markdown",
   "metadata": {},
   "source": [
    "## Задача 27"
   ]
  },
  {
   "cell_type": "markdown",
   "metadata": {},
   "source": [
    "Имеется набор данных, состоящий из пар положительных целых чисел. Необходимо выбрать из каждой пары ровно одно число так, чтобы шестнадцатеричная запись суммы всех выбранных чисел НЕ оканчивалась на A и при этом была максимально возможной. Гарантируется, что искомую сумму получить можно. Программа должна напечатать одно число – максимально возможную сумму, соответствующую условиям задачи."
   ]
  },
  {
   "cell_type": "code",
   "execution_count": 69,
   "metadata": {},
   "outputs": [],
   "source": [
    "def problem27(path):\n",
    "    with open(path) as f:\n",
    "        n = int(f.readline())\n",
    "\n",
    "        sum = 0\n",
    "        m = 10**20\n",
    "        for i in range(n):\n",
    "            x, y = map(int, f.readline().split())\n",
    "            sum += max(x, y)\n",
    "            if hex(abs(x-y))[-1] != 'a':\n",
    "                m = min(m, abs(x-y))\n",
    "\n",
    "        if hex(sum)[-1] != 'a':\n",
    "            return sum\n",
    "        else:\n",
    "            return sum - m"
   ]
  },
  {
   "cell_type": "code",
   "execution_count": 70,
   "metadata": {},
   "outputs": [
    {
     "data": {
      "text/plain": [
       "'11828 41262097'"
      ]
     },
     "execution_count": 70,
     "metadata": {},
     "output_type": "execute_result"
    }
   ],
   "source": [
    "solutions[27] = '{} {}'.format(problem27('./data/27data/27/27-27a.txt'), problem27('./data/27data/27/27-27b.txt'))\n",
    "solutions[27]"
   ]
  },
  {
   "cell_type": "code",
   "execution_count": 71,
   "metadata": {},
   "outputs": [
    {
     "data": {
      "text/plain": [
       "'11828 41262097'"
      ]
     },
     "execution_count": 71,
     "metadata": {},
     "output_type": "execute_result"
    }
   ],
   "source": [
    "answers[27]"
   ]
  },
  {
   "cell_type": "code",
   "execution_count": 72,
   "metadata": {},
   "outputs": [],
   "source": [
    "# run_tests(problem27_bruteforce, problem27, input_generator27)"
   ]
  },
  {
   "cell_type": "markdown",
   "metadata": {},
   "source": [
    "## Задача 28"
   ]
  },
  {
   "cell_type": "markdown",
   "metadata": {},
   "source": [
    "Имеется набор данных, состоящий из пар положительных целых чисел. Необходимо выбрать из каждой пары ровно одно число так, чтобы восьмеричная запись суммы всех выбранных чисел НЕ оканчивалась на 2 и при этом была минимально возможной. Гарантируется, что искомую сумму получить можно. Программа должна напечатать одно число – минимально возможную сумму, соответствующую условиям задачи."
   ]
  },
  {
   "cell_type": "code",
   "execution_count": 73,
   "metadata": {},
   "outputs": [],
   "source": [
    "from itertools import combinations, product\n",
    "\n",
    "def problem28_bruteforce(path):\n",
    "    with open(path) as f:\n",
    "        n = int(f.readline())\n",
    "        a = list()\n",
    "        for _ in range(n):\n",
    "            pair = list(map(int, f.readline().split()))\n",
    "            a.append(pair)\n",
    "\n",
    "        result = None\n",
    "\n",
    "        # option - кортеж вида (i, x), где i - номер пары, x - 0 или 1, индекс элемента пары, который выбран в сумму\n",
    "        for option in list(product([0, 1], repeat=n)):\n",
    "            s = 0\n",
    "            for i, x in enumerate(option):\n",
    "                s += a[i][x]\n",
    "\n",
    "            if (s % 8) != 2 and (result == None or s < result):\n",
    "                result = s\n",
    "\n",
    "        return result\n",
    "\n",
    "def problem28(path):\n",
    "    with open(path) as f:\n",
    "        n = int(f.readline())\n",
    "        s = 0\n",
    "        infty = 10 ** 20\n",
    "        m = infty\n",
    "\n",
    "        for _ in range(n):\n",
    "            x, y = map(int, f.readline().split())\n",
    "            if x > y:\n",
    "                x, y = y, x\n",
    "            \n",
    "            s += x\n",
    "            d = y - x\n",
    "            \n",
    "            if d % 8 != 0:\n",
    "                m = min(m, d)\n",
    "\n",
    "        if (s % 8) != 2:\n",
    "            return s\n",
    "    \n",
    "        return s + m"
   ]
  },
  {
   "cell_type": "code",
   "execution_count": 74,
   "metadata": {},
   "outputs": [],
   "source": [
    "from random import randint\n",
    "\n",
    "def input_generator28(path):\n",
    "    with open(path, 'w+') as f:\n",
    "        n = 10\n",
    "        f.write(str(n) + '\\n')\n",
    "\n",
    "        for i in range(n):\n",
    "            f.write(str(randint(1, 100000)) + ' ' + str(randint(1, 100000)) + '\\n')"
   ]
  },
  {
   "cell_type": "code",
   "execution_count": 75,
   "metadata": {},
   "outputs": [
    {
     "name": "stdout",
     "output_type": "stream",
     "text": [
      "Testing in progress...\n"
     ]
    },
    {
     "name": "stderr",
     "output_type": "stream",
     "text": [
      "100%|██████████| 1000/1000 [00:04<00:00, 247.92it/s]"
     ]
    },
    {
     "name": "stdout",
     "output_type": "stream",
     "text": [
      "OK! All tests passed.\n"
     ]
    },
    {
     "name": "stderr",
     "output_type": "stream",
     "text": [
      "\n"
     ]
    }
   ],
   "source": [
    "run_tests(problem28_bruteforce, problem28, input_generator28)"
   ]
  },
  {
   "cell_type": "code",
   "execution_count": 76,
   "metadata": {},
   "outputs": [
    {
     "data": {
      "text/plain": [
       "'6756 19751921'"
      ]
     },
     "execution_count": 76,
     "metadata": {},
     "output_type": "execute_result"
    }
   ],
   "source": [
    "solutions[28] = '{} {}'.format(problem28('./data/27data/28/27-28a.txt'), problem28('./data/27data/28/27-28b.txt'))\n",
    "solutions[28]"
   ]
  },
  {
   "cell_type": "markdown",
   "metadata": {},
   "source": [
    "## Задача 30"
   ]
  },
  {
   "cell_type": "code",
   "execution_count": 77,
   "metadata": {},
   "outputs": [
    {
     "name": "stdout",
     "output_type": "stream",
     "text": [
      "Testing in progress...\n"
     ]
    },
    {
     "name": "stderr",
     "output_type": "stream",
     "text": [
      "100%|██████████| 1000/1000 [01:06<00:00, 14.98it/s]"
     ]
    },
    {
     "name": "stdout",
     "output_type": "stream",
     "text": [
      "OK! All tests passed.\n"
     ]
    },
    {
     "name": "stderr",
     "output_type": "stream",
     "text": [
      "\n"
     ]
    }
   ],
   "source": [
    "def problem30_bruteforce(path):\n",
    "    with open(path) as f:\n",
    "        n = int(f.readline())\n",
    "        data = list()\n",
    "\n",
    "        for i in range(n):\n",
    "            triplet = list(map(int, f.readline().split()))\n",
    "            data.append(triplet)\n",
    "\n",
    "        result = 10 ** 20\n",
    "        for option in product([0, 1, 2], repeat=n):\n",
    "            s = 0\n",
    "            for i in range(n):\n",
    "                s += data[i][option[i]]\n",
    "            \n",
    "            if s % 7 != 0:\n",
    "                result = min(result, s)\n",
    "\n",
    "        return result\n",
    "\n",
    "def problem30(path):\n",
    "    with open(path) as f:\n",
    "        n = int(f.readline())\n",
    "        s = 0\n",
    "        dMin = 10 ** 20\n",
    "\n",
    "        for i in range(n):\n",
    "            triplet = list(map(int, f.readline().split()))\n",
    "            triplet.sort()\n",
    "\n",
    "            s += triplet[0]\n",
    "            for j in [1, 2]:\n",
    "                d = triplet[j] - triplet[0]\n",
    "                r = d % 7\n",
    "                if r != 0:\n",
    "                    dMin = min(dMin, d)\n",
    "    \n",
    "        if s % 7 != 0:\n",
    "            return s\n",
    "        else:\n",
    "            return s + dMin\n",
    "\n",
    "run_tests(problem30_bruteforce, problem30, positive_triplet_generator)"
   ]
  },
  {
   "cell_type": "code",
   "execution_count": 78,
   "metadata": {},
   "outputs": [
    {
     "data": {
      "text/plain": [
       "'4913 15089332'"
      ]
     },
     "execution_count": 78,
     "metadata": {},
     "output_type": "execute_result"
    }
   ],
   "source": [
    "solutions[30] = '{} {}'.format(problem30('./data/27data/30/27-30a.txt'), problem30('./data/27data/30/27-30b.txt'))\n",
    "solutions[30]"
   ]
  },
  {
   "cell_type": "code",
   "execution_count": 79,
   "metadata": {},
   "outputs": [
    {
     "data": {
      "text/plain": [
       "'4913 15089332'"
      ]
     },
     "execution_count": 79,
     "metadata": {},
     "output_type": "execute_result"
    }
   ],
   "source": [
    "answers[30]"
   ]
  },
  {
   "cell_type": "markdown",
   "metadata": {},
   "source": [
    "## Задача 31"
   ]
  },
  {
   "cell_type": "code",
   "execution_count": 80,
   "metadata": {},
   "outputs": [
    {
     "data": {
      "text/plain": [
       "'15148 29466419'"
      ]
     },
     "execution_count": 80,
     "metadata": {},
     "output_type": "execute_result"
    }
   ],
   "source": [
    "from itertools import combinations, product\n",
    "\n",
    "def problem31_bruteforce(path):\n",
    "    with open(path) as f:\n",
    "        n = int(f.readline())\n",
    "        a = list()\n",
    "        for _ in range(n):\n",
    "            triplet = list(map(int, f.readline().split()))\n",
    "            a.append(triplet)\n",
    "\n",
    "        result = None\n",
    "        \n",
    "        index_combinations = list(combinations(range(3), 2))\n",
    "        for option in list(product(index_combinations, repeat=n)):\n",
    "            s = 0\n",
    "            for i, x in enumerate(option):\n",
    "                s += a[i][x]\n",
    "\n",
    "            if s % 9 != 0 and (result == None or s < result):\n",
    "                result = s\n",
    "\n",
    "        return result\n",
    "\n",
    "def problem31(path):\n",
    "    with open(path) as f:\n",
    "        n = int(f.readline())\n",
    "        s = 0\n",
    "\n",
    "        dMin = [10 ** 20] * 9\n",
    "        for _ in range(n):\n",
    "            triplet = list(map(int, f.readline().split()))\n",
    "            triplet.sort()\n",
    "            s += triplet[0] + triplet[1]\n",
    "\n",
    "            for i in range(2):\n",
    "                d = triplet[2] - triplet[i]\n",
    "                r = d % 9\n",
    "\n",
    "                if r > 0:\n",
    "                    dMin[r] = min(dMin[r], d)\n",
    "        \n",
    "        if s % 9 != 0:\n",
    "            return s\n",
    "\n",
    "        return s + min(dMin)\n",
    "\n",
    "solutions[31] = '{} {}'.format(problem31('./data/27data/31/27-31a.txt'), problem31('./data/27data/31/27-31b.txt'))\n",
    "solutions[31]"
   ]
  },
  {
   "cell_type": "code",
   "execution_count": 81,
   "metadata": {},
   "outputs": [
    {
     "data": {
      "text/plain": [
       "'15148 29466419'"
      ]
     },
     "execution_count": 81,
     "metadata": {},
     "output_type": "execute_result"
    }
   ],
   "source": [
    "answers[31]"
   ]
  },
  {
   "cell_type": "code",
   "execution_count": 82,
   "metadata": {},
   "outputs": [
    {
     "name": "stdout",
     "output_type": "stream",
     "text": [
      "Testing in progress...\n"
     ]
    },
    {
     "name": "stderr",
     "output_type": "stream",
     "text": [
      "  0%|          | 0/1000 [00:00<?, ?it/s]\n"
     ]
    },
    {
     "ename": "TypeError",
     "evalue": "list indices must be integers or slices, not tuple",
     "output_type": "error",
     "traceback": [
      "\u001b[1;31m---------------------------------------------------------------------------\u001b[0m",
      "\u001b[1;31mTypeError\u001b[0m                                 Traceback (most recent call last)",
      "\u001b[1;32m~\\AppData\\Local\\Temp/ipykernel_26848/3374500830.py\u001b[0m in \u001b[0;36m<module>\u001b[1;34m\u001b[0m\n\u001b[1;32m----> 1\u001b[1;33m \u001b[0mrun_tests\u001b[0m\u001b[1;33m(\u001b[0m\u001b[0mproblem31_bruteforce\u001b[0m\u001b[1;33m,\u001b[0m \u001b[0mproblem31\u001b[0m\u001b[1;33m,\u001b[0m \u001b[0mpositive_triplet_generator\u001b[0m\u001b[1;33m)\u001b[0m\u001b[1;33m\u001b[0m\u001b[1;33m\u001b[0m\u001b[0m\n\u001b[0m",
      "\u001b[1;32m~\\AppData\\Local\\Temp/ipykernel_26848/2490331922.py\u001b[0m in \u001b[0;36mrun_tests\u001b[1;34m(f_bruteforce, f, input_generator)\u001b[0m\n\u001b[0;32m     21\u001b[0m         \u001b[1;32mfor\u001b[0m \u001b[0mtest_id\u001b[0m \u001b[1;32min\u001b[0m \u001b[0mtqdm\u001b[0m\u001b[1;33m(\u001b[0m\u001b[0mrange\u001b[0m\u001b[1;33m(\u001b[0m\u001b[1;36m1\u001b[0m\u001b[1;33m,\u001b[0m \u001b[1;36m1000\u001b[0m\u001b[1;33m+\u001b[0m\u001b[1;36m1\u001b[0m\u001b[1;33m)\u001b[0m\u001b[1;33m)\u001b[0m\u001b[1;33m:\u001b[0m\u001b[1;33m\u001b[0m\u001b[1;33m\u001b[0m\u001b[0m\n\u001b[0;32m     22\u001b[0m             \u001b[0minput_generator\u001b[0m\u001b[1;33m(\u001b[0m\u001b[0mpath\u001b[0m\u001b[1;33m)\u001b[0m\u001b[1;33m\u001b[0m\u001b[1;33m\u001b[0m\u001b[0m\n\u001b[1;32m---> 23\u001b[1;33m             \u001b[0mexpected\u001b[0m \u001b[1;33m=\u001b[0m \u001b[0mf_bruteforce\u001b[0m\u001b[1;33m(\u001b[0m\u001b[0mpath\u001b[0m\u001b[1;33m)\u001b[0m\u001b[1;33m\u001b[0m\u001b[1;33m\u001b[0m\u001b[0m\n\u001b[0m\u001b[0;32m     24\u001b[0m             \u001b[0mactual\u001b[0m \u001b[1;33m=\u001b[0m \u001b[0mf\u001b[0m\u001b[1;33m(\u001b[0m\u001b[0mpath\u001b[0m\u001b[1;33m)\u001b[0m\u001b[1;33m\u001b[0m\u001b[1;33m\u001b[0m\u001b[0m\n\u001b[0;32m     25\u001b[0m \u001b[1;33m\u001b[0m\u001b[0m\n",
      "\u001b[1;32m~\\AppData\\Local\\Temp/ipykernel_26848/455136122.py\u001b[0m in \u001b[0;36mproblem31_bruteforce\u001b[1;34m(path)\u001b[0m\n\u001b[0;32m     15\u001b[0m             \u001b[0ms\u001b[0m \u001b[1;33m=\u001b[0m \u001b[1;36m0\u001b[0m\u001b[1;33m\u001b[0m\u001b[1;33m\u001b[0m\u001b[0m\n\u001b[0;32m     16\u001b[0m             \u001b[1;32mfor\u001b[0m \u001b[0mi\u001b[0m\u001b[1;33m,\u001b[0m \u001b[0mx\u001b[0m \u001b[1;32min\u001b[0m \u001b[0menumerate\u001b[0m\u001b[1;33m(\u001b[0m\u001b[0moption\u001b[0m\u001b[1;33m)\u001b[0m\u001b[1;33m:\u001b[0m\u001b[1;33m\u001b[0m\u001b[1;33m\u001b[0m\u001b[0m\n\u001b[1;32m---> 17\u001b[1;33m                 \u001b[0ms\u001b[0m \u001b[1;33m+=\u001b[0m \u001b[0ma\u001b[0m\u001b[1;33m[\u001b[0m\u001b[0mi\u001b[0m\u001b[1;33m]\u001b[0m\u001b[1;33m[\u001b[0m\u001b[0mx\u001b[0m\u001b[1;33m]\u001b[0m\u001b[1;33m\u001b[0m\u001b[1;33m\u001b[0m\u001b[0m\n\u001b[0m\u001b[0;32m     18\u001b[0m \u001b[1;33m\u001b[0m\u001b[0m\n\u001b[0;32m     19\u001b[0m             \u001b[1;32mif\u001b[0m \u001b[0ms\u001b[0m \u001b[1;33m%\u001b[0m \u001b[1;36m9\u001b[0m \u001b[1;33m!=\u001b[0m \u001b[1;36m0\u001b[0m \u001b[1;32mand\u001b[0m \u001b[1;33m(\u001b[0m\u001b[0mresult\u001b[0m \u001b[1;33m==\u001b[0m \u001b[1;32mNone\u001b[0m \u001b[1;32mor\u001b[0m \u001b[0ms\u001b[0m \u001b[1;33m<\u001b[0m \u001b[0mresult\u001b[0m\u001b[1;33m)\u001b[0m\u001b[1;33m:\u001b[0m\u001b[1;33m\u001b[0m\u001b[1;33m\u001b[0m\u001b[0m\n",
      "\u001b[1;31mTypeError\u001b[0m: list indices must be integers or slices, not tuple"
     ]
    }
   ],
   "source": [
    "# run_tests(problem31_bruteforce, problem31, positive_triplet_generator)"
   ]
  },
  {
   "cell_type": "markdown",
   "metadata": {},
   "source": [
    "## Задача 32"
   ]
  },
  {
   "cell_type": "code",
   "execution_count": null,
   "metadata": {},
   "outputs": [],
   "source": [
    "from itertools import combinations, product\n",
    "\n",
    "def problem32_bruteforce(path):\n",
    "    with open(path) as f:\n",
    "        n = int(f.readline())\n",
    "        a = list()\n",
    "        for _ in range(n):\n",
    "            triplet = list(map(int, f.readline().split()))\n",
    "            a.append(triplet)\n",
    "\n",
    "        result = None\n",
    "        \n",
    "        for option in list(product([0, 1, 2], repeat=n)):\n",
    "            s = 0\n",
    "            for i, x in enumerate(option):\n",
    "                s += a[i][x]\n",
    "\n",
    "            if s % 11 == 0 and (result == None or s < result):\n",
    "                result = s\n",
    "\n",
    "        return result\n",
    "\n",
    "def problem32(path):\n",
    "    with open(path) as f:\n",
    "        n = int(f.readline())\n",
    "        s = 0\n",
    "\n",
    "        m = [10 ** 20] * 11\n",
    "\n",
    "        for _ in range(n):\n",
    "            triplet = list(map(int, f.readline().split()))\n",
    "            triplet.sort()\n",
    "\n",
    "            s += triplet[0]\n",
    "            m_new = m.copy()\n",
    "\n",
    "            for i in [1, 2]:\n",
    "                d = triplet[i] - triplet[0]\n",
    "                r = d % 11\n",
    "                if r > 0:\n",
    "                    for k in range(1, 11):\n",
    "                        r0 = (r + k) % 11\n",
    "                        m_new[r0] = min(m[k] + d, m_new[r0])\n",
    "                    m_new[r] = min(m_new[r], d)\n",
    "            m = m_new.copy()\n",
    "\n",
    "        if s % 11 == 0:\n",
    "            return s\n",
    "\n",
    "        return s + m[11 - s % 11]"
   ]
  },
  {
   "cell_type": "code",
   "execution_count": null,
   "metadata": {},
   "outputs": [
    {
     "data": {
      "text/plain": [
       "'5896 14078757'"
      ]
     },
     "execution_count": 320,
     "metadata": {},
     "output_type": "execute_result"
    }
   ],
   "source": [
    "solutions[32] = '{} {}'.format(problem32('./data/27data/32/27-32a.txt'), problem32('./data/27data/32/27-32b.txt'))\n",
    "solutions[32]"
   ]
  },
  {
   "cell_type": "code",
   "execution_count": null,
   "metadata": {},
   "outputs": [],
   "source": [
    "from random import randint\n",
    "\n",
    "def input_generator32(path):\n",
    "    with open(path, 'w+') as f:\n",
    "        n = 10\n",
    "        f.write(str(n) + '\\n')\n",
    "\n",
    "        for i in range(n):\n",
    "            f.write(str(randint(1, 100000)) + ' ' + str(randint(1, 100000)) + ' ' + str(randint(1, 100000)) + '\\n')"
   ]
  },
  {
   "cell_type": "code",
   "execution_count": null,
   "metadata": {},
   "outputs": [
    {
     "name": "stdout",
     "output_type": "stream",
     "text": [
      "Tests are skipped. Set test_env variable to True in order to test.\n"
     ]
    }
   ],
   "source": [
    "run_tests(problem32_bruteforce, problem32, input_generator32)"
   ]
  },
  {
   "cell_type": "code",
   "execution_count": null,
   "metadata": {},
   "outputs": [
    {
     "data": {
      "text/plain": [
       "'5896 14078757'"
      ]
     },
     "execution_count": 323,
     "metadata": {},
     "output_type": "execute_result"
    }
   ],
   "source": [
    "answers[32]"
   ]
  },
  {
   "cell_type": "markdown",
   "metadata": {},
   "source": [
    "## Задача 34"
   ]
  },
  {
   "cell_type": "code",
   "execution_count": null,
   "metadata": {},
   "outputs": [],
   "source": [
    "from itertools import combinations, product\n",
    "\n",
    "def problem34_bruteforce(path):\n",
    "    with open(path) as f:\n",
    "        n = int(f.readline())\n",
    "        a = list()\n",
    "        for _ in range(n):\n",
    "            triplet = list(map(int, f.readline().split()))\n",
    "            a.append(triplet)\n",
    "\n",
    "        result = None\n",
    "        \n",
    "        index_combinations = list(combinations(range(3), 2))\n",
    "        for option in list(product(index_combinations, repeat=n)):\n",
    "            s = 0\n",
    "            for i, pair in enumerate(option):\n",
    "                s += a[i][pair[0]] + a[i][pair[1]]\n",
    "\n",
    "            if s % 6 == 0 and (result == None or s > result):\n",
    "                result = s\n",
    "\n",
    "        return result\n",
    "\n",
    "def problem34(path):\n",
    "    with open(path) as f:\n",
    "        n = int(f.readline())\n",
    "        s = 0\n",
    "\n",
    "        m = 10 ** 20\n",
    "\n",
    "        for _ in range(n):\n",
    "            a = list(map(int, f.readline().split()))\n",
    "            a.sort()\n",
    "\n",
    "            s += a[0] + a[1]\n",
    "\n",
    "            r = a[2] - a[1]\n",
    "\n",
    "            if r < m:\n",
    "                if r % 6 == 0:\n",
    "                    m = r\n",
    "                elif a[2] - a[0] and (a[2] - a[0]) % 6 == 0:\n",
    "                    m = a[2] - a[0]\n",
    "\n",
    "        if s % 6 == 0:\n",
    "            return s\n",
    "\n",
    "        return s - r"
   ]
  },
  {
   "cell_type": "code",
   "execution_count": null,
   "metadata": {},
   "outputs": [],
   "source": [
    "from random import randint\n",
    "\n",
    "def input_generator34(path):\n",
    "    with open(path, 'w+') as f:\n",
    "        n = 10\n",
    "        f.write(str(n) + '\\n')\n",
    "\n",
    "        for i in range(n):\n",
    "            f.write(str(randint(1, 100000)) + ' ' + str(randint(1, 100000)) + ' ' + str(randint(1, 100000)) + '\\n')"
   ]
  },
  {
   "cell_type": "code",
   "execution_count": null,
   "metadata": {},
   "outputs": [
    {
     "name": "stdout",
     "output_type": "stream",
     "text": [
      "Tests are skipped. Set test_env variable to True in order to test.\n"
     ]
    }
   ],
   "source": [
    "run_tests(problem34_bruteforce, problem34, input_generator34)"
   ]
  },
  {
   "cell_type": "code",
   "execution_count": null,
   "metadata": {},
   "outputs": [
    {
     "data": {
      "text/plain": [
       "'9572 30227092'"
      ]
     },
     "execution_count": 327,
     "metadata": {},
     "output_type": "execute_result"
    }
   ],
   "source": [
    "solutions[34] = '{} {}'.format(problem34('./data/27data/34/27-34a.txt'), problem34('./data/27data/34/27-34b.txt'))\n",
    "solutions[34]"
   ]
  },
  {
   "cell_type": "code",
   "execution_count": null,
   "metadata": {},
   "outputs": [
    {
     "data": {
      "text/plain": [
       "'9750 30227250'"
      ]
     },
     "execution_count": 328,
     "metadata": {},
     "output_type": "execute_result"
    }
   ],
   "source": [
    "answers[34]"
   ]
  },
  {
   "cell_type": "markdown",
   "metadata": {},
   "source": [
    "## Задача 35"
   ]
  },
  {
   "cell_type": "code",
   "execution_count": null,
   "metadata": {},
   "outputs": [
    {
     "data": {
      "text/plain": [
       "'51 24019058'"
      ]
     },
     "execution_count": 329,
     "metadata": {},
     "output_type": "execute_result"
    }
   ],
   "source": [
    "def problem35_bruteforce(path):\n",
    "    with open(path) as f:\n",
    "        n = int(f.readline())\n",
    "        a = list()\n",
    "        for i in range(n):\n",
    "            a.append(int(f.readline()))\n",
    "        \n",
    "        answer = 0\n",
    "        for l in range(n):\n",
    "            for r in range(l+1, n):\n",
    "                if a[l] > 0 and a[r] > 0 and (a[l] + a[r]) % 2 == 0 and 0 in a[l+1:r]:\n",
    "                    answer += 1\n",
    "\n",
    "        return answer\n",
    "\n",
    "def problem35(path):\n",
    "    with open(path) as f:\n",
    "        n = int(f.readline())\n",
    "        z = -1 # позиция ближайшего слева нуля к i-му элементу\n",
    "        c1 = 0 # количество положительных нечетных элементов до текущего z-го\n",
    "        c2 = 0 # количество положительных четных элементов до текущего z-го\n",
    "\n",
    "        r1 = 0\n",
    "        r2 = 0\n",
    "        answer = 0\n",
    "\n",
    "        for i in range(n):\n",
    "            x = int(f.readline())\n",
    "            if x == 0:\n",
    "                z = i\n",
    "                c1 += r1\n",
    "                c2 += r2\n",
    "                r1 = 0\n",
    "                r2 = 0\n",
    "            elif x > 0:\n",
    "                if x % 2 == 0:\n",
    "                    answer += c2\n",
    "                    r2 += 1\n",
    "                else:\n",
    "                    answer += c1\n",
    "                    r1 += 1\n",
    "\n",
    "\n",
    "        return answer\n",
    "\n",
    "\n",
    "solutions[35] = '{} {}'.format(problem35_bruteforce('./data/27data/35/27-35a.txt'), problem35('./data/27data/35/27-35b.txt'))\n",
    "solutions[35]"
   ]
  },
  {
   "cell_type": "code",
   "execution_count": null,
   "metadata": {},
   "outputs": [
    {
     "data": {
      "text/plain": [
       "'51 24019058'"
      ]
     },
     "execution_count": 330,
     "metadata": {},
     "output_type": "execute_result"
    }
   ],
   "source": [
    "answers[35]"
   ]
  },
  {
   "cell_type": "code",
   "execution_count": null,
   "metadata": {},
   "outputs": [],
   "source": [
    "from random import randint\n",
    "\n",
    "def input_generator35(path):\n",
    "    with open(path, 'w+') as f:\n",
    "        n = 10\n",
    "        f.write(str(n) + '\\n')\n",
    "\n",
    "        for i in range(n):\n",
    "            f.write(str(randint(0, 100000)) + '\\n')"
   ]
  },
  {
   "cell_type": "code",
   "execution_count": null,
   "metadata": {},
   "outputs": [
    {
     "name": "stdout",
     "output_type": "stream",
     "text": [
      "Tests are skipped. Set test_env variable to True in order to test.\n"
     ]
    }
   ],
   "source": [
    "run_tests(problem35_bruteforce, problem35, input_generator35)"
   ]
  },
  {
   "cell_type": "markdown",
   "metadata": {},
   "source": [
    "## Задача 36"
   ]
  },
  {
   "cell_type": "code",
   "execution_count": 58,
   "metadata": {},
   "outputs": [
    {
     "data": {
      "text/plain": [
       "'500 2301880'"
      ]
     },
     "execution_count": 58,
     "metadata": {},
     "output_type": "execute_result"
    }
   ],
   "source": [
    "from itertools import combinations, product\n",
    "\n",
    "def gcd(a, b):\n",
    "    if b == 0:\n",
    "        return a\n",
    "\n",
    "    return gcd(b, a % b)\n",
    "\n",
    "def problem36_bruteforce(path):\n",
    "    with open(path) as f:\n",
    "        n = int(f.readline())\n",
    "        a = list()\n",
    "        for _ in range(n):\n",
    "            triplet = list(map(int, f.readline().split()))\n",
    "            a.append(triplet)\n",
    "\n",
    "        result = 0\n",
    "        index_combinations = list(combinations(range(3), 2))\n",
    "        for option in list(product(index_combinations, repeat=n)):\n",
    "            s = 0\n",
    "            for i, pair in enumerate(option):\n",
    "                x = gcd(a[i][pair[0]], a[i][pair[1]])\n",
    "                s += x\n",
    "\n",
    "            if s % 10 == 0 and s > result:\n",
    "                result = s\n",
    "\n",
    "        return result\n",
    "\n",
    "def problem36(path):\n",
    "    with open(path) as f:\n",
    "        n = int(f.readline())\n",
    "        s = 0\n",
    "\n",
    "        dMin = [10 ** 20] * 10\n",
    "        for i in range(n):\n",
    "            triplet = list(map(int, f.readline().split()))\n",
    "\n",
    "            max_gcd = 0\n",
    "            j = 0\n",
    "\n",
    "            for j1, j2 in combinations(range(3), 2):\n",
    "                g = gcd(triplet[j1], triplet[j2])\n",
    "                if g > max_gcd:\n",
    "                    max_gcd = g\n",
    "                    j = 3 - j1 - j2\n",
    "\n",
    "                s += max_gcd\n",
    "\n",
    "                for k1, k2 in [(j, j1), (j, j2)]:\n",
    "                    dMinNew = dMin.copy()\n",
    "                    d = gcd(triplet[k1], triplet[k2]) - max_gcd\n",
    "                    r = d % 10\n",
    "                    if r > 0:\n",
    "                        # dMinNew = dMin.copy()\n",
    "                        for k in range(1, 10):\n",
    "                            r0 = (r + k) % 10\n",
    "                            dMinNew[r0] = min(dMinNew[r0], dMin[k] + d)\n",
    "\n",
    "                        dMinNew[r] = min(dMinNew[r], d)\n",
    "                        # dMin = dMinNew.copy()\n",
    "\n",
    "                    dMin = dMinNew.copy()\n",
    "\n",
    "        if s % 10 == 0:\n",
    "            return s\n",
    "        \n",
    "        return s - dMin[s % 10]\n",
    "\n",
    "solutions[36] = '{} {}'.format(problem36('./data/27data/36/27-36a.txt'), problem36('./data/27data/36/27-36b.txt'))\n",
    "solutions[36]"
   ]
  },
  {
   "cell_type": "code",
   "execution_count": null,
   "metadata": {},
   "outputs": [
    {
     "data": {
      "text/plain": [
       "'110 519880'"
      ]
     },
     "execution_count": 334,
     "metadata": {},
     "output_type": "execute_result"
    }
   ],
   "source": [
    "answers[36]"
   ]
  },
  {
   "cell_type": "code",
   "execution_count": null,
   "metadata": {},
   "outputs": [],
   "source": [
    "from random import randint\n",
    "\n",
    "def input_generator36(path):\n",
    "    with open(path, 'w+') as f:\n",
    "        n = 10\n",
    "        f.write(str(n) + '\\n')\n",
    "\n",
    "        for i in range(n):\n",
    "            f.write(str(randint(0, 100000)) + '\\n')"
   ]
  },
  {
   "cell_type": "code",
   "execution_count": 59,
   "metadata": {},
   "outputs": [
    {
     "name": "stdout",
     "output_type": "stream",
     "text": [
      "Testing in progress...\n"
     ]
    },
    {
     "name": "stderr",
     "output_type": "stream",
     "text": [
      "  0%|          | 1/1000 [00:00<12:40,  1.31it/s]"
     ]
    },
    {
     "name": "stdout",
     "output_type": "stream",
     "text": [
      "Test 1 failed. Expected 70, actual 190\n"
     ]
    },
    {
     "name": "stderr",
     "output_type": "stream",
     "text": [
      "  0%|          | 2/1000 [00:01<12:04,  1.38it/s]"
     ]
    },
    {
     "name": "stdout",
     "output_type": "stream",
     "text": [
      "Test 2 failed. Expected 350, actual 1030\n"
     ]
    },
    {
     "name": "stderr",
     "output_type": "stream",
     "text": [
      "  0%|          | 3/1000 [00:02<11:51,  1.40it/s]"
     ]
    },
    {
     "name": "stdout",
     "output_type": "stream",
     "text": [
      "Test 3 failed. Expected 60, actual 260\n"
     ]
    },
    {
     "name": "stderr",
     "output_type": "stream",
     "text": [
      "  0%|          | 4/1000 [00:02<12:01,  1.38it/s]"
     ]
    },
    {
     "name": "stdout",
     "output_type": "stream",
     "text": [
      "Test 4 failed. Expected 20, actual 90\n"
     ]
    },
    {
     "name": "stderr",
     "output_type": "stream",
     "text": [
      "  0%|          | 5/1000 [00:03<11:41,  1.42it/s]"
     ]
    },
    {
     "name": "stdout",
     "output_type": "stream",
     "text": [
      "Test 5 failed. Expected 80, actual 360\n"
     ]
    },
    {
     "name": "stderr",
     "output_type": "stream",
     "text": [
      "  0%|          | 5/1000 [00:03<12:47,  1.30it/s]\n"
     ]
    },
    {
     "ename": "KeyboardInterrupt",
     "evalue": "",
     "output_type": "error",
     "traceback": [
      "\u001b[1;31m---------------------------------------------------------------------------\u001b[0m",
      "\u001b[1;31mKeyboardInterrupt\u001b[0m                         Traceback (most recent call last)",
      "\u001b[1;32m~\\AppData\\Local\\Temp/ipykernel_17600/4042509741.py\u001b[0m in \u001b[0;36m<module>\u001b[1;34m\u001b[0m\n\u001b[1;32m----> 1\u001b[1;33m \u001b[0mrun_tests\u001b[0m\u001b[1;33m(\u001b[0m\u001b[0mproblem36_bruteforce\u001b[0m\u001b[1;33m,\u001b[0m \u001b[0mproblem36\u001b[0m\u001b[1;33m,\u001b[0m \u001b[0mpositive_triplet_generator\u001b[0m\u001b[1;33m)\u001b[0m\u001b[1;33m\u001b[0m\u001b[1;33m\u001b[0m\u001b[0m\n\u001b[0m",
      "\u001b[1;32m~\\AppData\\Local\\Temp/ipykernel_17600/2490331922.py\u001b[0m in \u001b[0;36mrun_tests\u001b[1;34m(f_bruteforce, f, input_generator)\u001b[0m\n\u001b[0;32m     21\u001b[0m         \u001b[1;32mfor\u001b[0m \u001b[0mtest_id\u001b[0m \u001b[1;32min\u001b[0m \u001b[0mtqdm\u001b[0m\u001b[1;33m(\u001b[0m\u001b[0mrange\u001b[0m\u001b[1;33m(\u001b[0m\u001b[1;36m1\u001b[0m\u001b[1;33m,\u001b[0m \u001b[1;36m1000\u001b[0m\u001b[1;33m+\u001b[0m\u001b[1;36m1\u001b[0m\u001b[1;33m)\u001b[0m\u001b[1;33m)\u001b[0m\u001b[1;33m:\u001b[0m\u001b[1;33m\u001b[0m\u001b[1;33m\u001b[0m\u001b[0m\n\u001b[0;32m     22\u001b[0m             \u001b[0minput_generator\u001b[0m\u001b[1;33m(\u001b[0m\u001b[0mpath\u001b[0m\u001b[1;33m)\u001b[0m\u001b[1;33m\u001b[0m\u001b[1;33m\u001b[0m\u001b[0m\n\u001b[1;32m---> 23\u001b[1;33m             \u001b[0mexpected\u001b[0m \u001b[1;33m=\u001b[0m \u001b[0mf_bruteforce\u001b[0m\u001b[1;33m(\u001b[0m\u001b[0mpath\u001b[0m\u001b[1;33m)\u001b[0m\u001b[1;33m\u001b[0m\u001b[1;33m\u001b[0m\u001b[0m\n\u001b[0m\u001b[0;32m     24\u001b[0m             \u001b[0mactual\u001b[0m \u001b[1;33m=\u001b[0m \u001b[0mf\u001b[0m\u001b[1;33m(\u001b[0m\u001b[0mpath\u001b[0m\u001b[1;33m)\u001b[0m\u001b[1;33m\u001b[0m\u001b[1;33m\u001b[0m\u001b[0m\n\u001b[0;32m     25\u001b[0m \u001b[1;33m\u001b[0m\u001b[0m\n",
      "\u001b[1;32m~\\AppData\\Local\\Temp/ipykernel_17600/3844874079.py\u001b[0m in \u001b[0;36mproblem36_bruteforce\u001b[1;34m(path)\u001b[0m\n\u001b[0;32m     20\u001b[0m             \u001b[0ms\u001b[0m \u001b[1;33m=\u001b[0m \u001b[1;36m0\u001b[0m\u001b[1;33m\u001b[0m\u001b[1;33m\u001b[0m\u001b[0m\n\u001b[0;32m     21\u001b[0m             \u001b[1;32mfor\u001b[0m \u001b[0mi\u001b[0m\u001b[1;33m,\u001b[0m \u001b[0mpair\u001b[0m \u001b[1;32min\u001b[0m \u001b[0menumerate\u001b[0m\u001b[1;33m(\u001b[0m\u001b[0moption\u001b[0m\u001b[1;33m)\u001b[0m\u001b[1;33m:\u001b[0m\u001b[1;33m\u001b[0m\u001b[1;33m\u001b[0m\u001b[0m\n\u001b[1;32m---> 22\u001b[1;33m                 \u001b[0mx\u001b[0m \u001b[1;33m=\u001b[0m \u001b[0mgcd\u001b[0m\u001b[1;33m(\u001b[0m\u001b[0ma\u001b[0m\u001b[1;33m[\u001b[0m\u001b[0mi\u001b[0m\u001b[1;33m]\u001b[0m\u001b[1;33m[\u001b[0m\u001b[0mpair\u001b[0m\u001b[1;33m[\u001b[0m\u001b[1;36m0\u001b[0m\u001b[1;33m]\u001b[0m\u001b[1;33m]\u001b[0m\u001b[1;33m,\u001b[0m \u001b[0ma\u001b[0m\u001b[1;33m[\u001b[0m\u001b[0mi\u001b[0m\u001b[1;33m]\u001b[0m\u001b[1;33m[\u001b[0m\u001b[0mpair\u001b[0m\u001b[1;33m[\u001b[0m\u001b[1;36m1\u001b[0m\u001b[1;33m]\u001b[0m\u001b[1;33m]\u001b[0m\u001b[1;33m)\u001b[0m\u001b[1;33m\u001b[0m\u001b[1;33m\u001b[0m\u001b[0m\n\u001b[0m\u001b[0;32m     23\u001b[0m                 \u001b[0ms\u001b[0m \u001b[1;33m+=\u001b[0m \u001b[0mx\u001b[0m\u001b[1;33m\u001b[0m\u001b[1;33m\u001b[0m\u001b[0m\n\u001b[0;32m     24\u001b[0m \u001b[1;33m\u001b[0m\u001b[0m\n",
      "\u001b[1;32m~\\AppData\\Local\\Temp/ipykernel_17600/3844874079.py\u001b[0m in \u001b[0;36mgcd\u001b[1;34m(a, b)\u001b[0m\n\u001b[0;32m      5\u001b[0m         \u001b[1;32mreturn\u001b[0m \u001b[0ma\u001b[0m\u001b[1;33m\u001b[0m\u001b[1;33m\u001b[0m\u001b[0m\n\u001b[0;32m      6\u001b[0m \u001b[1;33m\u001b[0m\u001b[0m\n\u001b[1;32m----> 7\u001b[1;33m     \u001b[1;32mreturn\u001b[0m \u001b[0mgcd\u001b[0m\u001b[1;33m(\u001b[0m\u001b[0mb\u001b[0m\u001b[1;33m,\u001b[0m \u001b[0ma\u001b[0m \u001b[1;33m%\u001b[0m \u001b[0mb\u001b[0m\u001b[1;33m)\u001b[0m\u001b[1;33m\u001b[0m\u001b[1;33m\u001b[0m\u001b[0m\n\u001b[0m\u001b[0;32m      8\u001b[0m \u001b[1;33m\u001b[0m\u001b[0m\n\u001b[0;32m      9\u001b[0m \u001b[1;32mdef\u001b[0m \u001b[0mproblem36_bruteforce\u001b[0m\u001b[1;33m(\u001b[0m\u001b[0mpath\u001b[0m\u001b[1;33m)\u001b[0m\u001b[1;33m:\u001b[0m\u001b[1;33m\u001b[0m\u001b[1;33m\u001b[0m\u001b[0m\n",
      "\u001b[1;32m~\\AppData\\Local\\Temp/ipykernel_17600/3844874079.py\u001b[0m in \u001b[0;36mgcd\u001b[1;34m(a, b)\u001b[0m\n\u001b[0;32m      5\u001b[0m         \u001b[1;32mreturn\u001b[0m \u001b[0ma\u001b[0m\u001b[1;33m\u001b[0m\u001b[1;33m\u001b[0m\u001b[0m\n\u001b[0;32m      6\u001b[0m \u001b[1;33m\u001b[0m\u001b[0m\n\u001b[1;32m----> 7\u001b[1;33m     \u001b[1;32mreturn\u001b[0m \u001b[0mgcd\u001b[0m\u001b[1;33m(\u001b[0m\u001b[0mb\u001b[0m\u001b[1;33m,\u001b[0m \u001b[0ma\u001b[0m \u001b[1;33m%\u001b[0m \u001b[0mb\u001b[0m\u001b[1;33m)\u001b[0m\u001b[1;33m\u001b[0m\u001b[1;33m\u001b[0m\u001b[0m\n\u001b[0m\u001b[0;32m      8\u001b[0m \u001b[1;33m\u001b[0m\u001b[0m\n\u001b[0;32m      9\u001b[0m \u001b[1;32mdef\u001b[0m \u001b[0mproblem36_bruteforce\u001b[0m\u001b[1;33m(\u001b[0m\u001b[0mpath\u001b[0m\u001b[1;33m)\u001b[0m\u001b[1;33m:\u001b[0m\u001b[1;33m\u001b[0m\u001b[1;33m\u001b[0m\u001b[0m\n",
      "\u001b[1;32m~\\AppData\\Local\\Temp/ipykernel_17600/3844874079.py\u001b[0m in \u001b[0;36mgcd\u001b[1;34m(a, b)\u001b[0m\n\u001b[0;32m      5\u001b[0m         \u001b[1;32mreturn\u001b[0m \u001b[0ma\u001b[0m\u001b[1;33m\u001b[0m\u001b[1;33m\u001b[0m\u001b[0m\n\u001b[0;32m      6\u001b[0m \u001b[1;33m\u001b[0m\u001b[0m\n\u001b[1;32m----> 7\u001b[1;33m     \u001b[1;32mreturn\u001b[0m \u001b[0mgcd\u001b[0m\u001b[1;33m(\u001b[0m\u001b[0mb\u001b[0m\u001b[1;33m,\u001b[0m \u001b[0ma\u001b[0m \u001b[1;33m%\u001b[0m \u001b[0mb\u001b[0m\u001b[1;33m)\u001b[0m\u001b[1;33m\u001b[0m\u001b[1;33m\u001b[0m\u001b[0m\n\u001b[0m\u001b[0;32m      8\u001b[0m \u001b[1;33m\u001b[0m\u001b[0m\n\u001b[0;32m      9\u001b[0m \u001b[1;32mdef\u001b[0m \u001b[0mproblem36_bruteforce\u001b[0m\u001b[1;33m(\u001b[0m\u001b[0mpath\u001b[0m\u001b[1;33m)\u001b[0m\u001b[1;33m:\u001b[0m\u001b[1;33m\u001b[0m\u001b[1;33m\u001b[0m\u001b[0m\n",
      "\u001b[1;32m~\\AppData\\Local\\Temp/ipykernel_17600/3844874079.py\u001b[0m in \u001b[0;36mgcd\u001b[1;34m(a, b)\u001b[0m\n\u001b[0;32m      5\u001b[0m         \u001b[1;32mreturn\u001b[0m \u001b[0ma\u001b[0m\u001b[1;33m\u001b[0m\u001b[1;33m\u001b[0m\u001b[0m\n\u001b[0;32m      6\u001b[0m \u001b[1;33m\u001b[0m\u001b[0m\n\u001b[1;32m----> 7\u001b[1;33m     \u001b[1;32mreturn\u001b[0m \u001b[0mgcd\u001b[0m\u001b[1;33m(\u001b[0m\u001b[0mb\u001b[0m\u001b[1;33m,\u001b[0m \u001b[0ma\u001b[0m \u001b[1;33m%\u001b[0m \u001b[0mb\u001b[0m\u001b[1;33m)\u001b[0m\u001b[1;33m\u001b[0m\u001b[1;33m\u001b[0m\u001b[0m\n\u001b[0m\u001b[0;32m      8\u001b[0m \u001b[1;33m\u001b[0m\u001b[0m\n\u001b[0;32m      9\u001b[0m \u001b[1;32mdef\u001b[0m \u001b[0mproblem36_bruteforce\u001b[0m\u001b[1;33m(\u001b[0m\u001b[0mpath\u001b[0m\u001b[1;33m)\u001b[0m\u001b[1;33m:\u001b[0m\u001b[1;33m\u001b[0m\u001b[1;33m\u001b[0m\u001b[0m\n",
      "\u001b[1;32m~\\AppData\\Local\\Temp/ipykernel_17600/3844874079.py\u001b[0m in \u001b[0;36mgcd\u001b[1;34m(a, b)\u001b[0m\n\u001b[0;32m      5\u001b[0m         \u001b[1;32mreturn\u001b[0m \u001b[0ma\u001b[0m\u001b[1;33m\u001b[0m\u001b[1;33m\u001b[0m\u001b[0m\n\u001b[0;32m      6\u001b[0m \u001b[1;33m\u001b[0m\u001b[0m\n\u001b[1;32m----> 7\u001b[1;33m     \u001b[1;32mreturn\u001b[0m \u001b[0mgcd\u001b[0m\u001b[1;33m(\u001b[0m\u001b[0mb\u001b[0m\u001b[1;33m,\u001b[0m \u001b[0ma\u001b[0m \u001b[1;33m%\u001b[0m \u001b[0mb\u001b[0m\u001b[1;33m)\u001b[0m\u001b[1;33m\u001b[0m\u001b[1;33m\u001b[0m\u001b[0m\n\u001b[0m\u001b[0;32m      8\u001b[0m \u001b[1;33m\u001b[0m\u001b[0m\n\u001b[0;32m      9\u001b[0m \u001b[1;32mdef\u001b[0m \u001b[0mproblem36_bruteforce\u001b[0m\u001b[1;33m(\u001b[0m\u001b[0mpath\u001b[0m\u001b[1;33m)\u001b[0m\u001b[1;33m:\u001b[0m\u001b[1;33m\u001b[0m\u001b[1;33m\u001b[0m\u001b[0m\n",
      "\u001b[1;31mKeyboardInterrupt\u001b[0m: "
     ]
    }
   ],
   "source": [
    "run_tests(problem36_bruteforce, problem36, positive_triplet_generator)"
   ]
  },
  {
   "cell_type": "markdown",
   "metadata": {},
   "source": [
    "## Задача 40"
   ]
  },
  {
   "cell_type": "markdown",
   "metadata": {},
   "source": [
    "Дана последовательность, которая состоит из троек натуральных чисел. Необходимо распределить все числа на три группы, при этом в каждую группу должно попасть ровно одно число из каждой исходной тройки. Сумма всех чисел в первой группе должна быть нечётной, во второй – чётной. Определите максимально возможную сумму всех чисел в третьей группе."
   ]
  },
  {
   "cell_type": "code",
   "execution_count": 59,
   "metadata": {},
   "outputs": [
    {
     "data": {
      "text/plain": [
       "'621 103914584'"
      ]
     },
     "execution_count": 59,
     "metadata": {},
     "output_type": "execute_result"
    }
   ],
   "source": [
    "from itertools import product, permutations\n",
    "\n",
    "def problem40_bruteforce(path):\n",
    "    with open(path) as f:\n",
    "        n = int(f.readline())\n",
    "        a = list()\n",
    "        for _ in range(n):\n",
    "            triplet = list(map(int, f.readline().split()))\n",
    "            a.append(triplet)\n",
    "\n",
    "        result = 0\n",
    "\n",
    "        # option - список кортежей размера n кортежей размера 3 вида (i1, i2, i3)\n",
    "        for option in list(product(permutations([0, 1, 2]), repeat = n)):\n",
    "            s = [0, 0, 0]\n",
    "            for i, x in enumerate(option):\n",
    "                s[0] += a[i][x[0]]\n",
    "                s[1] += a[i][x[1]]\n",
    "                s[2] += a[i][x[2]]\n",
    "\n",
    "            odds = []\n",
    "            evens = []\n",
    "\n",
    "            for item in s:\n",
    "                if item % 2 == 0:\n",
    "                    evens.append(item)\n",
    "                else:\n",
    "                    odds.append(item)\n",
    "\n",
    "            if len(odds) > 1 and len(evens) > 0:\n",
    "                result = max(result, max(odds))\n",
    "            elif len(evens) > 1 and len(odds) > 0:\n",
    "                result = max(result, max(evens))\n",
    "\n",
    "        return result\n",
    "\n",
    "def problem40(path):\n",
    "    with open(path) as f:\n",
    "        n = int(f.readline())\n",
    "        s = [0, 0, 0]\n",
    "        \n",
    "        infty = 10 ** 20\n",
    "        dMin = infty\n",
    "\n",
    "        for _ in range(n):\n",
    "            triplet = list(map(int, f.readline().split()))\n",
    "            triplet.sort()\n",
    "\n",
    "            for j in range(3):\n",
    "                s[j] += triplet[j]\n",
    "\n",
    "            for j in range(2):\n",
    "                d = triplet[2] - triplet[j]\n",
    "                if d % 2 == 1:\n",
    "                    dMin = min(dMin, d)\n",
    "            \n",
    "        if s[0] % 2 != s[1] % 2:\n",
    "            return s[2]\n",
    "\n",
    "        if dMin < infty:\n",
    "            return s[2] - dMin\n",
    "\n",
    "        return 0\n",
    "        \n",
    "solutions[40] = '{} {}'.format(problem40('./data/27data/40/27-40a.txt'), problem40('./data/27data/40/27-40b.txt'))\n",
    "solutions[40]"
   ]
  },
  {
   "cell_type": "code",
   "execution_count": 21,
   "metadata": {},
   "outputs": [
    {
     "data": {
      "text/plain": [
       "'621 103914584'"
      ]
     },
     "execution_count": 21,
     "metadata": {},
     "output_type": "execute_result"
    }
   ],
   "source": [
    "answers[40]"
   ]
  },
  {
   "cell_type": "code",
   "execution_count": 60,
   "metadata": {},
   "outputs": [
    {
     "name": "stdout",
     "output_type": "stream",
     "text": [
      "Testing in progress...\n"
     ]
    },
    {
     "name": "stderr",
     "output_type": "stream",
     "text": [
      "100%|██████████| 1000/1000 [00:24<00:00, 40.22it/s]"
     ]
    },
    {
     "name": "stdout",
     "output_type": "stream",
     "text": [
      "OK! All tests passed.\n"
     ]
    },
    {
     "name": "stderr",
     "output_type": "stream",
     "text": [
      "\n"
     ]
    }
   ],
   "source": [
    "run_tests(problem40_bruteforce, problem40, positive_triplet_generator)"
   ]
  },
  {
   "cell_type": "markdown",
   "metadata": {},
   "source": [
    "## Задача 44"
   ]
  },
  {
   "cell_type": "markdown",
   "metadata": {},
   "source": [
    "Дана последовательность, которая состоит из троек натуральных чисел. Необходимо распределить все числа на три группы, при этом в каждую группу должно попасть ровно одно число из каждой исходной тройки. Сумма всех чисел как в первой, так и во второй группе должна быть нечётной. Определите максимально возможную сумму всех чисел в третьей группе."
   ]
  },
  {
   "cell_type": "code",
   "execution_count": 74,
   "metadata": {},
   "outputs": [
    {
     "data": {
      "text/plain": [
       "'2996 454694482'"
      ]
     },
     "execution_count": 74,
     "metadata": {},
     "output_type": "execute_result"
    }
   ],
   "source": [
    "from itertools import product, permutations\n",
    "\n",
    "def problem44_bruteforce(path):\n",
    "    with open(path) as f:\n",
    "        n = int(f.readline())\n",
    "        a = list()\n",
    "        for _ in range(n):\n",
    "            triplet = list(map(int, f.readline().split()))\n",
    "            a.append(triplet)\n",
    "\n",
    "        result = 0\n",
    "\n",
    "        # option - список кортежей размера n кортежей размера 3 вида (i1, i2, i3)\n",
    "        for option in list(product(permutations([0, 1, 2]), repeat = n)):\n",
    "            s = [0, 0, 0]\n",
    "            for i, x in enumerate(option):\n",
    "                s[0] += a[i][x[0]]\n",
    "                s[1] += a[i][x[1]]\n",
    "                s[2] += a[i][x[2]]\n",
    "\n",
    "            odds = []\n",
    "            evens = []\n",
    "\n",
    "            for item in s:\n",
    "                if item % 2 == 0:\n",
    "                    evens.append(item)\n",
    "                else:\n",
    "                    odds.append(item)\n",
    "\n",
    "            if len(odds) == 3:\n",
    "                result = max(result, max(odds))\n",
    "            elif len(odds) == 2:\n",
    "                result = max(result, max(evens))\n",
    "\n",
    "        return result\n",
    "\n",
    "def problem44(path):\n",
    "    with open(path) as f:\n",
    "        n = int(f.readline())\n",
    "        s = [0, 0, 0]\n",
    "        \n",
    "        infty = 10 ** 20\n",
    "        dMin1 = infty\n",
    "        dMin2 = infty\n",
    "\n",
    "        for _ in range(n):\n",
    "            triplet = list(map(int, f.readline().split()))\n",
    "            triplet.sort()\n",
    "\n",
    "            for j in range(3):\n",
    "                s[j] += triplet[j]\n",
    "\n",
    "            for j in range(2):\n",
    "                d = triplet[2] - triplet[j]\n",
    "                if d % 2 == 1:\n",
    "                    if d < dMin1:\n",
    "                        dMin2 = dMin1\n",
    "                        dMin1 = d\n",
    "                    elif d < dMin2:\n",
    "                        dMin2 = d\n",
    "            \n",
    "        if s[0] % 2 == 1 and s[1] % 2 == 1:\n",
    "            return s[2]\n",
    "\n",
    "        result = s[2]\n",
    "        # if dMin1 == infty:\n",
    "        #     return 0\n",
    "\n",
    "        if s[0] % 2 == 0:\n",
    "            result -= dMin1\n",
    "\n",
    "        if s[1] % 2 == 0:\n",
    "            result -= dMin2\n",
    "\n",
    "        return result\n",
    "        \n",
    "solutions[44] = '{} {}'.format(problem44('./data/27data/44/27-44a.txt'), problem44('./data/27data/44/27-44b.txt'))\n",
    "solutions[44]"
   ]
  },
  {
   "cell_type": "code",
   "execution_count": 62,
   "metadata": {},
   "outputs": [
    {
     "data": {
      "text/plain": [
       "'2996 454694482'"
      ]
     },
     "execution_count": 62,
     "metadata": {},
     "output_type": "execute_result"
    }
   ],
   "source": [
    "answers[44]"
   ]
  },
  {
   "cell_type": "code",
   "execution_count": 76,
   "metadata": {},
   "outputs": [
    {
     "name": "stdout",
     "output_type": "stream",
     "text": [
      "Testing in progress...\n"
     ]
    },
    {
     "name": "stderr",
     "output_type": "stream",
     "text": [
      "  0%|          | 5/1000 [00:00<00:22, 45.04it/s]"
     ]
    },
    {
     "name": "stdout",
     "output_type": "stream",
     "text": [
      "Test 4 failed. Expected 0, actual 302027\n",
      "Test 5 failed. Expected 355070, actual 344154\n",
      "Test 6 failed. Expected 370069, actual 350167\n"
     ]
    },
    {
     "name": "stderr",
     "output_type": "stream",
     "text": [
      "  1%|          | 10/1000 [00:00<00:27, 36.37it/s]"
     ]
    },
    {
     "name": "stdout",
     "output_type": "stream",
     "text": [
      "Test 9 failed. Expected 376178, actual 366158\n",
      "Test 10 failed. Expected 375346, actual 359772\n"
     ]
    },
    {
     "name": "stderr",
     "output_type": "stream",
     "text": [
      "  2%|▏         | 15/1000 [00:00<00:25, 38.47it/s]"
     ]
    },
    {
     "name": "stdout",
     "output_type": "stream",
     "text": [
      "Test 12 failed. Expected 371639, actual 339843\n",
      "Test 13 failed. Expected 388687, actual 387249\n",
      "Test 15 failed. Expected 441004, actual 402366\n",
      "Test 16 failed. Expected 422680, actual 351166\n"
     ]
    },
    {
     "name": "stderr",
     "output_type": "stream",
     "text": [
      "  2%|▏         | 19/1000 [00:00<00:26, 37.70it/s]"
     ]
    },
    {
     "name": "stdout",
     "output_type": "stream",
     "text": [
      "Test 20 failed. Expected 370953, actual 369861\n",
      "Testing is stopped after 10 failed tests.\n"
     ]
    },
    {
     "name": "stderr",
     "output_type": "stream",
     "text": [
      "\n"
     ]
    }
   ],
   "source": [
    "run_tests(problem44_bruteforce, problem44, positive_triplet_generator)"
   ]
  },
  {
   "cell_type": "markdown",
   "metadata": {},
   "source": [
    "## Задача 47"
   ]
  },
  {
   "cell_type": "code",
   "execution_count": 9,
   "metadata": {},
   "outputs": [],
   "source": [
    "from itertools import combinations, product\n",
    "\n",
    "def problem47_bruteforce(path):\n",
    "    with open(path) as f:\n",
    "        n = int(f.readline())\n",
    "        s_max = 0\n",
    "        a = list()\n",
    "        for _ in range(n):\n",
    "            pair = list(map(int, f.readline().split()))\n",
    "            s_max += max(pair)\n",
    "            a.append(pair)\n",
    "\n",
    "        result = None\n",
    "\n",
    "        # option - кортеж вида (i, x), где i - номер пары, x - 0 или 1, индекс элемента пары, который выбран в сумму\n",
    "        for option in list(product([0, 1], repeat=n)):\n",
    "            s = 0\n",
    "            for i, x in enumerate(option):\n",
    "                s += a[i][x]\n",
    "\n",
    "            if (s % 10) == s_max % 10 and (result == None or s < result):\n",
    "                result = s\n",
    "\n",
    "        return result\n",
    "\n",
    "def problem47(path):\n",
    "    with open(path) as f:\n",
    "        n = int(f.readline())\n",
    "        data = list()\n",
    "        s_max = 0\n",
    "        \n",
    "        for _ in range(n):\n",
    "            pair = list(map(int, f.readline().split()))\n",
    "            s_max += max(pair)\n",
    "            data.append(pair)\n",
    "\n",
    "        s = 0\n",
    "        infty = 10 ** 20\n",
    "        m = infty\n",
    "\n",
    "        dMin = [10 ** 20] * 10\n",
    "\n",
    "        for x, y in data:\n",
    "            s += min(x, y)\n",
    "            d = abs(y - x)\n",
    "            r = d % 10\n",
    "\n",
    "            if r > 0:\n",
    "                dMinNew = dMin[:]\n",
    "                for k in range(1, 10):\n",
    "                    r0 = (r + k) % 10\n",
    "                    dMinNew[r0] = min(d + dMin[k], dMinNew[r0])\n",
    "\n",
    "                dMinNew[r] = min(d, dMinNew[r])\n",
    "                dMin = dMinNew[:]\n",
    "\n",
    "        if s % 10 == s_max % 10:\n",
    "            return s\n",
    "        else:\n",
    "\n",
    "            return s + dMin[(s_max % 10 - s % 10)]"
   ]
  },
  {
   "cell_type": "code",
   "execution_count": 10,
   "metadata": {},
   "outputs": [
    {
     "data": {
      "text/plain": [
       "'64573 189977078'"
      ]
     },
     "execution_count": 10,
     "metadata": {},
     "output_type": "execute_result"
    }
   ],
   "source": [
    "solutions[47] = '{} {}'.format(problem47('./data/27data/47/27-47a.txt'), problem47('./data/27data/47/27-47b.txt'))\n",
    "solutions[47]"
   ]
  },
  {
   "cell_type": "code",
   "execution_count": 12,
   "metadata": {},
   "outputs": [
    {
     "data": {
      "text/plain": [
       "'64573 189977078'"
      ]
     },
     "execution_count": 12,
     "metadata": {},
     "output_type": "execute_result"
    }
   ],
   "source": [
    "answers[47]"
   ]
  },
  {
   "cell_type": "code",
   "execution_count": null,
   "metadata": {},
   "outputs": [
    {
     "name": "stdout",
     "output_type": "stream",
     "text": [
      "Tests are skipped. Set test_env variable to True in order to test.\n"
     ]
    }
   ],
   "source": [
    "run_tests(problem47_bruteforce, problem47, positive_pair_generator)"
   ]
  },
  {
   "cell_type": "markdown",
   "metadata": {},
   "source": [
    "## Задача 50"
   ]
  },
  {
   "cell_type": "markdown",
   "metadata": {},
   "source": [
    "Набор данных состоит из нечётного количества пар натуральных чисел. Необходимо выбрать из каждой пары ровно одно число так, чтобы сумма выбранных чисел была максимальной при условии, что чётность этой суммы НЕ совпадает с чётностью большинства выбранных чисел. Определите максимальную сумму, которую можно получить при таком условии. Гарантируется, что удовлетворяющий условиям выбор возможен."
   ]
  },
  {
   "cell_type": "code",
   "execution_count": 7,
   "metadata": {},
   "outputs": [
    {
     "data": {
      "text/plain": [
       "'135266 409953886'"
      ]
     },
     "execution_count": 7,
     "metadata": {},
     "output_type": "execute_result"
    }
   ],
   "source": [
    "from itertools import product\n",
    "\n",
    "def problem50_bruteforce(path):\n",
    "    with open(path) as f:\n",
    "        n = int(f.readline())\n",
    "        s_max = 0\n",
    "        data = list()\n",
    "        for _ in range(n):\n",
    "            pair = list(map(int, f.readline().split()))\n",
    "            s_max += max(pair)\n",
    "            data.append(pair)\n",
    "\n",
    "        result = 0\n",
    "\n",
    "        for option in list(product([0, 1], repeat=n)):\n",
    "            s = 0\n",
    "            c = [0, 0]\n",
    "\n",
    "            for i, x in enumerate(option):\n",
    "                s += data[i][x]\n",
    "                c[data[i][x] % 2] += 1\n",
    "\n",
    "            if s > result and (s % 2 != c.index(max(c))):\n",
    "                result = s\n",
    "\n",
    "        return result\n",
    "\n",
    "def problem50(path):\n",
    "    with open(path) as f:\n",
    "        n = int(f.readline())\n",
    "        c = [0, 0]\n",
    "        result = 0\n",
    "        m = 10 ** 20\n",
    "\n",
    "        for i in range(n):\n",
    "            x, y = sorted(list(map(int, f.readline().split())))\n",
    "            c[y % 2] += 1\n",
    "            d = y - x\n",
    "            if d % 2 == 1:\n",
    "                m = min(m, d)\n",
    "\n",
    "            result += y\n",
    "\n",
    "        if result % 2 != c.index(max(c)):\n",
    "            return result\n",
    "        \n",
    "        return result - m\n",
    "\n",
    "\n",
    "solutions[50] = '{} {}'.format(problem50('./data/27data/50/27-50a.txt'), problem50('./data/27data/50/27-50b.txt'))\n",
    "solutions[50]"
   ]
  },
  {
   "cell_type": "code",
   "execution_count": 8,
   "metadata": {},
   "outputs": [
    {
     "data": {
      "text/plain": [
       "'135266 409953886'"
      ]
     },
     "execution_count": 8,
     "metadata": {},
     "output_type": "execute_result"
    }
   ],
   "source": [
    "answers[50]"
   ]
  },
  {
   "cell_type": "code",
   "execution_count": 50,
   "metadata": {},
   "outputs": [
    {
     "name": "stdout",
     "output_type": "stream",
     "text": [
      "Testing in progress...\n"
     ]
    },
    {
     "name": "stderr",
     "output_type": "stream",
     "text": [
      "100%|██████████| 1000/1000 [00:05<00:00, 198.75it/s]"
     ]
    },
    {
     "name": "stdout",
     "output_type": "stream",
     "text": [
      "OK! All tests passed.\n"
     ]
    },
    {
     "name": "stderr",
     "output_type": "stream",
     "text": [
      "\n"
     ]
    }
   ],
   "source": [
    "run_tests(problem50_bruteforce, problem50, positive_pair_generator)"
   ]
  },
  {
   "cell_type": "markdown",
   "metadata": {},
   "source": [
    "## Задача 58"
   ]
  },
  {
   "cell_type": "markdown",
   "metadata": {},
   "source": [
    "В файле записана последовательность натуральных чисел. Рассматриваются всевозможные группы чисел, состоящие из любого количества элементов последовательности. Необходимо найти количество таких групп, для которых сумма элементов кратна 3."
   ]
  },
  {
   "cell_type": "code",
   "execution_count": 78,
   "metadata": {},
   "outputs": [
    {
     "data": {
      "text/plain": [
       "'351 357914111'"
      ]
     },
     "execution_count": 78,
     "metadata": {},
     "output_type": "execute_result"
    }
   ],
   "source": [
    "from itertools import combinations\n",
    "\n",
    "def problem58_bruteforce(path):\n",
    "    with open(path) as f:\n",
    "        n = int(f.readline())\n",
    "        data = list()\n",
    "        result = 0\n",
    "\n",
    "        for i in range(n):\n",
    "            x = int(f.readline())\n",
    "            data.append(x)\n",
    "\n",
    "        for i in range(1, n+1):\n",
    "            for option in combinations(data, i):\n",
    "                s = sum(option)\n",
    "                if s % 3 == 0:\n",
    "                    result += 1\n",
    "\n",
    "        return result\n",
    "\n",
    "def problem58(path):\n",
    "    with open(path) as f:\n",
    "        n = int(f.readline())\n",
    "        c = [0, 0, 0] # c[j] - количество встреченных чисел, кратных j, к очередной итерации \n",
    "        result = [0, 0, 0] # result[j] - количество подпоследовательностей, в которых сумма элементов кратна j к очередной итерации \n",
    "\n",
    "        for i in range(n):\n",
    "            x = int(f.readline())\n",
    "            resultNew = result.copy()\n",
    "\n",
    "            for j in range(3):\n",
    "                resultNew[(x + j) % 3] += result[j]\n",
    "\n",
    "            resultNew[x % 3] += 1\n",
    "            result = resultNew.copy()\n",
    "            \n",
    "            c[x % 3] += 1\n",
    "        \n",
    "        return result[0]\n",
    "\n",
    "solutions[58] = '{} {}'.format(problem58('./data/27data/58/27-58a.txt'), problem58('./data/27data/58/27-58b.txt'))\n",
    "solutions[58]"
   ]
  },
  {
   "cell_type": "code",
   "execution_count": 82,
   "metadata": {},
   "outputs": [
    {
     "name": "stdout",
     "output_type": "stream",
     "text": [
      "Testing in progress...\n"
     ]
    },
    {
     "name": "stderr",
     "output_type": "stream",
     "text": [
      "100%|██████████| 1000/1000 [00:10<00:00, 93.76it/s]"
     ]
    },
    {
     "name": "stdout",
     "output_type": "stream",
     "text": [
      "OK! All tests passed.\n"
     ]
    },
    {
     "name": "stderr",
     "output_type": "stream",
     "text": [
      "\n"
     ]
    }
   ],
   "source": [
    "from solutions27.utils.data_generators import positive_numbers\n",
    "run_tests(problem58_bruteforce, problem58, positive_numbers)"
   ]
  },
  {
   "cell_type": "markdown",
   "metadata": {},
   "source": [
    "## Задача 60"
   ]
  },
  {
   "cell_type": "markdown",
   "metadata": {},
   "source": [
    "В файле записана последовательность натуральных чисел. Гарантируется, что все числа различны. Рассматриваются всевозможные группы чисел, состоящие из любого количества элементов последовательности. Необходимо найти наибольшую сумму такой группы, кратную 25. Программа должна вывести эту сумму."
   ]
  },
  {
   "cell_type": "code",
   "execution_count": 80,
   "metadata": {},
   "outputs": [
    {
     "data": {
      "text/plain": [
       "'925 5036375'"
      ]
     },
     "execution_count": 80,
     "metadata": {},
     "output_type": "execute_result"
    }
   ],
   "source": [
    "from itertools import product, permutations\n",
    "\n",
    "def problem60_bruteforce(path):\n",
    "    with open(path) as f:\n",
    "        n = int(f.readline())\n",
    "        data = list()\n",
    "        result = 0\n",
    "\n",
    "        for i in range(n):\n",
    "            x = int(f.readline())\n",
    "            data.append(x)\n",
    "\n",
    "        for i in range(1, n+1):\n",
    "            for option in combinations(data, i):\n",
    "                s = sum(option)\n",
    "                if s % 25 == 0:\n",
    "                    result = max(result, s)\n",
    "\n",
    "        return result\n",
    "\n",
    "solutions[60] = '{} {}'.format(problem60('./data/27data/60/27-60a.txt'), problem60('./data/27data/60/27-60b.txt'))\n",
    "solutions[60]"
   ]
  },
  {
   "cell_type": "code",
   "execution_count": 83,
   "metadata": {},
   "outputs": [
    {
     "name": "stdout",
     "output_type": "stream",
     "text": [
      "Testing in progress...\n"
     ]
    },
    {
     "name": "stderr",
     "output_type": "stream",
     "text": [
      "100%|██████████| 1000/1000 [00:10<00:00, 95.83it/s]"
     ]
    },
    {
     "name": "stdout",
     "output_type": "stream",
     "text": [
      "OK! All tests passed.\n"
     ]
    },
    {
     "name": "stderr",
     "output_type": "stream",
     "text": [
      "\n"
     ]
    }
   ],
   "source": [
    "run_tests(problem60_bruteforce, problem60, positive_numbers)"
   ]
  },
  {
   "cell_type": "markdown",
   "metadata": {},
   "source": [
    "## Задача 67"
   ]
  },
  {
   "cell_type": "code",
   "execution_count": null,
   "metadata": {},
   "outputs": [
    {
     "data": {
      "text/plain": [
       "'6488 181567328'"
      ]
     },
     "execution_count": 342,
     "metadata": {},
     "output_type": "execute_result"
    }
   ],
   "source": [
    "# def problem67_bruteforce(path):\n",
    "#     with open(path) as f:\n",
    "#         n = int(f.readline())\n",
    "#         a = list()\n",
    "#         for i in range(n):\n",
    "#             a.append(int(f.readline()))\n",
    "        \n",
    "#         answer = 0\n",
    "#         for l in range(n):\n",
    "#             for r in range(l+1, min(l+21, n)):\n",
    "#                 if sum(a[l:r]) % 39 == 0:\n",
    "#                     answer += 1\n",
    "        \n",
    "#         return answer\n",
    "\n",
    "def problem67(path):\n",
    "    with open(path) as f:\n",
    "        n = int(f.readline())\n",
    "        s = 0\n",
    "\n",
    "        for i in range(n):\n",
    "            numbers = list(map(int, f.readline().split()))\n",
    "            numbers = numbers[1:]\n",
    "\n",
    "            min_odd = 1001\n",
    "            for x in numbers:\n",
    "                if x % 2 != 0:\n",
    "                    min_odd = min(x, min_odd) \n",
    "\n",
    "            if sum(numbers) % 2 == 0:\n",
    "                s += sum(numbers)\n",
    "            else:\n",
    "                s += sum(numbers) + min_odd\n",
    "            \n",
    "        \n",
    "        if s % 5 != 0:\n",
    "            return s\n",
    "        \n",
    "        return max(s + min_pair_diff, s + min_odd_diff)\n",
    "\n",
    "\n",
    "solutions[67] = '{} {}'.format(problem67('./data/27data/67/27-67a.txt'), problem67('./data/27data/67/27-67b.txt'))\n",
    "solutions[67]"
   ]
  },
  {
   "cell_type": "code",
   "execution_count": null,
   "metadata": {},
   "outputs": [],
   "source": [
    "# answers[67]"
   ]
  },
  {
   "cell_type": "markdown",
   "metadata": {},
   "source": [
    "## Задача 74"
   ]
  },
  {
   "cell_type": "code",
   "execution_count": null,
   "metadata": {},
   "outputs": [
    {
     "data": {
      "text/plain": [
       "'21 51023'"
      ]
     },
     "execution_count": 344,
     "metadata": {},
     "output_type": "execute_result"
    }
   ],
   "source": [
    "def problem74_bruteforce(path):\n",
    "    with open(path) as f:\n",
    "        n = int(f.readline())\n",
    "        a = list()\n",
    "        for i in range(n):\n",
    "            a.append(int(f.readline()))\n",
    "        \n",
    "        answer = 0\n",
    "        for l in range(n):\n",
    "            for r in range(l+1, min(l+21, n)):\n",
    "                if sum(a[l:r]) % 39 == 0:\n",
    "                    answer += 1\n",
    "        \n",
    "        return answer\n",
    "\n",
    "def problem74(path):\n",
    "    with open(path) as f:\n",
    "        n = int(f.readline())\n",
    "        answer = 0\n",
    "\n",
    "        s = [int(f.readline())] # последние 20 префикс сумм\n",
    "        for i in range(1, 20):\n",
    "            s.append(s[i-1] + int(f.readline()))\n",
    "\n",
    "        for k in range(19):\n",
    "            if s[-1] % 39 == s[k] % 39:\n",
    "                answer += 1\n",
    "\n",
    "        for i in range(n-20):\n",
    "            for k in range(19):\n",
    "                if s[-1] % 39 == s[k] % 39:\n",
    "                    answer += 1\n",
    "            x = int(f.readline())\n",
    "            s.pop(0)\n",
    "            s.append(s[-1] + x)\n",
    "        \n",
    "        return answer\n",
    "\n",
    "solutions[74] = '{} {}'.format(problem74_bruteforce('./data/27data/74/27-74a.txt'), problem74_bruteforce('./data/27data/74/27-74b.txt'))\n",
    "solutions[74]"
   ]
  },
  {
   "cell_type": "code",
   "execution_count": null,
   "metadata": {},
   "outputs": [
    {
     "data": {
      "text/plain": [
       "'21 51023'"
      ]
     },
     "execution_count": 345,
     "metadata": {},
     "output_type": "execute_result"
    }
   ],
   "source": [
    "answers[74]"
   ]
  },
  {
   "cell_type": "code",
   "execution_count": null,
   "metadata": {},
   "outputs": [
    {
     "data": {
      "text/plain": [
       "51023"
      ]
     },
     "execution_count": 346,
     "metadata": {},
     "output_type": "execute_result"
    }
   ],
   "source": [
    "problem74_bruteforce('./data/27data/74/27-74b.txt')"
   ]
  },
  {
   "cell_type": "code",
   "execution_count": null,
   "metadata": {},
   "outputs": [],
   "source": [
    "from random import randint\n",
    "\n",
    "def input_generator74(path):\n",
    "    with open(path, 'w+') as f:\n",
    "        n = 100\n",
    "        f.write(str(n) + '\\n')\n",
    "\n",
    "        for i in range(n):\n",
    "            f.write(str(randint(1, 100000)) + '\\n')"
   ]
  },
  {
   "cell_type": "code",
   "execution_count": null,
   "metadata": {},
   "outputs": [
    {
     "name": "stdout",
     "output_type": "stream",
     "text": [
      "Tests are skipped. Set test_env variable to True in order to test.\n"
     ]
    }
   ],
   "source": [
    "run_tests(problem74_bruteforce, problem74, input_generator74)"
   ]
  },
  {
   "cell_type": "code",
   "execution_count": null,
   "metadata": {},
   "outputs": [
    {
     "data": {
      "text/plain": [
       "21"
      ]
     },
     "execution_count": 349,
     "metadata": {},
     "output_type": "execute_result"
    }
   ],
   "source": [
    "problem74_bruteforce('./data/27data/74/27-74a.txt')"
   ]
  },
  {
   "cell_type": "markdown",
   "metadata": {},
   "source": [
    "## Задача 76"
   ]
  },
  {
   "cell_type": "code",
   "execution_count": null,
   "metadata": {},
   "outputs": [],
   "source": [
    "def problem76_bruteforce(path):\n",
    "    with open(path) as f:\n",
    "        n = int(f.readline())\n",
    "        a = list()\n",
    "\n",
    "        for i in range(n):\n",
    "            a.append(int(f.readline()))\n",
    "\n",
    "        answer = 0\n",
    "        for i in range(n):\n",
    "            for j in range(i+2, n):\n",
    "                if (a[i] + a[j]) % 3 == 0 and (sum(a[i+1:j]) % 2 == 0):\n",
    "                    answer += 1\n",
    "\n",
    "        return answer\n",
    "\n",
    "def problem76(path):\n",
    "    with open(path) as f:\n",
    "        n = int(f.readline())\n",
    "        c0 = [0] * 3 # c[j] - количество четных до i-1 итерации, дающих при делении на 3 остаток j\n",
    "        c1 = [0] * 3 # c[j] - количество нечетных до i-1 итерации, дающих при делении на 3 остаток j\n",
    "\n",
    "        x_prev = int(f.readline())\n",
    "        answer = 0\n",
    "        s = 0\n",
    "\n",
    "        for i in range(1, n):\n",
    "            x = int(f.readline())\n",
    "            s += x_prev\n",
    "            r = x % 3\n",
    "\n",
    "            if s % 2 == 0:\n",
    "                answer += c0[(3-r) % 3]\n",
    "            else:\n",
    "                answer += c1[(3-r) % 3]\n",
    "\n",
    "            if s % 2 == 0:\n",
    "                c0[x_prev % 3] += 1\n",
    "            else:\n",
    "                c1[x_prev % 3] += 1\n",
    "\n",
    "            x_prev = x\n",
    "\n",
    "        return answer"
   ]
  },
  {
   "cell_type": "code",
   "execution_count": null,
   "metadata": {},
   "outputs": [
    {
     "data": {
      "text/plain": [
       "'27 833306999'"
      ]
     },
     "execution_count": 351,
     "metadata": {},
     "output_type": "execute_result"
    }
   ],
   "source": [
    "solutions[76] = '{} {}'.format(problem76_bruteforce('./data/27data/76/27-76a.txt'), problem76('./data/27data/76/27-76b.txt'))\n",
    "solutions[76]"
   ]
  },
  {
   "cell_type": "code",
   "execution_count": null,
   "metadata": {},
   "outputs": [
    {
     "data": {
      "text/plain": [
       "'27 833306999'"
      ]
     },
     "execution_count": 352,
     "metadata": {},
     "output_type": "execute_result"
    }
   ],
   "source": [
    "answers[76]"
   ]
  },
  {
   "cell_type": "code",
   "execution_count": null,
   "metadata": {},
   "outputs": [],
   "source": [
    "from random import randint\n",
    "\n",
    "def input_generator76(path):\n",
    "    with open(path, 'w+') as f:\n",
    "        n = 20\n",
    "        f.write(str(n) + '\\n')\n",
    "\n",
    "        for i in range(n):\n",
    "            f.write(str(randint(1, 50)) + '\\n')"
   ]
  },
  {
   "cell_type": "code",
   "execution_count": null,
   "metadata": {},
   "outputs": [
    {
     "name": "stdout",
     "output_type": "stream",
     "text": [
      "Tests are skipped. Set test_env variable to True in order to test.\n"
     ]
    }
   ],
   "source": [
    "run_tests(problem76_bruteforce, problem76, input_generator76)"
   ]
  },
  {
   "cell_type": "markdown",
   "metadata": {},
   "source": [
    "## Задача 79"
   ]
  },
  {
   "cell_type": "code",
   "execution_count": 2,
   "metadata": {},
   "outputs": [],
   "source": [
    "from collections import defaultdict\n",
    "\n",
    "def problem79_bruteforce(path):\n",
    "    with open(path) as f:\n",
    "        n = int(f.readline())\n",
    "        a = list()\n",
    "\n",
    "        for i in range(n):\n",
    "            a.append(int(f.readline()))\n",
    "\n",
    "        answer = 0\n",
    "        for i in range(n):\n",
    "            for j in range(i, n):\n",
    "                if a[i] % 21 == 0 and a[i] == a[j] * a[j]:\n",
    "                    answer = max(answer, j-i+1)\n",
    "\n",
    "        return answer\n",
    "\n",
    "def problem79(path):\n",
    "    with open(path) as f:\n",
    "        n = int(f.readline())\n",
    "        m = defaultdict(lambda: None)\n",
    "\n",
    "        answer = 0\n",
    "        for i in range(n):\n",
    "            x = int(f.readline())\n",
    "            if x % 21 == 0 and m[x] == None:\n",
    "                m[x] = i\n",
    "\n",
    "            if m[x ** 2] != None:\n",
    "                answer = max(answer, i - m[x ** 2] + 1)\n",
    "\n",
    "        return answer"
   ]
  },
  {
   "cell_type": "code",
   "execution_count": 10,
   "metadata": {},
   "outputs": [],
   "source": [
    "from random import randint\n",
    "\n",
    "def input_generator79(path):\n",
    "    with open(path, 'w+') as f:\n",
    "        n = 20\n",
    "        f.write(str(n) + '\\n')\n",
    "\n",
    "        for i in range(n):\n",
    "            f.write(str(randint(1, 50000)) + '\\n')"
   ]
  },
  {
   "cell_type": "code",
   "execution_count": 11,
   "metadata": {},
   "outputs": [
    {
     "name": "stdout",
     "output_type": "stream",
     "text": [
      "Testing in progress...\n"
     ]
    },
    {
     "name": "stderr",
     "output_type": "stream",
     "text": [
      "100%|██████████| 1000/1000 [00:02<00:00, 370.44it/s]"
     ]
    },
    {
     "name": "stdout",
     "output_type": "stream",
     "text": [
      "OK! All tests passed.\n"
     ]
    },
    {
     "name": "stderr",
     "output_type": "stream",
     "text": [
      "\n"
     ]
    }
   ],
   "source": [
    "run_tests(problem79_bruteforce, problem79, input_generator79)"
   ]
  },
  {
   "cell_type": "code",
   "execution_count": null,
   "metadata": {},
   "outputs": [
    {
     "data": {
      "text/plain": [
       "'337 148613'"
      ]
     },
     "execution_count": 358,
     "metadata": {},
     "output_type": "execute_result"
    }
   ],
   "source": [
    "answers[79]"
   ]
  },
  {
   "cell_type": "code",
   "execution_count": null,
   "metadata": {},
   "outputs": [
    {
     "data": {
      "text/plain": [
       "337"
      ]
     },
     "execution_count": 359,
     "metadata": {},
     "output_type": "execute_result"
    }
   ],
   "source": [
    "problem79_bruteforce('./data/27data/79/27-79a.txt')"
   ]
  },
  {
   "cell_type": "code",
   "execution_count": null,
   "metadata": {},
   "outputs": [
    {
     "data": {
      "text/plain": [
       "148613"
      ]
     },
     "execution_count": 360,
     "metadata": {},
     "output_type": "execute_result"
    }
   ],
   "source": [
    "problem79('./data/27data/79/27-79b.txt')"
   ]
  },
  {
   "cell_type": "markdown",
   "metadata": {},
   "source": [
    "##  Задача 82"
   ]
  },
  {
   "cell_type": "code",
   "execution_count": null,
   "metadata": {},
   "outputs": [],
   "source": [
    "def isPrime(x: int):\n",
    "    if x == 1:\n",
    "        return False\n",
    "\n",
    "    i = 2\n",
    "    while i * i <= x:\n",
    "        if x % i == 0:\n",
    "            return False\n",
    "        i += 1\n",
    "    \n",
    "    return True\n",
    "\n",
    "def problem82_bruteforce(path):\n",
    "    with open(path) as f:\n",
    "        n = int(f.readline())\n",
    "        k = 9\n",
    "        a = list()\n",
    "        for i in range(n):\n",
    "            a.append(int(f.readline()))\n",
    "\n",
    "        result = 0\n",
    "        for length in range(1, n+1):\n",
    "            for l in range(n-length+1):\n",
    "                c = 0\n",
    "                s = sum(a[l:l+length])\n",
    "                for i in range(l, l+length):\n",
    "                    # s += a[i]\n",
    "                    if isPrime(a[i]):\n",
    "                        c += 1\n",
    "\n",
    "                if c % k == 0 and s > result:\n",
    "                    result = s\n",
    "\n",
    "        return result\n",
    "\n",
    "def problem82(path):\n",
    "    with open(path) as f:\n",
    "        n = int(f.readline())\n",
    "        k = 9\n",
    "        \n",
    "        count = 0 # количество простых чисел\n",
    "        s = 0 # сумма всех чисел (на i-й итерации это i-ая префикс-сумма)\n",
    "        infty = 10 ** 20\n",
    "        tailSum = [0] + [infty] * (k-1) # tailSum[j] - наименьшее значение префикс-суммы, в которой количество простых чисел дает остаток j при делении на k\n",
    "        answer = 0\n",
    "\n",
    "        for i in range(n):\n",
    "            x = int(f.readline())\n",
    "            s += x\n",
    "            if isPrime(x):\n",
    "                count += 1\n",
    "            \n",
    "            r = count % k\n",
    "            # if tailSum[r] is None:\n",
    "            #     tailSum[r] = s # такое заполнение обеспечивает, что tailSum[r] - наименьшая префикс-сумма, ведь префикс-суммы неубывают с увеличением индекса\n",
    "            # elif count >= k:\n",
    "            #     answer = max(answer, s - tailSum[r])\n",
    "\n",
    "            if r == 0 and s > answer: # если r = 0, то подходит сама префикс-сумма\n",
    "                answer = max(answer, s)\n",
    "            elif tailSum[r] != infty and s - tailSum[r] > answer:\n",
    "                answer = s - tailSum[r]\n",
    "\n",
    "\n",
    "            tailSum[r] = min(tailSum[r], s)\n",
    "\n",
    "        return answer"
   ]
  },
  {
   "cell_type": "code",
   "execution_count": null,
   "metadata": {},
   "outputs": [
    {
     "data": {
      "text/plain": [
       "67645"
      ]
     },
     "execution_count": 362,
     "metadata": {},
     "output_type": "execute_result"
    }
   ],
   "source": [
    "problem82_bruteforce('./data/27data/82/27-82a.txt')"
   ]
  },
  {
   "cell_type": "code",
   "execution_count": null,
   "metadata": {},
   "outputs": [
    {
     "data": {
      "text/plain": [
       "67645"
      ]
     },
     "execution_count": 363,
     "metadata": {},
     "output_type": "execute_result"
    }
   ],
   "source": [
    "problem82('./data/27data/82/27-82a.txt')"
   ]
  },
  {
   "cell_type": "code",
   "execution_count": null,
   "metadata": {},
   "outputs": [
    {
     "data": {
      "text/plain": [
       "'67645 69976583'"
      ]
     },
     "execution_count": 364,
     "metadata": {},
     "output_type": "execute_result"
    }
   ],
   "source": [
    "solutions[82] = '{} {}'.format(problem82_bruteforce('./data/27data/82/27-82a.txt'), problem82('./data/27data/82/27-82b.txt'))\n",
    "solutions[82]"
   ]
  },
  {
   "cell_type": "code",
   "execution_count": null,
   "metadata": {},
   "outputs": [],
   "source": [
    "from random import randint\n",
    "\n",
    "def input_generator82(path):\n",
    "    with open(path, 'w+') as f:\n",
    "        n = 15\n",
    "        f.write(str(n) + '\\n')\n",
    "\n",
    "        for i in range(n):\n",
    "            f.write(str(randint(1, 10000)) + '\\n')"
   ]
  },
  {
   "cell_type": "code",
   "execution_count": null,
   "metadata": {},
   "outputs": [
    {
     "name": "stdout",
     "output_type": "stream",
     "text": [
      "Tests are skipped. Set test_env variable to True in order to test.\n"
     ]
    }
   ],
   "source": [
    "run_tests(problem82_bruteforce, problem82, input_generator82)"
   ]
  },
  {
   "cell_type": "markdown",
   "metadata": {},
   "source": [
    "## Задача 86"
   ]
  },
  {
   "cell_type": "code",
   "execution_count": null,
   "metadata": {},
   "outputs": [
    {
     "data": {
      "text/plain": [
       "'15218 253665'"
      ]
     },
     "execution_count": 367,
     "metadata": {},
     "output_type": "execute_result"
    }
   ],
   "source": [
    "def problem86_bruteforce(path):\n",
    "    with open(path) as f:\n",
    "        n, k = map(int, f.readline().split())\n",
    "        a = list()\n",
    "        for i in range(n):\n",
    "            a.append(int(f.readline()))\n",
    "\n",
    "        result = float('-inf')\n",
    "        for length in range(1, n+1):\n",
    "            for l in range(n-length+1):\n",
    "                s = sum(a[l:l+length])\n",
    "                c = 0\n",
    "                for x in a[l:l+length]:\n",
    "                    if x < 0 and abs(x) % 10 == 7:\n",
    "                        c += 1\n",
    "\n",
    "                if c % k == 0 and s > result:\n",
    "                    result = s\n",
    "\n",
    "        return result\n",
    "\n",
    "def problem86(path):\n",
    "    with open(path) as f:\n",
    "        n, k = map(int, f.readline().split())\n",
    "        answer = 0\n",
    "        count = 0 # количество отрицательных, оканчивающихся на 7\n",
    "        s = 0 # сумма всех чисел\n",
    "\n",
    "        infty = 10 ** 20\n",
    "        m = [infty] * k # m[i] - минимальная префикс-сумма, в которой количество отрицательных чисел, оканчивающихся на 7, кратно k\n",
    "\n",
    "        for _ in range(n):\n",
    "            x = int(f.readline())\n",
    "            s += x\n",
    "\n",
    "            if abs(x) % 10 == 7 and x < 0:\n",
    "                count += 1\n",
    "\n",
    "            r = count % k\n",
    "\n",
    "            if r == 0 and s > answer: # если r = 0, то подходит сама префикс-сумма\n",
    "                answer = s\n",
    "            elif m[r] != infty and s - m[r] > answer:\n",
    "                answer = s - m[r]\n",
    "\n",
    "            m[r] = min(m[r], s)\n",
    "        \n",
    "        return answer\n",
    "\n",
    "solutions[86] = '{} {}'.format(problem86_bruteforce('./data/27data/86/27-86a.txt'), problem86('./data/27data/86/27-86b.txt'))\n",
    "solutions[86]"
   ]
  },
  {
   "cell_type": "code",
   "execution_count": null,
   "metadata": {},
   "outputs": [],
   "source": [
    "from random import randint\n",
    "\n",
    "def input_generator86(path):\n",
    "    with open(path, 'w+') as f:\n",
    "        n = 10\n",
    "        k = randint(1, 15)\n",
    "        f.write(str(n) + ' ' + str(k) + '\\n')\n",
    "\n",
    "        for i in range(n):\n",
    "            f.write(str(randint(1, 10000)) + '\\n')"
   ]
  },
  {
   "cell_type": "code",
   "execution_count": null,
   "metadata": {},
   "outputs": [
    {
     "name": "stdout",
     "output_type": "stream",
     "text": [
      "Tests are skipped. Set test_env variable to True in order to test.\n"
     ]
    }
   ],
   "source": [
    "run_tests(problem86_bruteforce, problem86, input_generator86)"
   ]
  },
  {
   "cell_type": "markdown",
   "metadata": {},
   "source": [
    "## Задача 87"
   ]
  },
  {
   "cell_type": "code",
   "execution_count": null,
   "metadata": {},
   "outputs": [
    {
     "data": {
      "text/plain": [
       "'15406 256483'"
      ]
     },
     "execution_count": 370,
     "metadata": {},
     "output_type": "execute_result"
    }
   ],
   "source": [
    "def isSpecial(x):\n",
    "    if x >= 0:\n",
    "        return False\n",
    "\n",
    "    x = abs(x)\n",
    "    \n",
    "    while x > 0:\n",
    "        if x % 5 == 2:\n",
    "            return False\n",
    "        x //= 5\n",
    "\n",
    "    return True\n",
    "\n",
    "def problem87_bruteforce(path):\n",
    "    with open(path) as f:\n",
    "        n, k = map(int, f.readline().split())\n",
    "        a = list()\n",
    "        for i in range(n):\n",
    "            a.append(int(f.readline()))\n",
    "\n",
    "        result = -10001\n",
    "        # for length in range(1, n+1):\n",
    "        #     for l in range(n-length+1):\n",
    "        for l in range(n):\n",
    "            for r in range(l, n):\n",
    "                s = sum(a[l:r])\n",
    "                c = 0\n",
    "                for x in a[l:r]:\n",
    "                    if isSpecial(x):\n",
    "                        c += 1\n",
    "\n",
    "                if c % k == 0 and s > result:\n",
    "                    result = s\n",
    "\n",
    "        return result\n",
    "\n",
    "def problem87(path):\n",
    "    with open(path) as f:\n",
    "        n, k = map(int, f.readline().split())\n",
    "        answer = 0\n",
    "        count = 0 # количество особенных\n",
    "        s = 0 # сумма всех чисел\n",
    "\n",
    "        infty = 10 ** 20\n",
    "        m = [infty] * k # m[i] - минимальная префикс-сумма, в которой количество особенных кратно k\n",
    "\n",
    "        for _ in range(n):\n",
    "            x = int(f.readline())\n",
    "            s += x\n",
    "\n",
    "            if isSpecial(x):\n",
    "                count += 1\n",
    "\n",
    "            r = count % k\n",
    "\n",
    "            if r == 0 and s > answer:\n",
    "                answer = max(answer, s)\n",
    "            elif m[r] != infty and s - m[r] > answer:\n",
    "                answer = s - m[r]\n",
    "\n",
    "            m[r] = min(m[r], s)\n",
    "        \n",
    "        return answer\n",
    "\n",
    "solutions[87] = '{} {}'.format(problem87_bruteforce('./data/27data/87/27-87a.txt'), problem87('./data/27data/87/27-87b.txt'))\n",
    "solutions[87]"
   ]
  },
  {
   "cell_type": "code",
   "execution_count": null,
   "metadata": {},
   "outputs": [
    {
     "data": {
      "text/plain": [
       "15406"
      ]
     },
     "execution_count": 371,
     "metadata": {},
     "output_type": "execute_result"
    }
   ],
   "source": [
    "problem87_bruteforce('./data/27data/87/27-87a.txt')"
   ]
  },
  {
   "cell_type": "code",
   "execution_count": null,
   "metadata": {},
   "outputs": [
    {
     "data": {
      "text/plain": [
       "15406"
      ]
     },
     "execution_count": 372,
     "metadata": {},
     "output_type": "execute_result"
    }
   ],
   "source": [
    "problem87('./data/27data/87/27-87a.txt')"
   ]
  },
  {
   "cell_type": "markdown",
   "metadata": {},
   "source": [
    "## Задача 88"
   ]
  },
  {
   "cell_type": "code",
   "execution_count": null,
   "metadata": {},
   "outputs": [
    {
     "data": {
      "text/plain": [
       "'11527919 168873874'"
      ]
     },
     "execution_count": 373,
     "metadata": {},
     "output_type": "execute_result"
    }
   ],
   "source": [
    "def isSpecial(x):\n",
    "    if x >= 0:\n",
    "        return False\n",
    "\n",
    "    x = -x\n",
    "\n",
    "    i = 2\n",
    "    while i * i <= x:\n",
    "        if x % i == 0:\n",
    "            return False\n",
    "        i += 1\n",
    "\n",
    "    return True\n",
    "\n",
    "def problem88_bruteforce(path):\n",
    "    with open(path) as f:\n",
    "        n, k = map(int, f.readline().split())\n",
    "        a = list()\n",
    "        for i in range(n):\n",
    "            a.append(int(f.readline()))\n",
    "\n",
    "        result = -10001\n",
    "        for length in range(1, n+1):\n",
    "            for l in range(n-length+1):\n",
    "                r = l+length\n",
    "                s = sum(a[l:r])\n",
    "                c = 0\n",
    "                for x in a[l:r]:\n",
    "                    if isSpecial(x):\n",
    "                        c += 1\n",
    "\n",
    "                if c % k == 0 and s > result:\n",
    "                    result = s\n",
    "\n",
    "        return result\n",
    "\n",
    "def problem88(path):\n",
    "    with open(path) as f:\n",
    "        n, k = map(int, f.readline().split())\n",
    "        answer = 0\n",
    "        count = 0 # количество особенных\n",
    "        s = 0 # сумма всех чисел\n",
    "\n",
    "        infty = 10 ** 20\n",
    "        m = [infty] * k # m[i] - минимальная префикс-сумма, в которой количество особенных кратно k\n",
    "\n",
    "        for _ in range(n):\n",
    "            x = int(f.readline())\n",
    "            s += x\n",
    "\n",
    "            if isSpecial(x):\n",
    "                count += 1\n",
    "\n",
    "            r = count % k\n",
    "\n",
    "            if r == 0 and s > answer:\n",
    "                answer = max(answer, s)\n",
    "            elif m[r] != infty and s - m[r] > answer:\n",
    "                answer = s - m[r]\n",
    "\n",
    "            m[r] = min(m[r], s)\n",
    "\n",
    "        return answer\n",
    "\n",
    "solutions[88] = '{} {}'.format(problem88('./data/27data/88/27-88a.txt'), problem88('./data/27data/88/27-88b.txt'))\n",
    "solutions[88]"
   ]
  },
  {
   "cell_type": "code",
   "execution_count": null,
   "metadata": {},
   "outputs": [],
   "source": [
    "def special(x):\n",
    "    if x > 0:\n",
    "        return False\n",
    "    if x == 1 or x == 0:\n",
    "        return False\n",
    "    x = abs(x)\n",
    "    l = 2\n",
    "    while l*l <= x:\n",
    "        if x % l == 0:\n",
    "            return False\n",
    "        l += 1\n",
    "    return True\n",
    "\n",
    "def problem88_Artem(path):\n",
    "    f = open(path)\n",
    "    n, k = map(int, f.readline().split())\n",
    "\n",
    "    max_sum = -10**20\n",
    "    a = [10**20]*k\n",
    "\n",
    "    sum = 0\n",
    "    c = 0\n",
    "    for i in range(n):\n",
    "        x = int(f.readline())\n",
    "        sum += x\n",
    "\n",
    "        if special(x):\n",
    "            c += 1\n",
    "\n",
    "        r = c % k\n",
    "        if r == 0:\n",
    "            max_sum = max(max_sum, sum)\n",
    "\n",
    "        max_sum = max(max_sum, sum - a[r])\n",
    "\n",
    "        a[r] = min(a[r], sum)\n",
    "    return max_sum"
   ]
  },
  {
   "cell_type": "code",
   "execution_count": null,
   "metadata": {},
   "outputs": [
    {
     "data": {
      "text/plain": [
       "'11527919 168873874'"
      ]
     },
     "execution_count": 375,
     "metadata": {},
     "output_type": "execute_result"
    }
   ],
   "source": [
    "answers[88]"
   ]
  },
  {
   "cell_type": "code",
   "execution_count": null,
   "metadata": {},
   "outputs": [],
   "source": [
    "from random import randint\n",
    "\n",
    "def input_generator88(path):\n",
    "    with open(path, 'w+') as f:\n",
    "        n = 15\n",
    "        k = randint(1, 6)\n",
    "        f.write(str(n) + ' ' + str(k) + '\\n')\n",
    "\n",
    "        for i in range(n):\n",
    "            f.write(str(randint(-100000, 100000)) + '\\n')"
   ]
  },
  {
   "cell_type": "code",
   "execution_count": null,
   "metadata": {},
   "outputs": [
    {
     "name": "stdout",
     "output_type": "stream",
     "text": [
      "Tests are skipped. Set test_env variable to True in order to test.\n"
     ]
    }
   ],
   "source": [
    "run_tests(problem88_bruteforce, problem88, input_generator88)"
   ]
  },
  {
   "cell_type": "code",
   "execution_count": null,
   "metadata": {},
   "outputs": [],
   "source": [
    "def isSpecNumber(x):\n",
    "    if x >= 0:\n",
    "        return False\n",
    "    x = abs(x)\n",
    "    if x <= 1:\n",
    "        return False\n",
    "    d = 2\n",
    "    while d*d <= x:\n",
    "        if x % d == 0:\n",
    "            return False\n",
    "        d += 1\n",
    "    return True\n",
    "\n",
    "def problem88_polyakov(path):\n",
    "    f = open(path)\n",
    "    n, K = map(int, f.readline().split())\n",
    "\n",
    "    maxSum = -10**20\n",
    "    minTails = [10**20]*K\n",
    "\n",
    "    sumTotal = 0\n",
    "    count = 0\n",
    "    for i in range(n):\n",
    "\n",
    "        x = int(f.readline())\n",
    "        sumTotal += x\n",
    "\n",
    "        if isSpecNumber(x):\n",
    "            count += 1\n",
    "\n",
    "        r = count % K\n",
    "        if r == 0 and sumTotal > maxSum:\n",
    "            maxSum = sumTotal\n",
    "\n",
    "        if minTails[r] != 10**20 and sumTotal - minTails[r] > maxSum:\n",
    "            maxSum = sumTotal - minTails[r]\n",
    "\n",
    "        minTails[r] = min(minTails[r], sumTotal)\n",
    "\n",
    "    f.close()\n",
    "\n",
    "    return maxSum"
   ]
  },
  {
   "cell_type": "code",
   "execution_count": null,
   "metadata": {},
   "outputs": [
    {
     "name": "stdout",
     "output_type": "stream",
     "text": [
      "Tests are skipped. Set test_env variable to True in order to test.\n"
     ]
    }
   ],
   "source": [
    "run_tests(problem88_bruteforce, problem88_polyakov, input_generator88)"
   ]
  },
  {
   "cell_type": "markdown",
   "metadata": {},
   "source": [
    "## Задача 89"
   ]
  },
  {
   "cell_type": "markdown",
   "metadata": {},
   "source": [
    "Лев решил написать программу, которая анализирует изменение цены на акции одной компании и сообщает, какую максимальную прибыль можно было бы получить, если продавать и покупать акции только этой компании в рассматриваемый период.\n",
    "\n",
    "Входные данные: Даны два входных файла: файл A (27-89a.txt) и файл B (27-89b.txt), каждый из которых содержит в первой строке два числа: M – количество денег на начало периода, и N – количество значений стоимости акций за весь период. Каждая из следующих N строк файлов содержит одно целое положительное число, не превышающее 1000 – стоимость акций в очередной день (данные приведены в хронологическом порядке).\n",
    "\n",
    "Пример входного файла:\n",
    "100 10\n",
    "40 39 38 40 42 45 44 42 43 41 (каждое число с новой строки)\n",
    "Для данного примера выгодно купить акции по 38 (2 штуки) продать их по 45 (увеличение прибыли на 14). После чего купить 2 акции по 42 и продать их по 43 (увеличение прибыли на 2). Общая прибыль равна 16. Ответ: 16. \n",
    "В ответе укажите два числа: сначала значение искомой суммы для файла А, затем для файла B.\n"
   ]
  },
  {
   "cell_type": "code",
   "execution_count": null,
   "metadata": {},
   "outputs": [
    {
     "data": {
      "text/plain": [
       "'7415112 53631'"
      ]
     },
     "execution_count": 380,
     "metadata": {},
     "output_type": "execute_result"
    }
   ],
   "source": [
    "def problem89(path):\n",
    "    with open(path) as f:\n",
    "        m, n = map(int, f.readline().split())\n",
    "        initial = m\n",
    "        prices = [int(line) for line in f.readlines()]\n",
    "    \n",
    "        count = 0 # количество акций\n",
    "\n",
    "        for i in range(len(prices)-1):\n",
    "            if prices[i] < prices[i+1]:\n",
    "                buy = m // prices[i]\n",
    "                m -= buy * prices[i]\n",
    "\n",
    "                count += buy\n",
    "            \n",
    "            if prices[i] > prices[i+1]:\n",
    "                m += count * prices[i]\n",
    "                count = 0\n",
    "\n",
    "        m += count * prices[-1]\n",
    "        \n",
    "        return m - initial\n",
    "\n",
    "solutions[89] = '{} {}'.format(problem89('./data/27data/89/27-89a.txt'), problem89('./data/27data/89/27-89b.txt'))\n",
    "solutions[89]"
   ]
  },
  {
   "cell_type": "code",
   "execution_count": null,
   "metadata": {},
   "outputs": [
    {
     "data": {
      "text/plain": [
       "'7415112 53631'"
      ]
     },
     "execution_count": 381,
     "metadata": {},
     "output_type": "execute_result"
    }
   ],
   "source": [
    "answers[89]"
   ]
  },
  {
   "cell_type": "markdown",
   "metadata": {},
   "source": [
    "## Задача 91"
   ]
  },
  {
   "cell_type": "code",
   "execution_count": null,
   "metadata": {},
   "outputs": [
    {
     "data": {
      "text/plain": [
       "'6597803 168674858'"
      ]
     },
     "execution_count": 382,
     "metadata": {},
     "output_type": "execute_result"
    }
   ],
   "source": [
    "def isSpecial(x):\n",
    "    if x >= 0:\n",
    "        return False\n",
    "\n",
    "    x = abs(x)\n",
    "    \n",
    "    s = 0\n",
    "    while x > 0:\n",
    "        s += x % 3\n",
    "        x //= 3\n",
    "\n",
    "    return s == 12\n",
    "\n",
    "def problem91_bruteforce(path):\n",
    "    with open(path) as f:\n",
    "        n, k, d = map(int, f.readline().split())\n",
    "        a = list()\n",
    "        for i in range(n):\n",
    "            a.append(int(f.readline()))\n",
    "\n",
    "        result = -10001\n",
    "        for length in [x * d for x in range(1, n // d + 1)]:\n",
    "            for l in range(n-length+1):\n",
    "                r = l+length\n",
    "                s = sum(a[l:r])\n",
    "                c = 0\n",
    "                for x in a[l:r]:\n",
    "                    if isSpecial(x):\n",
    "                        c += 1\n",
    "\n",
    "                if c % k == 0 and s > result:\n",
    "                    result = s\n",
    "\n",
    "        return result\n",
    "\n",
    "def problem91(path):\n",
    "    with open(path) as f:\n",
    "        n, k, d = map(int, f.readline().split())\n",
    "        answer = -10001\n",
    "        s = 0\n",
    "        count = 0\n",
    "\n",
    "        infty = 10 ** 20\n",
    "        m = [infty] * k # m[i] - минимальная префикс-сумма, в которой количество особенных кратно k\n",
    "        c = [0] * k # c[i] - номер итерации, на которой встречена префикс-сумма m[i]\n",
    "\n",
    "        for i in range(n):\n",
    "            x = int(f.readline())\n",
    "            s += x\n",
    "\n",
    "            if isSpecial(x):\n",
    "                count += 1\n",
    "\n",
    "            r = count % k\n",
    "\n",
    "            if s > answer and r == 0 and i % d == 0:\n",
    "                answer = s\n",
    "            elif m[r] != infty and s - m[r] > answer and c[r] % d == i % d:\n",
    "                answer = s - m[r]\n",
    "            \n",
    "            if s < m[r]:\n",
    "                m[r] = s\n",
    "                c[r] = i\n",
    "\n",
    "        return answer\n",
    "\n",
    "solutions[91] = '{} {}'.format(problem91('./data/27data/91/27-91a.txt'), problem91('./data/27data/91/27-91b.txt'))\n",
    "solutions[91]"
   ]
  },
  {
   "cell_type": "code",
   "execution_count": null,
   "metadata": {},
   "outputs": [
    {
     "data": {
      "text/plain": [
       "6597803"
      ]
     },
     "execution_count": 383,
     "metadata": {},
     "output_type": "execute_result"
    }
   ],
   "source": [
    "problem91_bruteforce('./data/27data/91/27-91a.txt')"
   ]
  },
  {
   "cell_type": "code",
   "execution_count": null,
   "metadata": {},
   "outputs": [
    {
     "data": {
      "text/plain": [
       "6597803"
      ]
     },
     "execution_count": 384,
     "metadata": {},
     "output_type": "execute_result"
    }
   ],
   "source": [
    "problem91('./data/27data/91/27-91a.txt')"
   ]
  },
  {
   "cell_type": "markdown",
   "metadata": {},
   "source": [
    "## Задача 92"
   ]
  },
  {
   "cell_type": "code",
   "execution_count": null,
   "metadata": {},
   "outputs": [
    {
     "data": {
      "text/plain": [
       "'4710 7368'"
      ]
     },
     "execution_count": 385,
     "metadata": {},
     "output_type": "execute_result"
    }
   ],
   "source": [
    "def isSpecial(x):\n",
    "    return x > 0 and x % 2 == 0\n",
    "\n",
    "def problem92_bruteforce(path):\n",
    "    with open(path) as f:\n",
    "        n = int(f.readline())\n",
    "        a = list()\n",
    "        for i in range(n):\n",
    "            a.append(int(f.readline()))\n",
    "\n",
    "        result = -10001\n",
    "        for length in range(1, n+1):\n",
    "            for l in range(n-length+1):\n",
    "                r = l+length\n",
    "                s = 0\n",
    "                c = 0\n",
    "                for x in a[l:r]:\n",
    "                    s += x\n",
    "                    if isSpecial(x):\n",
    "                        c += 1\n",
    "\n",
    "                if c == 1 and s > result:\n",
    "                    result = s\n",
    "\n",
    "        return result\n",
    "\n",
    "def problem92(path):\n",
    "    with open(path) as f:\n",
    "        n = int(f.readline())\n",
    "        answer = 0\n",
    "        count = 0 # количество особенных\n",
    "        s = 0 # сумма всех чисел (текущая префикс-сумма на i-й итерации)\n",
    "\n",
    "        infty = 10 ** 20\n",
    "        m = infty # минимальная префикс-сумма, в которой count-1 особенных чисел\n",
    "        m_next = infty # минимальная префикс-сумма, в которой count особенных чисел\n",
    "\n",
    "        for i in range(n):\n",
    "            x = int(f.readline())\n",
    "            s += x\n",
    "\n",
    "            if isSpecial(x):\n",
    "                count += 1\n",
    "                m = m_next\n",
    "                m_next = infty\n",
    "\n",
    "            if count == 1 and s > answer:\n",
    "                answer = max(answer, s)\n",
    "            elif count > 1:\n",
    "                answer = max(answer, s - m)\n",
    "                m_next = min(m_next, s)\n",
    "        \n",
    "        return answer\n",
    "\n",
    "solutions[92] = '{} {}'.format(problem92('./data/27data/92/27-92a.txt'), problem92('./data/27data/92/27-92b.txt'))\n",
    "solutions[92]"
   ]
  },
  {
   "cell_type": "code",
   "execution_count": null,
   "metadata": {},
   "outputs": [],
   "source": [
    "def problem92_Artem(path):\n",
    "    def special(x):\n",
    "        if x > 0 and x % 2 == 0:\n",
    "            return True\n",
    "\n",
    "    f = open(path)\n",
    "    n = int(f.readline())\n",
    "\n",
    "    max_sum = -10**20\n",
    "\n",
    "    sum = 0\n",
    "    a = [10**20] * 2\n",
    "    for i in range(n):\n",
    "        x = int(f.readline())\n",
    "        sum += x\n",
    "\n",
    "        if special(x):\n",
    "            a[0] = a[1]\n",
    "            a[1] = sum\n",
    "\n",
    "        max_sum = max(max_sum, sum - a[0])\n",
    "\n",
    "        a[1] = min(a[1], sum)\n",
    "    return max_sum"
   ]
  },
  {
   "cell_type": "code",
   "execution_count": null,
   "metadata": {},
   "outputs": [
    {
     "data": {
      "text/plain": [
       "4710"
      ]
     },
     "execution_count": 387,
     "metadata": {},
     "output_type": "execute_result"
    }
   ],
   "source": [
    "problem92_bruteforce('./data/27data/92/27-92a.txt')"
   ]
  },
  {
   "cell_type": "code",
   "execution_count": null,
   "metadata": {},
   "outputs": [
    {
     "data": {
      "text/plain": [
       "7368"
      ]
     },
     "execution_count": 388,
     "metadata": {},
     "output_type": "execute_result"
    }
   ],
   "source": [
    "problem92_Artem('./data/27data/92/27-92b.txt')"
   ]
  },
  {
   "cell_type": "code",
   "execution_count": null,
   "metadata": {},
   "outputs": [
    {
     "data": {
      "text/plain": [
       "'4710 7368'"
      ]
     },
     "execution_count": 389,
     "metadata": {},
     "output_type": "execute_result"
    }
   ],
   "source": [
    "answers[92]"
   ]
  },
  {
   "cell_type": "code",
   "execution_count": null,
   "metadata": {},
   "outputs": [],
   "source": [
    "from random import randint\n",
    "\n",
    "def input_generator92(path):\n",
    "    with open(path, 'w+') as f:\n",
    "        n = 15\n",
    "        f.write(str(n) + '\\n')\n",
    "\n",
    "        for i in range(n):\n",
    "            f.write(str(randint(-10000, 10000)) + '\\n')"
   ]
  },
  {
   "cell_type": "code",
   "execution_count": null,
   "metadata": {},
   "outputs": [
    {
     "name": "stdout",
     "output_type": "stream",
     "text": [
      "Tests are skipped. Set test_env variable to True in order to test.\n"
     ]
    }
   ],
   "source": [
    "run_tests(problem92_bruteforce, problem92, input_generator92)"
   ]
  },
  {
   "cell_type": "markdown",
   "metadata": {},
   "source": [
    "## Задача 94"
   ]
  },
  {
   "cell_type": "code",
   "execution_count": 102,
   "metadata": {},
   "outputs": [
    {
     "data": {
      "text/plain": [
       "'97 823'"
      ]
     },
     "execution_count": 102,
     "metadata": {},
     "output_type": "execute_result"
    }
   ],
   "source": [
    "def problem94_bruteforce(path):\n",
    "    with open(path) as f:\n",
    "        n = int(f.readline())\n",
    "        a = list()\n",
    "        for i in range(n):\n",
    "            a.append(int(f.readline()))\n",
    "\n",
    "        result = -10001\n",
    "        for length in range(1, n+1):\n",
    "            for l in range(n-length+1):\n",
    "                r = l+length\n",
    "                \n",
    "                c5 = 0\n",
    "                c7 = 0\n",
    "                for x in a[l:r]:\n",
    "                    if x % 5 == 0:\n",
    "                        c5 += 1\n",
    "                    if x % 7 == 0:\n",
    "                        c7 += 1\n",
    "\n",
    "                if c5 == c7 and length > result:\n",
    "                    result = length\n",
    "\n",
    "        return result\n",
    "\n",
    "def problem94(path):\n",
    "    with open(path) as f:\n",
    "        n = int(f.readline())\n",
    "        answer = 0\n",
    "        \n",
    "        c = 0 # префикс-счетчик на i-й итерации\n",
    "        c5 = 0 # количество кратных 5 на i-й итерации\n",
    "        c7 = 0 # количество кратных 7 на i-й итерации\n",
    "\n",
    "        d = {} # d[j] - минимальная сумма среди подпоследовательностей, в которой разность между c5 и c7 равна j\n",
    "        \n",
    "        for i in range(n):\n",
    "            x = int(f.readline())\n",
    "            c += 1\n",
    "\n",
    "            if x % 5 == 0:\n",
    "                c5 += 1\n",
    "            if x % 7 == 0:\n",
    "                c7 += 1\n",
    "\n",
    "            if c5 == c7:\n",
    "                answer = max(c, answer)\n",
    "            elif c5 - c7 not in d:\n",
    "                d[c5 - c7] = c\n",
    "            else:\n",
    "                answer = max(c - d[c5 - c7], answer)\n",
    "                d[c5 - c7] = min(d[c5 - c7], c)\n",
    "        \n",
    "        return answer\n",
    "\n",
    "solutions[94] = '{} {}'.format(problem94('./data/27data/94/27-94a.txt'), problem94('./data/27data/94/27-94b.txt'))\n",
    "solutions[94]"
   ]
  },
  {
   "cell_type": "markdown",
   "metadata": {},
   "source": [
    "## Задача 96"
   ]
  },
  {
   "cell_type": "code",
   "execution_count": 27,
   "metadata": {},
   "outputs": [
    {
     "data": {
      "text/plain": [
       "'497239 4282001'"
      ]
     },
     "execution_count": 27,
     "metadata": {},
     "output_type": "execute_result"
    }
   ],
   "source": [
    "def problem96_bruteforce(path):\n",
    "    with open(path) as f:\n",
    "        n = int(f.readline())\n",
    "        a = list()\n",
    "        for i in range(n):\n",
    "            a.append(int(f.readline()))\n",
    "\n",
    "        result = -10001\n",
    "        for length in range(1, n+1):\n",
    "            for l in range(n-length+1):\n",
    "                r = l+length\n",
    "                s = 0\n",
    "                c5 = 0\n",
    "                c7 = 0\n",
    "                for x in a[l:r]:\n",
    "                    s += x\n",
    "                    if x % 5 == 0:\n",
    "                        c5 += 1\n",
    "                    if x % 7 == 0:\n",
    "                        c7 += 1\n",
    "\n",
    "                if c5 == c7 and s > result:\n",
    "                    result = s\n",
    "\n",
    "        return result\n",
    "\n",
    "def problem96(path):\n",
    "    with open(path) as f:\n",
    "        n = int(f.readline())\n",
    "        answer = 0\n",
    "        \n",
    "        s = 0 # префикс-сумма на i-й итерации\n",
    "        c5 = 0 # количество кратных 5 на i-й итерации\n",
    "        c7 = 0 # количество кратных 7 на i-й итерации\n",
    "\n",
    "        d = {} # d[j] - минимальная сумма среди подпоследовательностей, в которой разность между c5 и c7 равна j\n",
    "        \n",
    "        for i in range(n):\n",
    "            x = int(f.readline())\n",
    "            s += x\n",
    "\n",
    "            if x % 5 == 0:\n",
    "                c5 += 1\n",
    "            if x % 7 == 0:\n",
    "                c7 += 1\n",
    "\n",
    "            if c5 == c7:\n",
    "                answer = max(s, answer)\n",
    "            elif c5 - c7 not in d:\n",
    "                d[c5 - c7] = s\n",
    "            else:\n",
    "                answer = max(s - d[c5 - c7], answer)\n",
    "                d[c5 - c7] = min(d[c5 - c7], s)\n",
    "        \n",
    "        return answer\n",
    "\n",
    "solutions[96] = '{} {}'.format(problem96('./data/27data/96/27-96a.txt'), problem96('./data/27data/96/27-96b.txt'))\n",
    "solutions[96]"
   ]
  },
  {
   "cell_type": "code",
   "execution_count": null,
   "metadata": {},
   "outputs": [],
   "source": [
    "def f(x):\n",
    "    return 10 ** 20"
   ]
  },
  {
   "cell_type": "code",
   "execution_count": 28,
   "metadata": {},
   "outputs": [
    {
     "data": {
      "text/plain": [
       "497239"
      ]
     },
     "execution_count": 28,
     "metadata": {},
     "output_type": "execute_result"
    }
   ],
   "source": [
    "problem96_bruteforce('./data/27data/96/27-96a.txt')"
   ]
  },
  {
   "cell_type": "code",
   "execution_count": 26,
   "metadata": {},
   "outputs": [
    {
     "data": {
      "text/plain": [
       "'497239 4282001'"
      ]
     },
     "execution_count": 26,
     "metadata": {},
     "output_type": "execute_result"
    }
   ],
   "source": [
    "answers[96]"
   ]
  },
  {
   "cell_type": "code",
   "execution_count": 32,
   "metadata": {},
   "outputs": [],
   "source": [
    "from random import randint\n",
    "\n",
    "def input_generator_one_per_line(path):\n",
    "    with open(path, 'w+') as f:\n",
    "        n = 15\n",
    "        f.write(str(n) + '\\n')\n",
    "\n",
    "        for i in range(n):\n",
    "            f.write(str(randint(1, 10000)) + '\\n')"
   ]
  },
  {
   "cell_type": "code",
   "execution_count": 57,
   "metadata": {},
   "outputs": [
    {
     "name": "stdout",
     "output_type": "stream",
     "text": [
      "[0, 1, 2, 3, 4, 5, 6, 7, 8, 9]\n",
      "[1, 2, 3, 4, 5, 6, 7, 8, 9, 9]\n",
      "[2, 3, 4, 5, 6, 7, 8, 9, 9, 9]\n"
     ]
    }
   ],
   "source": [
    "K = 9\n",
    "minTails = list(range(K+1))\n",
    "print(minTails)\n",
    "for i in range(K):\n",
    "    minTails[i] = minTails[i+1]\n",
    "\n",
    "print(minTails)\n",
    "\n",
    "for i in range(K):\n",
    "    minTails[i] = minTails[i+1]\n",
    "\n",
    "print(minTails)"
   ]
  },
  {
   "cell_type": "markdown",
   "metadata": {},
   "source": [
    "## Задача 103"
   ]
  },
  {
   "cell_type": "markdown",
   "metadata": {},
   "source": [
    "На вход программе подается последовательность целых чисел. Рассматриваются все непрерывные подпоследовательности исходной последовательности, такие что произведение элементов каждой из них не кратно M = 345600. Найдите количество таких подпоследовательностей."
   ]
  },
  {
   "cell_type": "code",
   "execution_count": null,
   "metadata": {},
   "outputs": [
    {
     "name": "stdout",
     "output_type": "stream",
     "text": [
      "[2, 3, 4, 5, 6, 8, 9, 10, 12, 15, 16, 18, 20, 24, 25, 27, 30, 32, 36, 40, 45, 48, 50, 54, 60, 64, 72, 75, 80, 90, 96, 100, 108, 120, 128, 135, 144, 150, 160, 180, 192, 200, 216, 225, 240, 256, 270, 288, 300, 320, 360, 384, 400, 432, 450, 480, 512, 540, 576, 600, 640, 675, 720, 768, 800, 864, 900, 960, 1080, 1152, 1200, 1280, 1350, 1440, 1536, 1600, 1728, 1800, 1920, 2160, 2304, 2400, 2560, 2700, 2880, 3200, 3456, 3600, 3840, 4320, 4608, 4800, 5400, 5760, 6400, 6912, 7200, 7680, 8640, 9600, 10800, 11520, 12800, 13824, 14400, 17280, 19200, 21600, 23040, 28800, 34560, 38400, 43200, 57600, 69120, 86400, 115200, 172800]\n"
     ]
    }
   ],
   "source": [
    "i = 2\n",
    "d = []\n",
    "while i * i <= 345600:\n",
    "    if 345600 % i == 0:\n",
    "        d.append(i)\n",
    "        d.append(345600 // i)\n",
    "    i += 1\n",
    "\n",
    "d.sort()\n",
    "print(d)"
   ]
  },
  {
   "cell_type": "code",
   "execution_count": null,
   "metadata": {},
   "outputs": [],
   "source": [
    "def problem103_bruteforce(path):\n",
    "    with open(path) as f:\n",
    "        n = int(f.readline())\n",
    "        a = list()\n",
    "        for i in range(n):\n",
    "            a.append(int(f.readline()))\n",
    "\n",
    "        result = 0\n",
    "        for length in range(1, n+1):\n",
    "            for l in range(n-length+1):\n",
    "                r = l+length\n",
    "                p = 1\n",
    "                for item in a[l:r+1]:\n",
    "                    p *= item\n",
    "                \n",
    "                if p % 345600 != 0:\n",
    "                    result += 1\n",
    "\n",
    "        return result"
   ]
  },
  {
   "cell_type": "code",
   "execution_count": null,
   "metadata": {},
   "outputs": [],
   "source": [
    "def problem103(path):\n",
    "    m = 345600\n",
    "\n",
    "    # pos[i] - словарь, отображающий простые делители числа m в очередь фиксированного размера\n",
    "    pos = {}\n",
    "    d = 2\n",
    "    m = 345600\n",
    "    while m > 1:\n",
    "        while m % d == 0:\n",
    "            pos[d] = pos.get(d, []) + [None]\n",
    "            m //= d\n",
    "        d += 1\n",
    "\n",
    "#     with open(path) as f:\n",
    "#         n = int(f.readline())\n",
    "#         data = [int(line.strip()) for line in f.readlines()]\n",
    "\n",
    "#         result = 0\n",
    "#         for i, x in enumerate(data):\n",
    "#             # проходимся по ключам\n",
    "#             for divisor in pos:\n",
    "#                 while x % divisor == 0:\n",
    "#                     pos[divisor].pop(0)\n",
    "#                     pos[divisor].append(i) # добавляем в очередь \n",
    "#                     x //= divisor\n",
    "\n",
    "#             result += (i - min(min(pos.values())))\n",
    "#         return result\n",
    "\n",
    "# solutions[103] = '{} {}'.format(problem103('./data/27data/103/27-103a.txt'), problem103('./data/27data/103/27-103b.txt'))\n",
    "# solutions[103]"
   ]
  },
  {
   "cell_type": "code",
   "execution_count": null,
   "metadata": {},
   "outputs": [],
   "source": [
    "# run_tests(problem103_bruteforce, problem103, input_generator_one_per_line)"
   ]
  },
  {
   "cell_type": "markdown",
   "metadata": {},
   "source": [
    "## Проверка решений"
   ]
  },
  {
   "cell_type": "code",
   "execution_count": 79,
   "metadata": {},
   "outputs": [
    {
     "name": "stdout",
     "output_type": "stream",
     "text": [
      "OK!\n",
      "Solved problems: [40, 44, 47, 50, 58]\n"
     ]
    }
   ],
   "source": [
    "ok_flag = True\n",
    "\n",
    "solutions = [str(solution) if solution != None else None for solution in solutions]\n",
    "solved = []\n",
    "\n",
    "for i in range(1, len(answers)):\n",
    "    if solutions[i] is not None:\n",
    "        if solutions[i].split() == answers[i].split():\n",
    "            solved.append(i)\n",
    "        else:\n",
    "            print('Error in problem {}. Correct Answer: {}. Given: {}'.format(i, answers[i], solutions[i]))\n",
    "            ok_flag = False\n",
    "\n",
    "if ok_flag:\n",
    "    print('OK!')\n",
    "print('Solved problems: {}'.format(solved))"
   ]
  }
 ],
 "metadata": {
  "interpreter": {
   "hash": "73e03da126b73bfff3642ec5261d56fa25c444ea595de51041687efaa60dda41"
  },
  "kernelspec": {
   "display_name": "Python 3.9.7 64-bit ('base': conda)",
   "language": "python",
   "name": "python3"
  },
  "language_info": {
   "codemirror_mode": {
    "name": "ipython",
    "version": 3
   },
   "file_extension": ".py",
   "mimetype": "text/x-python",
   "name": "python",
   "nbconvert_exporter": "python",
   "pygments_lexer": "ipython3",
   "version": "3.9.7"
  },
  "orig_nbformat": 4
 },
 "nbformat": 4,
 "nbformat_minor": 2
}
