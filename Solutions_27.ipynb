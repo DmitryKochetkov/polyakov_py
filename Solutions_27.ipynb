{
 "cells": [
  {
   "cell_type": "markdown",
   "metadata": {},
   "source": [
    "# Задача 27 (Самая сложная программа в ЕГЭ)"
   ]
  },
  {
   "cell_type": "code",
   "execution_count": 4,
   "metadata": {},
   "outputs": [],
   "source": [
    "import pandas as pd\n",
    "answers = pd.read_csv('./data/answers.csv', encoding='windows-1251')['27'].to_list()\n",
    "answers = [None] + answers\n",
    "\n",
    "solutions = [None] * (len(answers)+1) # solutions[i] - решение i-й задачи. solutions[0] не используется."
   ]
  },
  {
   "cell_type": "code",
   "execution_count": 5,
   "metadata": {},
   "outputs": [],
   "source": [
    "test_env = True  # если True, то тесты будут запущены"
   ]
  },
  {
   "cell_type": "code",
   "execution_count": 21,
   "metadata": {},
   "outputs": [],
   "source": [
    "from tqdm import tqdm\n",
    "\n",
    "def run_tests(f_bruteforce, f, input_generator):\n",
    "    \"\"\"\n",
    "    Runs random tests using bruteforce solution.\n",
    "\n",
    "    ## Parameters\n",
    "\n",
    "    `f_bruteforce`: bruteforce solution.\n",
    "\n",
    "    `f`: Efficient solution.\n",
    "\n",
    "    `path`: Path to the input files folder.\n",
    "    \"\"\"\n",
    "\n",
    "    if test_env:\n",
    "        path = 'tmp.txt'\n",
    "\n",
    "        failed_tests = 0\n",
    "        print('Testing in progress...')\n",
    "        for test_id in tqdm(range(1, 1000+1)):\n",
    "            input_generator(path)\n",
    "            expected = f_bruteforce(path)\n",
    "            actual = f(path)\n",
    "            \n",
    "            if expected != actual:\n",
    "                failed_tests += 1\n",
    "                print('Test {} failed. Expected {}, actual {}'.format(test_id, expected, actual))\n",
    "\n",
    "            if failed_tests >= 10:\n",
    "                print('Testing is stopped after 10 failed tests.')\n",
    "                break\n",
    "\n",
    "        if failed_tests == 0:\n",
    "            print('OK! All tests passed.')\n",
    "    else:\n",
    "        print('Tests are skipped. Set test_env variable to True in order to test.')"
   ]
  },
  {
   "cell_type": "code",
   "execution_count": 7,
   "metadata": {},
   "outputs": [],
   "source": [
    "from random import randint\n",
    "\n",
    "\"\"\"\n",
    "Генерирует входные данные в виде набора троек натуральных чисел.\n",
    "\"\"\"\n",
    "def positive_triplet_generator(path):\n",
    "    with open(path, 'w+') as f:\n",
    "        n = 10\n",
    "        f.write(str(n) + '\\n')\n",
    "\n",
    "        for i in range(n):\n",
    "            f.write(str(randint(1, 100000)) + ' ' + str(randint(1, 100000)) + ' ' + str(randint(1, 100000)) + '\\n')"
   ]
  },
  {
   "cell_type": "code",
   "execution_count": 8,
   "metadata": {},
   "outputs": [],
   "source": [
    "from random import randint\n",
    "\n",
    "\"\"\"\n",
    "Генерирует входные данные в виде набора пар натуральных чисел.\n",
    "\"\"\"\n",
    "def positive_pair_generator(path):\n",
    "    with open(path, 'w+') as f:\n",
    "        n = 5\n",
    "        f.write(str(n) + '\\n')\n",
    "\n",
    "        for i in range(n):\n",
    "            f.write(str(randint(1, 100000)) + ' ' + str(randint(1, 100000)) + '\\n')"
   ]
  },
  {
   "cell_type": "code",
   "execution_count": 9,
   "metadata": {},
   "outputs": [],
   "source": [
    "from random import randint\n",
    "\n",
    "def input_generator_one_per_line(path):\n",
    "    with open(path, 'w+') as f:\n",
    "        n = 15\n",
    "        f.write(str(n) + '\\n')\n",
    "\n",
    "        for i in range(n):\n",
    "            f.write(str(randint(1, 10000)) + '\\n')"
   ]
  },
  {
   "cell_type": "markdown",
   "metadata": {},
   "source": [
    "## Задача 4"
   ]
  },
  {
   "cell_type": "code",
   "execution_count": 14,
   "metadata": {},
   "outputs": [],
   "source": [
    "def problem4_incorrect(path):\n",
    "    with open(path) as f:\n",
    "        n = int(f.readline())\n",
    "\n",
    "        s = 0 # ответ на задачу\n",
    "        r = [10001] * 5 # r[i] - наименьшая разница между x и y по всем парам среди тех разниц, у которых остаток от деления на 5 равен i\n",
    "\n",
    "        for _ in range(n):\n",
    "            x, y = map(int, f.readline().split())\n",
    "            if x > y:\n",
    "                x, y = y, x\n",
    "\n",
    "            s += x\n",
    "            d = y - x\n",
    "            r[d % 5] = min(r[d % 5], d)\n",
    "\n",
    "        print(r)\n",
    "\n",
    "        if s % 5 == 0:\n",
    "            return s\n",
    "\n",
    "        return s - r[1]"
   ]
  },
  {
   "cell_type": "code",
   "execution_count": 27,
   "metadata": {},
   "outputs": [
    {
     "data": {
      "text/plain": [
       "'123720 402332230'"
      ]
     },
     "execution_count": 27,
     "metadata": {},
     "output_type": "execute_result"
    }
   ],
   "source": [
    "def problem4_bruteforce(path):\n",
    "    with open(path) as f:\n",
    "        n = int(f.readline())\n",
    "        a = list()\n",
    "        for _ in range(n):\n",
    "            pair = list(map(int, f.readline().split()))\n",
    "            a.append(pair)\n",
    "\n",
    "        result = None\n",
    "\n",
    "        for option in list(product([0, 1], repeat=n)):\n",
    "            s = 0\n",
    "            for i, x in enumerate(option):\n",
    "                s += a[i][x]\n",
    "\n",
    "            if s % 5 == 0 and (result == None or s > result):\n",
    "                result = s\n",
    "\n",
    "        return result\n",
    "\n",
    "def problem4(path):\n",
    "    with open(path) as f:\n",
    "        n = int(f.readline())\n",
    "\n",
    "        s = 0\n",
    "        m = [10 ** 20] * 5\n",
    "        for i in range(n):\n",
    "            x, y = map(int, f.readline().split())\n",
    "            a = abs(x-y)\n",
    "            s += max(x,y)\n",
    "\n",
    "            m[a % 5] = min(m[a % 5], a)\n",
    "\n",
    "        \n",
    "        if s % 5 == 1:\n",
    "            s -= m[1]\n",
    "        if s % 5 == 2:\n",
    "            s -= m[2]\n",
    "        if s % 5 == 3:\n",
    "            s -= min(m[1]+m[2],m[3])\n",
    "        if s % 5 == 4:\n",
    "            s -= min(m[1]+m[3],m[4])\n",
    "\n",
    "        return s\n",
    "\n",
    "solutions[4] = '{} {}'.format(problem4('./data/27data/4/27-4a.txt'), problem4('./data/27data/4/27-4b.txt'))\n",
    "solutions[4]"
   ]
  },
  {
   "cell_type": "code",
   "execution_count": 28,
   "metadata": {},
   "outputs": [],
   "source": [
    "from random import randint\n",
    "\n",
    "def input_generator4(path):\n",
    "    with open(path, 'w+') as f:\n",
    "        n = 12\n",
    "        f.write(str(n) + '\\n')\n",
    "\n",
    "        for i in range(n):\n",
    "            f.write(str(randint(1, 100000)) + ' ' + str(randint(1, 100000)) + '\\n')"
   ]
  },
  {
   "cell_type": "code",
   "execution_count": 29,
   "metadata": {},
   "outputs": [
    {
     "name": "stdout",
     "output_type": "stream",
     "text": [
      "Testing in progress...\n"
     ]
    },
    {
     "name": "stderr",
     "output_type": "stream",
     "text": [
      "  1%|          | 7/1000 [00:00<00:15, 63.94it/s]"
     ]
    },
    {
     "name": "stdout",
     "output_type": "stream",
     "text": [
      "Test 10 failed. Expected 658960, actual 633640\n",
      "Test 12 failed. Expected 732430, actual 703115\n"
     ]
    },
    {
     "name": "stderr",
     "output_type": "stream",
     "text": [
      "  2%|▏         | 21/1000 [00:00<00:14, 66.47it/s]"
     ]
    },
    {
     "name": "stdout",
     "output_type": "stream",
     "text": [
      "Test 15 failed. Expected 844200, actual 827325\n",
      "Test 17 failed. Expected 764035, actual 736415\n",
      "Test 18 failed. Expected 742505, actual 710885\n",
      "Test 22 failed. Expected 853605, actual 792945\n",
      "Test 27 failed. Expected 791075, actual 781255\n"
     ]
    },
    {
     "name": "stderr",
     "output_type": "stream",
     "text": [
      "  4%|▎         | 35/1000 [00:00<00:14, 67.16it/s]"
     ]
    },
    {
     "name": "stdout",
     "output_type": "stream",
     "text": [
      "Test 41 failed. Expected 793005, actual 790960\n"
     ]
    },
    {
     "name": "stderr",
     "output_type": "stream",
     "text": [
      "  5%|▍         | 49/1000 [00:00<00:14, 65.33it/s]"
     ]
    },
    {
     "name": "stdout",
     "output_type": "stream",
     "text": [
      "Test 45 failed. Expected 742170, actual 741885\n",
      "Test 50 failed. Expected 855055, actual 819100\n",
      "Testing is stopped after 10 failed tests.\n"
     ]
    },
    {
     "name": "stderr",
     "output_type": "stream",
     "text": [
      "\n"
     ]
    }
   ],
   "source": [
    "run_tests(problem4_bruteforce, problem4, input_generator4)"
   ]
  },
  {
   "cell_type": "markdown",
   "metadata": {},
   "source": [
    "## Задача 5"
   ]
  },
  {
   "cell_type": "code",
   "execution_count": 18,
   "metadata": {},
   "outputs": [],
   "source": [
    "def problem5_bruteforce(path):\n",
    "    with open(path) as f:\n",
    "        n = int(f.readline())\n",
    "        a = list()\n",
    "        for _ in range(n):\n",
    "            pair = list(map(int, f.readline().split()))\n",
    "            a.append(pair)\n",
    "\n",
    "        result = None\n",
    "\n",
    "        for option in list(product([0, 1], repeat=n)):\n",
    "            s = 0\n",
    "            for i, x in enumerate(option):\n",
    "                s += a[i][x]\n",
    "\n",
    "            if s % 5 == 0 and (result == None or s < result):\n",
    "                result = s\n",
    "\n",
    "        return result\n",
    "\n",
    "\n",
    "def problem5(path):\n",
    "    with open(path) as f:\n",
    "        n = int(f.readline())\n",
    "        s = 0\n",
    "\n",
    "        infty = 10 ** 20\n",
    "        m = [infty] * 5\n",
    "\n",
    "        for i in range(n):\n",
    "            x, y = map(int, f.readline().split())\n",
    "            a = abs(x - y)\n",
    "            s += min(x, y)\n",
    "            m[a % 5] = min(m[a % 5], a)\n",
    "\n",
    "        if s % 5 == 1:\n",
    "            s += min(m[1] + m[3], m[4])\n",
    "        if s % 5 == 2:\n",
    "            s += min(m[1] + m[2], m[3])\n",
    "        if s % 5 == 3:\n",
    "            s += m[2]\n",
    "        if s % 5 == 4:\n",
    "            s += m[1]\n",
    "\n",
    "        return s\n",
    "\n",
    "\n",
    "\n"
   ]
  },
  {
   "cell_type": "code",
   "execution_count": 19,
   "metadata": {},
   "outputs": [
    {
     "data": {
      "text/plain": [
       "75960"
      ]
     },
     "execution_count": 19,
     "metadata": {},
     "output_type": "execute_result"
    }
   ],
   "source": [
    "problem5_bruteforce('./data/27data/5/27-5a.txt')"
   ]
  },
  {
   "cell_type": "code",
   "execution_count": 20,
   "metadata": {},
   "outputs": [
    {
     "data": {
      "text/plain": [
       "'75960 203343860'"
      ]
     },
     "execution_count": 20,
     "metadata": {},
     "output_type": "execute_result"
    }
   ],
   "source": [
    "solutions[5] = '{} {}'.format(problem5('./data/27data/5/27-5a.txt'), problem5('./data/27data/5/27-5b.txt'))\n",
    "solutions[5]"
   ]
  },
  {
   "cell_type": "code",
   "execution_count": 21,
   "metadata": {},
   "outputs": [],
   "source": [
    "from random import randint\n",
    "\n",
    "def input_generator5(path):\n",
    "    with open(path, 'w+') as f:\n",
    "        n = 12\n",
    "        f.write(str(n) + '\\n')\n",
    "\n",
    "        for i in range(n):\n",
    "            f.write(str(randint(1, 30000)) + ' ' + str(randint(1, 30000)) + '\\n')"
   ]
  },
  {
   "cell_type": "code",
   "execution_count": 22,
   "metadata": {},
   "outputs": [
    {
     "name": "stdout",
     "output_type": "stream",
     "text": [
      "Testing in progress...\n"
     ]
    },
    {
     "name": "stderr",
     "output_type": "stream",
     "text": [
      "  2%|▎         | 25/1000 [00:00<00:07, 122.39it/s]"
     ]
    },
    {
     "name": "stdout",
     "output_type": "stream",
     "text": [
      "Test 7 failed. Expected 128825, actual 144695\n",
      "Test 18 failed. Expected 129115, actual 132935\n"
     ]
    },
    {
     "name": "stderr",
     "output_type": "stream",
     "text": [
      "  5%|▌         | 51/1000 [00:00<00:07, 123.89it/s]"
     ]
    },
    {
     "name": "stdout",
     "output_type": "stream",
     "text": [
      "Test 34 failed. Expected 119670, actual 126405\n",
      "Test 37 failed. Expected 190225, actual 100000000000000184319\n",
      "Test 38 failed. Expected 136505, actual 140975\n",
      "Test 40 failed. Expected 149950, actual 158430\n",
      "Test 51 failed. Expected 88375, actual 95500\n",
      "Test 52 failed. Expected 107540, actual 109250\n"
     ]
    },
    {
     "name": "stderr",
     "output_type": "stream",
     "text": [
      "  8%|▊         | 76/1000 [00:00<00:07, 122.58it/s]"
     ]
    },
    {
     "name": "stdout",
     "output_type": "stream",
     "text": [
      "Test 73 failed. Expected 147205, actual 157160\n",
      "Test 77 failed. Expected 122655, actual 124610\n",
      "Testing is stopped after 10 failed tests.\n"
     ]
    },
    {
     "name": "stderr",
     "output_type": "stream",
     "text": [
      "\n"
     ]
    }
   ],
   "source": [
    "run_tests(problem5_bruteforce, problem5, input_generator5)"
   ]
  },
  {
   "cell_type": "code",
   "execution_count": 23,
   "metadata": {},
   "outputs": [],
   "source": [
    "def problem5_polyakov(path):\n",
    "    with open(path) as f:\n",
    "        n = int(f.readline())\n",
    "        s = 0\n",
    "\n",
    "        D = 5\n",
    "        s = 0\n",
    "        dMin = [10 ** 20] * D\n",
    "\n",
    "        for i in range(n):\n",
    "            a, b = map(int, f.readline().split())\n",
    "            s += min(a, b)\n",
    "            d = abs(a-b)\n",
    "            r = d % D\n",
    "\n",
    "            if r > 0:\n",
    "                dMinNew = dMin.copy()\n",
    "                for k in range(1, D):\n",
    "                    r0 = (r + k) % D\n",
    "                    dMinNew[r0] = min(d + dMin[k], dMinNew[r0])\n",
    "                dMinNew[r] = min(d, dMinNew[r])\n",
    "                dMin = dMinNew.copy()\n",
    "\n",
    "        if s % D == 0:\n",
    "            return s\n",
    "        else:\n",
    "            return s + dMin[D - s % D]"
   ]
  },
  {
   "cell_type": "markdown",
   "metadata": {},
   "source": [
    "dMin[i] - сумма разностей, такая что она дает остаток от деления на D равный i"
   ]
  },
  {
   "cell_type": "code",
   "execution_count": 24,
   "metadata": {},
   "outputs": [
    {
     "name": "stdout",
     "output_type": "stream",
     "text": [
      "Testing in progress...\n"
     ]
    },
    {
     "name": "stderr",
     "output_type": "stream",
     "text": [
      "100%|██████████| 1000/1000 [00:08<00:00, 121.46it/s]"
     ]
    },
    {
     "name": "stdout",
     "output_type": "stream",
     "text": [
      "OK! All tests passed.\n"
     ]
    },
    {
     "name": "stderr",
     "output_type": "stream",
     "text": [
      "\n"
     ]
    }
   ],
   "source": [
    "run_tests(problem5_bruteforce, problem5_polyakov, input_generator5)"
   ]
  },
  {
   "cell_type": "markdown",
   "metadata": {},
   "source": [
    "## Задача 9"
   ]
  },
  {
   "cell_type": "code",
   "execution_count": 43,
   "metadata": {},
   "outputs": [],
   "source": [
    "def problem9_bruteforce(path: str):\n",
    "    with open(path) as f:\n",
    "        n = int(f.readline())\n",
    "        a = list()\n",
    "\n",
    "        for i in range(n):\n",
    "            a.append(int(f.readline()))\n",
    "        \n",
    "        result = None\n",
    "        for i in range(n-6):\n",
    "            for j in range(i+6, n):\n",
    "                x = a[i] * a[j]\n",
    "                if x % 2 == 1 and (result == None or x < result):\n",
    "                    result = x\n",
    "\n",
    "        if result == None:\n",
    "            return -1\n",
    "        \n",
    "        return result"
   ]
  },
  {
   "cell_type": "markdown",
   "metadata": {},
   "source": [
    "## Задача 15"
   ]
  },
  {
   "cell_type": "code",
   "execution_count": 58,
   "metadata": {},
   "outputs": [],
   "source": [
    "def problem15_bruteforce(path: str):\n",
    "    with open(path) as f:\n",
    "        n = int(f.readline())\n",
    "        a = list()\n",
    "\n",
    "        for i in range(n):\n",
    "            a.append(int(f.readline()))\n",
    "        \n",
    "        answer = 0\n",
    "        for i in range(n):\n",
    "            for j in range(i+5, n):\n",
    "                s = a[i] + a[j]\n",
    "                if s % 14 == 0:\n",
    "                    answer += 1\n",
    "\n",
    "        return answer\n",
    "\n",
    "def problem15(path: str):\n",
    "    with open(path) as f:\n",
    "        n = int(f.readline())\n",
    "        answer = 0\n",
    "\n",
    "        window = [0] * 5\n",
    "\n",
    "        for i in range(n):\n",
    "            x = int(f.readline())\n",
    "\n",
    "        return answer"
   ]
  },
  {
   "cell_type": "code",
   "execution_count": 59,
   "metadata": {},
   "outputs": [],
   "source": [
    "# run_tests(problem15_bruteforce, problem15, input_generator15)"
   ]
  },
  {
   "cell_type": "markdown",
   "metadata": {},
   "source": [
    "## Задача 18"
   ]
  },
  {
   "cell_type": "code",
   "execution_count": 60,
   "metadata": {},
   "outputs": [],
   "source": [
    "def problem18_bruteforce(path: str):\n",
    "    with open(path) as f:\n",
    "        n = int(f.readline())\n",
    "        a = list()\n",
    "\n",
    "        for i in range(n):\n",
    "            a.append(int(f.readline()))\n",
    "\n",
    "        answer = 0\n",
    "        for i in range(n):\n",
    "            for j in range(i+1, min(i+5, n)):\n",
    "                if (a[i] * a[j]) % 13 == 0 and (a[i] + a[j]) % 2 == 1:\n",
    "                    answer += 1\n",
    "\n",
    "        return answer"
   ]
  },
  {
   "cell_type": "code",
   "execution_count": 61,
   "metadata": {},
   "outputs": [
    {
     "data": {
      "text/plain": [
       "'11 17813'"
      ]
     },
     "execution_count": 61,
     "metadata": {},
     "output_type": "execute_result"
    }
   ],
   "source": [
    "answers[18]"
   ]
  },
  {
   "cell_type": "code",
   "execution_count": 62,
   "metadata": {},
   "outputs": [],
   "source": [
    "def problem18(path: str):\n",
    "    with open(path) as f:\n",
    "        n = int(f.readline())\n",
    "\n",
    "        return 0"
   ]
  },
  {
   "cell_type": "code",
   "execution_count": 63,
   "metadata": {},
   "outputs": [
    {
     "data": {
      "text/plain": [
       "'11 17813'"
      ]
     },
     "execution_count": 63,
     "metadata": {},
     "output_type": "execute_result"
    }
   ],
   "source": [
    "solutions[18] = '{} {}'.format(problem18_bruteforce('./data/27data/18/27-18a.txt'), problem18_bruteforce('./data/27data/18/27-18b.txt'))\n",
    "solutions[18]"
   ]
  },
  {
   "cell_type": "markdown",
   "metadata": {},
   "source": [
    "## Задача 19"
   ]
  },
  {
   "cell_type": "markdown",
   "metadata": {},
   "source": [
    "Имеется набор данных, состоящий из целых чисел. Необходимо определить максимальное произведение подпоследовательности, состоящей из одного или более идущих подряд элементов.\n",
    "\n",
    "\n",
    "**Входные данные**: Даны два входных файла: файл A (`27-19a.txt`) и файл B (`27-19b.txt`), каждый из которых содержит в первой строке количество чисел N (1 ≤ N ≤ 100000). Каждая из следующих N строк содержит целое число, не превышающее по модулю 100.\n",
    "\n",
    "**Пример входного файла:**\n",
    "\n",
    "```\n",
    "7\n",
    "2\n",
    "3\n",
    "-2\n",
    "-3\n",
    "-1\n",
    "4\n",
    "6\n",
    "```\n",
    "\n",
    "Для указанных входных данных наибольшее произведение равно 72. Его можно получить для последовательности -3 -1 4 6. \n",
    "\n",
    "\n",
    "В ответе укажите два числа: сначала искомое значение для файла А, затем для файла B.\n",
    "\n"
   ]
  },
  {
   "cell_type": "code",
   "execution_count": 64,
   "metadata": {},
   "outputs": [],
   "source": [
    "def problem19_bruteforce(path):\n",
    "    with open(path) as f:\n",
    "        n = int(f.readline())\n",
    "        a = list()\n",
    "        for i in range(n):\n",
    "            a.append(int(f.readline()))\n",
    "\n",
    "        result = float('-inf')\n",
    "        for length in range(n):\n",
    "            for l in range(n-length):\n",
    "                p = 1\n",
    "                for x in a[l:l+length]:\n",
    "                    p *= x\n",
    "\n",
    "                if p > result:\n",
    "                    result = p\n",
    "\n",
    "        return result"
   ]
  },
  {
   "cell_type": "code",
   "execution_count": 65,
   "metadata": {},
   "outputs": [
    {
     "data": {
      "text/plain": [
       "'663497670 999398400'"
      ]
     },
     "execution_count": 65,
     "metadata": {},
     "output_type": "execute_result"
    }
   ],
   "source": [
    "def problem19(path):\n",
    "    with open(path) as f:\n",
    "        ans = 1\n",
    "        p = 1\n",
    "\n",
    "        n = int(f.readline())\n",
    "        for i in range(n):\n",
    "            x = int(f.readline())\n",
    "            if x > 0:\n",
    "                if p > 0:\n",
    "                    p *= x\n",
    "                else:\n",
    "                    if p > ans:\n",
    "                        ans = p\n",
    "                    p = 1\n",
    "            else:\n",
    "                if p < 0:\n",
    "                    p *= x\n",
    "                else:\n",
    "                    if p > ans:\n",
    "                        ans = p\n",
    "                    p = 1\n",
    "        \n",
    "        return ans\n",
    "\n",
    "solutions[19] = '{} {}'.format(problem19_bruteforce('./data/27data/19/27-19a.txt'), problem19('./data/27data/19/27-19b.txt'))\n",
    "solutions[19]"
   ]
  },
  {
   "cell_type": "code",
   "execution_count": 66,
   "metadata": {},
   "outputs": [
    {
     "data": {
      "text/plain": [
       "'663497670 97618752000'"
      ]
     },
     "execution_count": 66,
     "metadata": {},
     "output_type": "execute_result"
    }
   ],
   "source": [
    "def problem19_polyakov(path):\n",
    "    with open(path) as f:\n",
    "        n = int(f.readline())\n",
    "\n",
    "        x = int(f.readline())  # первое число\n",
    "        dp_min = dp_max = answer = x\n",
    "\n",
    "        for _ in range(n-1):\n",
    "            x = int(f.readline())\n",
    "            t = min(dp_min, dp_max, x)\n",
    "            dp_max = max(dp_min*x, dp_max*x, x)\n",
    "            dp_min = t\n",
    "            answer = max(answer, dp_max)\n",
    "\n",
    "        return answer\n",
    "\n",
    "solutions[19] = '{} {}'.format(problem19_bruteforce('./data/27data/19/27-19a.txt'), problem19_polyakov('./data/27data/19/27-19b.txt'))\n",
    "solutions[19]"
   ]
  },
  {
   "cell_type": "code",
   "execution_count": 67,
   "metadata": {},
   "outputs": [],
   "source": [
    "from random import randint\n",
    "\n",
    "def input_generator19(path):\n",
    "    with open(path, 'w+') as f:\n",
    "        n = 50\n",
    "        f.write(str(n) + '\\n')\n",
    "\n",
    "        for i in range(n):\n",
    "            f.write(str(randint(-100, 100)) + '\\n')"
   ]
  },
  {
   "cell_type": "code",
   "execution_count": 68,
   "metadata": {},
   "outputs": [
    {
     "name": "stdout",
     "output_type": "stream",
     "text": [
      "Testing in progress...\n"
     ]
    },
    {
     "name": "stderr",
     "output_type": "stream",
     "text": [
      "  1%|          | 9/1000 [00:00<00:05, 187.50it/s]"
     ]
    },
    {
     "name": "stdout",
     "output_type": "stream",
     "text": [
      "Test 1 failed. Expected 305228166628021610397229118659220863458826676231351080779773268669235200000, actual 4989495\n",
      "Test 2 failed. Expected 1012036092916830077654310941079245551733233839197166223446754541017497600000000, actual 329843565\n",
      "Test 3 failed. Expected 9112310081525056285323649656484252004880216591000440243170301706240000000000000, actual 16619200\n",
      "Test 4 failed. Expected 910468184632649976041704110033660973047887107921247933558685696000000000000, actual 15300000\n",
      "Test 5 failed. Expected 195311308569062220499203386155008000000000, actual 193844\n",
      "Test 6 failed. Expected 7800840307563325020741620771316177740022526323548928008241807360000000000000, actual 296496\n",
      "Test 7 failed. Expected 632912850360311746357059147662481117413365217897878779307961761136640000000, actual 3251052\n",
      "Test 8 failed. Expected 28269658736474456276303330523428683776000000000, actual 2972970\n",
      "Test 9 failed. Expected 84818542271568118567491208393373444145689709772800000000000000, actual 169258636800\n",
      "Test 10 failed. Expected 424914529898752719848147816090033720599999625075827696331205906530304000000000, actual 211711680\n",
      "Testing is stopped after 10 failed tests.\n"
     ]
    },
    {
     "name": "stderr",
     "output_type": "stream",
     "text": [
      "\n"
     ]
    }
   ],
   "source": [
    "run_tests(problem19_bruteforce, problem19, input_generator19)"
   ]
  },
  {
   "cell_type": "markdown",
   "metadata": {},
   "source": [
    "## Задача 31"
   ]
  },
  {
   "cell_type": "code",
   "execution_count": 80,
   "metadata": {},
   "outputs": [
    {
     "data": {
      "text/plain": [
       "'15148 29466419'"
      ]
     },
     "execution_count": 80,
     "metadata": {},
     "output_type": "execute_result"
    }
   ],
   "source": [
    "from itertools import combinations, product\n",
    "\n",
    "def problem31_bruteforce(path):\n",
    "    with open(path) as f:\n",
    "        n = int(f.readline())\n",
    "        a = list()\n",
    "        for _ in range(n):\n",
    "            triplet = list(map(int, f.readline().split()))\n",
    "            a.append(triplet)\n",
    "\n",
    "        result = None\n",
    "        \n",
    "        index_combinations = list(combinations(range(3), 2))\n",
    "        for option in list(product(index_combinations, repeat=n)):\n",
    "            s = 0\n",
    "            for i, x in enumerate(option):\n",
    "                s += a[i][x]\n",
    "\n",
    "            if s % 9 != 0 and (result == None or s < result):\n",
    "                result = s\n",
    "\n",
    "        return result\n",
    "\n",
    "def problem31(path):\n",
    "    with open(path) as f:\n",
    "        n = int(f.readline())\n",
    "        s = 0\n",
    "\n",
    "        dMin = [10 ** 20] * 9\n",
    "        for _ in range(n):\n",
    "            triplet = list(map(int, f.readline().split()))\n",
    "            triplet.sort()\n",
    "            s += triplet[0] + triplet[1]\n",
    "\n",
    "            for i in range(2):\n",
    "                d = triplet[2] - triplet[i]\n",
    "                r = d % 9\n",
    "\n",
    "                if r > 0:\n",
    "                    dMin[r] = min(dMin[r], d)\n",
    "        \n",
    "        if s % 9 != 0:\n",
    "            return s\n",
    "\n",
    "        return s + min(dMin)\n",
    "\n",
    "solutions[31] = '{} {}'.format(problem31('./data/27data/31/27-31a.txt'), problem31('./data/27data/31/27-31b.txt'))\n",
    "solutions[31]"
   ]
  },
  {
   "cell_type": "code",
   "execution_count": 81,
   "metadata": {},
   "outputs": [
    {
     "data": {
      "text/plain": [
       "'15148 29466419'"
      ]
     },
     "execution_count": 81,
     "metadata": {},
     "output_type": "execute_result"
    }
   ],
   "source": [
    "answers[31]"
   ]
  },
  {
   "cell_type": "code",
   "execution_count": 82,
   "metadata": {},
   "outputs": [
    {
     "name": "stdout",
     "output_type": "stream",
     "text": [
      "Testing in progress...\n"
     ]
    },
    {
     "name": "stderr",
     "output_type": "stream",
     "text": [
      "  0%|          | 0/1000 [00:00<?, ?it/s]\n"
     ]
    },
    {
     "ename": "TypeError",
     "evalue": "list indices must be integers or slices, not tuple",
     "output_type": "error",
     "traceback": [
      "\u001b[1;31m---------------------------------------------------------------------------\u001b[0m",
      "\u001b[1;31mTypeError\u001b[0m                                 Traceback (most recent call last)",
      "\u001b[1;32m~\\AppData\\Local\\Temp/ipykernel_26848/3374500830.py\u001b[0m in \u001b[0;36m<module>\u001b[1;34m\u001b[0m\n\u001b[1;32m----> 1\u001b[1;33m \u001b[0mrun_tests\u001b[0m\u001b[1;33m(\u001b[0m\u001b[0mproblem31_bruteforce\u001b[0m\u001b[1;33m,\u001b[0m \u001b[0mproblem31\u001b[0m\u001b[1;33m,\u001b[0m \u001b[0mpositive_triplet_generator\u001b[0m\u001b[1;33m)\u001b[0m\u001b[1;33m\u001b[0m\u001b[1;33m\u001b[0m\u001b[0m\n\u001b[0m",
      "\u001b[1;32m~\\AppData\\Local\\Temp/ipykernel_26848/2490331922.py\u001b[0m in \u001b[0;36mrun_tests\u001b[1;34m(f_bruteforce, f, input_generator)\u001b[0m\n\u001b[0;32m     21\u001b[0m         \u001b[1;32mfor\u001b[0m \u001b[0mtest_id\u001b[0m \u001b[1;32min\u001b[0m \u001b[0mtqdm\u001b[0m\u001b[1;33m(\u001b[0m\u001b[0mrange\u001b[0m\u001b[1;33m(\u001b[0m\u001b[1;36m1\u001b[0m\u001b[1;33m,\u001b[0m \u001b[1;36m1000\u001b[0m\u001b[1;33m+\u001b[0m\u001b[1;36m1\u001b[0m\u001b[1;33m)\u001b[0m\u001b[1;33m)\u001b[0m\u001b[1;33m:\u001b[0m\u001b[1;33m\u001b[0m\u001b[1;33m\u001b[0m\u001b[0m\n\u001b[0;32m     22\u001b[0m             \u001b[0minput_generator\u001b[0m\u001b[1;33m(\u001b[0m\u001b[0mpath\u001b[0m\u001b[1;33m)\u001b[0m\u001b[1;33m\u001b[0m\u001b[1;33m\u001b[0m\u001b[0m\n\u001b[1;32m---> 23\u001b[1;33m             \u001b[0mexpected\u001b[0m \u001b[1;33m=\u001b[0m \u001b[0mf_bruteforce\u001b[0m\u001b[1;33m(\u001b[0m\u001b[0mpath\u001b[0m\u001b[1;33m)\u001b[0m\u001b[1;33m\u001b[0m\u001b[1;33m\u001b[0m\u001b[0m\n\u001b[0m\u001b[0;32m     24\u001b[0m             \u001b[0mactual\u001b[0m \u001b[1;33m=\u001b[0m \u001b[0mf\u001b[0m\u001b[1;33m(\u001b[0m\u001b[0mpath\u001b[0m\u001b[1;33m)\u001b[0m\u001b[1;33m\u001b[0m\u001b[1;33m\u001b[0m\u001b[0m\n\u001b[0;32m     25\u001b[0m \u001b[1;33m\u001b[0m\u001b[0m\n",
      "\u001b[1;32m~\\AppData\\Local\\Temp/ipykernel_26848/455136122.py\u001b[0m in \u001b[0;36mproblem31_bruteforce\u001b[1;34m(path)\u001b[0m\n\u001b[0;32m     15\u001b[0m             \u001b[0ms\u001b[0m \u001b[1;33m=\u001b[0m \u001b[1;36m0\u001b[0m\u001b[1;33m\u001b[0m\u001b[1;33m\u001b[0m\u001b[0m\n\u001b[0;32m     16\u001b[0m             \u001b[1;32mfor\u001b[0m \u001b[0mi\u001b[0m\u001b[1;33m,\u001b[0m \u001b[0mx\u001b[0m \u001b[1;32min\u001b[0m \u001b[0menumerate\u001b[0m\u001b[1;33m(\u001b[0m\u001b[0moption\u001b[0m\u001b[1;33m)\u001b[0m\u001b[1;33m:\u001b[0m\u001b[1;33m\u001b[0m\u001b[1;33m\u001b[0m\u001b[0m\n\u001b[1;32m---> 17\u001b[1;33m                 \u001b[0ms\u001b[0m \u001b[1;33m+=\u001b[0m \u001b[0ma\u001b[0m\u001b[1;33m[\u001b[0m\u001b[0mi\u001b[0m\u001b[1;33m]\u001b[0m\u001b[1;33m[\u001b[0m\u001b[0mx\u001b[0m\u001b[1;33m]\u001b[0m\u001b[1;33m\u001b[0m\u001b[1;33m\u001b[0m\u001b[0m\n\u001b[0m\u001b[0;32m     18\u001b[0m \u001b[1;33m\u001b[0m\u001b[0m\n\u001b[0;32m     19\u001b[0m             \u001b[1;32mif\u001b[0m \u001b[0ms\u001b[0m \u001b[1;33m%\u001b[0m \u001b[1;36m9\u001b[0m \u001b[1;33m!=\u001b[0m \u001b[1;36m0\u001b[0m \u001b[1;32mand\u001b[0m \u001b[1;33m(\u001b[0m\u001b[0mresult\u001b[0m \u001b[1;33m==\u001b[0m \u001b[1;32mNone\u001b[0m \u001b[1;32mor\u001b[0m \u001b[0ms\u001b[0m \u001b[1;33m<\u001b[0m \u001b[0mresult\u001b[0m\u001b[1;33m)\u001b[0m\u001b[1;33m:\u001b[0m\u001b[1;33m\u001b[0m\u001b[1;33m\u001b[0m\u001b[0m\n",
      "\u001b[1;31mTypeError\u001b[0m: list indices must be integers or slices, not tuple"
     ]
    }
   ],
   "source": [
    "# run_tests(problem31_bruteforce, problem31, positive_triplet_generator)"
   ]
  },
  {
   "cell_type": "markdown",
   "metadata": {},
   "source": [
    "## Задача 32"
   ]
  },
  {
   "cell_type": "code",
   "execution_count": null,
   "metadata": {},
   "outputs": [],
   "source": [
    "from itertools import combinations, product\n",
    "\n",
    "def problem32_bruteforce(path):\n",
    "    with open(path) as f:\n",
    "        n = int(f.readline())\n",
    "        a = list()\n",
    "        for _ in range(n):\n",
    "            triplet = list(map(int, f.readline().split()))\n",
    "            a.append(triplet)\n",
    "\n",
    "        result = None\n",
    "        \n",
    "        for option in list(product([0, 1, 2], repeat=n)):\n",
    "            s = 0\n",
    "            for i, x in enumerate(option):\n",
    "                s += a[i][x]\n",
    "\n",
    "            if s % 11 == 0 and (result == None or s < result):\n",
    "                result = s\n",
    "\n",
    "        return result\n",
    "\n",
    "def problem32(path):\n",
    "    with open(path) as f:\n",
    "        n = int(f.readline())\n",
    "        s = 0\n",
    "\n",
    "        m = [10 ** 20] * 11\n",
    "\n",
    "        for _ in range(n):\n",
    "            triplet = list(map(int, f.readline().split()))\n",
    "            triplet.sort()\n",
    "\n",
    "            s += triplet[0]\n",
    "            m_new = m.copy()\n",
    "\n",
    "            for i in [1, 2]:\n",
    "                d = triplet[i] - triplet[0]\n",
    "                r = d % 11\n",
    "                if r > 0:\n",
    "                    for k in range(1, 11):\n",
    "                        r0 = (r + k) % 11\n",
    "                        m_new[r0] = min(m[k] + d, m_new[r0])\n",
    "                    m_new[r] = min(m_new[r], d)\n",
    "            m = m_new.copy()\n",
    "\n",
    "        if s % 11 == 0:\n",
    "            return s\n",
    "\n",
    "        return s + m[11 - s % 11]"
   ]
  },
  {
   "cell_type": "code",
   "execution_count": null,
   "metadata": {},
   "outputs": [
    {
     "data": {
      "text/plain": [
       "'5896 14078757'"
      ]
     },
     "execution_count": 320,
     "metadata": {},
     "output_type": "execute_result"
    }
   ],
   "source": [
    "solutions[32] = '{} {}'.format(problem32('./data/27data/32/27-32a.txt'), problem32('./data/27data/32/27-32b.txt'))\n",
    "solutions[32]"
   ]
  },
  {
   "cell_type": "code",
   "execution_count": null,
   "metadata": {},
   "outputs": [],
   "source": [
    "from random import randint\n",
    "\n",
    "def input_generator32(path):\n",
    "    with open(path, 'w+') as f:\n",
    "        n = 10\n",
    "        f.write(str(n) + '\\n')\n",
    "\n",
    "        for i in range(n):\n",
    "            f.write(str(randint(1, 100000)) + ' ' + str(randint(1, 100000)) + ' ' + str(randint(1, 100000)) + '\\n')"
   ]
  },
  {
   "cell_type": "code",
   "execution_count": null,
   "metadata": {},
   "outputs": [
    {
     "name": "stdout",
     "output_type": "stream",
     "text": [
      "Tests are skipped. Set test_env variable to True in order to test.\n"
     ]
    }
   ],
   "source": [
    "run_tests(problem32_bruteforce, problem32, input_generator32)"
   ]
  },
  {
   "cell_type": "code",
   "execution_count": null,
   "metadata": {},
   "outputs": [
    {
     "data": {
      "text/plain": [
       "'5896 14078757'"
      ]
     },
     "execution_count": 323,
     "metadata": {},
     "output_type": "execute_result"
    }
   ],
   "source": [
    "answers[32]"
   ]
  },
  {
   "cell_type": "markdown",
   "metadata": {},
   "source": [
    "## Задача 34"
   ]
  },
  {
   "cell_type": "code",
   "execution_count": 51,
   "metadata": {},
   "outputs": [],
   "source": [
    "from itertools import combinations, product\n",
    "\n",
    "def problem34_bruteforce(path):\n",
    "    with open(path) as f:\n",
    "        n = int(f.readline())\n",
    "        a = list()\n",
    "        for _ in range(n):\n",
    "            triplet = list(map(int, f.readline().split()))\n",
    "            a.append(triplet)\n",
    "\n",
    "        result = None\n",
    "        \n",
    "        index_combinations = list(combinations(range(3), 2))\n",
    "        for option in list(product(index_combinations, repeat=n)):\n",
    "            s = 0\n",
    "            for i, pair in enumerate(option):\n",
    "                s += a[i][pair[0]] + a[i][pair[1]]\n",
    "\n",
    "            if s % 6 == 0 and (result == None or s > result):\n",
    "                result = s\n",
    "\n",
    "        return result\n",
    "\n",
    "def problem34(path):\n",
    "    with open(path) as f:\n",
    "        n = int(f.readline())\n",
    "        s = 0\n",
    "\n",
    "        m = 10 ** 20\n",
    "\n",
    "        for _ in range(n):\n",
    "            a = list(map(int, f.readline().split()))\n",
    "            a.sort()\n",
    "\n",
    "            s += a[0] + a[1]\n",
    "\n",
    "            r = a[2] - a[1]\n",
    "\n",
    "            if r < m:\n",
    "                if r % 6 == 0:\n",
    "                    m = r\n",
    "                elif a[2] - a[0] and (a[2] - a[0]) % 6 == 0:\n",
    "                    m = a[2] - a[0]\n",
    "\n",
    "        if s % 6 == 0:\n",
    "            return s\n",
    "\n",
    "        return s - r"
   ]
  },
  {
   "cell_type": "code",
   "execution_count": 52,
   "metadata": {},
   "outputs": [],
   "source": [
    "from random import randint\n",
    "\n",
    "def input_generator34(path):\n",
    "    with open(path, 'w+') as f:\n",
    "        n = 10\n",
    "        f.write(str(n) + '\\n')\n",
    "\n",
    "        for i in range(n):\n",
    "            f.write(str(randint(1, 100000)) + ' ' + str(randint(1, 100000)) + ' ' + str(randint(1, 100000)) + '\\n')"
   ]
  },
  {
   "cell_type": "code",
   "execution_count": 53,
   "metadata": {},
   "outputs": [
    {
     "name": "stdout",
     "output_type": "stream",
     "text": [
      "Testing in progress...\n"
     ]
    },
    {
     "name": "stderr",
     "output_type": "stream",
     "text": [
      "  0%|          | 1/1000 [00:00<04:36,  3.62it/s]"
     ]
    },
    {
     "name": "stdout",
     "output_type": "stream",
     "text": [
      "Test 1 failed. Expected 1131630, actual 631086\n"
     ]
    },
    {
     "name": "stderr",
     "output_type": "stream",
     "text": [
      "  0%|          | 2/1000 [00:00<04:11,  3.96it/s]"
     ]
    },
    {
     "name": "stdout",
     "output_type": "stream",
     "text": [
      "Test 2 failed. Expected 1106736, actual 607249\n"
     ]
    },
    {
     "name": "stderr",
     "output_type": "stream",
     "text": [
      "  0%|          | 3/1000 [00:00<03:57,  4.19it/s]"
     ]
    },
    {
     "name": "stdout",
     "output_type": "stream",
     "text": [
      "Test 3 failed. Expected 1423710, actual 959027\n"
     ]
    },
    {
     "name": "stderr",
     "output_type": "stream",
     "text": [
      "  0%|          | 4/1000 [00:00<03:51,  4.30it/s]"
     ]
    },
    {
     "name": "stdout",
     "output_type": "stream",
     "text": [
      "Test 4 failed. Expected 1256460, actual 698393\n"
     ]
    },
    {
     "name": "stderr",
     "output_type": "stream",
     "text": [
      "  0%|          | 5/1000 [00:01<03:47,  4.37it/s]"
     ]
    },
    {
     "name": "stdout",
     "output_type": "stream",
     "text": [
      "Test 5 failed. Expected 1371744, actual 831648\n"
     ]
    },
    {
     "name": "stderr",
     "output_type": "stream",
     "text": [
      "  1%|          | 6/1000 [00:01<03:47,  4.36it/s]"
     ]
    },
    {
     "name": "stdout",
     "output_type": "stream",
     "text": [
      "Test 6 failed. Expected 1375188, actual 814751\n"
     ]
    },
    {
     "name": "stderr",
     "output_type": "stream",
     "text": [
      "  1%|          | 7/1000 [00:01<03:45,  4.41it/s]"
     ]
    },
    {
     "name": "stdout",
     "output_type": "stream",
     "text": [
      "Test 7 failed. Expected 1233360, actual 645465\n"
     ]
    },
    {
     "name": "stderr",
     "output_type": "stream",
     "text": [
      "  1%|          | 8/1000 [00:01<03:44,  4.42it/s]"
     ]
    },
    {
     "name": "stdout",
     "output_type": "stream",
     "text": [
      "Test 8 failed. Expected 1362582, actual 780174\n"
     ]
    },
    {
     "name": "stderr",
     "output_type": "stream",
     "text": [
      "  1%|          | 9/1000 [00:02<03:44,  4.42it/s]"
     ]
    },
    {
     "name": "stdout",
     "output_type": "stream",
     "text": [
      "Test 9 failed. Expected 1210236, actual 605374\n"
     ]
    },
    {
     "name": "stderr",
     "output_type": "stream",
     "text": [
      "  1%|          | 9/1000 [00:02<04:14,  3.89it/s]"
     ]
    },
    {
     "name": "stdout",
     "output_type": "stream",
     "text": [
      "Test 10 failed. Expected 963282, actual 444287\n",
      "Testing is stopped after 10 failed tests.\n"
     ]
    },
    {
     "name": "stderr",
     "output_type": "stream",
     "text": [
      "\n"
     ]
    }
   ],
   "source": [
    "run_tests(problem34_bruteforce, problem34, input_generator34)"
   ]
  },
  {
   "cell_type": "code",
   "execution_count": 54,
   "metadata": {},
   "outputs": [
    {
     "data": {
      "text/plain": [
       "'9572 30227092'"
      ]
     },
     "execution_count": 54,
     "metadata": {},
     "output_type": "execute_result"
    }
   ],
   "source": [
    "solutions[34] = '{} {}'.format(problem34('./data/27data/34/27-34a.txt'), problem34('./data/27data/34/27-34b.txt'))\n",
    "solutions[34]"
   ]
  },
  {
   "cell_type": "code",
   "execution_count": 55,
   "metadata": {},
   "outputs": [
    {
     "data": {
      "text/plain": [
       "'9750 30227250'"
      ]
     },
     "execution_count": 55,
     "metadata": {},
     "output_type": "execute_result"
    }
   ],
   "source": [
    "answers[34]"
   ]
  },
  {
   "cell_type": "markdown",
   "metadata": {},
   "source": [
    "## Задача 36"
   ]
  },
  {
   "cell_type": "code",
   "execution_count": 56,
   "metadata": {},
   "outputs": [
    {
     "data": {
      "text/plain": [
       "'500 2301880'"
      ]
     },
     "execution_count": 56,
     "metadata": {},
     "output_type": "execute_result"
    }
   ],
   "source": [
    "from itertools import combinations, product\n",
    "\n",
    "def gcd(a, b):\n",
    "    if b == 0:\n",
    "        return a\n",
    "\n",
    "    return gcd(b, a % b)\n",
    "\n",
    "def problem36_bruteforce(path):\n",
    "    with open(path) as f:\n",
    "        n = int(f.readline())\n",
    "        a = list()\n",
    "        for _ in range(n):\n",
    "            triplet = list(map(int, f.readline().split()))\n",
    "            a.append(triplet)\n",
    "\n",
    "        result = 0\n",
    "        index_combinations = list(combinations(range(3), 2))\n",
    "        for option in list(product(index_combinations, repeat=n)):\n",
    "            s = 0\n",
    "            for i, pair in enumerate(option):\n",
    "                x = gcd(a[i][pair[0]], a[i][pair[1]])\n",
    "                s += x\n",
    "\n",
    "            if s % 10 == 0 and s > result:\n",
    "                result = s\n",
    "\n",
    "        return result\n",
    "\n",
    "def problem36(path):\n",
    "    with open(path) as f:\n",
    "        n = int(f.readline())\n",
    "        s = 0\n",
    "\n",
    "        dMin = [10 ** 20] * 10\n",
    "        for i in range(n):\n",
    "            triplet = list(map(int, f.readline().split()))\n",
    "\n",
    "            max_gcd = 0\n",
    "            j = 0\n",
    "\n",
    "            for j1, j2 in combinations(range(3), 2):\n",
    "                g = gcd(triplet[j1], triplet[j2])\n",
    "                if g > max_gcd:\n",
    "                    max_gcd = g\n",
    "                    j = 3 - j1 - j2\n",
    "\n",
    "                s += max_gcd\n",
    "\n",
    "                for k1, k2 in [(j, j1), (j, j2)]:\n",
    "                    dMinNew = dMin.copy()\n",
    "                    d = gcd(triplet[k1], triplet[k2]) - max_gcd\n",
    "                    r = d % 10\n",
    "                    if r > 0:\n",
    "                        # dMinNew = dMin.copy()\n",
    "                        for k in range(1, 10):\n",
    "                            r0 = (r + k) % 10\n",
    "                            dMinNew[r0] = min(dMinNew[r0], dMin[k] + d)\n",
    "\n",
    "                        dMinNew[r] = min(dMinNew[r], d)\n",
    "                        # dMin = dMinNew.copy()\n",
    "\n",
    "                    dMin = dMinNew.copy()\n",
    "\n",
    "        if s % 10 == 0:\n",
    "            return s\n",
    "        \n",
    "        return s - dMin[s % 10]\n",
    "\n",
    "solutions[36] = '{} {}'.format(problem36('./data/27data/36/27-36a.txt'), problem36('./data/27data/36/27-36b.txt'))\n",
    "solutions[36]"
   ]
  },
  {
   "cell_type": "code",
   "execution_count": 57,
   "metadata": {},
   "outputs": [
    {
     "data": {
      "text/plain": [
       "'110 519880'"
      ]
     },
     "execution_count": 57,
     "metadata": {},
     "output_type": "execute_result"
    }
   ],
   "source": [
    "answers[36]"
   ]
  },
  {
   "cell_type": "code",
   "execution_count": 58,
   "metadata": {},
   "outputs": [],
   "source": [
    "from random import randint\n",
    "\n",
    "def input_generator36(path):\n",
    "    with open(path, 'w+') as f:\n",
    "        n = 10\n",
    "        f.write(str(n) + '\\n')\n",
    "\n",
    "        for i in range(n):\n",
    "            f.write(str(randint(0, 100000)) + '\\n')"
   ]
  },
  {
   "cell_type": "code",
   "execution_count": 59,
   "metadata": {},
   "outputs": [
    {
     "name": "stdout",
     "output_type": "stream",
     "text": [
      "Testing in progress...\n"
     ]
    },
    {
     "name": "stderr",
     "output_type": "stream",
     "text": [
      "  0%|          | 0/1000 [00:03<?, ?it/s]\n"
     ]
    },
    {
     "ename": "KeyboardInterrupt",
     "evalue": "",
     "output_type": "error",
     "traceback": [
      "\u001b[1;31m---------------------------------------------------------------------------\u001b[0m",
      "\u001b[1;31mKeyboardInterrupt\u001b[0m                         Traceback (most recent call last)",
      "\u001b[1;32m~\\AppData\\Local\\Temp/ipykernel_21160/4042509741.py\u001b[0m in \u001b[0;36m<module>\u001b[1;34m\u001b[0m\n\u001b[1;32m----> 1\u001b[1;33m \u001b[0mrun_tests\u001b[0m\u001b[1;33m(\u001b[0m\u001b[0mproblem36_bruteforce\u001b[0m\u001b[1;33m,\u001b[0m \u001b[0mproblem36\u001b[0m\u001b[1;33m,\u001b[0m \u001b[0mpositive_triplet_generator\u001b[0m\u001b[1;33m)\u001b[0m\u001b[1;33m\u001b[0m\u001b[1;33m\u001b[0m\u001b[0m\n\u001b[0m",
      "\u001b[1;32m~\\AppData\\Local\\Temp/ipykernel_21160/4063768146.py\u001b[0m in \u001b[0;36mrun_tests\u001b[1;34m(f_bruteforce, f, input_generator)\u001b[0m\n\u001b[0;32m     21\u001b[0m         \u001b[1;32mfor\u001b[0m \u001b[0mtest_id\u001b[0m \u001b[1;32min\u001b[0m \u001b[0mtqdm\u001b[0m\u001b[1;33m(\u001b[0m\u001b[0mrange\u001b[0m\u001b[1;33m(\u001b[0m\u001b[1;36m1\u001b[0m\u001b[1;33m,\u001b[0m \u001b[1;36m1000\u001b[0m\u001b[1;33m+\u001b[0m\u001b[1;36m1\u001b[0m\u001b[1;33m)\u001b[0m\u001b[1;33m)\u001b[0m\u001b[1;33m:\u001b[0m\u001b[1;33m\u001b[0m\u001b[1;33m\u001b[0m\u001b[0m\n\u001b[0;32m     22\u001b[0m             \u001b[0minput_generator\u001b[0m\u001b[1;33m(\u001b[0m\u001b[0mpath\u001b[0m\u001b[1;33m)\u001b[0m\u001b[1;33m\u001b[0m\u001b[1;33m\u001b[0m\u001b[0m\n\u001b[1;32m---> 23\u001b[1;33m             \u001b[0mexpected\u001b[0m \u001b[1;33m=\u001b[0m \u001b[0mf_bruteforce\u001b[0m\u001b[1;33m(\u001b[0m\u001b[0mpath\u001b[0m\u001b[1;33m)\u001b[0m\u001b[1;33m\u001b[0m\u001b[1;33m\u001b[0m\u001b[0m\n\u001b[0m\u001b[0;32m     24\u001b[0m             \u001b[0mactual\u001b[0m \u001b[1;33m=\u001b[0m \u001b[0mf\u001b[0m\u001b[1;33m(\u001b[0m\u001b[0mpath\u001b[0m\u001b[1;33m)\u001b[0m\u001b[1;33m\u001b[0m\u001b[1;33m\u001b[0m\u001b[0m\n\u001b[0;32m     25\u001b[0m \u001b[1;33m\u001b[0m\u001b[0m\n",
      "\u001b[1;32m~\\AppData\\Local\\Temp/ipykernel_21160/3844874079.py\u001b[0m in \u001b[0;36mproblem36_bruteforce\u001b[1;34m(path)\u001b[0m\n\u001b[0;32m     20\u001b[0m             \u001b[0ms\u001b[0m \u001b[1;33m=\u001b[0m \u001b[1;36m0\u001b[0m\u001b[1;33m\u001b[0m\u001b[1;33m\u001b[0m\u001b[0m\n\u001b[0;32m     21\u001b[0m             \u001b[1;32mfor\u001b[0m \u001b[0mi\u001b[0m\u001b[1;33m,\u001b[0m \u001b[0mpair\u001b[0m \u001b[1;32min\u001b[0m \u001b[0menumerate\u001b[0m\u001b[1;33m(\u001b[0m\u001b[0moption\u001b[0m\u001b[1;33m)\u001b[0m\u001b[1;33m:\u001b[0m\u001b[1;33m\u001b[0m\u001b[1;33m\u001b[0m\u001b[0m\n\u001b[1;32m---> 22\u001b[1;33m                 \u001b[0mx\u001b[0m \u001b[1;33m=\u001b[0m \u001b[0mgcd\u001b[0m\u001b[1;33m(\u001b[0m\u001b[0ma\u001b[0m\u001b[1;33m[\u001b[0m\u001b[0mi\u001b[0m\u001b[1;33m]\u001b[0m\u001b[1;33m[\u001b[0m\u001b[0mpair\u001b[0m\u001b[1;33m[\u001b[0m\u001b[1;36m0\u001b[0m\u001b[1;33m]\u001b[0m\u001b[1;33m]\u001b[0m\u001b[1;33m,\u001b[0m \u001b[0ma\u001b[0m\u001b[1;33m[\u001b[0m\u001b[0mi\u001b[0m\u001b[1;33m]\u001b[0m\u001b[1;33m[\u001b[0m\u001b[0mpair\u001b[0m\u001b[1;33m[\u001b[0m\u001b[1;36m1\u001b[0m\u001b[1;33m]\u001b[0m\u001b[1;33m]\u001b[0m\u001b[1;33m)\u001b[0m\u001b[1;33m\u001b[0m\u001b[1;33m\u001b[0m\u001b[0m\n\u001b[0m\u001b[0;32m     23\u001b[0m                 \u001b[0ms\u001b[0m \u001b[1;33m+=\u001b[0m \u001b[0mx\u001b[0m\u001b[1;33m\u001b[0m\u001b[1;33m\u001b[0m\u001b[0m\n\u001b[0;32m     24\u001b[0m \u001b[1;33m\u001b[0m\u001b[0m\n",
      "\u001b[1;32m~\\AppData\\Local\\Temp/ipykernel_21160/3844874079.py\u001b[0m in \u001b[0;36mgcd\u001b[1;34m(a, b)\u001b[0m\n\u001b[0;32m      5\u001b[0m         \u001b[1;32mreturn\u001b[0m \u001b[0ma\u001b[0m\u001b[1;33m\u001b[0m\u001b[1;33m\u001b[0m\u001b[0m\n\u001b[0;32m      6\u001b[0m \u001b[1;33m\u001b[0m\u001b[0m\n\u001b[1;32m----> 7\u001b[1;33m     \u001b[1;32mreturn\u001b[0m \u001b[0mgcd\u001b[0m\u001b[1;33m(\u001b[0m\u001b[0mb\u001b[0m\u001b[1;33m,\u001b[0m \u001b[0ma\u001b[0m \u001b[1;33m%\u001b[0m \u001b[0mb\u001b[0m\u001b[1;33m)\u001b[0m\u001b[1;33m\u001b[0m\u001b[1;33m\u001b[0m\u001b[0m\n\u001b[0m\u001b[0;32m      8\u001b[0m \u001b[1;33m\u001b[0m\u001b[0m\n\u001b[0;32m      9\u001b[0m \u001b[1;32mdef\u001b[0m \u001b[0mproblem36_bruteforce\u001b[0m\u001b[1;33m(\u001b[0m\u001b[0mpath\u001b[0m\u001b[1;33m)\u001b[0m\u001b[1;33m:\u001b[0m\u001b[1;33m\u001b[0m\u001b[1;33m\u001b[0m\u001b[0m\n",
      "\u001b[1;32m~\\AppData\\Local\\Temp/ipykernel_21160/3844874079.py\u001b[0m in \u001b[0;36mgcd\u001b[1;34m(a, b)\u001b[0m\n\u001b[0;32m      5\u001b[0m         \u001b[1;32mreturn\u001b[0m \u001b[0ma\u001b[0m\u001b[1;33m\u001b[0m\u001b[1;33m\u001b[0m\u001b[0m\n\u001b[0;32m      6\u001b[0m \u001b[1;33m\u001b[0m\u001b[0m\n\u001b[1;32m----> 7\u001b[1;33m     \u001b[1;32mreturn\u001b[0m \u001b[0mgcd\u001b[0m\u001b[1;33m(\u001b[0m\u001b[0mb\u001b[0m\u001b[1;33m,\u001b[0m \u001b[0ma\u001b[0m \u001b[1;33m%\u001b[0m \u001b[0mb\u001b[0m\u001b[1;33m)\u001b[0m\u001b[1;33m\u001b[0m\u001b[1;33m\u001b[0m\u001b[0m\n\u001b[0m\u001b[0;32m      8\u001b[0m \u001b[1;33m\u001b[0m\u001b[0m\n\u001b[0;32m      9\u001b[0m \u001b[1;32mdef\u001b[0m \u001b[0mproblem36_bruteforce\u001b[0m\u001b[1;33m(\u001b[0m\u001b[0mpath\u001b[0m\u001b[1;33m)\u001b[0m\u001b[1;33m:\u001b[0m\u001b[1;33m\u001b[0m\u001b[1;33m\u001b[0m\u001b[0m\n",
      "\u001b[1;32m~\\AppData\\Local\\Temp/ipykernel_21160/3844874079.py\u001b[0m in \u001b[0;36mgcd\u001b[1;34m(a, b)\u001b[0m\n\u001b[0;32m      5\u001b[0m         \u001b[1;32mreturn\u001b[0m \u001b[0ma\u001b[0m\u001b[1;33m\u001b[0m\u001b[1;33m\u001b[0m\u001b[0m\n\u001b[0;32m      6\u001b[0m \u001b[1;33m\u001b[0m\u001b[0m\n\u001b[1;32m----> 7\u001b[1;33m     \u001b[1;32mreturn\u001b[0m \u001b[0mgcd\u001b[0m\u001b[1;33m(\u001b[0m\u001b[0mb\u001b[0m\u001b[1;33m,\u001b[0m \u001b[0ma\u001b[0m \u001b[1;33m%\u001b[0m \u001b[0mb\u001b[0m\u001b[1;33m)\u001b[0m\u001b[1;33m\u001b[0m\u001b[1;33m\u001b[0m\u001b[0m\n\u001b[0m\u001b[0;32m      8\u001b[0m \u001b[1;33m\u001b[0m\u001b[0m\n\u001b[0;32m      9\u001b[0m \u001b[1;32mdef\u001b[0m \u001b[0mproblem36_bruteforce\u001b[0m\u001b[1;33m(\u001b[0m\u001b[0mpath\u001b[0m\u001b[1;33m)\u001b[0m\u001b[1;33m:\u001b[0m\u001b[1;33m\u001b[0m\u001b[1;33m\u001b[0m\u001b[0m\n",
      "\u001b[1;32m~\\AppData\\Local\\Temp/ipykernel_21160/3844874079.py\u001b[0m in \u001b[0;36mgcd\u001b[1;34m(a, b)\u001b[0m\n\u001b[0;32m      1\u001b[0m \u001b[1;32mfrom\u001b[0m \u001b[0mitertools\u001b[0m \u001b[1;32mimport\u001b[0m \u001b[0mcombinations\u001b[0m\u001b[1;33m,\u001b[0m \u001b[0mproduct\u001b[0m\u001b[1;33m\u001b[0m\u001b[1;33m\u001b[0m\u001b[0m\n\u001b[0;32m      2\u001b[0m \u001b[1;33m\u001b[0m\u001b[0m\n\u001b[1;32m----> 3\u001b[1;33m \u001b[1;32mdef\u001b[0m \u001b[0mgcd\u001b[0m\u001b[1;33m(\u001b[0m\u001b[0ma\u001b[0m\u001b[1;33m,\u001b[0m \u001b[0mb\u001b[0m\u001b[1;33m)\u001b[0m\u001b[1;33m:\u001b[0m\u001b[1;33m\u001b[0m\u001b[1;33m\u001b[0m\u001b[0m\n\u001b[0m\u001b[0;32m      4\u001b[0m     \u001b[1;32mif\u001b[0m \u001b[0mb\u001b[0m \u001b[1;33m==\u001b[0m \u001b[1;36m0\u001b[0m\u001b[1;33m:\u001b[0m\u001b[1;33m\u001b[0m\u001b[1;33m\u001b[0m\u001b[0m\n\u001b[0;32m      5\u001b[0m         \u001b[1;32mreturn\u001b[0m \u001b[0ma\u001b[0m\u001b[1;33m\u001b[0m\u001b[1;33m\u001b[0m\u001b[0m\n",
      "\u001b[1;32m_pydevd_bundle/pydevd_cython.pyx\u001b[0m in \u001b[0;36m_pydevd_bundle.pydevd_cython.SafeCallWrapper.__call__\u001b[1;34m()\u001b[0m\n",
      "\u001b[1;32m_pydevd_bundle/pydevd_cython.pyx\u001b[0m in \u001b[0;36m_pydevd_bundle.pydevd_cython.ThreadTracer.__call__\u001b[1;34m()\u001b[0m\n",
      "\u001b[1;32mC:\\ProgramData\\Anaconda3\\lib\\site-packages\\debugpy\\_vendored\\pydevd\\_pydev_bundle\\pydev_is_thread_alive.py\u001b[0m in \u001b[0;36mis_thread_alive\u001b[1;34m(t)\u001b[0m\n\u001b[0;32m      7\u001b[0m \u001b[1;32mif\u001b[0m \u001b[0mhasattr\u001b[0m\u001b[1;33m(\u001b[0m\u001b[0m_temp\u001b[0m\u001b[1;33m,\u001b[0m \u001b[1;34m'_is_stopped'\u001b[0m\u001b[1;33m)\u001b[0m\u001b[1;33m:\u001b[0m  \u001b[1;31m# Python 3.x has this\u001b[0m\u001b[1;33m\u001b[0m\u001b[1;33m\u001b[0m\u001b[0m\n\u001b[0;32m      8\u001b[0m \u001b[1;33m\u001b[0m\u001b[0m\n\u001b[1;32m----> 9\u001b[1;33m     \u001b[1;32mdef\u001b[0m \u001b[0mis_thread_alive\u001b[0m\u001b[1;33m(\u001b[0m\u001b[0mt\u001b[0m\u001b[1;33m)\u001b[0m\u001b[1;33m:\u001b[0m\u001b[1;33m\u001b[0m\u001b[1;33m\u001b[0m\u001b[0m\n\u001b[0m\u001b[0;32m     10\u001b[0m         \u001b[1;32mreturn\u001b[0m \u001b[1;32mnot\u001b[0m \u001b[0mt\u001b[0m\u001b[1;33m.\u001b[0m\u001b[0m_is_stopped\u001b[0m\u001b[1;33m\u001b[0m\u001b[1;33m\u001b[0m\u001b[0m\n\u001b[0;32m     11\u001b[0m \u001b[1;33m\u001b[0m\u001b[0m\n",
      "\u001b[1;31mKeyboardInterrupt\u001b[0m: "
     ]
    }
   ],
   "source": [
    "run_tests(problem36_bruteforce, problem36, positive_triplet_generator)"
   ]
  },
  {
   "cell_type": "markdown",
   "metadata": {},
   "source": [
    "## Задача 40"
   ]
  },
  {
   "cell_type": "markdown",
   "metadata": {},
   "source": [
    "Дана последовательность, которая состоит из троек натуральных чисел. Необходимо распределить все числа на три группы, при этом в каждую группу должно попасть ровно одно число из каждой исходной тройки. Сумма всех чисел в первой группе должна быть нечётной, во второй – чётной. Определите максимально возможную сумму всех чисел в третьей группе."
   ]
  },
  {
   "cell_type": "code",
   "execution_count": 81,
   "metadata": {},
   "outputs": [
    {
     "data": {
      "text/plain": [
       "'621 103914584'"
      ]
     },
     "execution_count": 81,
     "metadata": {},
     "output_type": "execute_result"
    }
   ],
   "source": [
    "from itertools import product, permutations\n",
    "\n",
    "def problem40_bruteforce(path):\n",
    "    with open(path) as f:\n",
    "        n = int(f.readline())\n",
    "        a = list()\n",
    "        for _ in range(n):\n",
    "            triplet = list(map(int, f.readline().split()))\n",
    "            a.append(triplet)\n",
    "\n",
    "        result = 0\n",
    "\n",
    "        # option - список кортежей размера n кортежей размера 3 вида (i1, i2, i3)\n",
    "        for option in list(product(permutations([0, 1, 2]), repeat = n)):\n",
    "            s = [0, 0, 0]\n",
    "            for i, x in enumerate(option):\n",
    "                s[0] += a[i][x[0]]\n",
    "                s[1] += a[i][x[1]]\n",
    "                s[2] += a[i][x[2]]\n",
    "\n",
    "            odds = []\n",
    "            evens = []\n",
    "\n",
    "            for item in s:\n",
    "                if item % 2 == 0:\n",
    "                    evens.append(item)\n",
    "                else:\n",
    "                    odds.append(item)\n",
    "\n",
    "            if len(odds) > 1 and len(evens) > 0:\n",
    "                result = max(result, max(odds))\n",
    "            elif len(evens) > 1 and len(odds) > 0:\n",
    "                result = max(result, max(evens))\n",
    "\n",
    "        return result\n",
    "\n",
    "def problem40(path):\n",
    "    with open(path) as f:\n",
    "        n = int(f.readline())\n",
    "        s = [0, 0, 0]\n",
    "        \n",
    "        infty = 10 ** 20\n",
    "        dMin = infty\n",
    "\n",
    "        for _ in range(n):\n",
    "            triplet = list(map(int, f.readline().split()))\n",
    "            triplet.sort()\n",
    "\n",
    "            for j in range(3):\n",
    "                s[j] += triplet[j]\n",
    "\n",
    "            for j in range(2):\n",
    "                d = triplet[2] - triplet[j]\n",
    "                if d % 2 == 1:\n",
    "                    dMin = min(dMin, d)\n",
    "            \n",
    "        if s[0] % 2 != s[1] % 2:\n",
    "            return s[2]\n",
    "\n",
    "        if dMin < infty:\n",
    "            return s[2] - dMin\n",
    "\n",
    "        return 0\n",
    "        \n",
    "solutions[40] = '{} {}'.format(problem40('./data/27data/40/27-40a.txt'), problem40('./data/27data/40/27-40b.txt'))\n",
    "solutions[40]"
   ]
  },
  {
   "cell_type": "code",
   "execution_count": 53,
   "metadata": {},
   "outputs": [],
   "source": [
    "from itertools import product\n",
    "\n",
    "def problem40_Misha(path):\n",
    "    with open(path) as f:\n",
    "        n = int(f.readline())\n",
    "\n",
    "        g21 = 0\n",
    "        g3 = 0\n",
    "        minr = 10**100\n",
    "\n",
    "        for _ in range(n):\n",
    "            x1, x2, x3 = list(map(int, f.readline().split()))\n",
    "\n",
    "            m1 = max([x1, x2, x3])\n",
    "            m2 = sum([x1, x2, x3]) - max([x1, x2, x3]) - min([x1, x2, x3])\n",
    "            m3 = min([x1, x2, x3])\n",
    "\n",
    "            g3 += m1\n",
    "            g21 += sum([m2, m3])\n",
    "            if (m1 - m2) % 2 == 1:\n",
    "                minr = min(minr, m1 - m2)\n",
    "            if (m1 - m3) % 2 == 1:\n",
    "                minr = min(minr, m1 - m3)\n",
    "\n",
    "    if g21 % 2 == 1:\n",
    "        return g3\n",
    "    return g3 - minr"
   ]
  },
  {
   "cell_type": "code",
   "execution_count": 80,
   "metadata": {},
   "outputs": [
    {
     "data": {
      "text/plain": [
       "'621 103914584'"
      ]
     },
     "execution_count": 80,
     "metadata": {},
     "output_type": "execute_result"
    }
   ],
   "source": [
    "answers[40]"
   ]
  },
  {
   "cell_type": "code",
   "execution_count": 82,
   "metadata": {},
   "outputs": [
    {
     "name": "stdout",
     "output_type": "stream",
     "text": [
      "Testing in progress...\n"
     ]
    },
    {
     "name": "stderr",
     "output_type": "stream",
     "text": [
      "  0%|          | 0/1000 [00:08<?, ?it/s]\n"
     ]
    },
    {
     "ename": "KeyboardInterrupt",
     "evalue": "",
     "output_type": "error",
     "traceback": [
      "\u001b[1;31m---------------------------------------------------------------------------\u001b[0m",
      "\u001b[1;31mKeyboardInterrupt\u001b[0m                         Traceback (most recent call last)",
      "\u001b[1;32m~\\AppData\\Local\\Temp/ipykernel_22940/1963314402.py\u001b[0m in \u001b[0;36m<module>\u001b[1;34m\u001b[0m\n\u001b[1;32m----> 1\u001b[1;33m \u001b[0mrun_tests\u001b[0m\u001b[1;33m(\u001b[0m\u001b[0mproblem40_bruteforce\u001b[0m\u001b[1;33m,\u001b[0m \u001b[0mproblem40\u001b[0m\u001b[1;33m,\u001b[0m \u001b[0mpositive_triplet_generator\u001b[0m\u001b[1;33m)\u001b[0m\u001b[1;33m\u001b[0m\u001b[1;33m\u001b[0m\u001b[0m\n\u001b[0m",
      "\u001b[1;32m~\\AppData\\Local\\Temp/ipykernel_22940/2490331922.py\u001b[0m in \u001b[0;36mrun_tests\u001b[1;34m(f_bruteforce, f, input_generator)\u001b[0m\n\u001b[0;32m     21\u001b[0m         \u001b[1;32mfor\u001b[0m \u001b[0mtest_id\u001b[0m \u001b[1;32min\u001b[0m \u001b[0mtqdm\u001b[0m\u001b[1;33m(\u001b[0m\u001b[0mrange\u001b[0m\u001b[1;33m(\u001b[0m\u001b[1;36m1\u001b[0m\u001b[1;33m,\u001b[0m \u001b[1;36m1000\u001b[0m\u001b[1;33m+\u001b[0m\u001b[1;36m1\u001b[0m\u001b[1;33m)\u001b[0m\u001b[1;33m)\u001b[0m\u001b[1;33m:\u001b[0m\u001b[1;33m\u001b[0m\u001b[1;33m\u001b[0m\u001b[0m\n\u001b[0;32m     22\u001b[0m             \u001b[0minput_generator\u001b[0m\u001b[1;33m(\u001b[0m\u001b[0mpath\u001b[0m\u001b[1;33m)\u001b[0m\u001b[1;33m\u001b[0m\u001b[1;33m\u001b[0m\u001b[0m\n\u001b[1;32m---> 23\u001b[1;33m             \u001b[0mexpected\u001b[0m \u001b[1;33m=\u001b[0m \u001b[0mf_bruteforce\u001b[0m\u001b[1;33m(\u001b[0m\u001b[0mpath\u001b[0m\u001b[1;33m)\u001b[0m\u001b[1;33m\u001b[0m\u001b[1;33m\u001b[0m\u001b[0m\n\u001b[0m\u001b[0;32m     24\u001b[0m             \u001b[0mactual\u001b[0m \u001b[1;33m=\u001b[0m \u001b[0mf\u001b[0m\u001b[1;33m(\u001b[0m\u001b[0mpath\u001b[0m\u001b[1;33m)\u001b[0m\u001b[1;33m\u001b[0m\u001b[1;33m\u001b[0m\u001b[0m\n\u001b[0;32m     25\u001b[0m \u001b[1;33m\u001b[0m\u001b[0m\n",
      "\u001b[1;32m~\\AppData\\Local\\Temp/ipykernel_22940/3414232928.py\u001b[0m in \u001b[0;36mproblem40_bruteforce\u001b[1;34m(path)\u001b[0m\n\u001b[0;32m     13\u001b[0m         \u001b[1;31m# option - список кортежей размера n кортежей размера 3 вида (i1, i2, i3)\u001b[0m\u001b[1;33m\u001b[0m\u001b[1;33m\u001b[0m\u001b[0m\n\u001b[0;32m     14\u001b[0m         \u001b[1;32mfor\u001b[0m \u001b[0moption\u001b[0m \u001b[1;32min\u001b[0m \u001b[0mlist\u001b[0m\u001b[1;33m(\u001b[0m\u001b[0mproduct\u001b[0m\u001b[1;33m(\u001b[0m\u001b[0mpermutations\u001b[0m\u001b[1;33m(\u001b[0m\u001b[1;33m[\u001b[0m\u001b[1;36m0\u001b[0m\u001b[1;33m,\u001b[0m \u001b[1;36m1\u001b[0m\u001b[1;33m,\u001b[0m \u001b[1;36m2\u001b[0m\u001b[1;33m]\u001b[0m\u001b[1;33m)\u001b[0m\u001b[1;33m,\u001b[0m \u001b[0mrepeat\u001b[0m \u001b[1;33m=\u001b[0m \u001b[0mn\u001b[0m\u001b[1;33m)\u001b[0m\u001b[1;33m)\u001b[0m\u001b[1;33m:\u001b[0m\u001b[1;33m\u001b[0m\u001b[1;33m\u001b[0m\u001b[0m\n\u001b[1;32m---> 15\u001b[1;33m             \u001b[0ms\u001b[0m \u001b[1;33m=\u001b[0m \u001b[1;33m[\u001b[0m\u001b[1;36m0\u001b[0m\u001b[1;33m,\u001b[0m \u001b[1;36m0\u001b[0m\u001b[1;33m,\u001b[0m \u001b[1;36m0\u001b[0m\u001b[1;33m]\u001b[0m\u001b[1;33m\u001b[0m\u001b[1;33m\u001b[0m\u001b[0m\n\u001b[0m\u001b[0;32m     16\u001b[0m             \u001b[1;32mfor\u001b[0m \u001b[0mi\u001b[0m\u001b[1;33m,\u001b[0m \u001b[0mx\u001b[0m \u001b[1;32min\u001b[0m \u001b[0menumerate\u001b[0m\u001b[1;33m(\u001b[0m\u001b[0moption\u001b[0m\u001b[1;33m)\u001b[0m\u001b[1;33m:\u001b[0m\u001b[1;33m\u001b[0m\u001b[1;33m\u001b[0m\u001b[0m\n\u001b[0;32m     17\u001b[0m                 \u001b[0ms\u001b[0m\u001b[1;33m[\u001b[0m\u001b[1;36m0\u001b[0m\u001b[1;33m]\u001b[0m \u001b[1;33m+=\u001b[0m \u001b[0ma\u001b[0m\u001b[1;33m[\u001b[0m\u001b[0mi\u001b[0m\u001b[1;33m]\u001b[0m\u001b[1;33m[\u001b[0m\u001b[0mx\u001b[0m\u001b[1;33m[\u001b[0m\u001b[1;36m0\u001b[0m\u001b[1;33m]\u001b[0m\u001b[1;33m]\u001b[0m\u001b[1;33m\u001b[0m\u001b[1;33m\u001b[0m\u001b[0m\n",
      "\u001b[1;31mKeyboardInterrupt\u001b[0m: "
     ]
    }
   ],
   "source": [
    "run_tests(problem40_bruteforce, problem40, positive_triplet_generator)"
   ]
  },
  {
   "cell_type": "markdown",
   "metadata": {},
   "source": [
    "## Задача 44"
   ]
  },
  {
   "cell_type": "markdown",
   "metadata": {},
   "source": [
    "Дана последовательность, которая состоит из троек натуральных чисел. Необходимо распределить все числа на три группы, при этом в каждую группу должно попасть ровно одно число из каждой исходной тройки. Сумма всех чисел как в первой, так и во второй группе должна быть нечётной. Определите максимально возможную сумму всех чисел в третьей группе."
   ]
  },
  {
   "cell_type": "code",
   "execution_count": 74,
   "metadata": {},
   "outputs": [
    {
     "data": {
      "text/plain": [
       "'2996 454694482'"
      ]
     },
     "execution_count": 74,
     "metadata": {},
     "output_type": "execute_result"
    }
   ],
   "source": [
    "from itertools import product, permutations\n",
    "\n",
    "def problem44_bruteforce(path):\n",
    "    with open(path) as f:\n",
    "        n = int(f.readline())\n",
    "        a = list()\n",
    "        for _ in range(n):\n",
    "            triplet = list(map(int, f.readline().split()))\n",
    "            a.append(triplet)\n",
    "\n",
    "        result = 0\n",
    "\n",
    "        # option - список кортежей размера n кортежей размера 3 вида (i1, i2, i3)\n",
    "        for option in list(product(permutations([0, 1, 2]), repeat = n)):\n",
    "            s = [0, 0, 0]\n",
    "            for i, x in enumerate(option):\n",
    "                s[0] += a[i][x[0]]\n",
    "                s[1] += a[i][x[1]]\n",
    "                s[2] += a[i][x[2]]\n",
    "\n",
    "            odds = []\n",
    "            evens = []\n",
    "\n",
    "            for item in s:\n",
    "                if item % 2 == 0:\n",
    "                    evens.append(item)\n",
    "                else:\n",
    "                    odds.append(item)\n",
    "\n",
    "            if len(odds) == 3:\n",
    "                result = max(result, max(odds))\n",
    "            elif len(odds) == 2:\n",
    "                result = max(result, max(evens))\n",
    "\n",
    "        return result\n",
    "\n",
    "def problem44(path):\n",
    "    with open(path) as f:\n",
    "        n = int(f.readline())\n",
    "        s = [0, 0, 0]\n",
    "        \n",
    "        infty = 10 ** 20\n",
    "        dMin1 = infty\n",
    "        dMin2 = infty\n",
    "\n",
    "        for _ in range(n):\n",
    "            triplet = list(map(int, f.readline().split()))\n",
    "            triplet.sort()\n",
    "\n",
    "            for j in range(3):\n",
    "                s[j] += triplet[j]\n",
    "\n",
    "            for j in range(2):\n",
    "                d = triplet[2] - triplet[j]\n",
    "                if d % 2 == 1:\n",
    "                    if d < dMin1:\n",
    "                        dMin2 = dMin1\n",
    "                        dMin1 = d\n",
    "                    elif d < dMin2:\n",
    "                        dMin2 = d\n",
    "            \n",
    "        if s[0] % 2 == 1 and s[1] % 2 == 1:\n",
    "            return s[2]\n",
    "\n",
    "        result = s[2]\n",
    "        # if dMin1 == infty:\n",
    "        #     return 0\n",
    "\n",
    "        if s[0] % 2 == 0:\n",
    "            result -= dMin1\n",
    "\n",
    "        if s[1] % 2 == 0:\n",
    "            result -= dMin2\n",
    "\n",
    "        return result\n",
    "        \n",
    "solutions[44] = '{} {}'.format(problem44('./data/27data/44/27-44a.txt'), problem44('./data/27data/44/27-44b.txt'))\n",
    "solutions[44]"
   ]
  },
  {
   "cell_type": "code",
   "execution_count": 62,
   "metadata": {},
   "outputs": [
    {
     "data": {
      "text/plain": [
       "'2996 454694482'"
      ]
     },
     "execution_count": 62,
     "metadata": {},
     "output_type": "execute_result"
    }
   ],
   "source": [
    "answers[44]"
   ]
  },
  {
   "cell_type": "code",
   "execution_count": 76,
   "metadata": {},
   "outputs": [
    {
     "name": "stdout",
     "output_type": "stream",
     "text": [
      "Testing in progress...\n"
     ]
    },
    {
     "name": "stderr",
     "output_type": "stream",
     "text": [
      "  0%|          | 5/1000 [00:00<00:22, 45.04it/s]"
     ]
    },
    {
     "name": "stdout",
     "output_type": "stream",
     "text": [
      "Test 4 failed. Expected 0, actual 302027\n",
      "Test 5 failed. Expected 355070, actual 344154\n",
      "Test 6 failed. Expected 370069, actual 350167\n"
     ]
    },
    {
     "name": "stderr",
     "output_type": "stream",
     "text": [
      "  1%|          | 10/1000 [00:00<00:27, 36.37it/s]"
     ]
    },
    {
     "name": "stdout",
     "output_type": "stream",
     "text": [
      "Test 9 failed. Expected 376178, actual 366158\n",
      "Test 10 failed. Expected 375346, actual 359772\n"
     ]
    },
    {
     "name": "stderr",
     "output_type": "stream",
     "text": [
      "  2%|▏         | 15/1000 [00:00<00:25, 38.47it/s]"
     ]
    },
    {
     "name": "stdout",
     "output_type": "stream",
     "text": [
      "Test 12 failed. Expected 371639, actual 339843\n",
      "Test 13 failed. Expected 388687, actual 387249\n",
      "Test 15 failed. Expected 441004, actual 402366\n",
      "Test 16 failed. Expected 422680, actual 351166\n"
     ]
    },
    {
     "name": "stderr",
     "output_type": "stream",
     "text": [
      "  2%|▏         | 19/1000 [00:00<00:26, 37.70it/s]"
     ]
    },
    {
     "name": "stdout",
     "output_type": "stream",
     "text": [
      "Test 20 failed. Expected 370953, actual 369861\n",
      "Testing is stopped after 10 failed tests.\n"
     ]
    },
    {
     "name": "stderr",
     "output_type": "stream",
     "text": [
      "\n"
     ]
    }
   ],
   "source": [
    "run_tests(problem44_bruteforce, problem44, positive_triplet_generator)"
   ]
  },
  {
   "cell_type": "markdown",
   "metadata": {},
   "source": [
    "## Задача 47"
   ]
  },
  {
   "cell_type": "code",
   "execution_count": 9,
   "metadata": {},
   "outputs": [],
   "source": [
    "from itertools import combinations, product\n",
    "\n",
    "def problem47_bruteforce(path):\n",
    "    with open(path) as f:\n",
    "        n = int(f.readline())\n",
    "        s_max = 0\n",
    "        a = list()\n",
    "        for _ in range(n):\n",
    "            pair = list(map(int, f.readline().split()))\n",
    "            s_max += max(pair)\n",
    "            a.append(pair)\n",
    "\n",
    "        result = None\n",
    "\n",
    "        # option - кортеж вида (i, x), где i - номер пары, x - 0 или 1, индекс элемента пары, который выбран в сумму\n",
    "        for option in list(product([0, 1], repeat=n)):\n",
    "            s = 0\n",
    "            for i, x in enumerate(option):\n",
    "                s += a[i][x]\n",
    "\n",
    "            if (s % 10) == s_max % 10 and (result == None or s < result):\n",
    "                result = s\n",
    "\n",
    "        return result\n",
    "\n",
    "def problem47(path):\n",
    "    with open(path) as f:\n",
    "        n = int(f.readline())\n",
    "        data = list()\n",
    "        s_max = 0\n",
    "        \n",
    "        for _ in range(n):\n",
    "            pair = list(map(int, f.readline().split()))\n",
    "            s_max += max(pair)\n",
    "            data.append(pair)\n",
    "\n",
    "        s = 0\n",
    "        infty = 10 ** 20\n",
    "        m = infty\n",
    "\n",
    "        dMin = [10 ** 20] * 10\n",
    "\n",
    "        for x, y in data:\n",
    "            s += min(x, y)\n",
    "            d = abs(y - x)\n",
    "            r = d % 10\n",
    "\n",
    "            if r > 0:\n",
    "                dMinNew = dMin[:]\n",
    "                for k in range(1, 10):\n",
    "                    r0 = (r + k) % 10\n",
    "                    dMinNew[r0] = min(d + dMin[k], dMinNew[r0])\n",
    "\n",
    "                dMinNew[r] = min(d, dMinNew[r])\n",
    "                dMin = dMinNew[:]\n",
    "\n",
    "        if s % 10 == s_max % 10:\n",
    "            return s\n",
    "        else:\n",
    "\n",
    "            return s + dMin[(s_max % 10 - s % 10)]"
   ]
  },
  {
   "cell_type": "code",
   "execution_count": 10,
   "metadata": {},
   "outputs": [
    {
     "data": {
      "text/plain": [
       "'64573 189977078'"
      ]
     },
     "execution_count": 10,
     "metadata": {},
     "output_type": "execute_result"
    }
   ],
   "source": [
    "solutions[47] = '{} {}'.format(problem47('./data/27data/47/27-47a.txt'), problem47('./data/27data/47/27-47b.txt'))\n",
    "solutions[47]"
   ]
  },
  {
   "cell_type": "code",
   "execution_count": 12,
   "metadata": {},
   "outputs": [
    {
     "data": {
      "text/plain": [
       "'64573 189977078'"
      ]
     },
     "execution_count": 12,
     "metadata": {},
     "output_type": "execute_result"
    }
   ],
   "source": [
    "answers[47]"
   ]
  },
  {
   "cell_type": "code",
   "execution_count": null,
   "metadata": {},
   "outputs": [
    {
     "name": "stdout",
     "output_type": "stream",
     "text": [
      "Tests are skipped. Set test_env variable to True in order to test.\n"
     ]
    }
   ],
   "source": [
    "run_tests(problem47_bruteforce, problem47, positive_pair_generator)"
   ]
  },
  {
   "cell_type": "markdown",
   "metadata": {},
   "source": [
    "## Задача 50"
   ]
  },
  {
   "cell_type": "markdown",
   "metadata": {},
   "source": [
    "Набор данных состоит из нечётного количества пар натуральных чисел. Необходимо выбрать из каждой пары ровно одно число так, чтобы сумма выбранных чисел была максимальной при условии, что чётность этой суммы НЕ совпадает с чётностью большинства выбранных чисел. Определите максимальную сумму, которую можно получить при таком условии. Гарантируется, что удовлетворяющий условиям выбор возможен."
   ]
  },
  {
   "cell_type": "code",
   "execution_count": 7,
   "metadata": {},
   "outputs": [
    {
     "data": {
      "text/plain": [
       "'135266 409953886'"
      ]
     },
     "execution_count": 7,
     "metadata": {},
     "output_type": "execute_result"
    }
   ],
   "source": [
    "from itertools import product\n",
    "\n",
    "def problem50_bruteforce(path):\n",
    "    with open(path) as f:\n",
    "        n = int(f.readline())\n",
    "        s_max = 0\n",
    "        data = list()\n",
    "        for _ in range(n):\n",
    "            pair = list(map(int, f.readline().split()))\n",
    "            s_max += max(pair)\n",
    "            data.append(pair)\n",
    "\n",
    "        result = 0\n",
    "\n",
    "        for option in list(product([0, 1], repeat=n)):\n",
    "            s = 0\n",
    "            c = [0, 0]\n",
    "\n",
    "            for i, x in enumerate(option):\n",
    "                s += data[i][x]\n",
    "                c[data[i][x] % 2] += 1\n",
    "\n",
    "            if s > result and (s % 2 != c.index(max(c))):\n",
    "                result = s\n",
    "\n",
    "        return result\n",
    "\n",
    "def problem50(path):\n",
    "    with open(path) as f:\n",
    "        n = int(f.readline())\n",
    "        c = [0, 0]\n",
    "        result = 0\n",
    "        m = 10 ** 20\n",
    "\n",
    "        for i in range(n):\n",
    "            x, y = sorted(list(map(int, f.readline().split())))\n",
    "            c[y % 2] += 1\n",
    "            d = y - x\n",
    "            if d % 2 == 1:\n",
    "                m = min(m, d)\n",
    "\n",
    "            result += y\n",
    "\n",
    "        if result % 2 != c.index(max(c)):\n",
    "            return result\n",
    "        \n",
    "        return result - m\n",
    "\n",
    "\n",
    "solutions[50] = '{} {}'.format(problem50('./data/27data/50/27-50a.txt'), problem50('./data/27data/50/27-50b.txt'))\n",
    "solutions[50]"
   ]
  },
  {
   "cell_type": "code",
   "execution_count": 8,
   "metadata": {},
   "outputs": [
    {
     "data": {
      "text/plain": [
       "'135266 409953886'"
      ]
     },
     "execution_count": 8,
     "metadata": {},
     "output_type": "execute_result"
    }
   ],
   "source": [
    "answers[50]"
   ]
  },
  {
   "cell_type": "code",
   "execution_count": 50,
   "metadata": {},
   "outputs": [
    {
     "name": "stdout",
     "output_type": "stream",
     "text": [
      "Testing in progress...\n"
     ]
    },
    {
     "name": "stderr",
     "output_type": "stream",
     "text": [
      "100%|██████████| 1000/1000 [00:05<00:00, 198.75it/s]"
     ]
    },
    {
     "name": "stdout",
     "output_type": "stream",
     "text": [
      "OK! All tests passed.\n"
     ]
    },
    {
     "name": "stderr",
     "output_type": "stream",
     "text": [
      "\n"
     ]
    }
   ],
   "source": [
    "run_tests(problem50_bruteforce, problem50, positive_pair_generator)"
   ]
  },
  {
   "cell_type": "markdown",
   "metadata": {},
   "source": [
    "## Задача 58"
   ]
  },
  {
   "cell_type": "markdown",
   "metadata": {},
   "source": [
    "В файле записана последовательность натуральных чисел. Рассматриваются всевозможные группы чисел, состоящие из любого количества элементов последовательности. Необходимо найти количество таких групп, для которых сумма элементов кратна 3."
   ]
  },
  {
   "cell_type": "code",
   "execution_count": 60,
   "metadata": {},
   "outputs": [
    {
     "data": {
      "text/plain": [
       "'351 357914111'"
      ]
     },
     "execution_count": 60,
     "metadata": {},
     "output_type": "execute_result"
    }
   ],
   "source": [
    "from itertools import combinations\n",
    "\n",
    "def problem58_bruteforce(path):\n",
    "    with open(path) as f:\n",
    "        n = int(f.readline())\n",
    "        data = list()\n",
    "        result = 0\n",
    "\n",
    "        for i in range(n):\n",
    "            x = int(f.readline())\n",
    "            data.append(x)\n",
    "\n",
    "        for i in range(1, n+1):\n",
    "            for option in combinations(data, i):\n",
    "                s = sum(option)\n",
    "                if s % 3 == 0:\n",
    "                    result += 1\n",
    "\n",
    "        return result\n",
    "\n",
    "def problem58(path):\n",
    "    with open(path) as f:\n",
    "        n = int(f.readline())\n",
    "        result = [0, 0, 0] # result[j] - количество подпоследовательностей, в которых сумма элементов дает остаток j при делении на 2 к очередной итерации \n",
    "\n",
    "        for i in range(n):\n",
    "            x = int(f.readline())\n",
    "            resultNew = result.copy()\n",
    "\n",
    "            for j in range(3):\n",
    "                resultNew[(x + j) % 3] += result[j]\n",
    "\n",
    "            resultNew[x % 3] += 1\n",
    "            result = resultNew.copy()\n",
    "        \n",
    "        return result[0]\n",
    "\n",
    "solutions[58] = '{} {}'.format(problem58('./data/27data/58/27-58a.txt'), problem58('./data/27data/58/27-58b.txt'))\n",
    "solutions[58]"
   ]
  },
  {
   "cell_type": "code",
   "execution_count": 25,
   "metadata": {},
   "outputs": [
    {
     "data": {
      "text/plain": [
       "'351 357914111'"
      ]
     },
     "execution_count": 25,
     "metadata": {},
     "output_type": "execute_result"
    }
   ],
   "source": [
    "answers[58]"
   ]
  },
  {
   "cell_type": "code",
   "execution_count": 61,
   "metadata": {},
   "outputs": [
    {
     "name": "stdout",
     "output_type": "stream",
     "text": [
      "Testing in progress...\n"
     ]
    },
    {
     "name": "stderr",
     "output_type": "stream",
     "text": [
      "100%|██████████| 1000/1000 [00:09<00:00, 106.93it/s]"
     ]
    },
    {
     "name": "stdout",
     "output_type": "stream",
     "text": [
      "OK! All tests passed.\n"
     ]
    },
    {
     "name": "stderr",
     "output_type": "stream",
     "text": [
      "\n"
     ]
    }
   ],
   "source": [
    "from solutions27.utils.data_generators import positive_numbers\n",
    "run_tests(problem58_bruteforce, problem58, positive_numbers)"
   ]
  },
  {
   "cell_type": "markdown",
   "metadata": {},
   "source": [
    "## Задача 60"
   ]
  },
  {
   "cell_type": "markdown",
   "metadata": {},
   "source": [
    "В файле записана последовательность натуральных чисел. Гарантируется, что все числа различны. Рассматриваются всевозможные группы чисел, состоящие из любого количества элементов последовательности. Необходимо найти наибольшую сумму такой группы, кратную 25. Программа должна вывести эту сумму."
   ]
  },
  {
   "cell_type": "code",
   "execution_count": 63,
   "metadata": {},
   "outputs": [
    {
     "data": {
      "text/plain": [
       "'925 5036375'"
      ]
     },
     "execution_count": 63,
     "metadata": {},
     "output_type": "execute_result"
    }
   ],
   "source": [
    "from itertools import product, permutations\n",
    "\n",
    "def problem60_bruteforce(path):\n",
    "    with open(path) as f:\n",
    "        n = int(f.readline())\n",
    "        data = list()\n",
    "        result = 0\n",
    "\n",
    "        for i in range(n):\n",
    "            x = int(f.readline())\n",
    "            data.append(x)\n",
    "\n",
    "        for i in range(1, n+1):\n",
    "            for option in combinations(data, i):\n",
    "                s = sum(option)\n",
    "                if s % 25 == 0:\n",
    "                    result = max(result, s)\n",
    "\n",
    "        return result\n",
    "\n",
    "def problem60(path):\n",
    "    with open(path) as f:\n",
    "        n = int(f.readline())\n",
    "        result = [0] * 25 # result[j] - максимальная сумма подпоследовательностей, в которых сумма элементов дает остаток j при делении на 25 к очередной итерации \n",
    "\n",
    "        for i in range(n):\n",
    "            x = int(f.readline())\n",
    "            resultNew = result.copy()\n",
    "\n",
    "            for j in range(25):\n",
    "                if result[j] != 0:\n",
    "                    resultNew[(x + j) % 25] = max(resultNew[(x + j) % 25], result[j] + x)\n",
    "\n",
    "            resultNew[x % 25] = max(resultNew[x % 25], x)\n",
    "            result = resultNew.copy()\n",
    "        \n",
    "        return result[0]\n",
    "\n",
    "solutions[60] = '{} {}'.format(problem60('./data/27data/60/27-60a.txt'), problem60('./data/27data/60/27-60b.txt'))\n",
    "solutions[60]"
   ]
  },
  {
   "cell_type": "code",
   "execution_count": 7,
   "metadata": {},
   "outputs": [
    {
     "data": {
      "text/plain": [
       "'925 5036375'"
      ]
     },
     "execution_count": 7,
     "metadata": {},
     "output_type": "execute_result"
    }
   ],
   "source": [
    "answers[60]"
   ]
  },
  {
   "cell_type": "code",
   "execution_count": 84,
   "metadata": {},
   "outputs": [
    {
     "name": "stdout",
     "output_type": "stream",
     "text": [
      "Testing in progress...\n"
     ]
    },
    {
     "name": "stderr",
     "output_type": "stream",
     "text": [
      "100%|██████████| 1000/1000 [00:09<00:00, 109.05it/s]"
     ]
    },
    {
     "name": "stdout",
     "output_type": "stream",
     "text": [
      "OK! All tests passed.\n"
     ]
    },
    {
     "name": "stderr",
     "output_type": "stream",
     "text": [
      "\n"
     ]
    }
   ],
   "source": [
    "run_tests(problem60_bruteforce, solution60, input_generator_one_per_line)"
   ]
  },
  {
   "cell_type": "markdown",
   "metadata": {},
   "source": [
    "## Задача 67"
   ]
  },
  {
   "cell_type": "code",
   "execution_count": null,
   "metadata": {},
   "outputs": [
    {
     "data": {
      "text/plain": [
       "'6488 181567328'"
      ]
     },
     "execution_count": 342,
     "metadata": {},
     "output_type": "execute_result"
    }
   ],
   "source": [
    "# def problem67_bruteforce(path):\n",
    "#     with open(path) as f:\n",
    "#         n = int(f.readline())\n",
    "#         a = list()\n",
    "#         for i in range(n):\n",
    "#             a.append(int(f.readline()))\n",
    "        \n",
    "#         answer = 0\n",
    "#         for l in range(n):\n",
    "#             for r in range(l+1, min(l+21, n)):\n",
    "#                 if sum(a[l:r]) % 39 == 0:\n",
    "#                     answer += 1\n",
    "        \n",
    "#         return answer\n",
    "\n",
    "def problem67(path):\n",
    "    with open(path) as f:\n",
    "        n = int(f.readline())\n",
    "        s = 0\n",
    "\n",
    "        for i in range(n):\n",
    "            numbers = list(map(int, f.readline().split()))\n",
    "            numbers = numbers[1:]\n",
    "\n",
    "            min_odd = 1001\n",
    "            for x in numbers:\n",
    "                if x % 2 != 0:\n",
    "                    min_odd = min(x, min_odd) \n",
    "\n",
    "            if sum(numbers) % 2 == 0:\n",
    "                s += sum(numbers)\n",
    "            else:\n",
    "                s += sum(numbers) + min_odd\n",
    "            \n",
    "        \n",
    "        if s % 5 != 0:\n",
    "            return s\n",
    "        \n",
    "        return max(s + min_pair_diff, s + min_odd_diff)\n",
    "\n",
    "\n",
    "solutions[67] = '{} {}'.format(problem67('./data/27data/67/27-67a.txt'), problem67('./data/27data/67/27-67b.txt'))\n",
    "solutions[67]"
   ]
  },
  {
   "cell_type": "code",
   "execution_count": null,
   "metadata": {},
   "outputs": [],
   "source": [
    "# answers[67]"
   ]
  },
  {
   "cell_type": "markdown",
   "metadata": {},
   "source": [
    "## Задача 71"
   ]
  },
  {
   "cell_type": "markdown",
   "metadata": {},
   "source": [
    "Набор данных представляет собой последовательность натуральных чисел. Необходимо выбрать такую подпоследовательность подряд идущих чисел, чтобы их сумма была максимальной и делилась на 69, и определить её длину. Гарантируется, что такая подпоследовательность существует. Если таких подпоследовательностей несколько, нужно выбрать подпоследовательность наименьшей длины.\n",
    "\n",
    "В ответе укажите два числа: сначала значение искомой суммы для файла А, затем для файла B."
   ]
  },
  {
   "cell_type": "code",
   "execution_count": 49,
   "metadata": {},
   "outputs": [
    {
     "data": {
      "text/plain": [
       "'14 99989'"
      ]
     },
     "execution_count": 49,
     "metadata": {},
     "output_type": "execute_result"
    }
   ],
   "source": [
    "def problem71_bruteforce(path):\n",
    "    with open(path) as f:\n",
    "        n = int(f.readline())\n",
    "        a = list()\n",
    "        for i in range(n):\n",
    "            a.append(int(f.readline()))\n",
    "        \n",
    "        optimal_sum = 0\n",
    "        answer = 10 ** 20\n",
    "\n",
    "        for l in range(n):\n",
    "            for r in range(l+1, n):\n",
    "                s = sum(a[l:r])\n",
    "                length = r-l\n",
    "                if s % 69 == 0:\n",
    "                    if s > optimal_sum:\n",
    "                        answer = length\n",
    "                        optimal_sum = s\n",
    "                    elif s == optimal_sum:\n",
    "                        answer = min(answer, length)\n",
    "        \n",
    "        return answer\n",
    "\n",
    "def problem71(path):\n",
    "    with open(path) as f:\n",
    "        n = int(f.readline())\n",
    "        answer = 10 ** 20\n",
    "        optimal_sum = 0\n",
    "        s = 0\n",
    "\n",
    "        sMin = [None] * 69 # sMin[k] - последняя наименьшая префикс-сумма, для которой s % 69 == k\n",
    "        dMin = [None] * 69 # dMin[k] - номер итерации, на котором встречена sMin\n",
    "\n",
    "        for i in range(n):\n",
    "            x = int(f.readline())\n",
    "            s += x\n",
    "\n",
    "            if sMin[s % 69] != None:\n",
    "                length = i - dMin[s % 69]\n",
    "                current_sum = s - sMin[s % 69]\n",
    "\n",
    "                if current_sum > optimal_sum:\n",
    "                    answer = length\n",
    "                    optimal_sum = current_sum\n",
    "                elif current_sum == optimal_sum:\n",
    "                    answer = min(answer, length)\n",
    "\n",
    "            if sMin[s % 69] == None or s <= sMin[s % 69]:\n",
    "                dMin[s % 69] = i\n",
    "                sMin[s % 69] = s\n",
    "\n",
    "        return answer\n",
    "\n",
    "solutions[71] = '{} {}'.format(problem71('./data/27data/71/27-71a.txt'), problem71('./data/27data/71/27-71b.txt'))\n",
    "solutions[71]"
   ]
  },
  {
   "cell_type": "code",
   "execution_count": 17,
   "metadata": {},
   "outputs": [
    {
     "data": {
      "text/plain": [
       "'14 99989'"
      ]
     },
     "execution_count": 17,
     "metadata": {},
     "output_type": "execute_result"
    }
   ],
   "source": [
    "answers[71]"
   ]
  },
  {
   "cell_type": "code",
   "execution_count": 51,
   "metadata": {},
   "outputs": [
    {
     "name": "stdout",
     "output_type": "stream",
     "text": [
      "Testing in progress...\n"
     ]
    },
    {
     "name": "stderr",
     "output_type": "stream",
     "text": [
      "  6%|▌         | 56/1000 [00:00<00:02, 350.63it/s]"
     ]
    },
    {
     "name": "stdout",
     "output_type": "stream",
     "text": [
      "Test 4 failed. Expected 7, actual 5\n",
      "Test 11 failed. Expected 4, actual 9\n",
      "Test 13 failed. Expected 7, actual 6\n",
      "Test 20 failed. Expected 4, actual 7\n",
      "Test 23 failed. Expected 100000000000000000000, actual 8\n",
      "Test 38 failed. Expected 100000000000000000000, actual 6\n",
      "Test 40 failed. Expected 100000000000000000000, actual 14\n",
      "Test 49 failed. Expected 2, actual 12\n",
      "Test 54 failed. Expected 3, actual 4\n",
      "Test 57 failed. Expected 5, actual 14\n",
      "Testing is stopped after 10 failed tests.\n"
     ]
    },
    {
     "name": "stderr",
     "output_type": "stream",
     "text": [
      "\n"
     ]
    }
   ],
   "source": [
    "run_tests(problem71_bruteforce, problem71, input_generator_one_per_line)"
   ]
  },
  {
   "cell_type": "markdown",
   "metadata": {},
   "source": [
    "## Задача 74"
   ]
  },
  {
   "cell_type": "code",
   "execution_count": null,
   "metadata": {},
   "outputs": [
    {
     "data": {
      "text/plain": [
       "'21 51023'"
      ]
     },
     "execution_count": 344,
     "metadata": {},
     "output_type": "execute_result"
    }
   ],
   "source": [
    "def problem74_bruteforce(path):\n",
    "    with open(path) as f:\n",
    "        n = int(f.readline())\n",
    "        a = list()\n",
    "        for i in range(n):\n",
    "            a.append(int(f.readline()))\n",
    "        \n",
    "        answer = 0\n",
    "        for l in range(n):\n",
    "            for r in range(l+1, min(l+21, n)):\n",
    "                if sum(a[l:r]) % 39 == 0:\n",
    "                    answer += 1\n",
    "        \n",
    "        return answer\n",
    "\n",
    "def problem74(path):\n",
    "    with open(path) as f:\n",
    "        n = int(f.readline())\n",
    "        answer = 0\n",
    "\n",
    "        s = [int(f.readline())] # последние 20 префикс сумм\n",
    "        for i in range(1, 20):\n",
    "            s.append(s[i-1] + int(f.readline()))\n",
    "\n",
    "        for k in range(19):\n",
    "            if s[-1] % 39 == s[k] % 39:\n",
    "                answer += 1\n",
    "\n",
    "        for i in range(n-20):\n",
    "            for k in range(19):\n",
    "                if s[-1] % 39 == s[k] % 39:\n",
    "                    answer += 1\n",
    "            x = int(f.readline())\n",
    "            s.pop(0)\n",
    "            s.append(s[-1] + x)\n",
    "        \n",
    "        return answer\n",
    "\n",
    "solutions[74] = '{} {}'.format(problem74_bruteforce('./data/27data/74/27-74a.txt'), problem74_bruteforce('./data/27data/74/27-74b.txt'))\n",
    "solutions[74]"
   ]
  },
  {
   "cell_type": "code",
   "execution_count": null,
   "metadata": {},
   "outputs": [
    {
     "data": {
      "text/plain": [
       "'21 51023'"
      ]
     },
     "execution_count": 345,
     "metadata": {},
     "output_type": "execute_result"
    }
   ],
   "source": [
    "answers[74]"
   ]
  },
  {
   "cell_type": "code",
   "execution_count": null,
   "metadata": {},
   "outputs": [],
   "source": [
    "from random import randint\n",
    "\n",
    "def input_generator74(path):\n",
    "    with open(path, 'w+') as f:\n",
    "        n = 100\n",
    "        f.write(str(n) + '\\n')\n",
    "\n",
    "        for i in range(n):\n",
    "            f.write(str(randint(1, 100000)) + '\\n')"
   ]
  },
  {
   "cell_type": "code",
   "execution_count": null,
   "metadata": {},
   "outputs": [
    {
     "name": "stdout",
     "output_type": "stream",
     "text": [
      "Tests are skipped. Set test_env variable to True in order to test.\n"
     ]
    }
   ],
   "source": [
    "run_tests(problem74_bruteforce, problem74, input_generator74)"
   ]
  },
  {
   "cell_type": "markdown",
   "metadata": {},
   "source": [
    "## Задача 76"
   ]
  },
  {
   "cell_type": "code",
   "execution_count": null,
   "metadata": {},
   "outputs": [],
   "source": [
    "def problem76_bruteforce(path):\n",
    "    with open(path) as f:\n",
    "        n = int(f.readline())\n",
    "        a = list()\n",
    "\n",
    "        for i in range(n):\n",
    "            a.append(int(f.readline()))\n",
    "\n",
    "        answer = 0\n",
    "        for i in range(n):\n",
    "            for j in range(i+2, n):\n",
    "                if (a[i] + a[j]) % 3 == 0 and (sum(a[i+1:j]) % 2 == 0):\n",
    "                    answer += 1\n",
    "\n",
    "        return answer\n",
    "\n",
    "def problem76(path):\n",
    "    with open(path) as f:\n",
    "        n = int(f.readline())\n",
    "        c0 = [0] * 3 # c[j] - количество четных до i-1 итерации, дающих при делении на 3 остаток j\n",
    "        c1 = [0] * 3 # c[j] - количество нечетных до i-1 итерации, дающих при делении на 3 остаток j\n",
    "\n",
    "        x_prev = int(f.readline())\n",
    "        answer = 0\n",
    "        s = 0\n",
    "\n",
    "        for i in range(1, n):\n",
    "            x = int(f.readline())\n",
    "            s += x_prev\n",
    "            r = x % 3\n",
    "\n",
    "            if s % 2 == 0:\n",
    "                answer += c0[(3-r) % 3]\n",
    "            else:\n",
    "                answer += c1[(3-r) % 3]\n",
    "\n",
    "            if s % 2 == 0:\n",
    "                c0[x_prev % 3] += 1\n",
    "            else:\n",
    "                c1[x_prev % 3] += 1\n",
    "\n",
    "            x_prev = x\n",
    "\n",
    "        return answer"
   ]
  },
  {
   "cell_type": "code",
   "execution_count": null,
   "metadata": {},
   "outputs": [
    {
     "data": {
      "text/plain": [
       "'27 833306999'"
      ]
     },
     "execution_count": 351,
     "metadata": {},
     "output_type": "execute_result"
    }
   ],
   "source": [
    "solutions[76] = '{} {}'.format(problem76_bruteforce('./data/27data/76/27-76a.txt'), problem76('./data/27data/76/27-76b.txt'))\n",
    "solutions[76]"
   ]
  },
  {
   "cell_type": "code",
   "execution_count": null,
   "metadata": {},
   "outputs": [
    {
     "data": {
      "text/plain": [
       "'27 833306999'"
      ]
     },
     "execution_count": 352,
     "metadata": {},
     "output_type": "execute_result"
    }
   ],
   "source": [
    "answers[76]"
   ]
  },
  {
   "cell_type": "code",
   "execution_count": null,
   "metadata": {},
   "outputs": [],
   "source": [
    "from random import randint\n",
    "\n",
    "def input_generator76(path):\n",
    "    with open(path, 'w+') as f:\n",
    "        n = 20\n",
    "        f.write(str(n) + '\\n')\n",
    "\n",
    "        for i in range(n):\n",
    "            f.write(str(randint(1, 50)) + '\\n')"
   ]
  },
  {
   "cell_type": "code",
   "execution_count": null,
   "metadata": {},
   "outputs": [
    {
     "name": "stdout",
     "output_type": "stream",
     "text": [
      "Tests are skipped. Set test_env variable to True in order to test.\n"
     ]
    }
   ],
   "source": [
    "run_tests(problem76_bruteforce, problem76, input_generator76)"
   ]
  },
  {
   "cell_type": "markdown",
   "metadata": {},
   "source": [
    "## Задача 79"
   ]
  },
  {
   "cell_type": "code",
   "execution_count": 2,
   "metadata": {},
   "outputs": [],
   "source": [
    "from collections import defaultdict\n",
    "\n",
    "def problem79_bruteforce(path):\n",
    "    with open(path) as f:\n",
    "        n = int(f.readline())\n",
    "        a = list()\n",
    "\n",
    "        for i in range(n):\n",
    "            a.append(int(f.readline()))\n",
    "\n",
    "        answer = 0\n",
    "        for i in range(n):\n",
    "            for j in range(i, n):\n",
    "                if a[i] % 21 == 0 and a[i] == a[j] * a[j]:\n",
    "                    answer = max(answer, j-i+1)\n",
    "\n",
    "        return answer\n",
    "\n",
    "def problem79(path):\n",
    "    with open(path) as f:\n",
    "        n = int(f.readline())\n",
    "        m = defaultdict(lambda: None)\n",
    "\n",
    "        answer = 0\n",
    "        for i in range(n):\n",
    "            x = int(f.readline())\n",
    "            if x % 21 == 0 and m[x] == None:\n",
    "                m[x] = i\n",
    "\n",
    "            if m[x ** 2] != None:\n",
    "                answer = max(answer, i - m[x ** 2] + 1)\n",
    "\n",
    "        return answer"
   ]
  },
  {
   "cell_type": "code",
   "execution_count": 10,
   "metadata": {},
   "outputs": [],
   "source": [
    "from random import randint\n",
    "\n",
    "def input_generator79(path):\n",
    "    with open(path, 'w+') as f:\n",
    "        n = 20\n",
    "        f.write(str(n) + '\\n')\n",
    "\n",
    "        for i in range(n):\n",
    "            f.write(str(randint(1, 50000)) + '\\n')"
   ]
  },
  {
   "cell_type": "code",
   "execution_count": 11,
   "metadata": {},
   "outputs": [
    {
     "name": "stdout",
     "output_type": "stream",
     "text": [
      "Testing in progress...\n"
     ]
    },
    {
     "name": "stderr",
     "output_type": "stream",
     "text": [
      "100%|██████████| 1000/1000 [00:02<00:00, 370.44it/s]"
     ]
    },
    {
     "name": "stdout",
     "output_type": "stream",
     "text": [
      "OK! All tests passed.\n"
     ]
    },
    {
     "name": "stderr",
     "output_type": "stream",
     "text": [
      "\n"
     ]
    }
   ],
   "source": [
    "run_tests(problem79_bruteforce, problem79, input_generator79)"
   ]
  },
  {
   "cell_type": "code",
   "execution_count": null,
   "metadata": {},
   "outputs": [
    {
     "data": {
      "text/plain": [
       "'337 148613'"
      ]
     },
     "execution_count": 358,
     "metadata": {},
     "output_type": "execute_result"
    }
   ],
   "source": [
    "answers[79]"
   ]
  },
  {
   "cell_type": "code",
   "execution_count": null,
   "metadata": {},
   "outputs": [
    {
     "data": {
      "text/plain": [
       "337"
      ]
     },
     "execution_count": 359,
     "metadata": {},
     "output_type": "execute_result"
    }
   ],
   "source": [
    "problem79_bruteforce('./data/27data/79/27-79a.txt')"
   ]
  },
  {
   "cell_type": "code",
   "execution_count": null,
   "metadata": {},
   "outputs": [
    {
     "data": {
      "text/plain": [
       "148613"
      ]
     },
     "execution_count": 360,
     "metadata": {},
     "output_type": "execute_result"
    }
   ],
   "source": [
    "problem79('./data/27data/79/27-79b.txt')"
   ]
  },
  {
   "cell_type": "markdown",
   "metadata": {},
   "source": [
    "##  Задача 82"
   ]
  },
  {
   "cell_type": "code",
   "execution_count": null,
   "metadata": {},
   "outputs": [],
   "source": [
    "def isPrime(x: int):\n",
    "    if x == 1:\n",
    "        return False\n",
    "\n",
    "    i = 2\n",
    "    while i * i <= x:\n",
    "        if x % i == 0:\n",
    "            return False\n",
    "        i += 1\n",
    "    \n",
    "    return True\n",
    "\n",
    "def problem82_bruteforce(path):\n",
    "    with open(path) as f:\n",
    "        n = int(f.readline())\n",
    "        k = 9\n",
    "        a = list()\n",
    "        for i in range(n):\n",
    "            a.append(int(f.readline()))\n",
    "\n",
    "        result = 0\n",
    "        for length in range(1, n+1):\n",
    "            for l in range(n-length+1):\n",
    "                c = 0\n",
    "                s = sum(a[l:l+length])\n",
    "                for i in range(l, l+length):\n",
    "                    # s += a[i]\n",
    "                    if isPrime(a[i]):\n",
    "                        c += 1\n",
    "\n",
    "                if c % k == 0 and s > result:\n",
    "                    result = s\n",
    "\n",
    "        return result\n",
    "\n",
    "def problem82(path):\n",
    "    with open(path) as f:\n",
    "        n = int(f.readline())\n",
    "        k = 9\n",
    "        \n",
    "        count = 0 # количество простых чисел\n",
    "        s = 0 # сумма всех чисел (на i-й итерации это i-ая префикс-сумма)\n",
    "        infty = 10 ** 20\n",
    "        tailSum = [0] + [infty] * (k-1) # tailSum[j] - наименьшее значение префикс-суммы, в которой количество простых чисел дает остаток j при делении на k\n",
    "        answer = 0\n",
    "\n",
    "        for i in range(n):\n",
    "            x = int(f.readline())\n",
    "            s += x\n",
    "            if isPrime(x):\n",
    "                count += 1\n",
    "            \n",
    "            r = count % k\n",
    "            # if tailSum[r] is None:\n",
    "            #     tailSum[r] = s # такое заполнение обеспечивает, что tailSum[r] - наименьшая префикс-сумма, ведь префикс-суммы неубывают с увеличением индекса\n",
    "            # elif count >= k:\n",
    "            #     answer = max(answer, s - tailSum[r])\n",
    "\n",
    "            if r == 0 and s > answer: # если r = 0, то подходит сама префикс-сумма\n",
    "                answer = max(answer, s)\n",
    "            elif tailSum[r] != infty and s - tailSum[r] > answer:\n",
    "                answer = s - tailSum[r]\n",
    "\n",
    "\n",
    "            tailSum[r] = min(tailSum[r], s)\n",
    "\n",
    "        return answer"
   ]
  },
  {
   "cell_type": "code",
   "execution_count": null,
   "metadata": {},
   "outputs": [
    {
     "data": {
      "text/plain": [
       "67645"
      ]
     },
     "execution_count": 362,
     "metadata": {},
     "output_type": "execute_result"
    }
   ],
   "source": [
    "problem82_bruteforce('./data/27data/82/27-82a.txt')"
   ]
  },
  {
   "cell_type": "code",
   "execution_count": null,
   "metadata": {},
   "outputs": [
    {
     "data": {
      "text/plain": [
       "67645"
      ]
     },
     "execution_count": 363,
     "metadata": {},
     "output_type": "execute_result"
    }
   ],
   "source": [
    "problem82('./data/27data/82/27-82a.txt')"
   ]
  },
  {
   "cell_type": "code",
   "execution_count": null,
   "metadata": {},
   "outputs": [
    {
     "data": {
      "text/plain": [
       "'67645 69976583'"
      ]
     },
     "execution_count": 364,
     "metadata": {},
     "output_type": "execute_result"
    }
   ],
   "source": [
    "solutions[82] = '{} {}'.format(problem82_bruteforce('./data/27data/82/27-82a.txt'), problem82('./data/27data/82/27-82b.txt'))\n",
    "solutions[82]"
   ]
  },
  {
   "cell_type": "code",
   "execution_count": null,
   "metadata": {},
   "outputs": [],
   "source": [
    "from random import randint\n",
    "\n",
    "def input_generator82(path):\n",
    "    with open(path, 'w+') as f:\n",
    "        n = 15\n",
    "        f.write(str(n) + '\\n')\n",
    "\n",
    "        for i in range(n):\n",
    "            f.write(str(randint(1, 10000)) + '\\n')"
   ]
  },
  {
   "cell_type": "code",
   "execution_count": null,
   "metadata": {},
   "outputs": [
    {
     "name": "stdout",
     "output_type": "stream",
     "text": [
      "Tests are skipped. Set test_env variable to True in order to test.\n"
     ]
    }
   ],
   "source": [
    "run_tests(problem82_bruteforce, problem82, input_generator82)"
   ]
  },
  {
   "cell_type": "markdown",
   "metadata": {},
   "source": [
    "## Задача 86"
   ]
  },
  {
   "cell_type": "code",
   "execution_count": 1,
   "metadata": {},
   "outputs": [
    {
     "ename": "NameError",
     "evalue": "name 'solutions' is not defined",
     "output_type": "error",
     "traceback": [
      "\u001b[1;31m---------------------------------------------------------------------------\u001b[0m",
      "\u001b[1;31mNameError\u001b[0m                                 Traceback (most recent call last)",
      "\u001b[1;32m~\\AppData\\Local\\Temp/ipykernel_9284/3652794274.py\u001b[0m in \u001b[0;36m<module>\u001b[1;34m\u001b[0m\n\u001b[0;32m     48\u001b[0m         \u001b[1;32mreturn\u001b[0m \u001b[0manswer\u001b[0m\u001b[1;33m\u001b[0m\u001b[1;33m\u001b[0m\u001b[0m\n\u001b[0;32m     49\u001b[0m \u001b[1;33m\u001b[0m\u001b[0m\n\u001b[1;32m---> 50\u001b[1;33m \u001b[0msolutions\u001b[0m\u001b[1;33m[\u001b[0m\u001b[1;36m86\u001b[0m\u001b[1;33m]\u001b[0m \u001b[1;33m=\u001b[0m \u001b[1;34m'{} {}'\u001b[0m\u001b[1;33m.\u001b[0m\u001b[0mformat\u001b[0m\u001b[1;33m(\u001b[0m\u001b[0mproblem86_bruteforce\u001b[0m\u001b[1;33m(\u001b[0m\u001b[1;34m'./data/27data/86/27-86a.txt'\u001b[0m\u001b[1;33m)\u001b[0m\u001b[1;33m,\u001b[0m \u001b[0mproblem86\u001b[0m\u001b[1;33m(\u001b[0m\u001b[1;34m'./data/27data/86/27-86b.txt'\u001b[0m\u001b[1;33m)\u001b[0m\u001b[1;33m)\u001b[0m\u001b[1;33m\u001b[0m\u001b[1;33m\u001b[0m\u001b[0m\n\u001b[0m\u001b[0;32m     51\u001b[0m \u001b[0msolutions\u001b[0m\u001b[1;33m[\u001b[0m\u001b[1;36m86\u001b[0m\u001b[1;33m]\u001b[0m\u001b[1;33m\u001b[0m\u001b[1;33m\u001b[0m\u001b[0m\n",
      "\u001b[1;31mNameError\u001b[0m: name 'solutions' is not defined"
     ]
    }
   ],
   "source": [
    "def problem86_bruteforce(path):\n",
    "    with open(path) as f:\n",
    "        n, k = map(int, f.readline().split())\n",
    "        a = list()\n",
    "        for i in range(n):\n",
    "            a.append(int(f.readline()))\n",
    "\n",
    "        result = float('-inf')\n",
    "        for length in range(1, n+1):\n",
    "            for l in range(n-length+1):\n",
    "                s = sum(a[l:l+length])\n",
    "                c = 0\n",
    "                for x in a[l:l+length]:\n",
    "                    if x < 0 and abs(x) % 10 == 7:\n",
    "                        c += 1\n",
    "\n",
    "                if c % k == 0 and s > result:\n",
    "                    result = s\n",
    "\n",
    "        return result\n",
    "\n",
    "def problem86(path):\n",
    "    with open(path) as f:\n",
    "        n, k = map(int, f.readline().split())\n",
    "        answer = 0\n",
    "        count = 0 # количество отрицательных, оканчивающихся на 7\n",
    "        s = 0 # сумма всех чисел\n",
    "\n",
    "        infty = 10 ** 20\n",
    "        m = [infty] * k # m[i] - минимальная префикс-сумма, в которой количество отрицательных чисел, оканчивающихся на 7, кратно k\n",
    "\n",
    "        for _ in range(n):\n",
    "            x = int(f.readline())\n",
    "            s += x\n",
    "\n",
    "            if abs(x) % 10 == 7 and x < 0:\n",
    "                count += 1\n",
    "\n",
    "            r = count % k\n",
    "\n",
    "            if r == 0 and s > answer: # если r = 0, то подходит сама префикс-сумма\n",
    "                answer = s\n",
    "            elif m[r] != infty and s - m[r] > answer:\n",
    "                answer = s - m[r]\n",
    "\n",
    "            m[r] = min(m[r], s)\n",
    "        \n",
    "        return answer\n",
    "\n",
    "solutions[86] = '{} {}'.format(problem86_bruteforce('./data/27data/86/27-86a.txt'), problem86('./data/27data/86/27-86b.txt'))\n",
    "solutions[86]"
   ]
  },
  {
   "cell_type": "code",
   "execution_count": null,
   "metadata": {},
   "outputs": [],
   "source": [
    "from random import randint\n",
    "\n",
    "def input_generator86(path):\n",
    "    with open(path, 'w+') as f:\n",
    "        n = 10\n",
    "        k = randint(1, 15)\n",
    "        f.write(str(n) + ' ' + str(k) + '\\n')\n",
    "\n",
    "        for i in range(n):\n",
    "            f.write(str(randint(1, 10000)) + '\\n')"
   ]
  },
  {
   "cell_type": "code",
   "execution_count": null,
   "metadata": {},
   "outputs": [
    {
     "name": "stdout",
     "output_type": "stream",
     "text": [
      "Tests are skipped. Set test_env variable to True in order to test.\n"
     ]
    }
   ],
   "source": [
    "run_tests(problem86_bruteforce, problem86, input_generator86)"
   ]
  },
  {
   "cell_type": "markdown",
   "metadata": {},
   "source": [
    "## Задача 87"
   ]
  },
  {
   "cell_type": "code",
   "execution_count": null,
   "metadata": {},
   "outputs": [
    {
     "data": {
      "text/plain": [
       "'15406 256483'"
      ]
     },
     "execution_count": 370,
     "metadata": {},
     "output_type": "execute_result"
    }
   ],
   "source": [
    "def isSpecial(x):\n",
    "    if x >= 0:\n",
    "        return False\n",
    "\n",
    "    x = abs(x)\n",
    "    \n",
    "    while x > 0:\n",
    "        if x % 5 == 2:\n",
    "            return False\n",
    "        x //= 5\n",
    "\n",
    "    return True\n",
    "\n",
    "def problem87_bruteforce(path):\n",
    "    with open(path) as f:\n",
    "        n, k = map(int, f.readline().split())\n",
    "        a = list()\n",
    "        for i in range(n):\n",
    "            a.append(int(f.readline()))\n",
    "\n",
    "        result = -10001\n",
    "        # for length in range(1, n+1):\n",
    "        #     for l in range(n-length+1):\n",
    "        for l in range(n):\n",
    "            for r in range(l, n):\n",
    "                s = sum(a[l:r])\n",
    "                c = 0\n",
    "                for x in a[l:r]:\n",
    "                    if isSpecial(x):\n",
    "                        c += 1\n",
    "\n",
    "                if c % k == 0 and s > result:\n",
    "                    result = s\n",
    "\n",
    "        return result\n",
    "\n",
    "def problem87(path):\n",
    "    with open(path) as f:\n",
    "        n, k = map(int, f.readline().split())\n",
    "        answer = 0\n",
    "        count = 0 # количество особенных\n",
    "        s = 0 # сумма всех чисел\n",
    "\n",
    "        infty = 10 ** 20\n",
    "        m = [infty] * k # m[i] - минимальная префикс-сумма, в которой количество особенных кратно k\n",
    "\n",
    "        for _ in range(n):\n",
    "            x = int(f.readline())\n",
    "            s += x\n",
    "\n",
    "            if isSpecial(x):\n",
    "                count += 1\n",
    "\n",
    "            r = count % k\n",
    "\n",
    "            if r == 0 and s > answer:\n",
    "                answer = max(answer, s)\n",
    "            elif m[r] != infty and s - m[r] > answer:\n",
    "                answer = s - m[r]\n",
    "\n",
    "            m[r] = min(m[r], s)\n",
    "        \n",
    "        return answer\n",
    "\n",
    "solutions[87] = '{} {}'.format(problem87_bruteforce('./data/27data/87/27-87a.txt'), problem87('./data/27data/87/27-87b.txt'))\n",
    "solutions[87]"
   ]
  },
  {
   "cell_type": "code",
   "execution_count": null,
   "metadata": {},
   "outputs": [
    {
     "data": {
      "text/plain": [
       "15406"
      ]
     },
     "execution_count": 371,
     "metadata": {},
     "output_type": "execute_result"
    }
   ],
   "source": [
    "problem87_bruteforce('./data/27data/87/27-87a.txt')"
   ]
  },
  {
   "cell_type": "code",
   "execution_count": null,
   "metadata": {},
   "outputs": [
    {
     "data": {
      "text/plain": [
       "15406"
      ]
     },
     "execution_count": 372,
     "metadata": {},
     "output_type": "execute_result"
    }
   ],
   "source": [
    "problem87('./data/27data/87/27-87a.txt')"
   ]
  },
  {
   "cell_type": "markdown",
   "metadata": {},
   "source": [
    "## Задача 88"
   ]
  },
  {
   "cell_type": "code",
   "execution_count": null,
   "metadata": {},
   "outputs": [
    {
     "data": {
      "text/plain": [
       "'11527919 168873874'"
      ]
     },
     "execution_count": 373,
     "metadata": {},
     "output_type": "execute_result"
    }
   ],
   "source": [
    "def isSpecial(x):\n",
    "    if x >= 0:\n",
    "        return False\n",
    "\n",
    "    x = -x\n",
    "\n",
    "    i = 2\n",
    "    while i * i <= x:\n",
    "        if x % i == 0:\n",
    "            return False\n",
    "        i += 1\n",
    "\n",
    "    return True\n",
    "\n",
    "def problem88_bruteforce(path):\n",
    "    with open(path) as f:\n",
    "        n, k = map(int, f.readline().split())\n",
    "        a = list()\n",
    "        for i in range(n):\n",
    "            a.append(int(f.readline()))\n",
    "\n",
    "        result = -10001\n",
    "        for length in range(1, n+1):\n",
    "            for l in range(n-length+1):\n",
    "                r = l+length\n",
    "                s = sum(a[l:r])\n",
    "                c = 0\n",
    "                for x in a[l:r]:\n",
    "                    if isSpecial(x):\n",
    "                        c += 1\n",
    "\n",
    "                if c % k == 0 and s > result:\n",
    "                    result = s\n",
    "\n",
    "        return result\n",
    "\n",
    "def problem88(path):\n",
    "    with open(path) as f:\n",
    "        n, k = map(int, f.readline().split())\n",
    "        answer = 0\n",
    "        count = 0 # количество особенных\n",
    "        s = 0 # сумма всех чисел\n",
    "\n",
    "        infty = 10 ** 20\n",
    "        m = [infty] * k # m[i] - минимальная префикс-сумма, в которой количество особенных кратно k\n",
    "\n",
    "        for _ in range(n):\n",
    "            x = int(f.readline())\n",
    "            s += x\n",
    "\n",
    "            if isSpecial(x):\n",
    "                count += 1\n",
    "\n",
    "            r = count % k\n",
    "\n",
    "            if r == 0 and s > answer:\n",
    "                answer = max(answer, s)\n",
    "            elif m[r] != infty and s - m[r] > answer:\n",
    "                answer = s - m[r]\n",
    "\n",
    "            m[r] = min(m[r], s)\n",
    "\n",
    "        return answer\n",
    "\n",
    "solutions[88] = '{} {}'.format(problem88('./data/27data/88/27-88a.txt'), problem88('./data/27data/88/27-88b.txt'))\n",
    "solutions[88]"
   ]
  },
  {
   "cell_type": "code",
   "execution_count": null,
   "metadata": {},
   "outputs": [],
   "source": [
    "def special(x):\n",
    "    if x > 0:\n",
    "        return False\n",
    "    if x == 1 or x == 0:\n",
    "        return False\n",
    "    x = abs(x)\n",
    "    l = 2\n",
    "    while l*l <= x:\n",
    "        if x % l == 0:\n",
    "            return False\n",
    "        l += 1\n",
    "    return True\n",
    "\n",
    "def problem88_Artem(path):\n",
    "    f = open(path)\n",
    "    n, k = map(int, f.readline().split())\n",
    "\n",
    "    max_sum = -10**20\n",
    "    a = [10**20]*k\n",
    "\n",
    "    sum = 0\n",
    "    c = 0\n",
    "    for i in range(n):\n",
    "        x = int(f.readline())\n",
    "        sum += x\n",
    "\n",
    "        if special(x):\n",
    "            c += 1\n",
    "\n",
    "        r = c % k\n",
    "        if r == 0:\n",
    "            max_sum = max(max_sum, sum)\n",
    "\n",
    "        max_sum = max(max_sum, sum - a[r])\n",
    "\n",
    "        a[r] = min(a[r], sum)\n",
    "    return max_sum"
   ]
  },
  {
   "cell_type": "code",
   "execution_count": null,
   "metadata": {},
   "outputs": [
    {
     "data": {
      "text/plain": [
       "'11527919 168873874'"
      ]
     },
     "execution_count": 375,
     "metadata": {},
     "output_type": "execute_result"
    }
   ],
   "source": [
    "answers[88]"
   ]
  },
  {
   "cell_type": "code",
   "execution_count": null,
   "metadata": {},
   "outputs": [],
   "source": [
    "from random import randint\n",
    "\n",
    "def input_generator88(path):\n",
    "    with open(path, 'w+') as f:\n",
    "        n = 15\n",
    "        k = randint(1, 6)\n",
    "        f.write(str(n) + ' ' + str(k) + '\\n')\n",
    "\n",
    "        for i in range(n):\n",
    "            f.write(str(randint(-100000, 100000)) + '\\n')"
   ]
  },
  {
   "cell_type": "code",
   "execution_count": null,
   "metadata": {},
   "outputs": [
    {
     "name": "stdout",
     "output_type": "stream",
     "text": [
      "Tests are skipped. Set test_env variable to True in order to test.\n"
     ]
    }
   ],
   "source": [
    "run_tests(problem88_bruteforce, problem88, input_generator88)"
   ]
  },
  {
   "cell_type": "code",
   "execution_count": null,
   "metadata": {},
   "outputs": [],
   "source": [
    "def isSpecNumber(x):\n",
    "    if x >= 0:\n",
    "        return False\n",
    "    x = abs(x)\n",
    "    if x <= 1:\n",
    "        return False\n",
    "    d = 2\n",
    "    while d*d <= x:\n",
    "        if x % d == 0:\n",
    "            return False\n",
    "        d += 1\n",
    "    return True\n",
    "\n",
    "def problem88_polyakov(path):\n",
    "    f = open(path)\n",
    "    n, K = map(int, f.readline().split())\n",
    "\n",
    "    maxSum = -10**20\n",
    "    minTails = [10**20]*K\n",
    "\n",
    "    sumTotal = 0\n",
    "    count = 0\n",
    "    for i in range(n):\n",
    "\n",
    "        x = int(f.readline())\n",
    "        sumTotal += x\n",
    "\n",
    "        if isSpecNumber(x):\n",
    "            count += 1\n",
    "\n",
    "        r = count % K\n",
    "        if r == 0 and sumTotal > maxSum:\n",
    "            maxSum = sumTotal\n",
    "\n",
    "        if minTails[r] != 10**20 and sumTotal - minTails[r] > maxSum:\n",
    "            maxSum = sumTotal - minTails[r]\n",
    "\n",
    "        minTails[r] = min(minTails[r], sumTotal)\n",
    "\n",
    "    f.close()\n",
    "\n",
    "    return maxSum"
   ]
  },
  {
   "cell_type": "code",
   "execution_count": null,
   "metadata": {},
   "outputs": [
    {
     "name": "stdout",
     "output_type": "stream",
     "text": [
      "Tests are skipped. Set test_env variable to True in order to test.\n"
     ]
    }
   ],
   "source": [
    "run_tests(problem88_bruteforce, problem88_polyakov, input_generator88)"
   ]
  },
  {
   "cell_type": "markdown",
   "metadata": {},
   "source": [
    "## Задача 89"
   ]
  },
  {
   "cell_type": "markdown",
   "metadata": {},
   "source": [
    "Лев решил написать программу, которая анализирует изменение цены на акции одной компании и сообщает, какую максимальную прибыль можно было бы получить, если продавать и покупать акции только этой компании в рассматриваемый период.\n",
    "\n",
    "Входные данные: Даны два входных файла: файл A (27-89a.txt) и файл B (27-89b.txt), каждый из которых содержит в первой строке два числа: M – количество денег на начало периода, и N – количество значений стоимости акций за весь период. Каждая из следующих N строк файлов содержит одно целое положительное число, не превышающее 1000 – стоимость акций в очередной день (данные приведены в хронологическом порядке).\n",
    "\n",
    "Пример входного файла:\n",
    "100 10\n",
    "40 39 38 40 42 45 44 42 43 41 (каждое число с новой строки)\n",
    "Для данного примера выгодно купить акции по 38 (2 штуки) продать их по 45 (увеличение прибыли на 14). После чего купить 2 акции по 42 и продать их по 43 (увеличение прибыли на 2). Общая прибыль равна 16. Ответ: 16. \n",
    "В ответе укажите два числа: сначала значение искомой суммы для файла А, затем для файла B.\n"
   ]
  },
  {
   "cell_type": "code",
   "execution_count": null,
   "metadata": {},
   "outputs": [
    {
     "data": {
      "text/plain": [
       "'7415112 53631'"
      ]
     },
     "execution_count": 380,
     "metadata": {},
     "output_type": "execute_result"
    }
   ],
   "source": [
    "def problem89(path):\n",
    "    with open(path) as f:\n",
    "        m, n = map(int, f.readline().split())\n",
    "        initial = m\n",
    "        prices = [int(line) for line in f.readlines()]\n",
    "    \n",
    "        count = 0 # количество акций\n",
    "\n",
    "        for i in range(len(prices)-1):\n",
    "            if prices[i] < prices[i+1]:\n",
    "                buy = m // prices[i]\n",
    "                m -= buy * prices[i]\n",
    "\n",
    "                count += buy\n",
    "            \n",
    "            if prices[i] > prices[i+1]:\n",
    "                m += count * prices[i]\n",
    "                count = 0\n",
    "\n",
    "        m += count * prices[-1]\n",
    "        \n",
    "        return m - initial\n",
    "\n",
    "solutions[89] = '{} {}'.format(problem89('./data/27data/89/27-89a.txt'), problem89('./data/27data/89/27-89b.txt'))\n",
    "solutions[89]"
   ]
  },
  {
   "cell_type": "code",
   "execution_count": null,
   "metadata": {},
   "outputs": [
    {
     "data": {
      "text/plain": [
       "'7415112 53631'"
      ]
     },
     "execution_count": 381,
     "metadata": {},
     "output_type": "execute_result"
    }
   ],
   "source": [
    "answers[89]"
   ]
  },
  {
   "cell_type": "markdown",
   "metadata": {},
   "source": [
    "## Задача 91"
   ]
  },
  {
   "cell_type": "code",
   "execution_count": null,
   "metadata": {},
   "outputs": [
    {
     "data": {
      "text/plain": [
       "'6597803 168674858'"
      ]
     },
     "execution_count": 382,
     "metadata": {},
     "output_type": "execute_result"
    }
   ],
   "source": [
    "def isSpecial(x):\n",
    "    if x >= 0:\n",
    "        return False\n",
    "\n",
    "    x = abs(x)\n",
    "    \n",
    "    s = 0\n",
    "    while x > 0:\n",
    "        s += x % 3\n",
    "        x //= 3\n",
    "\n",
    "    return s == 12\n",
    "\n",
    "def problem91_bruteforce(path):\n",
    "    with open(path) as f:\n",
    "        n, k, d = map(int, f.readline().split())\n",
    "        a = list()\n",
    "        for i in range(n):\n",
    "            a.append(int(f.readline()))\n",
    "\n",
    "        result = -10001\n",
    "        for length in [x * d for x in range(1, n // d + 1)]:\n",
    "            for l in range(n-length+1):\n",
    "                r = l+length\n",
    "                s = sum(a[l:r])\n",
    "                c = 0\n",
    "                for x in a[l:r]:\n",
    "                    if isSpecial(x):\n",
    "                        c += 1\n",
    "\n",
    "                if c % k == 0 and s > result:\n",
    "                    result = s\n",
    "\n",
    "        return result\n",
    "\n",
    "def problem91(path):\n",
    "    with open(path) as f:\n",
    "        n, k, d = map(int, f.readline().split())\n",
    "        answer = -10001\n",
    "        s = 0\n",
    "        count = 0\n",
    "\n",
    "        infty = 10 ** 20\n",
    "        m = [infty] * k # m[i] - минимальная префикс-сумма, в которой количество особенных кратно k\n",
    "        c = [0] * k # c[i] - номер итерации, на которой встречена префикс-сумма m[i]\n",
    "\n",
    "        for i in range(n):\n",
    "            x = int(f.readline())\n",
    "            s += x\n",
    "\n",
    "            if isSpecial(x):\n",
    "                count += 1\n",
    "\n",
    "            r = count % k\n",
    "\n",
    "            if s > answer and r == 0 and i % d == 0:\n",
    "                answer = s\n",
    "            elif m[r] != infty and s - m[r] > answer and c[r] % d == i % d:\n",
    "                answer = s - m[r]\n",
    "            \n",
    "            if s < m[r]:\n",
    "                m[r] = s\n",
    "                c[r] = i\n",
    "\n",
    "        return answer\n",
    "\n",
    "solutions[91] = '{} {}'.format(problem91('./data/27data/91/27-91a.txt'), problem91('./data/27data/91/27-91b.txt'))\n",
    "solutions[91]"
   ]
  },
  {
   "cell_type": "code",
   "execution_count": null,
   "metadata": {},
   "outputs": [
    {
     "data": {
      "text/plain": [
       "6597803"
      ]
     },
     "execution_count": 383,
     "metadata": {},
     "output_type": "execute_result"
    }
   ],
   "source": [
    "problem91_bruteforce('./data/27data/91/27-91a.txt')"
   ]
  },
  {
   "cell_type": "code",
   "execution_count": null,
   "metadata": {},
   "outputs": [
    {
     "data": {
      "text/plain": [
       "6597803"
      ]
     },
     "execution_count": 384,
     "metadata": {},
     "output_type": "execute_result"
    }
   ],
   "source": [
    "problem91('./data/27data/91/27-91a.txt')"
   ]
  },
  {
   "cell_type": "markdown",
   "metadata": {},
   "source": [
    "## Задача 92"
   ]
  },
  {
   "cell_type": "code",
   "execution_count": null,
   "metadata": {},
   "outputs": [
    {
     "data": {
      "text/plain": [
       "'4710 7368'"
      ]
     },
     "execution_count": 385,
     "metadata": {},
     "output_type": "execute_result"
    }
   ],
   "source": [
    "def isSpecial(x):\n",
    "    return x > 0 and x % 2 == 0\n",
    "\n",
    "def problem92_bruteforce(path):\n",
    "    with open(path) as f:\n",
    "        n = int(f.readline())\n",
    "        a = list()\n",
    "        for i in range(n):\n",
    "            a.append(int(f.readline()))\n",
    "\n",
    "        result = -10001\n",
    "        for length in range(1, n+1):\n",
    "            for l in range(n-length+1):\n",
    "                r = l+length\n",
    "                s = 0\n",
    "                c = 0\n",
    "                for x in a[l:r]:\n",
    "                    s += x\n",
    "                    if isSpecial(x):\n",
    "                        c += 1\n",
    "\n",
    "                if c == 1 and s > result:\n",
    "                    result = s\n",
    "\n",
    "        return result\n",
    "\n",
    "def problem92(path):\n",
    "    with open(path) as f:\n",
    "        n = int(f.readline())\n",
    "        answer = 0\n",
    "        count = 0 # количество особенных\n",
    "        s = 0 # сумма всех чисел (текущая префикс-сумма на i-й итерации)\n",
    "\n",
    "        infty = 10 ** 20\n",
    "        m = infty # минимальная префикс-сумма, в которой count-1 особенных чисел\n",
    "        m_next = infty # минимальная префикс-сумма, в которой count особенных чисел\n",
    "\n",
    "        for i in range(n):\n",
    "            x = int(f.readline())\n",
    "            s += x\n",
    "\n",
    "            if isSpecial(x):\n",
    "                count += 1\n",
    "                m = m_next\n",
    "                m_next = infty\n",
    "\n",
    "            if count == 1 and s > answer:\n",
    "                answer = max(answer, s)\n",
    "            elif count > 1:\n",
    "                answer = max(answer, s - m)\n",
    "                m_next = min(m_next, s)\n",
    "        \n",
    "        return answer\n",
    "\n",
    "solutions[92] = '{} {}'.format(problem92('./data/27data/92/27-92a.txt'), problem92('./data/27data/92/27-92b.txt'))\n",
    "solutions[92]"
   ]
  },
  {
   "cell_type": "code",
   "execution_count": null,
   "metadata": {},
   "outputs": [],
   "source": [
    "def problem92_Artem(path):\n",
    "    def special(x):\n",
    "        if x > 0 and x % 2 == 0:\n",
    "            return True\n",
    "\n",
    "    f = open(path)\n",
    "    n = int(f.readline())\n",
    "\n",
    "    max_sum = -10**20\n",
    "\n",
    "    sum = 0\n",
    "    a = [10**20] * 2\n",
    "    for i in range(n):\n",
    "        x = int(f.readline())\n",
    "        sum += x\n",
    "\n",
    "        if special(x):\n",
    "            a[0] = a[1]\n",
    "            a[1] = sum\n",
    "\n",
    "        max_sum = max(max_sum, sum - a[0])\n",
    "\n",
    "        a[1] = min(a[1], sum)\n",
    "    return max_sum"
   ]
  },
  {
   "cell_type": "code",
   "execution_count": null,
   "metadata": {},
   "outputs": [
    {
     "data": {
      "text/plain": [
       "4710"
      ]
     },
     "execution_count": 387,
     "metadata": {},
     "output_type": "execute_result"
    }
   ],
   "source": [
    "problem92_bruteforce('./data/27data/92/27-92a.txt')"
   ]
  },
  {
   "cell_type": "code",
   "execution_count": null,
   "metadata": {},
   "outputs": [
    {
     "data": {
      "text/plain": [
       "7368"
      ]
     },
     "execution_count": 388,
     "metadata": {},
     "output_type": "execute_result"
    }
   ],
   "source": [
    "problem92_Artem('./data/27data/92/27-92b.txt')"
   ]
  },
  {
   "cell_type": "code",
   "execution_count": null,
   "metadata": {},
   "outputs": [
    {
     "data": {
      "text/plain": [
       "'4710 7368'"
      ]
     },
     "execution_count": 389,
     "metadata": {},
     "output_type": "execute_result"
    }
   ],
   "source": [
    "answers[92]"
   ]
  },
  {
   "cell_type": "code",
   "execution_count": null,
   "metadata": {},
   "outputs": [],
   "source": [
    "from random import randint\n",
    "\n",
    "def input_generator92(path):\n",
    "    with open(path, 'w+') as f:\n",
    "        n = 15\n",
    "        f.write(str(n) + '\\n')\n",
    "\n",
    "        for i in range(n):\n",
    "            f.write(str(randint(-10000, 10000)) + '\\n')"
   ]
  },
  {
   "cell_type": "code",
   "execution_count": null,
   "metadata": {},
   "outputs": [
    {
     "name": "stdout",
     "output_type": "stream",
     "text": [
      "Tests are skipped. Set test_env variable to True in order to test.\n"
     ]
    }
   ],
   "source": [
    "run_tests(problem92_bruteforce, problem92, input_generator92)"
   ]
  },
  {
   "cell_type": "markdown",
   "metadata": {},
   "source": [
    "## Задача 94"
   ]
  },
  {
   "cell_type": "code",
   "execution_count": 102,
   "metadata": {},
   "outputs": [
    {
     "data": {
      "text/plain": [
       "'97 823'"
      ]
     },
     "execution_count": 102,
     "metadata": {},
     "output_type": "execute_result"
    }
   ],
   "source": [
    "def problem94_bruteforce(path):\n",
    "    with open(path) as f:\n",
    "        n = int(f.readline())\n",
    "        a = list()\n",
    "        for i in range(n):\n",
    "            a.append(int(f.readline()))\n",
    "\n",
    "        result = -10001\n",
    "        for length in range(1, n+1):\n",
    "            for l in range(n-length+1):\n",
    "                r = l+length\n",
    "                \n",
    "                c5 = 0\n",
    "                c7 = 0\n",
    "                for x in a[l:r]:\n",
    "                    if x % 5 == 0:\n",
    "                        c5 += 1\n",
    "                    if x % 7 == 0:\n",
    "                        c7 += 1\n",
    "\n",
    "                if c5 == c7 and length > result:\n",
    "                    result = length\n",
    "\n",
    "        return result\n",
    "\n",
    "def problem94(path):\n",
    "    with open(path) as f:\n",
    "        n = int(f.readline())\n",
    "        answer = 0\n",
    "        \n",
    "        c = 0 # префикс-счетчик на i-й итерации\n",
    "        c5 = 0 # количество кратных 5 на i-й итерации\n",
    "        c7 = 0 # количество кратных 7 на i-й итерации\n",
    "\n",
    "        d = {} # d[j] - минимальная сумма среди подпоследовательностей, в которой разность между c5 и c7 равна j\n",
    "        \n",
    "        for i in range(n):\n",
    "            x = int(f.readline())\n",
    "            c += 1\n",
    "\n",
    "            if x % 5 == 0:\n",
    "                c5 += 1\n",
    "            if x % 7 == 0:\n",
    "                c7 += 1\n",
    "\n",
    "            if c5 == c7:\n",
    "                answer = max(c, answer)\n",
    "            elif c5 - c7 not in d:\n",
    "                d[c5 - c7] = c\n",
    "            else:\n",
    "                answer = max(c - d[c5 - c7], answer)\n",
    "                d[c5 - c7] = min(d[c5 - c7], c)\n",
    "        \n",
    "        return answer\n",
    "\n",
    "solutions[94] = '{} {}'.format(problem94('./data/27data/94/27-94a.txt'), problem94('./data/27data/94/27-94b.txt'))\n",
    "solutions[94]"
   ]
  },
  {
   "cell_type": "markdown",
   "metadata": {},
   "source": [
    "## Задача 96"
   ]
  },
  {
   "cell_type": "code",
   "execution_count": 27,
   "metadata": {},
   "outputs": [
    {
     "data": {
      "text/plain": [
       "'497239 4282001'"
      ]
     },
     "execution_count": 27,
     "metadata": {},
     "output_type": "execute_result"
    }
   ],
   "source": [
    "def problem96_bruteforce(path):\n",
    "    with open(path) as f:\n",
    "        n = int(f.readline())\n",
    "        a = list()\n",
    "        for i in range(n):\n",
    "            a.append(int(f.readline()))\n",
    "\n",
    "        result = -10001\n",
    "        for length in range(1, n+1):\n",
    "            for l in range(n-length+1):\n",
    "                r = l+length\n",
    "                s = 0\n",
    "                c5 = 0\n",
    "                c7 = 0\n",
    "                for x in a[l:r]:\n",
    "                    s += x\n",
    "                    if x % 5 == 0:\n",
    "                        c5 += 1\n",
    "                    if x % 7 == 0:\n",
    "                        c7 += 1\n",
    "\n",
    "                if c5 == c7 and s > result:\n",
    "                    result = s\n",
    "\n",
    "        return result\n",
    "\n",
    "def problem96(path):\n",
    "    with open(path) as f:\n",
    "        n = int(f.readline())\n",
    "        answer = 0\n",
    "        \n",
    "        s = 0 # префикс-сумма на i-й итерации\n",
    "        c5 = 0 # количество кратных 5 на i-й итерации\n",
    "        c7 = 0 # количество кратных 7 на i-й итерации\n",
    "\n",
    "        d = {} # d[j] - минимальная сумма среди подпоследовательностей, в которой разность между c5 и c7 равна j\n",
    "        \n",
    "        for i in range(n):\n",
    "            x = int(f.readline())\n",
    "            s += x\n",
    "\n",
    "            if x % 5 == 0:\n",
    "                c5 += 1\n",
    "            if x % 7 == 0:\n",
    "                c7 += 1\n",
    "\n",
    "            if c5 == c7:\n",
    "                answer = max(s, answer)\n",
    "            elif c5 - c7 not in d:\n",
    "                d[c5 - c7] = s\n",
    "            else:\n",
    "                answer = max(s - d[c5 - c7], answer)\n",
    "                d[c5 - c7] = min(d[c5 - c7], s)\n",
    "        \n",
    "        return answer\n",
    "\n",
    "solutions[96] = '{} {}'.format(problem96('./data/27data/96/27-96a.txt'), problem96('./data/27data/96/27-96b.txt'))\n",
    "solutions[96]"
   ]
  },
  {
   "cell_type": "code",
   "execution_count": null,
   "metadata": {},
   "outputs": [],
   "source": [
    "def f(x):\n",
    "    return 10 ** 20"
   ]
  },
  {
   "cell_type": "code",
   "execution_count": 28,
   "metadata": {},
   "outputs": [
    {
     "data": {
      "text/plain": [
       "497239"
      ]
     },
     "execution_count": 28,
     "metadata": {},
     "output_type": "execute_result"
    }
   ],
   "source": [
    "problem96_bruteforce('./data/27data/96/27-96a.txt')"
   ]
  },
  {
   "cell_type": "code",
   "execution_count": 26,
   "metadata": {},
   "outputs": [
    {
     "data": {
      "text/plain": [
       "'497239 4282001'"
      ]
     },
     "execution_count": 26,
     "metadata": {},
     "output_type": "execute_result"
    }
   ],
   "source": [
    "answers[96]"
   ]
  },
  {
   "cell_type": "code",
   "execution_count": 57,
   "metadata": {},
   "outputs": [
    {
     "name": "stdout",
     "output_type": "stream",
     "text": [
      "[0, 1, 2, 3, 4, 5, 6, 7, 8, 9]\n",
      "[1, 2, 3, 4, 5, 6, 7, 8, 9, 9]\n",
      "[2, 3, 4, 5, 6, 7, 8, 9, 9, 9]\n"
     ]
    }
   ],
   "source": [
    "K = 9\n",
    "minTails = list(range(K+1))\n",
    "print(minTails)\n",
    "for i in range(K):\n",
    "    minTails[i] = minTails[i+1]\n",
    "\n",
    "print(minTails)\n",
    "\n",
    "for i in range(K):\n",
    "    minTails[i] = minTails[i+1]\n",
    "\n",
    "print(minTails)"
   ]
  },
  {
   "cell_type": "markdown",
   "metadata": {},
   "source": [
    "## Задача 99 (досрочный ЕГЭ-2022)"
   ]
  },
  {
   "cell_type": "code",
   "execution_count": 134,
   "metadata": {},
   "outputs": [],
   "source": [
    "def problem99_bruteforce(path):\n",
    "    with open(path) as f:\n",
    "        n = int(f.readline())\n",
    "        data = list()\n",
    "        for i in range(n):\n",
    "            data.append(int(f.readline()))\n",
    "\n",
    "        result_cost = 10 ** 20\n",
    "        result_point = None\n",
    "\n",
    "        for point in range(n):\n",
    "            # print('Trying to build factory at {} with mass {}'.format(point, data[point]))\n",
    "            cost = 0\n",
    "\n",
    "            for j in range(n):\n",
    "                distance = min(abs(j - point), abs(n - abs(j - point)))\n",
    "                cost += data[j] * distance\n",
    "\n",
    "            # print('\\t Cost equals', cost)\n",
    "            if cost < result_cost:\n",
    "                result_cost = cost\n",
    "                result_point = point\n",
    "\n",
    "        return result_point + 1\n",
    "\n",
    "def problem99(path):\n",
    "    with open(path) as f:\n",
    "        n = int(f.readline())\n",
    "        a = [int(i) for i in f.readlines()]\n",
    "\n",
    "        s = [0] * n # s[i] - сумма от i до i + n // 2\n",
    "        for i in range(n // 2):\n",
    "            s[0] += a[i]\n",
    "\n",
    "        for i in range(1, n):\n",
    "            s[i] += s[i-1] - a[i-1] + a[(i-1 + n // 2) % n]\n",
    "\n",
    "        costs = [0] * n\n",
    "        for i in range(n):\n",
    "            costs[0] += a[i] * min(i, n-i)\n",
    "\n",
    "        for i in range(1, n):\n",
    "            costs[i] += costs[i-1] - s[i] + s[(i + n // 2) % n]\n",
    "        \n",
    "        return costs.index(min(costs)) + 1"
   ]
  },
  {
   "cell_type": "code",
   "execution_count": 12,
   "metadata": {},
   "outputs": [],
   "source": [
    "def problem99(path):\n",
    "    f = open(path)\n",
    "    n = int(f.readline())\n",
    "    a = [int(x) for x in f]\n",
    "    k, d, s_t = n // 2 + 1, n % 2, sum(a)\n",
    "\n",
    "    s = sum([a[i] * abs(i) for i in range(k - n, k)])\n",
    "    s_m, L, p = s, sum(a[k:]), -1\n",
    "    for i in range(n):\n",
    "        z = a[k - n + i]\n",
    "        s += 2 * (a[i] + L) - s_t - z * d\n",
    "        L -= z - a[i]\n",
    "        if s < s_m:\n",
    "            p = i\n",
    "            s_m = s\n",
    "    return p+2"
   ]
  },
  {
   "cell_type": "code",
   "execution_count": 113,
   "metadata": {},
   "outputs": [],
   "source": [
    "def problem99(path):\n",
    "    with open(path) as f:\n",
    "        n = int(f.readline())\n",
    "        capacities = []\n",
    "        for i in range(n):\n",
    "            capacities.append(int(f.readline()))\n",
    "\n",
    "        print(capacities)\n",
    "\n",
    "        left = []\n",
    "        right = []\n",
    "\n",
    "        cost = [0] * n # cost[i] - сумма всех стомостей доставки при размещении завода в пункте i\n",
    "        for i in range(n):\n",
    "            cost[0] += capacities[i] * min(i, n-i)\n",
    "            if i >= n // 2:\n",
    "                left.append(capacities[i])\n",
    "            else:\n",
    "                right.append(capacities[i])\n",
    "\n",
    "        # left.reverse()\n",
    "            \n",
    "        print('left', left)\n",
    "        print('right', right)\n",
    "        \n",
    "        for i in range(1, n):\n",
    "            cost[i] = cost[i-1] + capacities[i-1] - capacities[i-1-n//2] + left[0] - right[0]\n",
    "            \n",
    "            # x = right.pop(0)\n",
    "            # y = left.pop(0)\n",
    "\n",
    "            # left.append(x)\n",
    "            # right.append(y)\n",
    "            \n",
    "            left = left[-1:] + [left[-1]]\n",
    "            right = right[-1:] + [right[-1]]\n",
    "\n",
    "            print('iter', i)\n",
    "            print('\\tleft', left)\n",
    "            print('\\tright', right)\n",
    "\n",
    "\n",
    "        print(cost)\n",
    "        \n",
    "        return cost.index(min(cost)) + 1"
   ]
  },
  {
   "cell_type": "code",
   "execution_count": 167,
   "metadata": {},
   "outputs": [],
   "source": [
    "def problem99(path):\n",
    "    with open(path) as f:\n",
    "        n = int(f.readline())\n",
    "        mass = []\n",
    "        for i in range(n):\n",
    "            mass.append(int(f.readline()))\n",
    "\n",
    "        # print(mass)\n",
    "\n",
    "        left = 0\n",
    "        right = 0\n",
    "\n",
    "        cost = [0] * n # cost[i] - сумма всех стомостей доставки при размещении завода в пункте i\n",
    "        for i in range(1, n // 2):\n",
    "            cost[0] += mass[i] * i + mass[-i] * i\n",
    "            right += mass[i]\n",
    "            left += mass[-i]\n",
    "\n",
    "        cost[0] += mass[n // 2] * (n // 2)\n",
    "            \n",
    "        # print('left', left)\n",
    "        # print('right', right)\n",
    "        \n",
    "        for i in range(1, n):\n",
    "            cost[i] = cost[i-1] + mass[i-1] - mass[i-1-n//2] + left - right\n",
    "            right = right - mass[i] + mass[i-1-n//2]\n",
    "            left = left + mass[i-1] - mass[i-n//2]\n",
    "\n",
    "            # print('iter', i)\n",
    "            # print('\\tleft', left)\n",
    "            # print('\\tright', right)\n",
    "\n",
    "\n",
    "        # print(cost)\n",
    "        \n",
    "        return cost.index(min(cost)) + 1"
   ]
  },
  {
   "cell_type": "code",
   "execution_count": 60,
   "metadata": {},
   "outputs": [
    {
     "name": "stdout",
     "output_type": "stream",
     "text": [
      "Trying to build factory at 0 with mass 8\n",
      "\t Cost equals 102\n",
      "Trying to build factory at 1 with mass 20\n",
      "\t Cost equals 98\n",
      "Trying to build factory at 2 with mass 5\n",
      "\t Cost equals 120\n",
      "Trying to build factory at 3 with mass 13\n",
      "\t Cost equals 114\n",
      "Trying to build factory at 4 with mass 7\n",
      "\t Cost equals 118\n",
      "Trying to build factory at 5 with mass 19\n",
      "\t Cost equals 96\n"
     ]
    },
    {
     "data": {
      "text/plain": [
       "6"
      ]
     },
     "execution_count": 60,
     "metadata": {},
     "output_type": "execute_result"
    }
   ],
   "source": [
    "problem99_bruteforce('./problem99_sample.txt')"
   ]
  },
  {
   "cell_type": "code",
   "execution_count": 168,
   "metadata": {},
   "outputs": [
    {
     "data": {
      "text/plain": [
       "6"
      ]
     },
     "execution_count": 168,
     "metadata": {},
     "output_type": "execute_result"
    }
   ],
   "source": [
    "problem99('./problem99_sample.txt')"
   ]
  },
  {
   "cell_type": "code",
   "execution_count": 169,
   "metadata": {},
   "outputs": [
    {
     "name": "stdout",
     "output_type": "stream",
     "text": [
      "Testing in progress...\n"
     ]
    },
    {
     "name": "stderr",
     "output_type": "stream",
     "text": [
      "  2%|▏         | 21/1000 [00:00<00:03, 291.99it/s]"
     ]
    },
    {
     "name": "stdout",
     "output_type": "stream",
     "text": [
      "Test 2 failed. Expected 10, actual 9\n",
      "Test 3 failed. Expected 12, actual 11\n",
      "Test 4 failed. Expected 15, actual 14\n",
      "Test 8 failed. Expected 11, actual 10\n",
      "Test 11 failed. Expected 14, actual 2\n",
      "Test 12 failed. Expected 9, actual 8\n",
      "Test 14 failed. Expected 3, actual 15\n",
      "Test 17 failed. Expected 13, actual 11\n",
      "Test 18 failed. Expected 7, actual 15\n",
      "Test 22 failed. Expected 2, actual 15\n",
      "Testing is stopped after 10 failed tests.\n"
     ]
    },
    {
     "name": "stderr",
     "output_type": "stream",
     "text": [
      "\n"
     ]
    }
   ],
   "source": [
    "run_tests(problem99_bruteforce, problem99, input_generator_one_per_line)"
   ]
  },
  {
   "cell_type": "code",
   "execution_count": 150,
   "metadata": {},
   "outputs": [],
   "source": [
    "def problem99(path):\n",
    "    with open(path) as f:\n",
    "        n = int(f.readline())\n",
    "        mass = []\n",
    "        distances = list()\n",
    "        cost = [0] * n\n",
    "\n",
    "        for i in range(n):\n",
    "            mass.append(int(f.readline()))\n",
    "            distance = min(i, n-i)\n",
    "            distances.append(distance)\n",
    "            cost[0] += mass[i] * distance\n",
    "        \n",
    "        for i in range(1, n):\n",
    "            # cost[i] = cost[i-1] + mass[i-1] - mass[i-1-n//2] + left - right\n",
    "            # right = right - mass[i] + mass[i-1-n//2]\n",
    "            # left = left + mass[i-1] - mass[i-n//2]\n",
    "            print(distances[i:] + distances[:i])\n",
    "\n",
    "        return cost"
   ]
  },
  {
   "cell_type": "code",
   "execution_count": 147,
   "metadata": {},
   "outputs": [
    {
     "data": {
      "text/plain": [
       "[3, 4, 5]"
      ]
     },
     "execution_count": 147,
     "metadata": {},
     "output_type": "execute_result"
    }
   ],
   "source": [
    "[1, 2, 3, 4, 5][2:]"
   ]
  },
  {
   "cell_type": "code",
   "execution_count": 165,
   "metadata": {},
   "outputs": [
    {
     "name": "stdout",
     "output_type": "stream",
     "text": [
      "[8, 20, 5, 13, 7, 19]\n",
      "iter 1\n",
      "\tleft 27\n",
      "\tright 18\n",
      "iter 2\n",
      "\tleft 28\n",
      "\tright 20\n",
      "iter 3\n",
      "\tleft 25\n",
      "\tright 26\n",
      "iter 4\n",
      "\tleft 18\n",
      "\tright 27\n",
      "iter 5\n",
      "\tleft 20\n",
      "\tright 28\n"
     ]
    },
    {
     "data": {
      "text/plain": [
       "6"
      ]
     },
     "execution_count": 165,
     "metadata": {},
     "output_type": "execute_result"
    }
   ],
   "source": [
    "problem99('./problem99_sample.txt')"
   ]
  },
  {
   "cell_type": "code",
   "execution_count": 166,
   "metadata": {},
   "outputs": [
    {
     "name": "stdout",
     "output_type": "stream",
     "text": [
      "Testing in progress...\n"
     ]
    },
    {
     "name": "stderr",
     "output_type": "stream",
     "text": [
      "  2%|▏         | 24/1000 [00:00<00:04, 211.30it/s]"
     ]
    },
    {
     "name": "stdout",
     "output_type": "stream",
     "text": [
      "[4975, 5105, 6993, 7509, 5462, 961, 8805, 4839, 4035, 9792, 5738, 5912, 6536, 5476, 7189]\n",
      "iter 1\n",
      "\tleft 35826\n",
      "\tright 33765\n",
      "iter 2\n",
      "\tleft 35193\n",
      "\tright 36564\n",
      "iter 3\n",
      "\tleft 36274\n",
      "\tright 34793\n",
      "iter 4\n",
      "\tleft 37247\n",
      "\tright 35243\n",
      "iter 5\n",
      "\tleft 37233\n",
      "\tright 40818\n",
      "iter 6\n",
      "\tleft 31005\n",
      "\tright 37489\n",
      "iter 7\n",
      "\tleft 34835\n",
      "\tright 39839\n",
      "iter 8\n",
      "\tleft 34569\n",
      "\tright 40779\n",
      "iter 9\n",
      "\tleft 31611\n",
      "\tright 36092\n",
      "iter 10\n",
      "\tleft 33894\n",
      "\tright 37347\n",
      "iter 11\n",
      "\tleft 34170\n",
      "\tright 38944\n",
      "iter 12\n",
      "\tleft 39121\n",
      "\tright 37870\n",
      "iter 13\n",
      "\tleft 36852\n",
      "\tright 33355\n",
      "iter 14\n",
      "\tleft 37489\n",
      "\tright 34971\n",
      "[9899, 6095, 792, 8784, 9547, 5444, 8824, 1682, 8840, 332, 2016, 1627, 9596, 344, 451]\n",
      "iter 1\n",
      "\tleft 23933\n",
      "\tright 42231\n",
      "iter 2\n",
      "\tleft 28012\n",
      "\tright 41771\n",
      "iter 3\n",
      "\tleft 27177\n",
      "\tright 35003\n",
      "iter 4\n",
      "\tleft 26365\n",
      "\tright 27083\n",
      "iter 5\n",
      "\tleft 35568\n",
      "\tright 31235\n",
      "iter 6\n",
      "\tleft 40561\n",
      "\tright 22755\n",
      "iter 7\n",
      "\tleft 39486\n",
      "\tright 21524\n",
      "iter 8\n",
      "\tleft 35073\n",
      "\tright 22583\n",
      "iter 9\n",
      "\tleft 43121\n",
      "\tright 28346\n",
      "iter 10\n",
      "\tleft 34669\n",
      "\tright 27122\n",
      "iter 11\n",
      "\tleft 27138\n",
      "\tright 34279\n",
      "iter 12\n",
      "\tleft 23321\n",
      "\tright 34230\n",
      "iter 13\n",
      "\tleft 24093\n",
      "\tright 39330\n",
      "iter 14\n",
      "\tleft 22755\n",
      "\tright 47703\n",
      "Test 2 failed. Expected 5, actual 6\n",
      "[4014, 9482, 4852, 1351, 2212, 1453, 245, 7272, 5928, 4269, 828, 6078, 6914, 5772, 6373]\n",
      "iter 1\n",
      "\tleft 29979\n",
      "\tright 16041\n",
      "iter 2\n",
      "\tleft 38633\n",
      "\tright 15458\n",
      "iter 3\n",
      "\tleft 37407\n",
      "\tright 14935\n",
      "iter 4\n",
      "\tleft 31844\n",
      "\tright 18801\n",
      "iter 5\n",
      "\tleft 28284\n",
      "\tright 24262\n",
      "iter 6\n",
      "\tleft 23364\n",
      "\tright 29789\n",
      "iter 7\n",
      "\tleft 19595\n",
      "\tright 28890\n",
      "iter 8\n",
      "\tleft 17385\n",
      "\tright 26976\n",
      "iter 9\n",
      "\tleft 18461\n",
      "\tright 32189\n",
      "iter 10\n",
      "\tleft 21379\n",
      "\tright 36213\n",
      "iter 11\n",
      "\tleft 19995\n",
      "\tright 31486\n",
      "iter 12\n",
      "\tleft 24620\n",
      "\tright 26784\n",
      "iter 13\n",
      "\tleft 31289\n",
      "\tright 22465\n",
      "iter 14\n",
      "\tleft 29789\n",
      "\tright 16337\n",
      "Test 3 failed. Expected 14, actual 1\n",
      "[5628, 3290, 6762, 6488, 6439, 866, 77, 1642, 7684, 9629, 4242, 1083, 2399, 8430, 4590]\n",
      "iter 1\n",
      "\tleft 26372\n",
      "\tright 28316\n",
      "iter 2\n",
      "\tleft 25420\n",
      "\tright 31183\n",
      "iter 3\n",
      "\tleft 31099\n",
      "\tright 28937\n",
      "iter 4\n",
      "\tleft 35188\n",
      "\tright 23581\n",
      "iter 5\n",
      "\tleft 33197\n",
      "\tright 25114\n",
      "iter 6\n",
      "\tleft 29473\n",
      "\tright 33467\n",
      "iter 7\n",
      "\tleft 23922\n",
      "\tright 36415\n",
      "iter 8\n",
      "\tleft 22274\n",
      "\tright 34359\n",
      "iter 9\n",
      "\tleft 23196\n",
      "\tright 28020\n",
      "iter 10\n",
      "\tleft 26337\n",
      "\tright 30540\n",
      "iter 11\n",
      "\tleft 24140\n",
      "\tright 35945\n",
      "iter 12\n",
      "\tleft 24357\n",
      "\tright 39985\n",
      "iter 13\n",
      "\tleft 26679\n",
      "\tright 32421\n",
      "iter 14\n",
      "\tleft 33467\n",
      "\tright 27908\n",
      "[2432, 6904, 9903, 1573, 6611, 1172, 8170, 1187, 5669, 6316, 7500, 3566, 6427, 5804, 4852]\n",
      "iter 1\n",
      "\tleft 30581\n",
      "\tright 33098\n",
      "iter 2\n",
      "\tleft 29985\n",
      "\tright 29511\n",
      "iter 3\n",
      "\tleft 36322\n",
      "\tright 35438\n",
      "iter 4\n",
      "\tleft 31468\n",
      "\tright 32393\n",
      "iter 5\n",
      "\tleft 32275\n",
      "\tright 37648\n",
      "iter 6\n",
      "\tleft 28595\n",
      "\tright 35282\n",
      "iter 7\n",
      "\tleft 34333\n",
      "\tright 38947\n",
      "iter 8\n",
      "\tleft 28616\n",
      "\tright 35710\n",
      "iter 9\n",
      "\tleft 24382\n",
      "\tright 36298\n",
      "iter 10\n",
      "\tleft 29125\n",
      "\tright 38701\n",
      "iter 11\n",
      "\tleft 30014\n",
      "\tright 36708\n",
      "iter 12\n",
      "\tleft 32408\n",
      "\tright 36892\n",
      "iter 13\n",
      "\tleft 30665\n",
      "\tright 32260\n",
      "iter 14\n",
      "\tleft 35282\n",
      "\tright 35578\n",
      "Test 5 failed. Expected 13, actual 15\n",
      "[7504, 4555, 2963, 1425, 9830, 9581, 3868, 1426, 4519, 3976, 746, 1888, 1051, 2503, 4523]\n",
      "iter 1\n",
      "\tleft 18215\n",
      "\tright 32186\n",
      "iter 2\n",
      "\tleft 22024\n",
      "\tright 33199\n",
      "iter 3\n",
      "\tleft 23099\n",
      "\tright 32520\n",
      "iter 4\n",
      "\tleft 23473\n",
      "\tright 24578\n",
      "iter 5\n",
      "\tleft 30800\n",
      "\tright 16048\n",
      "iter 6\n",
      "\tleft 35858\n",
      "\tright 14683\n",
      "iter 7\n",
      "\tleft 32222\n",
      "\tright 17780\n",
      "iter 8\n",
      "\tleft 29093\n",
      "\tright 20765\n",
      "iter 9\n",
      "\tleft 30649\n",
      "\tright 21344\n",
      "iter 10\n",
      "\tleft 33200\n",
      "\tright 23561\n",
      "iter 11\n",
      "\tleft 24116\n",
      "\tright 23098\n",
      "iter 12\n",
      "\tleft 16423\n",
      "\tright 31877\n",
      "iter 13\n",
      "\tleft 13606\n",
      "\tright 38955\n",
      "iter 14\n",
      "\tleft 14683\n",
      "\tright 38300\n",
      "[9015, 8715, 8212, 285, 4015, 7325, 1443, 9647, 3281, 962, 6385, 4927, 820, 8519, 1614]\n",
      "iter 1\n",
      "\tleft 31280\n",
      "\tright 24561\n",
      "iter 2\n",
      "\tleft 33610\n",
      "\tright 17311\n",
      "iter 3\n",
      "\tleft 36895\n",
      "\tright 23411\n",
      "iter 4\n",
      "\tleft 36360\n",
      "\tright 24323\n",
      "iter 5\n",
      "\tleft 31856\n",
      "\tright 17818\n",
      "iter 6\n",
      "\tleft 37567\n",
      "\tright 24894\n",
      "iter 7\n",
      "\tleft 29995\n",
      "\tright 16861\n",
      "iter 8\n",
      "\tleft 30927\n",
      "\tright 22595\n",
      "iter 9\n",
      "\tleft 25996\n",
      "\tright 30348\n",
      "iter 10\n",
      "\tleft 26673\n",
      "\tright 32175\n",
      "iter 11\n",
      "\tleft 29043\n",
      "\tright 27533\n",
      "iter 12\n",
      "\tleft 26645\n",
      "\tright 30728\n",
      "iter 13\n",
      "\tleft 26022\n",
      "\tright 29534\n",
      "iter 14\n",
      "\tleft 24894\n",
      "\tright 29363\n",
      "[782, 3059, 2759, 7260, 5896, 8255, 7639, 4033, 8360, 2655, 9973, 9594, 2859, 6294, 9531]\n",
      "iter 1\n",
      "\tleft 39033\n",
      "\tright 40169\n",
      "iter 2\n",
      "\tleft 32119\n",
      "\tright 40065\n",
      "iter 3\n",
      "\tleft 25284\n",
      "\tright 42778\n",
      "iter 4\n",
      "\tleft 29685\n",
      "\tright 46476\n",
      "iter 5\n",
      "\tleft 29287\n",
      "\tright 41080\n",
      "iter 6\n",
      "\tleft 28011\n",
      "\tright 39735\n",
      "iter 7\n",
      "\tleft 34868\n",
      "\tright 45233\n",
      "iter 8\n",
      "\tleft 35842\n",
      "\tright 37655\n",
      "iter 9\n",
      "\tleft 41443\n",
      "\tright 38059\n",
      "iter 10\n",
      "\tleft 36838\n",
      "\tright 30845\n",
      "iter 11\n",
      "\tleft 40915\n",
      "\tright 28511\n",
      "iter 12\n",
      "\tleft 42254\n",
      "\tright 31548\n",
      "iter 13\n",
      "\tleft 37474\n",
      "\tright 33509\n",
      "iter 14\n",
      "\tleft 39735\n",
      "\tright 31617\n",
      "[5234, 5812, 7197, 4485, 1205, 7908, 7089, 8556, 3740, 3630, 2963, 8310, 628, 411, 6013]\n",
      "iter 1\n",
      "\tleft 23559\n",
      "\tright 31624\n",
      "iter 2\n",
      "\tleft 26408\n",
      "\tright 28057\n",
      "iter 3\n",
      "\tleft 25295\n",
      "\tright 26535\n",
      "iter 4\n",
      "\tleft 29152\n",
      "\tright 33640\n",
      "iter 5\n",
      "\tleft 29946\n",
      "\tright 26360\n",
      "iter 6\n",
      "\tleft 31841\n",
      "\tright 19682\n",
      "iter 7\n",
      "\tleft 33696\n",
      "\tright 17139\n",
      "iter 8\n",
      "\tleft 36440\n",
      "\tright 18633\n",
      "iter 9\n",
      "\tleft 32983\n",
      "\tright 20815\n",
      "iter 10\n",
      "\tleft 32128\n",
      "\tright 25049\n",
      "iter 11\n",
      "\tleft 33886\n",
      "\tright 21224\n",
      "iter 12\n",
      "\tleft 34288\n",
      "\tright 21801\n",
      "iter 13\n",
      "\tleft 27827\n",
      "\tright 29298\n",
      "iter 14\n",
      "\tleft 19682\n",
      "\tright 30374\n",
      "[7955, 19, 5063, 8348, 1050, 8319, 640, 1148, 8889, 3826, 3176, 8271, 8848, 5987, 3646]\n",
      "iter 1\n",
      "\tleft 37883\n",
      "\tright 32309\n",
      "iter 2\n",
      "\tleft 34726\n",
      "\tright 31072\n",
      "iter 3\n",
      "\tleft 31518\n",
      "\tright 25900\n",
      "iter 4\n",
      "\tleft 31018\n",
      "\tright 33121\n",
      "iter 5\n",
      "\tleft 26081\n",
      "\tright 33650\n",
      "iter 6\n",
      "\tleft 30754\n",
      "\tright 38997\n",
      "iter 7\n",
      "\tleft 23439\n",
      "\tright 41495\n",
      "iter 8\n",
      "\tleft 24568\n",
      "\tright 40561\n",
      "iter 9\n",
      "\tleft 28394\n",
      "\tright 36754\n",
      "iter 10\n",
      "\tleft 23872\n",
      "\tright 38641\n",
      "iter 11\n",
      "\tleft 25998\n",
      "\tright 38718\n",
      "iter 12\n",
      "\tleft 25950\n",
      "\tright 30920\n",
      "iter 13\n",
      "\tleft 34158\n",
      "\tright 33252\n",
      "iter 14\n",
      "\tleft 38997\n",
      "\tright 30246\n",
      "Test 10 failed. Expected 13, actual 14\n",
      "[747, 4113, 2943, 7292, 7706, 282, 4075, 1820, 5821, 8533, 3151, 4161, 3799, 7256, 6249]\n",
      "iter 1\n",
      "\tleft 25363\n",
      "\tright 28119\n",
      "iter 2\n",
      "\tleft 26325\n",
      "\tright 33709\n",
      "iter 3\n",
      "\tleft 25107\n",
      "\tright 29568\n",
      "iter 4\n",
      "\tleft 28600\n",
      "\tright 26023\n",
      "iter 5\n",
      "\tleft 29050\n",
      "\tright 29540\n",
      "iter 6\n",
      "\tleft 23083\n",
      "\tright 32721\n",
      "iter 7\n",
      "\tleft 26411\n",
      "\tright 37150\n",
      "iter 8\n",
      "\tleft 24118\n",
      "\tright 32076\n",
      "iter 9\n",
      "\tleft 26996\n",
      "\tright 27656\n",
      "iter 10\n",
      "\tleft 28237\n",
      "\tright 27448\n",
      "iter 11\n",
      "\tleft 23682\n",
      "\tright 30579\n",
      "iter 12\n",
      "\tleft 27561\n",
      "\tright 34486\n",
      "iter 13\n",
      "\tleft 27285\n",
      "\tright 27512\n",
      "iter 14\n",
      "\tleft 32721\n",
      "\tright 25338\n",
      "[84, 2285, 8076, 4676, 9052, 6041, 1560, 3712, 2116, 2744, 9312, 7632, 4086, 5545, 2835]\n",
      "iter 1\n",
      "\tleft 29494\n",
      "\tright 31521\n",
      "iter 2\n",
      "\tleft 22467\n",
      "\tright 26189\n",
      "iter 3\n",
      "\tleft 22911\n",
      "\tright 30825\n",
      "iter 4\n",
      "\tleft 23501\n",
      "\tright 29405\n",
      "iter 5\n",
      "\tleft 27008\n",
      "\tright 27450\n",
      "iter 6\n",
      "\tleft 30214\n",
      "\tright 31435\n",
      "iter 7\n",
      "\tleft 31690\n",
      "\tright 30558\n",
      "iter 8\n",
      "\tleft 33117\n",
      "\tright 28526\n",
      "iter 9\n",
      "\tleft 27157\n",
      "\tright 28067\n",
      "iter 10\n",
      "\tleft 25225\n",
      "\tright 26831\n",
      "iter 11\n",
      "\tleft 25485\n",
      "\tright 23875\n",
      "iter 12\n",
      "\tleft 27076\n",
      "\tright 28841\n",
      "iter 13\n",
      "\tleft 29602\n",
      "\tright 29337\n",
      "iter 14\n",
      "\tleft 31435\n",
      "\tright 28062\n",
      "[6231, 9022, 1847, 4352, 7095, 2706, 5789, 8892, 1489, 1169, 4982, 7057, 5859, 190, 5411]\n",
      "iter 1\n",
      "\tleft 29730\n",
      "\tright 23278\n",
      "iter 2\n",
      "\tleft 33770\n",
      "\tright 22600\n",
      "iter 3\n",
      "\tleft 28560\n",
      "\tright 23230\n",
      "iter 4\n",
      "\tleft 27053\n",
      "\tright 23192\n",
      "iter 5\n",
      "\tleft 33958\n",
      "\tright 26345\n",
      "iter 6\n",
      "\tleft 31253\n",
      "\tright 20746\n",
      "iter 7\n",
      "\tleft 30811\n",
      "\tright 17265\n",
      "iter 8\n",
      "\tleft 30681\n",
      "\tright 22007\n",
      "iter 9\n",
      "\tleft 30323\n",
      "\tright 29860\n",
      "iter 10\n",
      "\tleft 27140\n",
      "\tright 26725\n",
      "iter 11\n",
      "\tleft 25027\n",
      "\tright 24020\n",
      "iter 12\n",
      "\tleft 29378\n",
      "\tright 25256\n",
      "iter 13\n",
      "\tleft 29448\n",
      "\tright 27772\n",
      "iter 14\n",
      "\tleft 20746\n",
      "\tright 28150\n",
      "[275, 6057, 8894, 3804, 9271, 9480, 8210, 8206, 2853, 6989, 2670, 9955, 6910, 2735, 4598]\n",
      "iter 1\n",
      "\tleft 27143\n",
      "\tright 42512\n",
      "iter 2\n",
      "\tleft 30530\n",
      "\tright 40607\n",
      "iter 3\n",
      "\tleft 29469\n",
      "\tright 39473\n",
      "iter 4\n",
      "\tleft 26363\n",
      "\tright 40157\n",
      "iter 5\n",
      "\tleft 32899\n",
      "\tright 37587\n",
      "iter 6\n",
      "\tleft 37781\n",
      "\tright 32112\n",
      "iter 7\n",
      "\tleft 45716\n",
      "\tright 28504\n",
      "iter 8\n",
      "\tleft 47865\n",
      "\tright 25926\n",
      "iter 9\n",
      "\tleft 41824\n",
      "\tright 24994\n",
      "iter 10\n",
      "\tleft 45009\n",
      "\tright 31218\n",
      "iter 11\n",
      "\tleft 38408\n",
      "\tright 25067\n",
      "iter 12\n",
      "\tleft 38883\n",
      "\tright 27428\n",
      "iter 13\n",
      "\tleft 37583\n",
      "\tright 34173\n",
      "iter 14\n",
      "\tleft 32112\n",
      "\tright 37785\n",
      "Test 14 failed. Expected 7, actual 6\n",
      "[7084, 9137, 8903, 7439, 4407, 2901, 7220, 3170, 5386, 2303, 1965, 28, 7224, 2952, 3280]\n",
      "iter 1\n",
      "\tleft 22533\n",
      "\tright 36256\n",
      "iter 2\n",
      "\tleft 29705\n",
      "\tright 29656\n",
      "iter 3\n",
      "\tleft 38580\n",
      "\tright 24182\n",
      "iter 4\n",
      "\tleft 38795\n",
      "\tright 19803\n",
      "iter 5\n",
      "\tleft 40250\n",
      "\tright 24126\n",
      "iter 6\n",
      "\tleft 39871\n",
      "\tright 19858\n",
      "iter 7\n",
      "\tleft 40007\n",
      "\tright 19968\n",
      "iter 8\n",
      "\tleft 34040\n",
      "\tright 21666\n",
      "iter 9\n",
      "\tleft 30523\n",
      "\tright 28500\n",
      "iter 10\n",
      "\tleft 25387\n",
      "\tright 35438\n",
      "iter 11\n",
      "\tleft 22945\n",
      "\tright 42849\n",
      "iter 12\n",
      "\tleft 20072\n",
      "\tright 40032\n",
      "iter 13\n",
      "\tleft 20076\n",
      "\tright 39981\n",
      "iter 14\n",
      "\tleft 19858\n",
      "\tright 43921\n",
      "[2809, 171, 7486, 5237, 2091, 7380, 2241, 8490, 2535, 1923, 3003, 3754, 2660, 5732, 8525]\n",
      "iter 1\n",
      "\tleft 26483\n",
      "\tright 26970\n",
      "iter 2\n",
      "\tleft 23651\n",
      "\tright 21407\n",
      "iter 3\n",
      "\tleft 27383\n",
      "\tright 19173\n",
      "iter 4\n",
      "\tleft 29960\n",
      "\tright 20836\n",
      "iter 5\n",
      "\tleft 26319\n",
      "\tright 16116\n",
      "iter 6\n",
      "\tleft 25174\n",
      "\tright 19607\n",
      "iter 7\n",
      "\tleft 24606\n",
      "\tright 19642\n",
      "iter 8\n",
      "\tleft 32925\n",
      "\tright 19916\n",
      "iter 9\n",
      "\tleft 27974\n",
      "\tright 18164\n",
      "iter 10\n",
      "\tleft 24660\n",
      "\tright 22647\n",
      "iter 11\n",
      "\tleft 25572\n",
      "\tright 24130\n",
      "iter 12\n",
      "\tleft 21946\n",
      "\tright 23561\n",
      "iter 13\n",
      "\tleft 22365\n",
      "\tright 25209\n",
      "iter 14\n",
      "\tleft 19607\n",
      "\tright 18925\n",
      "[1826, 3289, 9491, 5727, 9074, 1527, 3585, 6129, 9286, 5412, 1632, 4557, 6507, 1285, 9441]\n",
      "iter 1\n",
      "\tleft 25248\n",
      "\tright 38690\n",
      "iter 2\n",
      "\tleft 26905\n",
      "\tright 34611\n",
      "iter 3\n",
      "\tleft 31839\n",
      "\tright 30516\n",
      "iter 4\n",
      "\tleft 31059\n",
      "\tright 25999\n",
      "iter 5\n",
      "\tleft 38848\n",
      "\tright 30979\n",
      "iter 6\n",
      "\tleft 30934\n",
      "\tright 28679\n",
      "iter 7\n",
      "\tleft 32693\n",
      "\tright 31991\n",
      "iter 8\n",
      "\tleft 35533\n",
      "\tright 24531\n",
      "iter 9\n",
      "\tleft 35328\n",
      "\tright 22408\n",
      "iter 10\n",
      "\tleft 35013\n",
      "\tright 30267\n",
      "iter 11\n",
      "\tleft 27571\n",
      "\tright 31437\n",
      "iter 12\n",
      "\tleft 30601\n",
      "\tright 34004\n",
      "iter 13\n",
      "\tleft 33523\n",
      "\tright 34246\n",
      "iter 14\n",
      "\tleft 28679\n",
      "\tright 28390\n",
      "Test 17 failed. Expected 4, actual 3\n",
      "[6998, 2802, 7673, 6200, 551, 2008, 7808, 6646, 2298, 8485, 9915, 2838, 6784, 6053, 851]\n",
      "iter 1\n",
      "\tleft 33439\n",
      "\tright 26538\n",
      "iter 2\n",
      "\tleft 26326\n",
      "\tright 27350\n",
      "iter 3\n",
      "\tleft 31161\n",
      "\tright 31065\n",
      "iter 4\n",
      "\tleft 30577\n",
      "\tright 33352\n",
      "iter 5\n",
      "\tleft 25075\n",
      "\tright 38128\n",
      "iter 6\n",
      "\tleft 26232\n",
      "\tright 36373\n",
      "iter 7\n",
      "\tleft 27042\n",
      "\tright 30578\n",
      "iter 8\n",
      "\tleft 30886\n",
      "\tright 35278\n",
      "iter 9\n",
      "\tleft 25511\n",
      "\tright 29595\n",
      "iter 10\n",
      "\tleft 27796\n",
      "\tright 27353\n",
      "iter 11\n",
      "\tleft 37160\n",
      "\tright 30715\n",
      "iter 12\n",
      "\tleft 37990\n",
      "\tright 24482\n",
      "iter 13\n",
      "\tleft 36966\n",
      "\tright 20437\n",
      "iter 14\n",
      "\tleft 36373\n",
      "\tright 27394\n",
      "[2639, 4634, 5112, 3947, 9076, 5669, 4216, 1984, 7510, 6507, 5847, 7990, 960, 7835, 6384]\n",
      "iter 1\n",
      "\tleft 31655\n",
      "\tright 35530\n",
      "iter 2\n",
      "\tleft 30442\n",
      "\tright 36925\n",
      "iter 3\n",
      "\tleft 27564\n",
      "\tright 38825\n",
      "iter 4\n",
      "\tleft 30551\n",
      "\tright 37739\n",
      "iter 5\n",
      "\tleft 31792\n",
      "\tright 33030\n",
      "iter 6\n",
      "\tleft 31077\n",
      "\tright 36649\n",
      "iter 7\n",
      "\tleft 32654\n",
      "\tright 41049\n",
      "iter 8\n",
      "\tleft 30004\n",
      "\tright 36178\n",
      "iter 9\n",
      "\tleft 32402\n",
      "\tright 34305\n",
      "iter 10\n",
      "\tleft 34962\n",
      "\tright 33570\n",
      "iter 11\n",
      "\tleft 31733\n",
      "\tright 29527\n",
      "iter 12\n",
      "\tleft 34054\n",
      "\tright 37643\n",
      "iter 13\n",
      "\tleft 30798\n",
      "\tright 35477\n",
      "iter 14\n",
      "\tleft 36649\n",
      "\tright 33309\n",
      "Test 19 failed. Expected 10, actual 15\n",
      "[5686, 2053, 4360, 6649, 5907, 4386, 7078, 1597, 4123, 5374, 5664, 5767, 7927, 9215, 2492]\n",
      "iter 1\n",
      "\tleft 36751\n",
      "\tright 32503\n",
      "iter 2\n",
      "\tleft 33140\n",
      "\tright 33517\n",
      "iter 3\n",
      "\tleft 31733\n",
      "\tright 32532\n",
      "iter 4\n",
      "\tleft 30455\n",
      "\tright 32392\n",
      "iter 5\n",
      "\tleft 27147\n",
      "\tright 35933\n",
      "iter 6\n",
      "\tleft 29041\n",
      "\tright 38070\n",
      "iter 7\n",
      "\tleft 30433\n",
      "\tright 38965\n",
      "iter 8\n",
      "\tleft 29977\n",
      "\tright 40528\n",
      "iter 9\n",
      "\tleft 29740\n",
      "\tright 37207\n",
      "iter 10\n",
      "\tleft 28465\n",
      "\tright 35903\n",
      "iter 11\n",
      "\tleft 28222\n",
      "\tright 36785\n",
      "iter 12\n",
      "\tleft 29603\n",
      "\tright 34765\n",
      "iter 13\n",
      "\tleft 30452\n",
      "\tright 29936\n",
      "iter 14\n",
      "\tleft 38070\n",
      "\tright 34522\n",
      "Test 20 failed. Expected 13, actual 14\n",
      "[3696, 7548, 9455, 2115, 9413, 4214, 437, 179, 6745, 8476, 8117, 8366, 1149, 9645, 5339]\n",
      "iter 1\n",
      "\tleft 36312\n",
      "\tright 32379\n",
      "iter 2\n",
      "\tleft 35743\n",
      "\tright 31400\n",
      "iter 3\n",
      "\tleft 36832\n",
      "\tright 37402\n",
      "iter 4\n",
      "\tleft 37798\n",
      "\tright 36355\n",
      "iter 5\n",
      "\tleft 37566\n",
      "\tright 33290\n",
      "iter 6\n",
      "\tleft 36441\n",
      "\tright 42498\n",
      "iter 7\n",
      "\tleft 33182\n",
      "\tright 47658\n",
      "iter 8\n",
      "\tleft 25813\n",
      "\tright 44609\n",
      "iter 9\n",
      "\tleft 23103\n",
      "\tright 43681\n",
      "iter 10\n",
      "\tleft 29464\n",
      "\tright 45019\n",
      "iter 11\n",
      "\tleft 28168\n",
      "\tright 38768\n",
      "iter 12\n",
      "\tleft 32320\n",
      "\tright 47032\n",
      "iter 13\n",
      "\tleft 33032\n",
      "\tright 41601\n",
      "iter 14\n",
      "\tleft 42498\n",
      "\tright 36699\n",
      "[1315, 9790, 4260, 8427, 2958, 8710, 3360, 7897, 5417, 5429, 5740, 2728, 4998, 6537, 3143]\n",
      "iter 1\n",
      "\tleft 24461\n",
      "\tright 33132\n",
      "iter 2\n",
      "\tleft 28511\n",
      "\tright 34301\n",
      "iter 3\n",
      "\tleft 30043\n",
      "\tright 31614\n",
      "iter 4\n",
      "\tleft 33472\n",
      "\tright 31384\n",
      "iter 5\n",
      "\tleft 29893\n",
      "\tright 27672\n",
      "iter 6\n",
      "\tleft 35460\n",
      "\tright 30849\n",
      "iter 7\n",
      "\tleft 37505\n",
      "\tright 26095\n",
      "iter 8\n",
      "\tleft 35612\n",
      "\tright 21993\n",
      "iter 9\n",
      "\tleft 36769\n",
      "\tright 26354\n",
      "iter 10\n",
      "\tleft 33771\n",
      "\tright 24874\n",
      "iter 11\n",
      "\tleft 36553\n",
      "\tright 30573\n",
      "iter 12\n",
      "\tleft 30571\n",
      "\tright 28533\n",
      "iter 13\n",
      "\tleft 32209\n",
      "\tright 30706\n",
      "iter 14\n",
      "\tleft 30849\n",
      "\tright 30923\n",
      "Test 22 failed. Expected 6, actual 4\n",
      "[7250, 1766, 6129, 7673, 3247, 6991, 3154, 5747, 7490, 8401, 9890, 837, 7047, 4721, 181]\n",
      "iter 1\n",
      "\tleft 29926\n",
      "\tright 34684\n",
      "iter 2\n",
      "\tleft 21802\n",
      "\tright 36956\n",
      "iter 3\n",
      "\tleft 27094\n",
      "\tright 39173\n",
      "iter 4\n",
      "\tleft 27720\n",
      "\tright 36763\n",
      "iter 5\n",
      "\tleft 26246\n",
      "\tright 36819\n",
      "iter 6\n",
      "\tleft 33056\n",
      "\tright 38386\n",
      "iter 7\n",
      "\tleft 28960\n",
      "\tright 32820\n",
      "iter 8\n",
      "\tleft 32941\n",
      "\tright 32580\n",
      "iter 9\n",
      "\tleft 34302\n",
      "\tright 25945\n",
      "iter 10\n",
      "\tleft 35030\n",
      "\tright 22184\n",
      "iter 11\n",
      "\tleft 41673\n",
      "\tright 29020\n",
      "iter 12\n",
      "\tleft 35519\n",
      "\tright 25220\n",
      "iter 13\n",
      "\tleft 39412\n",
      "\tright 27490\n",
      "iter 14\n",
      "\tleft 38386\n",
      "\tright 30463\n",
      "[5811, 6661, 8123, 3148, 1144, 5725, 7044, 906, 7414, 5906, 636, 8438, 5737, 4881, 7250]\n",
      "iter 1\n",
      "\tleft 32753\n",
      "\tright 32598\n",
      "iter 2\n",
      "\tleft 38778\n",
      "\tright 30381\n",
      "iter 3\n",
      "\tleft 38463\n",
      "\tright 27869\n",
      "iter 4\n",
      "\tleft 35874\n",
      "\tright 35163\n",
      "iter 5\n",
      "\tleft 32137\n",
      "\tright 35175\n",
      "iter 6\n",
      "\tleft 30612\n",
      "\tright 33012\n",
      "iter 7\n",
      "\tleft 31845\n",
      "\tright 39356\n",
      "iter 8\n",
      "\tleft 26090\n",
      "\tright 37753\n",
      "iter 9\n",
      "\tleft 25381\n",
      "\tright 38508\n",
      "iter 10\n",
      "\tleft 28139\n",
      "\tright 45995\n",
      "iter 11\n",
      "\tleft 27631\n",
      "\tright 40705\n",
      "iter 12\n",
      "\tleft 30344\n",
      "\tright 36112\n",
      "iter 13\n",
      "\tleft 29037\n",
      "\tright 36956\n",
      "iter 14\n",
      "\tleft 33012\n",
      "\tright 36750\n",
      "[5340, 8208, 8765, 4462, 5874, 1492, 6929, 3323, 1521, 5144, 4650, 23, 7738, 1845, 4939]\n",
      "iter 1\n",
      "\tleft 24535\n",
      "\tright 29043\n",
      "iter 2\n",
      "\tleft 28093\n",
      "\tright 25422\n",
      "iter 3\n",
      "\tleft 36835\n",
      "\tright 25610\n",
      "iter 4\n",
      "\tleft 33559\n",
      "\tright 19759\n",
      "iter 5\n",
      "\tleft 37588\n",
      "\tright 26005\n",
      "iter 6\n",
      "\tleft 34141\n",
      "\tright 20921\n",
      "iter 7\n",
      "\tleft 35730\n",
      "\tright 22537\n",
      "iter 8\n",
      "\tleft 30845\n",
      "\tright 26356\n",
      "iter 9\n",
      "\tleft 23601\n",
      "\tright 29420\n",
      "iter 10\n",
      "\tleft 24283\n",
      "\tright 33535\n",
      "iter 11\n",
      "\tleft 23059\n",
      "\tright 37974\n",
      "iter 12\n",
      "\tleft 21590\n",
      "\tright 36110\n",
      "iter 13\n",
      "\tleft 22399\n",
      "\tright 35757\n",
      "iter 14\n",
      "\tleft 20921\n",
      "\tright 37747\n",
      "Test 25 failed. Expected 2, actual 3\n",
      "Testing is stopped after 10 failed tests.\n"
     ]
    },
    {
     "name": "stderr",
     "output_type": "stream",
     "text": [
      "\n"
     ]
    }
   ],
   "source": [
    "run_tests(problem99_bruteforce, problem99, input_generator_one_per_line)"
   ]
  },
  {
   "cell_type": "markdown",
   "metadata": {},
   "source": [
    "## Задача 103"
   ]
  },
  {
   "cell_type": "markdown",
   "metadata": {},
   "source": [
    "На вход программе подается последовательность целых чисел. Рассматриваются все непрерывные подпоследовательности исходной последовательности, такие что произведение элементов каждой из них не кратно M = 345600. Найдите количество таких подпоследовательностей."
   ]
  },
  {
   "cell_type": "code",
   "execution_count": null,
   "metadata": {},
   "outputs": [
    {
     "name": "stdout",
     "output_type": "stream",
     "text": [
      "[2, 3, 4, 5, 6, 8, 9, 10, 12, 15, 16, 18, 20, 24, 25, 27, 30, 32, 36, 40, 45, 48, 50, 54, 60, 64, 72, 75, 80, 90, 96, 100, 108, 120, 128, 135, 144, 150, 160, 180, 192, 200, 216, 225, 240, 256, 270, 288, 300, 320, 360, 384, 400, 432, 450, 480, 512, 540, 576, 600, 640, 675, 720, 768, 800, 864, 900, 960, 1080, 1152, 1200, 1280, 1350, 1440, 1536, 1600, 1728, 1800, 1920, 2160, 2304, 2400, 2560, 2700, 2880, 3200, 3456, 3600, 3840, 4320, 4608, 4800, 5400, 5760, 6400, 6912, 7200, 7680, 8640, 9600, 10800, 11520, 12800, 13824, 14400, 17280, 19200, 21600, 23040, 28800, 34560, 38400, 43200, 57600, 69120, 86400, 115200, 172800]\n"
     ]
    }
   ],
   "source": [
    "i = 2\n",
    "d = []\n",
    "while i * i <= 345600:\n",
    "    if 345600 % i == 0:\n",
    "        d.append(i)\n",
    "        d.append(345600 // i)\n",
    "    i += 1\n",
    "\n",
    "d.sort()\n",
    "print(d)"
   ]
  },
  {
   "cell_type": "code",
   "execution_count": null,
   "metadata": {},
   "outputs": [],
   "source": [
    "def problem103_bruteforce(path):\n",
    "    with open(path) as f:\n",
    "        n = int(f.readline())\n",
    "        a = list()\n",
    "        for i in range(n):\n",
    "            a.append(int(f.readline()))\n",
    "\n",
    "        result = 0\n",
    "        for length in range(1, n+1):\n",
    "            for l in range(n-length+1):\n",
    "                r = l+length\n",
    "                p = 1\n",
    "                for item in a[l:r+1]:\n",
    "                    p *= item\n",
    "                \n",
    "                if p % 345600 != 0:\n",
    "                    result += 1\n",
    "\n",
    "        return result"
   ]
  },
  {
   "cell_type": "code",
   "execution_count": null,
   "metadata": {},
   "outputs": [],
   "source": [
    "def problem103(path):\n",
    "    m = 345600\n",
    "\n",
    "    # pos[i] - словарь, отображающий простые делители числа m в очередь фиксированного размера\n",
    "    pos = {}\n",
    "    d = 2\n",
    "    m = 345600\n",
    "    while m > 1:\n",
    "        while m % d == 0:\n",
    "            pos[d] = pos.get(d, []) + [None]\n",
    "            m //= d\n",
    "        d += 1\n",
    "\n",
    "#     with open(path) as f:\n",
    "#         n = int(f.readline())\n",
    "#         data = [int(line.strip()) for line in f.readlines()]\n",
    "\n",
    "#         result = 0\n",
    "#         for i, x in enumerate(data):\n",
    "#             # проходимся по ключам\n",
    "#             for divisor in pos:\n",
    "#                 while x % divisor == 0:\n",
    "#                     pos[divisor].pop(0)\n",
    "#                     pos[divisor].append(i) # добавляем в очередь \n",
    "#                     x //= divisor\n",
    "\n",
    "#             result += (i - min(min(pos.values())))\n",
    "#         return result\n",
    "\n",
    "# solutions[103] = '{} {}'.format(problem103('./data/27data/103/27-103a.txt'), problem103('./data/27data/103/27-103b.txt'))\n",
    "# solutions[103]"
   ]
  },
  {
   "cell_type": "code",
   "execution_count": null,
   "metadata": {},
   "outputs": [],
   "source": [
    "# run_tests(problem103_bruteforce, problem103, input_generator_one_per_line)"
   ]
  },
  {
   "cell_type": "markdown",
   "metadata": {},
   "source": [
    "## 115"
   ]
  },
  {
   "cell_type": "code",
   "execution_count": 45,
   "metadata": {},
   "outputs": [
    {
     "data": {
      "text/plain": [
       "0"
      ]
     },
     "execution_count": 45,
     "metadata": {},
     "output_type": "execute_result"
    }
   ],
   "source": [
    "from itertools import permutations\n",
    "\n",
    "def problem115_bruteforce(path):\n",
    "    with open(path) as f:\n",
    "        n = int(f.readline())\n",
    "        a = [int(line) for line in f.readlines()]\n",
    "        \n",
    "        answer = 0\n",
    "\n",
    "        for permutation in permutations(a):\n",
    "            l = 0\n",
    "            m = 0\n",
    "\n",
    "            \n",
    "\n",
    "            r = min(l, m)\n",
    "            answer = max(answer, r)\n",
    "\n",
    "        return 0\n",
    "\n",
    "# problem115_bruteforce('./data/27data/115/27-115a.txt')\n",
    "problem115_bruteforce('./problem115_sample.txt')"
   ]
  },
  {
   "cell_type": "markdown",
   "metadata": {},
   "source": [
    "## 99 баллов, 1"
   ]
  },
  {
   "cell_type": "code",
   "execution_count": 33,
   "metadata": {},
   "outputs": [],
   "source": [
    "def problem1_bruteforce(path):\n",
    "    with open(path) as f:\n",
    "        n = int(f.readline())\n",
    "        a = list()\n",
    "        for i in range(n):\n",
    "            a.append(int(f.readline()))\n",
    "\n",
    "        answer = 0\n",
    "        for i in range(n):\n",
    "            for j in range(i+1, n):\n",
    "                if (a[i] > a[j]) and (a[i] + a[j]) % 140 == 0:\n",
    "                    answer = max(answer, a[i] + a[j])\n",
    "\n",
    "        return answer\n",
    "\n",
    "def problem1(path):\n",
    "    with open(path) as f:\n",
    "        dMax = [0] * 140\n",
    "        answer = 0\n",
    "\n",
    "        n = int(f.readline())\n",
    "        for i in range(n):\n",
    "            x = int(f.readline())\n",
    "\n",
    "            y = dMax[(140 - x % 140) % 140]\n",
    "\n",
    "            if y > x:\n",
    "                answer = max(answer, x + y)\n",
    "\n",
    "            dMax[x % 140] = max(dMax[x % 140], x)\n",
    "\n",
    "        return answer"
   ]
  },
  {
   "cell_type": "markdown",
   "metadata": {},
   "source": [
    "Вопрос: что будет, если a[i] < a[j]?\n"
   ]
  },
  {
   "cell_type": "code",
   "execution_count": 40,
   "metadata": {},
   "outputs": [
    {
     "name": "stdout",
     "output_type": "stream",
     "text": [
      "Testing in progress...\n"
     ]
    },
    {
     "name": "stderr",
     "output_type": "stream",
     "text": [
      "  1%|          | 9/1000 [00:00<00:03, 324.02it/s]"
     ]
    },
    {
     "name": "stdout",
     "output_type": "stream",
     "text": [
      "Test 1 failed. Expected 0, actual 9212\n",
      "Test 2 failed. Expected 0, actual 9624\n",
      "Test 3 failed. Expected 0, actual 9998\n",
      "Test 4 failed. Expected 0, actual 9478\n",
      "Test 5 failed. Expected 0, actual 9869\n",
      "Test 6 failed. Expected 0, actual 9873\n",
      "Test 7 failed. Expected 0, actual 8716\n",
      "Test 8 failed. Expected 0, actual 8930\n",
      "Test 9 failed. Expected 0, actual 9760\n",
      "Test 10 failed. Expected 0, actual 8956\n",
      "Testing is stopped after 10 failed tests.\n"
     ]
    },
    {
     "name": "stderr",
     "output_type": "stream",
     "text": [
      "\n"
     ]
    }
   ],
   "source": [
    "run_tests(problem1_bruteforce, problem1, input_generator_one_per_line)"
   ]
  },
  {
   "cell_type": "markdown",
   "metadata": {},
   "source": [
    "## 99 баллов, 2"
   ]
  },
  {
   "cell_type": "code",
   "execution_count": 41,
   "metadata": {},
   "outputs": [],
   "source": [
    "def problem2_bruteforce(path):\n",
    "    with open(path) as f:\n",
    "        n = int(f.readline())\n",
    "        a = list()\n",
    "        for i in range(n):\n",
    "            a.append(int(f.readline()))\n",
    "\n",
    "        answer = 0\n",
    "        for i in range(n):\n",
    "            for j in range(i+1, n):\n",
    "                if (a[i] + a[j]) % 31 == 0:\n",
    "                    answer += 1\n",
    "\n",
    "        return answer\n",
    "\n",
    "def problem2(path):\n",
    "    with open(path) as f:\n",
    "        answer = 0\n",
    "        c = [0] * 31 # на i итерации c[k] - количество встреченных чисел, которые дают остаток i при делении на 31 \n",
    "\n",
    "        n = int(f.readline())\n",
    "        for i in range(n):\n",
    "            x = int(f.readline())\n",
    "            answer += c[(31 - x % 31) % 31]\n",
    "            \n",
    "            c[x % 31] += 1\n",
    "\n",
    "        return answer"
   ]
  },
  {
   "cell_type": "code",
   "execution_count": 42,
   "metadata": {},
   "outputs": [
    {
     "name": "stdout",
     "output_type": "stream",
     "text": [
      "Testing in progress...\n"
     ]
    },
    {
     "name": "stderr",
     "output_type": "stream",
     "text": [
      "100%|██████████| 1000/1000 [00:02<00:00, 417.85it/s]"
     ]
    },
    {
     "name": "stdout",
     "output_type": "stream",
     "text": [
      "OK! All tests passed.\n"
     ]
    },
    {
     "name": "stderr",
     "output_type": "stream",
     "text": [
      "\n"
     ]
    }
   ],
   "source": [
    "run_tests(problem2_bruteforce, problem2, input_generator_one_per_line)"
   ]
  },
  {
   "cell_type": "markdown",
   "metadata": {},
   "source": [
    "## 99 баллов, последовательная еда"
   ]
  },
  {
   "cell_type": "code",
   "execution_count": 22,
   "metadata": {},
   "outputs": [],
   "source": [
    "def food_problem_bruteforce(path):\n",
    "    with open(path) as f:\n",
    "        n = int(f.readline())\n",
    "        a = list()\n",
    "        for i in range(n):\n",
    "            a.append(int(f.readline()))\n",
    "\n",
    "        answer = 0\n",
    "        for i in range(n):\n",
    "            for j in range(i+1, n):\n",
    "                c1 = sum(a[0:i+1])\n",
    "                c2 = sum(a[j:])\n",
    "\n",
    "                if c1 == c2:\n",
    "                    answer = max(answer, len(a[0:i+1]) + len(a[j:]))\n",
    "\n",
    "        return answer\n",
    "\n",
    "def food_problem(path):\n",
    "    with open(path) as f:\n",
    "        n = int(f.readline())\n",
    "        a = list()\n",
    "        for i in range(n):\n",
    "            a.append(int(f.readline()))\n",
    "\n",
    "        i_Danya = 0\n",
    "        i_Vanya = n-1\n",
    "\n",
    "        s_Danya = a[0]\n",
    "        s_Vanya = a[n-1]\n",
    "\n",
    "        answer = 0\n",
    "\n",
    "        while i_Danya < i_Vanya:\n",
    "            if s_Danya > s_Vanya:\n",
    "                i_Vanya -= 1\n",
    "                s_Vanya += a[i_Vanya]\n",
    "            else:\n",
    "                i_Danya += 1\n",
    "                s_Danya += a[i_Danya]\n",
    "\n",
    "            if s_Danya == s_Vanya:\n",
    "                answer = max(i_Danya + n - i_Vanya + 1, answer)\n",
    "\n",
    "        return answer"
   ]
  },
  {
   "cell_type": "code",
   "execution_count": 23,
   "metadata": {},
   "outputs": [
    {
     "name": "stdout",
     "output_type": "stream",
     "text": [
      "Testing in progress...\n"
     ]
    },
    {
     "name": "stderr",
     "output_type": "stream",
     "text": [
      "100%|██████████| 1000/1000 [00:02<00:00, 372.67it/s]"
     ]
    },
    {
     "name": "stdout",
     "output_type": "stream",
     "text": [
      "OK! All tests passed.\n"
     ]
    },
    {
     "name": "stderr",
     "output_type": "stream",
     "text": [
      "\n"
     ]
    }
   ],
   "source": [
    "run_tests(food_problem_bruteforce, food_problem, input_generator_one_per_line)"
   ]
  },
  {
   "cell_type": "markdown",
   "metadata": {},
   "source": [
    "## Незакольцованная мусорка"
   ]
  },
  {
   "cell_type": "code",
   "execution_count": 80,
   "metadata": {},
   "outputs": [],
   "source": [
    "from math import ceil\n",
    "\n",
    "def probirki_bruteforce(path):\n",
    "    with open(path) as f:\n",
    "        n = int(f.readline())\n",
    "        cnt_bag = list()\n",
    "        coordinates = list()\n",
    "\n",
    "        for i in range(n):\n",
    "            coordinate, probirka = map(int, f.readline().split())\n",
    "            coordinates.append(coordinate)\n",
    "            # cnt_bag.append(ceil(probirka / 96)) # для тестового примера \n",
    "            cnt_bag.append(ceil(probirka / 36))\n",
    "\n",
    "        result_cost = 10 ** 20\n",
    "        result_point = None\n",
    "\n",
    "        for i in range(n):\n",
    "            point = coordinates[i]\n",
    "            # print('Trying to build factory at {} with {} probirok'.format(coordinates[i], cnt_bag[i]))\n",
    "            cost = 0\n",
    "\n",
    "            for j in range(n):\n",
    "                distance = abs(point - coordinates[j])\n",
    "                # print('\\t cost for lab {}: {} * {}'.format(coordinates[j], distance, cnt_bag[j]))\n",
    "                cost += cnt_bag[j] * distance\n",
    "\n",
    "            # print('\\t Final cost for lab in {} equals {}'.format(coordinates[i], cost))\n",
    "            if cost < result_cost:\n",
    "                result_cost = cost\n",
    "                result_point = point\n",
    "\n",
    "        return result_cost\n",
    "\n",
    "def probirki(path):\n",
    "    with open(path) as f:\n",
    "        n = int(f.readline())\n",
    "        cnt_bag = list()\n",
    "        coordinates = list()\n",
    "\n",
    "        cost = [0] * n\n",
    "\n",
    "        for i in range(n):\n",
    "            coordinate, probirka = map(int, f.readline().split())\n",
    "            coordinates.append(coordinate)\n",
    "            cnt_bag.append(ceil(probirka / 36))\n",
    "\n",
    "        s = sum(cnt_bag)\n",
    "        left = 0\n",
    "        right = 0\n",
    "        for i in range(n):\n",
    "            cost[0] += abs(coordinates[i] - coordinates[0]) * cnt_bag[i]\n",
    "            \n",
    "        left = cnt_bag[0]\n",
    "        right = s - cnt_bag[0]\n",
    "\n",
    "        for k in range(1, n):\n",
    "            cost[k] = cost[k-1] + (left - right) * (coordinates[k] - coordinates[k-1])\n",
    "            right -= cnt_bag[k]\n",
    "            left += cnt_bag[k]\n",
    "        \n",
    "        # return cost\n",
    "        return min(cost)"
   ]
  },
  {
   "cell_type": "code",
   "execution_count": 70,
   "metadata": {},
   "outputs": [
    {
     "name": "stdout",
     "output_type": "stream",
     "text": [
      "\t Final cost for lab in 1 equals 77\n",
      "\t Final cost for lab in 2 equals 65\n",
      "\t Final cost for lab in 5 equals 65\n",
      "\t Final cost for lab in 7 equals 69\n",
      "\t Final cost for lab in 8 equals 73\n",
      "\t Final cost for lab in 10 equals 85\n"
     ]
    },
    {
     "data": {
      "text/plain": [
       "65"
      ]
     },
     "execution_count": 70,
     "metadata": {},
     "output_type": "execute_result"
    }
   ],
   "source": [
    "probirki_bruteforce('./2022_sample.txt')"
   ]
  },
  {
   "cell_type": "code",
   "execution_count": 69,
   "metadata": {},
   "outputs": [
    {
     "data": {
      "text/plain": [
       "[77, 65, 65, 69, 73, 85]"
      ]
     },
     "execution_count": 69,
     "metadata": {},
     "output_type": "execute_result"
    }
   ],
   "source": [
    "probirki('./2022_sample.txt')"
   ]
  },
  {
   "cell_type": "code",
   "execution_count": 82,
   "metadata": {},
   "outputs": [],
   "source": [
    "from random import randint\n",
    "\n",
    "def ege2022_generator(path):\n",
    "    with open(path, 'w+') as f:\n",
    "        n = 15\n",
    "        data = list()\n",
    "\n",
    "\n",
    "        for i in range(n):\n",
    "            flag = randint(0, 1)\n",
    "            if flag == 1:\n",
    "                data.append((i+1, randint(1, 10000)))\n",
    "\n",
    "        if len(data) == 0:\n",
    "            f.write('0')\n",
    "        \n",
    "        f.write(str(len(data)) + '\\n')\n",
    "        for item in data:\n",
    "            f.write(str(item[0]) + ' ' + str(item[1]) + ' \\n')"
   ]
  },
  {
   "cell_type": "code",
   "execution_count": 83,
   "metadata": {},
   "outputs": [
    {
     "name": "stdout",
     "output_type": "stream",
     "text": [
      "Testing in progress...\n"
     ]
    },
    {
     "name": "stderr",
     "output_type": "stream",
     "text": [
      "100%|██████████| 1000/1000 [00:02<00:00, 378.54it/s]"
     ]
    },
    {
     "name": "stdout",
     "output_type": "stream",
     "text": [
      "OK! All tests passed.\n"
     ]
    },
    {
     "name": "stderr",
     "output_type": "stream",
     "text": [
      "\n"
     ]
    }
   ],
   "source": [
    "run_tests(probirki_bruteforce, probirki, ege2022_generator)"
   ]
  },
  {
   "cell_type": "markdown",
   "metadata": {},
   "source": [
    "## Проверка решений"
   ]
  },
  {
   "cell_type": "code",
   "execution_count": 79,
   "metadata": {},
   "outputs": [
    {
     "name": "stdout",
     "output_type": "stream",
     "text": [
      "OK!\n",
      "Solved problems: [40, 44, 47, 50, 58]\n"
     ]
    }
   ],
   "source": [
    "ok_flag = True\n",
    "\n",
    "solutions = [str(solution) if solution != None else None for solution in solutions]\n",
    "solved = []\n",
    "\n",
    "for i in range(1, len(answers)):\n",
    "    if solutions[i] is not None:\n",
    "        if solutions[i].split() == answers[i].split():\n",
    "            solved.append(i)\n",
    "        else:\n",
    "            print('Error in problem {}. Correct Answer: {}. Given: {}'.format(i, answers[i], solutions[i]))\n",
    "            ok_flag = False\n",
    "\n",
    "if ok_flag:\n",
    "    print('OK!')\n",
    "print('Solved problems: {}'.format(solved))"
   ]
  }
 ],
 "metadata": {
  "interpreter": {
   "hash": "73e03da126b73bfff3642ec5261d56fa25c444ea595de51041687efaa60dda41"
  },
  "kernelspec": {
   "display_name": "Python 3.9.7 64-bit ('base': conda)",
   "language": "python",
   "name": "python3"
  },
  "language_info": {
   "codemirror_mode": {
    "name": "ipython",
    "version": 3
   },
   "file_extension": ".py",
   "mimetype": "text/x-python",
   "name": "python",
   "nbconvert_exporter": "python",
   "pygments_lexer": "ipython3",
   "version": "3.9.7"
  },
  "orig_nbformat": 4
 },
 "nbformat": 4,
 "nbformat_minor": 2
}
