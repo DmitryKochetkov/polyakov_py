{
 "cells": [
  {
   "cell_type": "markdown",
   "metadata": {},
   "source": [
    "# Задача 27 (Самая сложная программа в ЕГЭ)"
   ]
  },
  {
   "cell_type": "code",
   "execution_count": 1,
   "metadata": {},
   "outputs": [],
   "source": [
    "import pandas as pd\n",
    "answers = pd.read_csv('answers.csv', encoding='windows-1251')['27'].to_list()\n",
    "answers = [None] + answers\n",
    "\n",
    "solutions = [None] * (len(answers)+1) # solutions[i] - решение i-й задачи. solutions[0] не используется."
   ]
  },
  {
   "cell_type": "code",
   "execution_count": 2,
   "metadata": {},
   "outputs": [
    {
     "data": {
      "text/plain": [
       "'30 360137507'"
      ]
     },
     "execution_count": 2,
     "metadata": {},
     "output_type": "execute_result"
    }
   ],
   "source": [
    "answers[13]"
   ]
  },
  {
   "cell_type": "code",
   "execution_count": 3,
   "metadata": {},
   "outputs": [],
   "source": [
    "test_env = True # если True, то тесты будут запущены"
   ]
  },
  {
   "cell_type": "code",
   "execution_count": 4,
   "metadata": {},
   "outputs": [],
   "source": [
    "from tqdm import tqdm\n",
    "\n",
    "def run_tests(f_bruteforce, f, input_generator):\n",
    "    \"\"\"\n",
    "    Runs random tests using bruteforce solution.\n",
    "\n",
    "    ## Parameters\n",
    "\n",
    "    `f_bruteforce`: bruteforce solution.\n",
    "\n",
    "    `f`: Efficient solution.\n",
    "\n",
    "    `path`: Path to the input files folder.\n",
    "    \"\"\"\n",
    "\n",
    "    if test_env:\n",
    "        path = 'tests/tmp.txt'\n",
    "\n",
    "        failed_tests = 0\n",
    "        print('Testing in progress...')\n",
    "        for test_id in tqdm(range(1, 1000+1)):\n",
    "            input_generator(path)\n",
    "            expected = f_bruteforce(path)\n",
    "            actual = f(path)\n",
    "            \n",
    "            if expected != actual:\n",
    "                failed_tests += 1\n",
    "                print('Test {} failed. Expected {}, actual {}'.format(test_id, expected, actual))\n",
    "\n",
    "            if failed_tests >= 10:\n",
    "                print('Testing is stopped after 10 failed tests.')\n",
    "                break\n",
    "\n",
    "        if failed_tests == 0:\n",
    "            print('OK! All tests passed.')\n",
    "    else:\n",
    "        print('Tests are skipped. Set test_env variable to True in order to test.')"
   ]
  },
  {
   "cell_type": "markdown",
   "metadata": {},
   "source": [
    "## Задача 1"
   ]
  },
  {
   "cell_type": "markdown",
   "metadata": {},
   "source": [
    "Имеется набор данных, состоящий из целых чисел. Необходимо выбрать из каждой пары ровно одно число так, чтобы сумма всех выбранных чисел не делилась на 3 и при этом была минимально возможной. Гарантируется, что искомую сумму получить можно. Программа должна напечатать одно число – минимально возможную сумму, соответствующую условиям задачи.\n",
    "\n",
    "**Входные данные**: Даны два входных файла: файл A (`27-1a.txt`) и файл B (`27-1b.txt`), каждый из которых содержит в первой строке количество чисел $N (1 ≤ N ≤ 100000)$. Каждая из следующих N строк содержит два натуральных числа, не превышающих по модулю 10000.\n",
    "\n",
    "**Пример входного файла:**\n",
    "\n",
    "```\n",
    "6\n",
    "1 3\n",
    "5 12\n",
    "6 9\n",
    "5 4\n",
    "3 3\n",
    "1 1\n",
    "```\n",
    "\n",
    "Для указанных входных данных значением искомой суммы должно быть число 20.\n",
    "\n",
    "\n",
    "В ответе укажите два числа: сначала искомое значение для файла А, затем для файла B."
   ]
  },
  {
   "cell_type": "code",
   "execution_count": 5,
   "metadata": {},
   "outputs": [
    {
     "data": {
      "text/plain": [
       "'67303 200157496'"
      ]
     },
     "execution_count": 5,
     "metadata": {},
     "output_type": "execute_result"
    }
   ],
   "source": [
    "from itertools import product\n",
    "\n",
    "def problem1_bruteforce(path):\n",
    "    with open(path) as f:\n",
    "        n = int(f.readline())\n",
    "        a = list()\n",
    "        for _ in range(n):\n",
    "            pair = list(map(int, f.readline().split()))\n",
    "            a.append(pair)\n",
    "\n",
    "        result = None\n",
    "\n",
    "        # option - кортеж вида (i, x), где i - номер пары, x - 0 или 1, индекс элемента пары, который выбран в сумму\n",
    "        for option in list(product([0, 1], repeat=n)):\n",
    "            s = 0\n",
    "            for i, x in enumerate(option):\n",
    "                s += a[i][x]\n",
    "\n",
    "            if s % 3 != 0 and (result == None or s < result):\n",
    "                result = s\n",
    "\n",
    "        return result\n",
    "\n",
    "def problem1(path):\n",
    "    with open(path) as f:\n",
    "        n = int(f.readline())\n",
    "\n",
    "        # Очевидно, наша цель - брать все время меньшее число.\n",
    "\n",
    "        r1 = 100001 # минимальное из всех не взятых в сумму чисел, дающее в остатке от деление на 3 число 1\n",
    "        r2 = 100001 # минимальное из всех не взятых чисел, дающее в остатке от деление на 3 число 2\n",
    "\n",
    "        s = 0 # ответ на задачу\n",
    "\n",
    "        for _ in range(n):\n",
    "            x, y = map(int, f.readline().split())\n",
    "            if x > y:\n",
    "                x, y = y, x\n",
    "\n",
    "            # теперь x - меньшее из чисел, y - большее\n",
    "\n",
    "            s += x\n",
    "\n",
    "            d = y - x\n",
    "            if d < r1 and d % 3 == 1:\n",
    "                r1 = d\n",
    "            if d < r2 and d % 3 == 2:\n",
    "                r2 = d\n",
    "\n",
    "        if s % 3 != 0:\n",
    "            return s\n",
    "        \n",
    "        return min(s + r1, s + r2)\n",
    "\n",
    "\n",
    "solutions[1] = '{} {}'.format(problem1('./data/27data/1/27-1a.txt'), problem1('./data/27data/1/27-1b.txt'))\n",
    "solutions[1]"
   ]
  },
  {
   "cell_type": "code",
   "execution_count": 6,
   "metadata": {},
   "outputs": [],
   "source": [
    "def problem1_polyakov(path):\n",
    "    with open(path) as f:\n",
    "        n = int(f.readline())\n",
    "        D = 3\n",
    "\n",
    "        s, dMin  = 0, 10001\n",
    "        for i in range(n):\n",
    "            a, b = map( int, f.readline().split() )\n",
    "            s += min( a, b )\n",
    "            d = abs( a-b )\n",
    "            if d % D > 0:\n",
    "                dMin = min( d, dMin )\n",
    "\n",
    "        if s % D != 0:\n",
    "            return s\n",
    "        else:\n",
    "            return s + dMin"
   ]
  },
  {
   "cell_type": "code",
   "execution_count": 7,
   "metadata": {},
   "outputs": [],
   "source": [
    "from random import randint\n",
    "\n",
    "def input_generator1(path):\n",
    "    with open(path, 'w+') as f:\n",
    "        n = 12\n",
    "        f.write(str(n) + '\\n')\n",
    "\n",
    "        for i in range(n):\n",
    "            f.write(str(randint(1, 30000)) + ' ' + str(randint(1, 30000)) + '\\n')"
   ]
  },
  {
   "cell_type": "code",
   "execution_count": 8,
   "metadata": {},
   "outputs": [
    {
     "name": "stdout",
     "output_type": "stream",
     "text": [
      "Testing in progress...\n"
     ]
    },
    {
     "name": "stderr",
     "output_type": "stream",
     "text": [
      "100%|██████████| 1000/1000 [00:09<00:00, 110.10it/s]"
     ]
    },
    {
     "name": "stdout",
     "output_type": "stream",
     "text": [
      "OK! All tests passed.\n"
     ]
    },
    {
     "name": "stderr",
     "output_type": "stream",
     "text": [
      "\n"
     ]
    }
   ],
   "source": [
    "run_tests(problem1_bruteforce, problem1, input_generator1)"
   ]
  },
  {
   "cell_type": "code",
   "execution_count": 9,
   "metadata": {},
   "outputs": [
    {
     "name": "stdout",
     "output_type": "stream",
     "text": [
      "Testing in progress...\n"
     ]
    },
    {
     "name": "stderr",
     "output_type": "stream",
     "text": [
      " 54%|█████▍    | 539/1000 [00:04<00:04, 113.17it/s]"
     ]
    },
    {
     "name": "stdout",
     "output_type": "stream",
     "text": [
      "Test 517 failed. Expected 128642, actual 127274\n"
     ]
    },
    {
     "name": "stderr",
     "output_type": "stream",
     "text": [
      "100%|██████████| 1000/1000 [00:08<00:00, 111.58it/s]\n"
     ]
    }
   ],
   "source": [
    "run_tests(problem1_bruteforce, problem1_polyakov, input_generator1)"
   ]
  },
  {
   "cell_type": "markdown",
   "metadata": {},
   "source": [
    "## Задача 2"
   ]
  },
  {
   "cell_type": "code",
   "execution_count": 10,
   "metadata": {},
   "outputs": [
    {
     "data": {
      "text/plain": [
       "'109737 401536407'"
      ]
     },
     "execution_count": 10,
     "metadata": {},
     "output_type": "execute_result"
    }
   ],
   "source": [
    "def problem2_bruteforce(path):\n",
    "    with open(path) as f:\n",
    "        n = int(f.readline())\n",
    "        a = list()\n",
    "        for _ in range(n):\n",
    "            pair = list(map(int, f.readline().split()))\n",
    "            a.append(pair)\n",
    "\n",
    "        result = None\n",
    "\n",
    "        for option in list(product([0, 1], repeat=n)):\n",
    "            s = 0\n",
    "            for i, x in enumerate(option):\n",
    "                s += a[i][x]\n",
    "\n",
    "            if s % 3 == 0 and (result == None or s > result):\n",
    "                result = s\n",
    "\n",
    "        return result\n",
    "\n",
    "def problem2(path):\n",
    "    with open(path) as f:\n",
    "        n = int(f.readline())\n",
    "\n",
    "        # Очевидно, наша цель - брать все время наибольшее число из пары.\n",
    "\n",
    "        r11 = 100001\n",
    "        r12 = 100001\n",
    "        r21 = 100001\n",
    "        r22 = 100001\n",
    "\n",
    "        s = 0 # ответ на задачу\n",
    "\n",
    "        for _ in range(n):\n",
    "            x, y = map(int, f.readline().split())\n",
    "            if x > y:\n",
    "                x, y = y, x\n",
    "\n",
    "            # теперь x - меньшее из чисел, y - большее\n",
    "\n",
    "            s += y\n",
    "\n",
    "            d = y - x\n",
    "            \n",
    "            if d % 3 == 1:\n",
    "                if d < r11:\n",
    "                    r12 = r11\n",
    "                    r11 = d\n",
    "                elif (d < r12):\n",
    "                    r12 = d\n",
    "            \n",
    "            elif d % 3 == 2:\n",
    "                if d < r21:\n",
    "                    r22 = r21\n",
    "                    r21 = d\n",
    "                elif d < r22:\n",
    "                    r22 = d\n",
    "\n",
    "        if s % 3 == 0:\n",
    "            return s\n",
    "        elif s % 3 == 1:\n",
    "            return max(s - r11, s - r21 - r22)\n",
    "        else:\n",
    "            return max(s - r21, s - r11 - r12)\n",
    "\n",
    "\n",
    "solutions[2] = '{} {}'.format(problem2('./data/27data/2/27-2a.txt'), problem2('./data/27data/2/27-2b.txt'))\n",
    "solutions[2]"
   ]
  },
  {
   "cell_type": "code",
   "execution_count": 11,
   "metadata": {},
   "outputs": [],
   "source": [
    "from random import randint\n",
    "\n",
    "def input_generator2(path):\n",
    "    with open(path, 'w+') as f:\n",
    "        n = 12\n",
    "        f.write(str(n) + '\\n')\n",
    "\n",
    "        for i in range(n):\n",
    "            f.write(str(randint(1, 30000)) + ' ' + str(randint(1, 30000)) + '\\n')"
   ]
  },
  {
   "cell_type": "code",
   "execution_count": 12,
   "metadata": {},
   "outputs": [
    {
     "name": "stdout",
     "output_type": "stream",
     "text": [
      "Testing in progress...\n"
     ]
    },
    {
     "name": "stderr",
     "output_type": "stream",
     "text": [
      "100%|██████████| 1000/1000 [00:09<00:00, 108.86it/s]"
     ]
    },
    {
     "name": "stdout",
     "output_type": "stream",
     "text": [
      "OK! All tests passed.\n"
     ]
    },
    {
     "name": "stderr",
     "output_type": "stream",
     "text": [
      "\n"
     ]
    }
   ],
   "source": [
    "run_tests(problem2_bruteforce, problem2, input_generator2)"
   ]
  },
  {
   "cell_type": "markdown",
   "metadata": {},
   "source": [
    "## Задача 4"
   ]
  },
  {
   "cell_type": "code",
   "execution_count": 13,
   "metadata": {},
   "outputs": [],
   "source": [
    "def problem4_incorrect(path):\n",
    "    with open(path) as f:\n",
    "        n = int(f.readline())\n",
    "\n",
    "        s = 0 # ответ на задачу\n",
    "        r = [10001] * 5 # r[i] - наименьшая разница между x и y по всем парам среди тех разниц, у которых остаток от деления на 5 равен i\n",
    "\n",
    "        for _ in range(n):\n",
    "            x, y = map(int, f.readline().split())\n",
    "            if x > y:\n",
    "                x, y = y, x\n",
    "\n",
    "            s += x\n",
    "            d = y - x\n",
    "            r[d % 5] = min(r[d % 5], d)\n",
    "\n",
    "        print(r)\n",
    "\n",
    "        if s % 5 == 0:\n",
    "            return s\n",
    "\n",
    "        return s - r[1]"
   ]
  },
  {
   "cell_type": "code",
   "execution_count": 14,
   "metadata": {},
   "outputs": [
    {
     "data": {
      "text/plain": [
       "'123720 402332230'"
      ]
     },
     "execution_count": 14,
     "metadata": {},
     "output_type": "execute_result"
    }
   ],
   "source": [
    "def problem4_bruteforce(path):\n",
    "    with open(path) as f:\n",
    "        n = int(f.readline())\n",
    "        a = list()\n",
    "        for _ in range(n):\n",
    "            pair = list(map(int, f.readline().split()))\n",
    "            a.append(pair)\n",
    "\n",
    "        result = None\n",
    "\n",
    "        for option in list(product([0, 1], repeat=n)):\n",
    "            s = 0\n",
    "            for i, x in enumerate(option):\n",
    "                s += a[i][x]\n",
    "\n",
    "            if s % 5 == 0 and (result == None or s > result):\n",
    "                result = s\n",
    "\n",
    "        return result\n",
    "\n",
    "def problem4(path):\n",
    "    with open(path) as f:\n",
    "        n = int(f.readline())\n",
    "\n",
    "        s = 0\n",
    "        m = [10 ** 20] * 5\n",
    "        for i in range(n):\n",
    "            x, y = map(int, f.readline().split())\n",
    "            a = abs(x-y)\n",
    "            s += max(x,y)\n",
    "\n",
    "            m[a % 5] = min(m[a % 5], a)\n",
    "\n",
    "        \n",
    "        if s % 5 == 1:\n",
    "            s -= m[1]\n",
    "        if s % 5 == 2:\n",
    "            s -= m[2]\n",
    "        if s % 5 == 3:\n",
    "            s -= min(m[1]+m[2],m[3])\n",
    "        if s % 5 == 4:\n",
    "            s -= min(m[1]+m[3],m[4])\n",
    "\n",
    "        return s\n",
    "\n",
    "solutions[4] = '{} {}'.format(problem4('./data/27data/4/27-4a.txt'), problem4('./data/27data/4/27-4b.txt'))\n",
    "solutions[4]"
   ]
  },
  {
   "cell_type": "code",
   "execution_count": 15,
   "metadata": {},
   "outputs": [],
   "source": [
    "from random import randint\n",
    "\n",
    "def input_generator4(path):\n",
    "    with open(path, 'w+') as f:\n",
    "        n = 12\n",
    "        f.write(str(n) + '\\n')\n",
    "\n",
    "        for i in range(n):\n",
    "            f.write(str(randint(1, 100000)) + ' ' + str(randint(1, 100000)) + '\\n')"
   ]
  },
  {
   "cell_type": "code",
   "execution_count": 16,
   "metadata": {},
   "outputs": [
    {
     "name": "stdout",
     "output_type": "stream",
     "text": [
      "Testing in progress...\n"
     ]
    },
    {
     "name": "stderr",
     "output_type": "stream",
     "text": [
      "  1%|          | 10/1000 [00:00<00:10, 95.70it/s]"
     ]
    },
    {
     "name": "stdout",
     "output_type": "stream",
     "text": [
      "Test 3 failed. Expected 886680, actual 856975\n",
      "Test 5 failed. Expected 717855, actual 710570\n",
      "Test 8 failed. Expected 709325, actual 703585\n",
      "Test 14 failed. Expected 777670, actual 768895\n",
      "Test 18 failed. Expected 912620, actual 905290\n",
      "Test 20 failed. Expected 812450, actual 793180\n"
     ]
    },
    {
     "name": "stderr",
     "output_type": "stream",
     "text": [
      "  2%|▏         | 21/1000 [00:00<00:09, 101.04it/s]"
     ]
    },
    {
     "name": "stdout",
     "output_type": "stream",
     "text": [
      "Test 22 failed. Expected 680395, actual -99999999999999280624\n"
     ]
    },
    {
     "name": "stderr",
     "output_type": "stream",
     "text": [
      "  3%|▎         | 33/1000 [00:00<00:09, 100.15it/s]"
     ]
    },
    {
     "name": "stdout",
     "output_type": "stream",
     "text": [
      "Test 32 failed. Expected 905310, actual 887275\n",
      "Test 33 failed. Expected 724675, actual 706810\n",
      "Test 34 failed. Expected 615290, actual 612980\n",
      "Testing is stopped after 10 failed tests.\n"
     ]
    },
    {
     "name": "stderr",
     "output_type": "stream",
     "text": [
      "\n"
     ]
    }
   ],
   "source": [
    "run_tests(problem4_bruteforce, problem4, input_generator4)"
   ]
  },
  {
   "cell_type": "markdown",
   "metadata": {},
   "source": [
    "## Задача 5"
   ]
  },
  {
   "cell_type": "code",
   "execution_count": 17,
   "metadata": {},
   "outputs": [],
   "source": [
    "def problem5_bruteforce(path):\n",
    "    with open(path) as f:\n",
    "        n = int(f.readline())\n",
    "        a = list()\n",
    "        for _ in range(n):\n",
    "            pair = list(map(int, f.readline().split()))\n",
    "            a.append(pair)\n",
    "\n",
    "        result = None\n",
    "\n",
    "        for option in list(product([0, 1], repeat=n)):\n",
    "            s = 0\n",
    "            for i, x in enumerate(option):\n",
    "                s += a[i][x]\n",
    "\n",
    "            if s % 5 == 0 and (result == None or s < result):\n",
    "                result = s\n",
    "\n",
    "        return result\n",
    "\n",
    "\n",
    "def problem5(path):\n",
    "    with open(path) as f:\n",
    "        n = int(f.readline())\n",
    "        s = 0\n",
    "\n",
    "        infty = 10 ** 20\n",
    "        m = [infty] * 5\n",
    "\n",
    "        for i in range(n):\n",
    "            x, y = map(int, f.readline().split())\n",
    "            a = abs(x - y)\n",
    "            s += min(x, y)\n",
    "            m[a % 5] = min(m[a % 5], a)\n",
    "\n",
    "        if s % 5 == 1:\n",
    "            s += min(m[1] + m[3], m[4])\n",
    "        if s % 5 == 2:\n",
    "            s += min(m[1] + m[2], m[3])\n",
    "        if s % 5 == 3:\n",
    "            s += m[2]\n",
    "        if s % 5 == 4:\n",
    "            s += m[1]\n",
    "\n",
    "        return s\n",
    "\n",
    "\n",
    "def problem5_polyakov(path):\n",
    "    with open(path) as f:\n",
    "        n = int(f.readline())\n",
    "        s = 0\n",
    "\n",
    "        D = 5\n",
    "        s, dMin = 0, [10 ** 20] * D\n",
    "        for i in range(n):\n",
    "            a, b = map(int, f.readline().split())\n",
    "            s += min(a, b)\n",
    "            d = abs(a-b)\n",
    "            r = d % D\n",
    "            if r > 0:\n",
    "                dMinNew = dMin[:]\n",
    "                for k in range(1, D):\n",
    "                    r0 = (r + k) % D\n",
    "                    dMinNew[r0] = min(d+dMin[k], dMinNew[r0])\n",
    "                dMinNew[r] = min(d, dMinNew[r])\n",
    "                dMin = dMinNew[:]\n",
    "\n",
    "        if s % D == 0:\n",
    "            return s\n",
    "        else:\n",
    "            return s + dMin[D - s % D]\n"
   ]
  },
  {
   "cell_type": "code",
   "execution_count": 18,
   "metadata": {},
   "outputs": [
    {
     "data": {
      "text/plain": [
       "75960"
      ]
     },
     "execution_count": 18,
     "metadata": {},
     "output_type": "execute_result"
    }
   ],
   "source": [
    "problem5_bruteforce('./data/27data/5/27-5a.txt')"
   ]
  },
  {
   "cell_type": "code",
   "execution_count": 19,
   "metadata": {},
   "outputs": [
    {
     "data": {
      "text/plain": [
       "'75960 203343860'"
      ]
     },
     "execution_count": 19,
     "metadata": {},
     "output_type": "execute_result"
    }
   ],
   "source": [
    "solutions[5] = '{} {}'.format(problem5('./data/27data/5/27-5a.txt'), problem5('./data/27data/5/27-5b.txt'))\n",
    "solutions[5]"
   ]
  },
  {
   "cell_type": "code",
   "execution_count": 20,
   "metadata": {},
   "outputs": [],
   "source": [
    "from random import randint\n",
    "\n",
    "def input_generator5(path):\n",
    "    with open(path, 'w+') as f:\n",
    "        n = 12\n",
    "        f.write(str(n) + '\\n')\n",
    "\n",
    "        for i in range(n):\n",
    "            f.write(str(randint(1, 30000)) + ' ' + str(randint(1, 30000)) + '\\n')"
   ]
  },
  {
   "cell_type": "code",
   "execution_count": 21,
   "metadata": {},
   "outputs": [
    {
     "name": "stdout",
     "output_type": "stream",
     "text": [
      "Testing in progress...\n"
     ]
    },
    {
     "name": "stderr",
     "output_type": "stream",
     "text": [
      "  1%|          | 11/1000 [00:00<00:09, 106.80it/s]"
     ]
    },
    {
     "name": "stdout",
     "output_type": "stream",
     "text": [
      "Test 3 failed. Expected 117435, actual 125880\n",
      "Test 11 failed. Expected 113345, actual 114945\n",
      "Test 20 failed. Expected 152625, actual 157210\n"
     ]
    },
    {
     "name": "stderr",
     "output_type": "stream",
     "text": [
      "  2%|▏         | 22/1000 [00:00<00:09, 107.41it/s]"
     ]
    },
    {
     "name": "stdout",
     "output_type": "stream",
     "text": [
      "Test 24 failed. Expected 114510, actual 115550\n"
     ]
    },
    {
     "name": "stderr",
     "output_type": "stream",
     "text": [
      "  4%|▍         | 44/1000 [00:00<00:08, 106.96it/s]"
     ]
    },
    {
     "name": "stdout",
     "output_type": "stream",
     "text": [
      "Test 26 failed. Expected 118435, actual 121730\n",
      "Test 31 failed. Expected 159100, actual 159545\n",
      "Test 32 failed. Expected 139010, actual 100000000000000135094\n",
      "Test 42 failed. Expected 104465, actual 124515\n",
      "Test 43 failed. Expected 108300, actual 108810\n"
     ]
    },
    {
     "name": "stderr",
     "output_type": "stream",
     "text": [
      "  5%|▍         | 48/1000 [00:00<00:09, 104.69it/s]"
     ]
    },
    {
     "name": "stdout",
     "output_type": "stream",
     "text": [
      "Test 49 failed. Expected 136200, actual 136930\n",
      "Testing is stopped after 10 failed tests.\n"
     ]
    },
    {
     "name": "stderr",
     "output_type": "stream",
     "text": [
      "\n"
     ]
    }
   ],
   "source": [
    "run_tests(problem5_bruteforce, problem5, input_generator5)"
   ]
  },
  {
   "cell_type": "code",
   "execution_count": 22,
   "metadata": {},
   "outputs": [
    {
     "name": "stdout",
     "output_type": "stream",
     "text": [
      "Testing in progress...\n"
     ]
    },
    {
     "name": "stderr",
     "output_type": "stream",
     "text": [
      "100%|██████████| 1000/1000 [00:09<00:00, 106.86it/s]"
     ]
    },
    {
     "name": "stdout",
     "output_type": "stream",
     "text": [
      "OK! All tests passed.\n"
     ]
    },
    {
     "name": "stderr",
     "output_type": "stream",
     "text": [
      "\n"
     ]
    }
   ],
   "source": [
    "run_tests(problem5_bruteforce, problem5_polyakov, input_generator5)"
   ]
  },
  {
   "cell_type": "markdown",
   "metadata": {},
   "source": [
    "## Задача 6"
   ]
  },
  {
   "cell_type": "markdown",
   "metadata": {},
   "source": [
    "Имеется набор данных, состоящий из положительных целых чисел, каждое из которых не превышает 1000. Требуется найти для этой последовательности контрольное значение – наибольшее число $R$, удовлетворяющее следующим условиям:\n",
    "\n",
    "* $R$ – произведение двух различных переданных элементов последовательности («различные» означает, что не рассматриваются квадраты переданных чисел, произведения различных, но равных по величине элементов допускаются);\n",
    "* $R$ делится на 6.\n",
    "\n",
    "**Входные данные**: Даны два входных файла: файл A (`27-1a.txt`) и файл B (`27-1b.txt`), каждый из которых содержит в первой строке количество чисел $N (1 ≤ N ≤ 100000)$. Каждая из следующих N строк содержит два натуральных числа, не превышающих по модулю 10000.\n",
    "\n",
    "**Пример входного файла:**\n",
    "\n",
    "```\n",
    "6\n",
    "60\n",
    "17\n",
    "3\n",
    "7\n",
    "9\n",
    "60\n",
    "```\n",
    "\n",
    "Для указанных входных данных искомое контрольное значение равно 3600.\n",
    "\n",
    "В ответе укажите два числа: сначала искомое значение для файла А, затем для файла B."
   ]
  },
  {
   "cell_type": "code",
   "execution_count": 23,
   "metadata": {},
   "outputs": [],
   "source": [
    "def problem6_bruteforce(path: str):\n",
    "    with open(path) as f:\n",
    "        n = int(f.readline())\n",
    "        a = list()\n",
    "        for i in range(n):\n",
    "            a.append(int(f.readline()))\n",
    "        \n",
    "        result = 0\n",
    "        for i in range(n):\n",
    "            for j in range(i+1, n):\n",
    "                x = a[i] * a[j]\n",
    "                if x % 6 == 0 and x > result:\n",
    "                    result = x\n",
    "\n",
    "        return result"
   ]
  },
  {
   "cell_type": "code",
   "execution_count": 24,
   "metadata": {},
   "outputs": [],
   "source": [
    "def problem6(path: str):\n",
    "    with open(path) as f:\n",
    "        n = int(f.readline())\n",
    "\n",
    "        m = 0\n",
    "        m2 = 0\n",
    "        m3 = 0\n",
    "        m61 = 0\n",
    "        m62 = 0\n",
    "\n",
    "        for i in range(n):\n",
    "            x = int(f.readline())\n",
    "            if x % 6 == 0:\n",
    "                if x > m61:\n",
    "                    m62 = m61\n",
    "                    m61 = x\n",
    "                elif x > m62:\n",
    "                    m62 = x\n",
    "            elif x % 3 == 0:\n",
    "                m3 = max(m3, x)\n",
    "            elif x % 2 == 0:\n",
    "                m2 = max(m2, x)\n",
    "            else:\n",
    "                m = max(m, x)\n",
    "\n",
    "        return max(m2 * m3, max(m2, m3, m) * m61, m61 * m62)"
   ]
  },
  {
   "cell_type": "code",
   "execution_count": 25,
   "metadata": {},
   "outputs": [],
   "source": [
    "def problem6_polyakov(path: str):\n",
    "    with open(path) as f:\n",
    "        n = int(f.readline())\n",
    "        max6 = 0\n",
    "        maxX = 0\n",
    "        max2 = 0\n",
    "        max3 = 0\n",
    "        for i in range(n):\n",
    "            x = int(f.readline())\n",
    "            if x % 6 == 0 and x > max6:\n",
    "                if max6 > maxX: maxX = max6\n",
    "                max6 = x\n",
    "            else:\n",
    "                if x > maxX: maxX = x\n",
    "                if x % 2 == 0 and x > max2: max2 = x\n",
    "                elif x % 3 == 0 and x > max3: max3 = x\n",
    "\n",
    "        R = max( max6*maxX, max2*max3 )\n",
    "\n",
    "        return R"
   ]
  },
  {
   "cell_type": "code",
   "execution_count": 26,
   "metadata": {},
   "outputs": [
    {
     "data": {
      "text/plain": [
       "'782040 997002'"
      ]
     },
     "execution_count": 26,
     "metadata": {},
     "output_type": "execute_result"
    }
   ],
   "source": [
    "solutions[6] = '{} {}'.format(problem6_bruteforce('./data/27data/6/27-6a.txt'), problem6('./data/27data/6/27-6b.txt'))\n",
    "solutions[6]"
   ]
  },
  {
   "cell_type": "markdown",
   "metadata": {},
   "source": [
    "### Генерация тестов"
   ]
  },
  {
   "cell_type": "code",
   "execution_count": 27,
   "metadata": {},
   "outputs": [],
   "source": [
    "from random import randint\n",
    "\n",
    "def input_generator6(path):\n",
    "    with open(path, 'w+') as f:\n",
    "        n = 100\n",
    "        f.write(str(n) + '\\n')\n",
    "\n",
    "        for i in range(n):\n",
    "            f.write(str(randint(1, 30000)) + '\\n')"
   ]
  },
  {
   "cell_type": "code",
   "execution_count": 28,
   "metadata": {},
   "outputs": [
    {
     "name": "stdout",
     "output_type": "stream",
     "text": [
      "Testing in progress...\n"
     ]
    },
    {
     "name": "stderr",
     "output_type": "stream",
     "text": [
      "100%|██████████| 1000/1000 [00:05<00:00, 191.46it/s]"
     ]
    },
    {
     "name": "stdout",
     "output_type": "stream",
     "text": [
      "OK! All tests passed.\n"
     ]
    },
    {
     "name": "stderr",
     "output_type": "stream",
     "text": [
      "\n"
     ]
    }
   ],
   "source": [
    "run_tests(problem6_bruteforce, problem6, input_generator6)"
   ]
  },
  {
   "cell_type": "code",
   "execution_count": 29,
   "metadata": {},
   "outputs": [
    {
     "name": "stdout",
     "output_type": "stream",
     "text": [
      "Testing in progress...\n"
     ]
    },
    {
     "name": "stderr",
     "output_type": "stream",
     "text": [
      "100%|██████████| 1000/1000 [00:05<00:00, 186.98it/s]"
     ]
    },
    {
     "name": "stdout",
     "output_type": "stream",
     "text": [
      "OK! All tests passed.\n"
     ]
    },
    {
     "name": "stderr",
     "output_type": "stream",
     "text": [
      "\n"
     ]
    }
   ],
   "source": [
    "run_tests(problem6_bruteforce, problem6_polyakov, input_generator6)"
   ]
  },
  {
   "cell_type": "markdown",
   "metadata": {},
   "source": [
    "## Задача 7"
   ]
  },
  {
   "cell_type": "code",
   "execution_count": 30,
   "metadata": {},
   "outputs": [],
   "source": [
    "def problem7_bruteforce(path: str):\n",
    "    with open(path) as f:\n",
    "        n = int(f.readline())\n",
    "        a = list()\n",
    "\n",
    "        for i in range(n):\n",
    "            a.append(int(f.readline()))\n",
    "        \n",
    "        result = 0\n",
    "        for i in range(n):\n",
    "            for j in range(i+1, n):\n",
    "                x = a[i] * a[j]\n",
    "                if x % 7 == 0 and x % 49 != 0 and x > result:\n",
    "                    result = x\n",
    "\n",
    "        return result"
   ]
  },
  {
   "cell_type": "code",
   "execution_count": 31,
   "metadata": {},
   "outputs": [],
   "source": [
    "def problem7(path: str):\n",
    "    with open(path) as f:\n",
    "        n = int(f.readline())\n",
    "        m7 = 0\n",
    "        m = 0\n",
    "\n",
    "        for i in range(n):\n",
    "            x = int(f.readline())\n",
    "            if x % 7 == 0 and x % 49 != 0 and x > m7:\n",
    "                m7 = x\n",
    "            elif x % 7 != 0 and x > m:\n",
    "                m = x\n",
    "\n",
    "        return m7 * m"
   ]
  },
  {
   "cell_type": "code",
   "execution_count": 32,
   "metadata": {},
   "outputs": [
    {
     "data": {
      "text/plain": [
       "'692286 952567'"
      ]
     },
     "execution_count": 32,
     "metadata": {},
     "output_type": "execute_result"
    }
   ],
   "source": [
    "solutions[7] = '{} {}'.format(problem7_bruteforce('./data/27data/7/27-7a.txt'), problem7('./data/27data/7/27-7b.txt'))\n",
    "solutions[7]"
   ]
  },
  {
   "cell_type": "code",
   "execution_count": 33,
   "metadata": {},
   "outputs": [],
   "source": [
    "from random import randint\n",
    "\n",
    "def input_generator7(path):\n",
    "    with open(path, 'w+') as f:\n",
    "        n = 100\n",
    "        f.write(str(n) + '\\n')\n",
    "\n",
    "        for i in range(n):\n",
    "            f.write(str(randint(1, 100000)) + '\\n')"
   ]
  },
  {
   "cell_type": "code",
   "execution_count": 34,
   "metadata": {},
   "outputs": [
    {
     "name": "stdout",
     "output_type": "stream",
     "text": [
      "Testing in progress...\n"
     ]
    },
    {
     "name": "stderr",
     "output_type": "stream",
     "text": [
      "100%|██████████| 1000/1000 [00:05<00:00, 199.94it/s]"
     ]
    },
    {
     "name": "stdout",
     "output_type": "stream",
     "text": [
      "OK! All tests passed.\n"
     ]
    },
    {
     "name": "stderr",
     "output_type": "stream",
     "text": [
      "\n"
     ]
    }
   ],
   "source": [
    "run_tests(problem7_bruteforce, problem7, input_generator7)"
   ]
  },
  {
   "cell_type": "markdown",
   "metadata": {},
   "source": [
    "## Задача 8"
   ]
  },
  {
   "cell_type": "markdown",
   "metadata": {},
   "source": [
    "Имеется набор данных, состоящий из положительных целых чисел, каждое из которых не превышает 1000. Они представляют собой результаты измерений, выполняемых прибором с интервалом 1 минута. Требуется найти для этой последовательности контрольное значение – наименьшую сумму квадратов двух результатов измерений, выполненных с интервалом не менее, чем в 5 минут."
   ]
  },
  {
   "cell_type": "code",
   "execution_count": 35,
   "metadata": {},
   "outputs": [
    {
     "data": {
      "text/plain": [
       "'11009 200'"
      ]
     },
     "execution_count": 35,
     "metadata": {},
     "output_type": "execute_result"
    }
   ],
   "source": [
    "def problem8_bruteforce(path: str):\n",
    "    with open(path) as f:\n",
    "        n = int(f.readline())\n",
    "        a = list()\n",
    "\n",
    "        for i in range(n):\n",
    "            a.append(int(f.readline()))\n",
    "        \n",
    "        result = 10 ** 20\n",
    "        for i in range(n):\n",
    "            for j in range(i+5, n):\n",
    "                x = (a[i] ** 2) + (a[j] ** 2)\n",
    "                if x < result:\n",
    "                    result = x\n",
    "\n",
    "        return result\n",
    "\n",
    "def problem8(path: str):\n",
    "    with open(path) as f:\n",
    "        n = int(f.readline())\n",
    "        window = [0] * 5\n",
    "        answer = 10 ** 20\n",
    "        m = None\n",
    "\n",
    "        for i in range(n):\n",
    "            if i >= 5 and (m == None or window[i % 5] < m):\n",
    "                m = window[i % 5]\n",
    "            x = int(f.readline())\n",
    "            window[i % 5] = x\n",
    "\n",
    "            if m != None:\n",
    "                answer = min(answer, m ** 2 + window[i % 5] ** 2)\n",
    "\n",
    "        return answer\n",
    "\n",
    "solutions[8] = '{} {}'.format(problem8('./data/27data/8/27-8a.txt'), problem8('./data/27data/8/27-8b.txt'))\n",
    "solutions[8]"
   ]
  },
  {
   "cell_type": "code",
   "execution_count": 36,
   "metadata": {},
   "outputs": [
    {
     "data": {
      "text/plain": [
       "'3809 200'"
      ]
     },
     "execution_count": 36,
     "metadata": {},
     "output_type": "execute_result"
    }
   ],
   "source": [
    "def problem8(path: str):\n",
    "    with open(path) as f:\n",
    "        n = int(f.readline())\n",
    "        # window = [0] * 5\n",
    "        answer = 10 ** 20\n",
    "        m = 10 ** 20\n",
    "\n",
    "        for i in range(n):\n",
    "            x = int(f.readline())\n",
    "\n",
    "            if i >= 5:\n",
    "                answer = min(answer, m ** 2 + x ** 2)\n",
    "\n",
    "            m = min(m, x)\n",
    "\n",
    "        return answer\n",
    "\n",
    "solutions[8] = '{} {}'.format(problem8('./data/27data/8/27-8a.txt'), problem8('./data/27data/8/27-8b.txt'))\n",
    "solutions[8]"
   ]
  },
  {
   "cell_type": "markdown",
   "metadata": {},
   "source": [
    "0, 1, 2, 3, 4\n",
    "\n",
    "1, 2, 3, 4, 5\n",
    "\n",
    "2, 3, 4, 5, 6\n",
    "\n",
    "3, 4, 5, 6, 7\n",
    "\n",
    "5, 6, 7, 8, 4"
   ]
  },
  {
   "cell_type": "code",
   "execution_count": 37,
   "metadata": {},
   "outputs": [
    {
     "data": {
      "text/plain": [
       "'11009 200'"
      ]
     },
     "execution_count": 37,
     "metadata": {},
     "output_type": "execute_result"
    }
   ],
   "source": [
    "answers[8]"
   ]
  },
  {
   "cell_type": "code",
   "execution_count": 38,
   "metadata": {},
   "outputs": [
    {
     "data": {
      "text/plain": [
       "11009"
      ]
     },
     "execution_count": 38,
     "metadata": {},
     "output_type": "execute_result"
    }
   ],
   "source": [
    "problem8_bruteforce('./data/27data/8/27-8a.txt')"
   ]
  },
  {
   "cell_type": "code",
   "execution_count": 39,
   "metadata": {},
   "outputs": [
    {
     "data": {
      "text/plain": [
       "3809"
      ]
     },
     "execution_count": 39,
     "metadata": {},
     "output_type": "execute_result"
    }
   ],
   "source": [
    "problem8('./data/27data/8/27-8a.txt')"
   ]
  },
  {
   "cell_type": "code",
   "execution_count": 40,
   "metadata": {},
   "outputs": [],
   "source": [
    "from random import randint\n",
    "\n",
    "def input_generator8(path):\n",
    "    with open(path, 'w+') as f:\n",
    "        n = 100\n",
    "        f.write(str(n) + '\\n')\n",
    "\n",
    "        for i in range(n):\n",
    "            f.write(str(randint(1, 100000)) + '\\n')"
   ]
  },
  {
   "cell_type": "code",
   "execution_count": 41,
   "metadata": {},
   "outputs": [
    {
     "name": "stdout",
     "output_type": "stream",
     "text": [
      "Testing in progress...\n"
     ]
    },
    {
     "name": "stderr",
     "output_type": "stream",
     "text": [
      "  2%|▏         | 16/1000 [00:00<00:06, 152.38it/s]"
     ]
    },
    {
     "name": "stdout",
     "output_type": "stream",
     "text": [
      "Test 22 failed. Expected 21474434, actual 7303409\n",
      "Test 29 failed. Expected 13079560, actual 10528132\n"
     ]
    },
    {
     "name": "stderr",
     "output_type": "stream",
     "text": [
      "  5%|▍         | 48/1000 [00:00<00:06, 153.16it/s]"
     ]
    },
    {
     "name": "stdout",
     "output_type": "stream",
     "text": [
      "Test 30 failed. Expected 366049, actual 331369\n",
      "Test 39 failed. Expected 13541098, actual 11150505\n",
      "Test 51 failed. Expected 34190900, actual 17872180\n",
      "Test 56 failed. Expected 2962714, actual 1915178\n"
     ]
    },
    {
     "name": "stderr",
     "output_type": "stream",
     "text": [
      "  7%|▋         | 72/1000 [00:00<00:06, 146.94it/s]"
     ]
    },
    {
     "name": "stdout",
     "output_type": "stream",
     "text": [
      "Test 62 failed. Expected 1543505, actual 1090949\n",
      "Test 63 failed. Expected 62215444, actual 49357773\n",
      "Test 70 failed. Expected 1216034, actual 985538\n",
      "Test 73 failed. Expected 14861825, actual 3590129\n",
      "Testing is stopped after 10 failed tests.\n"
     ]
    },
    {
     "name": "stderr",
     "output_type": "stream",
     "text": [
      "\n"
     ]
    }
   ],
   "source": [
    "run_tests(problem8_bruteforce, problem8, input_generator8)"
   ]
  },
  {
   "cell_type": "markdown",
   "metadata": {},
   "source": [
    "## Задача 9"
   ]
  },
  {
   "cell_type": "code",
   "execution_count": 42,
   "metadata": {},
   "outputs": [],
   "source": [
    "def problem9_bruteforce(path: str):\n",
    "    with open(path) as f:\n",
    "        n = int(f.readline())\n",
    "        a = list()\n",
    "\n",
    "        for i in range(n):\n",
    "            a.append(int(f.readline()))\n",
    "        \n",
    "        result = None\n",
    "        for i in range(n-6):\n",
    "            for j in range(i+6, n):\n",
    "                x = a[i] * a[j]\n",
    "                if x % 2 == 1 and (result == None or x < result):\n",
    "                    result = x\n",
    "\n",
    "        if result == None:\n",
    "            return -1\n",
    "        \n",
    "        return result"
   ]
  },
  {
   "cell_type": "code",
   "execution_count": 43,
   "metadata": {},
   "outputs": [
    {
     "data": {
      "text/plain": [
       "2465"
      ]
     },
     "execution_count": 43,
     "metadata": {},
     "output_type": "execute_result"
    }
   ],
   "source": [
    "problem9_bruteforce('./data/27data/9/27-9a.txt')"
   ]
  },
  {
   "cell_type": "markdown",
   "metadata": {},
   "source": [
    "## Задача 12"
   ]
  },
  {
   "cell_type": "code",
   "execution_count": 44,
   "metadata": {},
   "outputs": [
    {
     "data": {
      "text/plain": [
       "'47 745460178'"
      ]
     },
     "execution_count": 44,
     "metadata": {},
     "output_type": "execute_result"
    }
   ],
   "source": [
    "def problem12_bruteforce(path: str):\n",
    "    with open(path) as f:\n",
    "        n = int(f.readline())\n",
    "        a = list()\n",
    "\n",
    "        for i in range(n):\n",
    "            a.append(int(f.readline()))\n",
    "\n",
    "        answer = 0\n",
    "        for i in range(n):\n",
    "            for j in range(i+1, n):\n",
    "                if (a[i] * a[j]) % 6 == 0:\n",
    "                    answer += 1\n",
    "\n",
    "        return answer\n",
    "\n",
    "def problem12(path: str):\n",
    "    with open(path) as f:\n",
    "        n = int(f.readline())\n",
    "\n",
    "        answer = 0\n",
    "        k6 = 0 # количество кратных 6\n",
    "        k3 = 0 # количество не кратных 6, кратных 3\n",
    "        k2 = 0 # количество не кратных 6, кратных 2\n",
    "\n",
    "        for i in range(n):\n",
    "            x = int(f.readline())\n",
    "            if x % 6 == 0:\n",
    "                k6 += 1\n",
    "            elif x % 3 == 0:\n",
    "                k3 += 1\n",
    "            elif x % 2 == 0:\n",
    "                k2 += 1\n",
    "        \n",
    "        answer = k2 * k3 + k6 * (n - k6) + (k6 * (k6-1) // 2)\n",
    "        return answer\n",
    "\n",
    "solutions[12] = '{} {}'.format(problem12_bruteforce('./data/27data/12/27-12a.txt'), problem12('./data/27data/12/27-12b.txt'))\n",
    "solutions[12]"
   ]
  },
  {
   "cell_type": "markdown",
   "metadata": {},
   "source": [
    "## Задача 13"
   ]
  },
  {
   "cell_type": "code",
   "execution_count": 45,
   "metadata": {},
   "outputs": [
    {
     "data": {
      "text/plain": [
       "'30 360137507'"
      ]
     },
     "execution_count": 45,
     "metadata": {},
     "output_type": "execute_result"
    }
   ],
   "source": [
    "def problem13_bruteforce(path: str):\n",
    "    with open(path) as f:\n",
    "        n = int(f.readline())\n",
    "        a = list()\n",
    "\n",
    "        for i in range(n):\n",
    "            a.append(int(f.readline()))\n",
    "        \n",
    "        answer = 0\n",
    "        for i in range(n):\n",
    "            for j in range(i+7, n):\n",
    "                if (a[i] * a[j]) % 14 == 0:\n",
    "                    answer += 1\n",
    "\n",
    "        return answer\n",
    "\n",
    "def problem13(path: str):\n",
    "    with open(path) as f:\n",
    "        n = int(f.readline())\n",
    "        buf = [int(f.readline()) for i in range(7)]\n",
    "        answer = 0\n",
    "        c14 = 0 # количество чисел, кратных 14, с индексами от 0 до i-7\n",
    "        c2 = 0 # количество чисел, кратных 2, с индексами от 0 до i-7\n",
    "        c7 = 0 # количество чисел, кратных 7, с индексами от 0 до i-7\n",
    "        c = 0 # количество чисел, не кратных 2 и 7, с индексами от 0 до i-7\n",
    "\n",
    "        for i in range(7, n):\n",
    "            x = int(f.readline())\n",
    "            if buf[i % 7] % 14 == 0:\n",
    "                c14 += 1\n",
    "            elif buf[i % 7] % 2 == 0:\n",
    "                c2 += 1\n",
    "            elif buf[i % 7] % 7 == 0:\n",
    "                c7 += 1\n",
    "            else:\n",
    "                c += 1\n",
    "\n",
    "            buf[i % 7] = x\n",
    "\n",
    "            if x % 14 == 0:\n",
    "                answer += c14 + c7 + c2 + c\n",
    "            elif x % 2 == 0:\n",
    "                answer += c14 + c7\n",
    "            elif x % 7 == 0:\n",
    "                answer += c14 + c2\n",
    "            else:\n",
    "                answer += c14\n",
    "        \n",
    "        return answer\n",
    "\n",
    "solutions[13] = '{} {}'.format(problem13_bruteforce('./data/27data/13/27-13a.txt'), problem13('./data/27data/13/27-13b.txt'))\n",
    "solutions[13]"
   ]
  },
  {
   "cell_type": "code",
   "execution_count": 46,
   "metadata": {},
   "outputs": [
    {
     "data": {
      "text/plain": [
       "'30 360137507'"
      ]
     },
     "execution_count": 46,
     "metadata": {},
     "output_type": "execute_result"
    }
   ],
   "source": [
    "answers[13]"
   ]
  },
  {
   "cell_type": "code",
   "execution_count": 47,
   "metadata": {},
   "outputs": [],
   "source": [
    "from random import randint\n",
    "\n",
    "def input_generator13(path):\n",
    "    with open(path, 'w+') as f:\n",
    "        n = 100\n",
    "        f.write(str(n) + '\\n')\n",
    "\n",
    "        for i in range(n):\n",
    "            f.write(str(randint(1, 100000)) + '\\n')"
   ]
  },
  {
   "cell_type": "code",
   "execution_count": 48,
   "metadata": {},
   "outputs": [
    {
     "name": "stdout",
     "output_type": "stream",
     "text": [
      "Testing in progress...\n"
     ]
    },
    {
     "name": "stderr",
     "output_type": "stream",
     "text": [
      "100%|██████████| 1000/1000 [00:04<00:00, 202.96it/s]"
     ]
    },
    {
     "name": "stdout",
     "output_type": "stream",
     "text": [
      "OK! All tests passed.\n"
     ]
    },
    {
     "name": "stderr",
     "output_type": "stream",
     "text": [
      "\n"
     ]
    }
   ],
   "source": [
    "run_tests(problem13_bruteforce, problem13, input_generator13)"
   ]
  },
  {
   "cell_type": "code",
   "execution_count": 49,
   "metadata": {},
   "outputs": [
    {
     "data": {
      "text/plain": [
       "'30 360137507'"
      ]
     },
     "execution_count": 49,
     "metadata": {},
     "output_type": "execute_result"
    }
   ],
   "source": [
    "answers[13]"
   ]
  },
  {
   "cell_type": "markdown",
   "metadata": {},
   "source": [
    "## Задача 14"
   ]
  },
  {
   "cell_type": "code",
   "execution_count": 50,
   "metadata": {},
   "outputs": [
    {
     "data": {
      "text/plain": [
       "'17 150016535'"
      ]
     },
     "execution_count": 50,
     "metadata": {},
     "output_type": "execute_result"
    }
   ],
   "source": [
    "def problem14_bruteforce(path: str):\n",
    "    with open(path) as f:\n",
    "        n = int(f.readline())\n",
    "        a = list()\n",
    "\n",
    "        for i in range(n):\n",
    "            a.append(int(f.readline()))\n",
    "\n",
    "        answer = 0\n",
    "        for i in range(n):\n",
    "            for j in range(i+1, n):\n",
    "                if (a[i] + a[j]) % 12 == 0:\n",
    "                    answer += 1\n",
    "\n",
    "        return answer\n",
    "\n",
    "def problem14(path: str):\n",
    "    with open(path) as f:\n",
    "        n = int(f.readline())\n",
    "\n",
    "        answer = 0\n",
    "        r = [0] * 12\n",
    "        for i in range(n):\n",
    "            x = int(f.readline())\n",
    "            r[x % 12] += 1\n",
    "\n",
    "        answer += r[0] * (r[0] - 1) // 2\n",
    "        answer += r[6] * (r[6] - 1) // 2\n",
    "\n",
    "        for i in range(1, 6):\n",
    "            answer += r[i] * r[12-i]\n",
    "        return answer\n",
    "\n",
    "solutions[14] = '{} {}'.format(problem14_bruteforce('./data/27data/14/27-14a.txt'), problem14('./data/27data/14/27-14b.txt'))\n",
    "solutions[14]"
   ]
  },
  {
   "cell_type": "code",
   "execution_count": 51,
   "metadata": {},
   "outputs": [
    {
     "data": {
      "text/plain": [
       "'17 150016535'"
      ]
     },
     "execution_count": 51,
     "metadata": {},
     "output_type": "execute_result"
    }
   ],
   "source": [
    "answers[14]"
   ]
  },
  {
   "cell_type": "code",
   "execution_count": 52,
   "metadata": {},
   "outputs": [
    {
     "data": {
      "text/plain": [
       "17"
      ]
     },
     "execution_count": 52,
     "metadata": {},
     "output_type": "execute_result"
    }
   ],
   "source": [
    "problem14_bruteforce('./data/27data/14/27-14a.txt')"
   ]
  },
  {
   "cell_type": "code",
   "execution_count": 53,
   "metadata": {},
   "outputs": [
    {
     "data": {
      "text/plain": [
       "17"
      ]
     },
     "execution_count": 53,
     "metadata": {},
     "output_type": "execute_result"
    }
   ],
   "source": [
    "problem14('./data/27data/14/27-14a.txt')"
   ]
  },
  {
   "cell_type": "code",
   "execution_count": 54,
   "metadata": {},
   "outputs": [],
   "source": [
    "from random import randint\n",
    "\n",
    "def input_generator14(path):\n",
    "    with open(path, 'w+') as f:\n",
    "        n = 100\n",
    "        f.write(str(n) + '\\n')\n",
    "\n",
    "        for i in range(n):\n",
    "            f.write(str(randint(1, 1000)) + '\\n')"
   ]
  },
  {
   "cell_type": "code",
   "execution_count": 55,
   "metadata": {},
   "outputs": [
    {
     "name": "stdout",
     "output_type": "stream",
     "text": [
      "Testing in progress...\n"
     ]
    },
    {
     "name": "stderr",
     "output_type": "stream",
     "text": [
      "100%|██████████| 1000/1000 [00:04<00:00, 218.48it/s]"
     ]
    },
    {
     "name": "stdout",
     "output_type": "stream",
     "text": [
      "OK! All tests passed.\n"
     ]
    },
    {
     "name": "stderr",
     "output_type": "stream",
     "text": [
      "\n"
     ]
    }
   ],
   "source": [
    "run_tests(problem14_bruteforce, problem14, input_generator14)"
   ]
  },
  {
   "cell_type": "markdown",
   "metadata": {},
   "source": [
    "## Задача 15"
   ]
  },
  {
   "cell_type": "code",
   "execution_count": 56,
   "metadata": {},
   "outputs": [],
   "source": [
    "def problem15_bruteforce(path: str):\n",
    "    with open(path) as f:\n",
    "        n = int(f.readline())\n",
    "        a = list()\n",
    "\n",
    "        for i in range(n):\n",
    "            a.append(int(f.readline()))\n",
    "        \n",
    "        answer = 0\n",
    "        for i in range(n):\n",
    "            for j in range(i+5, n):\n",
    "                s = a[i] + a[j]\n",
    "                if s % 14 == 0:\n",
    "                    answer += 1\n",
    "\n",
    "        return answer\n",
    "\n",
    "def problem15(path: str):\n",
    "    with open(path) as f:\n",
    "        n = int(f.readline())\n",
    "        answer = 0\n",
    "\n",
    "        window = [0] * 5\n",
    "\n",
    "        for i in range(n):\n",
    "            x = int(f.readline())\n",
    "\n",
    "        return answer"
   ]
  },
  {
   "cell_type": "code",
   "execution_count": 57,
   "metadata": {},
   "outputs": [
    {
     "data": {
      "text/plain": [
       "8"
      ]
     },
     "execution_count": 57,
     "metadata": {},
     "output_type": "execute_result"
    }
   ],
   "source": [
    "problem15_bruteforce('./data/27data/15/27-15a.txt')"
   ]
  },
  {
   "cell_type": "code",
   "execution_count": 58,
   "metadata": {},
   "outputs": [],
   "source": [
    "# run_tests(problem15_bruteforce, problem15, input_generator15)"
   ]
  },
  {
   "cell_type": "markdown",
   "metadata": {},
   "source": [
    "## Задача 18"
   ]
  },
  {
   "cell_type": "code",
   "execution_count": 59,
   "metadata": {},
   "outputs": [],
   "source": [
    "def problem18_bruteforce(path: str):\n",
    "    with open(path) as f:\n",
    "        n = int(f.readline())\n",
    "        a = list()\n",
    "\n",
    "        for i in range(n):\n",
    "            a.append(int(f.readline()))\n",
    "\n",
    "        answer = 0\n",
    "        for i in range(n):\n",
    "            for j in range(i+1, min(i+5, n)):\n",
    "                if (a[i] * a[j]) % 13 == 0 and (a[i] + a[j]) % 2 == 1:\n",
    "                    answer += 1\n",
    "\n",
    "        return answer"
   ]
  },
  {
   "cell_type": "code",
   "execution_count": 60,
   "metadata": {},
   "outputs": [
    {
     "data": {
      "text/plain": [
       "'11 17813'"
      ]
     },
     "execution_count": 60,
     "metadata": {},
     "output_type": "execute_result"
    }
   ],
   "source": [
    "answers[18]"
   ]
  },
  {
   "cell_type": "code",
   "execution_count": 61,
   "metadata": {},
   "outputs": [],
   "source": [
    "def problem18(path: str):\n",
    "    with open(path) as f:\n",
    "        n = int(f.readline())\n",
    "\n",
    "        return 0"
   ]
  },
  {
   "cell_type": "code",
   "execution_count": 62,
   "metadata": {},
   "outputs": [
    {
     "data": {
      "text/plain": [
       "'11 17813'"
      ]
     },
     "execution_count": 62,
     "metadata": {},
     "output_type": "execute_result"
    }
   ],
   "source": [
    "solutions[18] = '{} {}'.format(problem18_bruteforce('./data/27data/18/27-18a.txt'), problem18_bruteforce('./data/27data/18/27-18b.txt'))\n",
    "solutions[18]"
   ]
  },
  {
   "cell_type": "markdown",
   "metadata": {},
   "source": [
    "## №19"
   ]
  },
  {
   "cell_type": "markdown",
   "metadata": {},
   "source": [
    "Имеется набор данных, состоящий из целых чисел. Необходимо определить максимальное произведение подпоследовательности, состоящей из одного или более идущих подряд элементов.\n",
    "\n",
    "\n",
    "**Входные данные**: Даны два входных файла: файл A (`27-19a.txt`) и файл B (`27-19b.txt`), каждый из которых содержит в первой строке количество чисел N (1 ≤ N ≤ 100000). Каждая из следующих N строк содержит целое число, не превышающее по модулю 100.\n",
    "\n",
    "**Пример входного файла:**\n",
    "\n",
    "```\n",
    "7\n",
    "2\n",
    "3\n",
    "-2\n",
    "-3\n",
    "-1\n",
    "4\n",
    "6\n",
    "```\n",
    "\n",
    "Для указанных входных данных наибольшее произведение равно 72. Его можно получить для последовательности -3 -1 4 6. \n",
    "\n",
    "\n",
    "В ответе укажите два числа: сначала искомое значение для файла А, затем для файла B.\n",
    "\n"
   ]
  },
  {
   "cell_type": "code",
   "execution_count": 63,
   "metadata": {},
   "outputs": [],
   "source": [
    "def problem19_bruteforce(path):\n",
    "    with open(path) as f:\n",
    "        n = int(f.readline())\n",
    "        a = list()\n",
    "        for i in range(n):\n",
    "            a.append(int(f.readline()))\n",
    "\n",
    "        result = float('-inf')\n",
    "        for length in range(n):\n",
    "            for l in range(n-length):\n",
    "                p = 1\n",
    "                for x in a[l:l+length]:\n",
    "                    p *= x\n",
    "\n",
    "                if p > result:\n",
    "                    result = p\n",
    "\n",
    "        return result"
   ]
  },
  {
   "cell_type": "code",
   "execution_count": 64,
   "metadata": {},
   "outputs": [
    {
     "data": {
      "text/plain": [
       "'663497670 999398400'"
      ]
     },
     "execution_count": 64,
     "metadata": {},
     "output_type": "execute_result"
    }
   ],
   "source": [
    "def problem19(path):\n",
    "    with open(path) as f:\n",
    "        ans = 1\n",
    "        p = 1\n",
    "\n",
    "        n = int(f.readline())\n",
    "        for i in range(n):\n",
    "            x = int(f.readline())\n",
    "            if x > 0:\n",
    "                if p > 0:\n",
    "                    p *= x\n",
    "                else:\n",
    "                    if p > ans:\n",
    "                        ans = p\n",
    "                    p = 1\n",
    "            else:\n",
    "                if p < 0:\n",
    "                    p *= x\n",
    "                else:\n",
    "                    if p > ans:\n",
    "                        ans = p\n",
    "                    p = 1\n",
    "        \n",
    "        return ans\n",
    "\n",
    "solutions[19] = '{} {}'.format(problem19_bruteforce('./data/27data/19/27-19a.txt'), problem19('./data/27data/19/27-19b.txt'))\n",
    "solutions[19]"
   ]
  },
  {
   "cell_type": "code",
   "execution_count": 65,
   "metadata": {},
   "outputs": [
    {
     "data": {
      "text/plain": [
       "'663497670 97618752000'"
      ]
     },
     "execution_count": 65,
     "metadata": {},
     "output_type": "execute_result"
    }
   ],
   "source": [
    "def problem19_polyakov(path):\n",
    "    with open(path) as f:\n",
    "        n = int(f.readline())\n",
    "\n",
    "        x = int(f.readline())  # первое число\n",
    "        dp_min = dp_max = answer = x\n",
    "\n",
    "        for _ in range(n-1):\n",
    "            x = int(f.readline())\n",
    "            t = min(dp_min, dp_max, x)\n",
    "            dp_max = max(dp_min*x, dp_max*x, x)\n",
    "            dp_min = t\n",
    "            answer = max(answer, dp_max)\n",
    "\n",
    "        return answer\n",
    "\n",
    "solutions[19] = '{} {}'.format(problem19_bruteforce('./data/27data/19/27-19a.txt'), problem19_polyakov('./data/27data/19/27-19b.txt'))\n",
    "solutions[19]"
   ]
  },
  {
   "cell_type": "code",
   "execution_count": 66,
   "metadata": {},
   "outputs": [],
   "source": [
    "from random import randint\n",
    "\n",
    "def input_generator19(path):\n",
    "    with open(path, 'w+') as f:\n",
    "        n = 50\n",
    "        f.write(str(n) + '\\n')\n",
    "\n",
    "        for i in range(n):\n",
    "            f.write(str(randint(-100, 100)) + '\\n')"
   ]
  },
  {
   "cell_type": "code",
   "execution_count": 67,
   "metadata": {},
   "outputs": [
    {
     "name": "stdout",
     "output_type": "stream",
     "text": [
      "Testing in progress...\n"
     ]
    },
    {
     "name": "stderr",
     "output_type": "stream",
     "text": [
      "  1%|          | 9/1000 [00:00<00:06, 152.56it/s]"
     ]
    },
    {
     "name": "stdout",
     "output_type": "stream",
     "text": [
      "Test 1 failed. Expected 215473683799361521868049896081919360385187209347443802702348288000000000000, actual 95351256\n",
      "Test 2 failed. Expected 40229477544742467444216881431748971815302001793208432655332526604324700160000000, actual 204120\n",
      "Test 3 failed. Expected 92713380581601892361734446993699810728103445572111313664983438668595200000000000, actual 307108454400000\n",
      "Test 4 failed. Expected 1596209203283015522800640734396704000000, actual 13911590\n",
      "Test 5 failed. Expected 685740214786637345951792267261741090792106731182521735401648947200000000000000, actual 14346300\n",
      "Test 6 failed. Expected 6780865248247767093718507648590831625639136065115135581320176405053440000000000, actual 26643890\n",
      "Test 7 failed. Expected 85652731759425283144239048504130331481288033618245891078945243136000000000000, actual 251358030\n",
      "Test 8 failed. Expected 1028666270504928305761531738224492167626752000000000000, actual 1293576240\n",
      "Test 9 failed. Expected 1200170269160647702820704200177112915827546188896154032375112663040000000000000, actual 25857000\n",
      "Test 10 failed. Expected 6914038714374084212722373472127053372934001042520094814455726080000000000, actual 4133858652\n",
      "Testing is stopped after 10 failed tests.\n"
     ]
    },
    {
     "name": "stderr",
     "output_type": "stream",
     "text": [
      "\n"
     ]
    }
   ],
   "source": [
    "run_tests(problem19_bruteforce, problem19, input_generator19)"
   ]
  },
  {
   "cell_type": "markdown",
   "metadata": {},
   "source": [
    "## Задача 28"
   ]
  },
  {
   "cell_type": "markdown",
   "metadata": {},
   "source": [
    "Имеется набор данных, состоящий из пар положительных целых чисел. Необходимо выбрать из каждой пары ровно одно число так, чтобы восьмеричная запись суммы всех выбранных чисел НЕ оканчивалась на 2 и при этом была минимально возможной. Гарантируется, что искомую сумму получить можно. Программа должна напечатать одно число – минимально возможную сумму, соответствующую условиям задачи."
   ]
  },
  {
   "cell_type": "code",
   "execution_count": 68,
   "metadata": {},
   "outputs": [],
   "source": [
    "from itertools import combinations, product\n",
    "\n",
    "def problem28_bruteforce(path):\n",
    "    with open(path) as f:\n",
    "        n = int(f.readline())\n",
    "        a = list()\n",
    "        for _ in range(n):\n",
    "            pair = list(map(int, f.readline().split()))\n",
    "            a.append(pair)\n",
    "\n",
    "        result = None\n",
    "\n",
    "        # option - кортеж вида (i, x), где i - номер пары, x - 0 или 1, индекс элемента пары, который выбран в сумму\n",
    "        for option in list(product([0, 1], repeat=n)):\n",
    "            s = 0\n",
    "            for i, x in enumerate(option):\n",
    "                s += a[i][x]\n",
    "\n",
    "            if (s % 8) != 2 and (result == None or s < result):\n",
    "                result = s\n",
    "\n",
    "        return result\n",
    "\n",
    "def problem28(path):\n",
    "    with open(path) as f:\n",
    "        n = int(f.readline())\n",
    "        s = 0\n",
    "        infty = 10 ** 20\n",
    "        m = infty\n",
    "\n",
    "        for _ in range(n):\n",
    "            x, y = map(int, f.readline().split())\n",
    "            if x > y:\n",
    "                x, y = y, x\n",
    "            \n",
    "            s += x\n",
    "            d = y - x\n",
    "            \n",
    "            if d % 8 != 0:\n",
    "                m = min(m, d)\n",
    "\n",
    "        if (s % 8) != 2:\n",
    "            return s\n",
    "    \n",
    "        return s + m"
   ]
  },
  {
   "cell_type": "code",
   "execution_count": 69,
   "metadata": {},
   "outputs": [
    {
     "data": {
      "text/plain": [
       "6756"
      ]
     },
     "execution_count": 69,
     "metadata": {},
     "output_type": "execute_result"
    }
   ],
   "source": [
    "problem28_bruteforce('./data/27data/28/27-28a.txt')"
   ]
  },
  {
   "cell_type": "code",
   "execution_count": 70,
   "metadata": {},
   "outputs": [],
   "source": [
    "from random import randint\n",
    "\n",
    "def input_generator28(path):\n",
    "    with open(path, 'w+') as f:\n",
    "        n = 10\n",
    "        f.write(str(n) + '\\n')\n",
    "\n",
    "        for i in range(n):\n",
    "            f.write(str(randint(1, 100000)) + ' ' + str(randint(1, 100000)) + '\\n')"
   ]
  },
  {
   "cell_type": "code",
   "execution_count": 71,
   "metadata": {},
   "outputs": [
    {
     "name": "stdout",
     "output_type": "stream",
     "text": [
      "Testing in progress...\n"
     ]
    },
    {
     "name": "stderr",
     "output_type": "stream",
     "text": [
      "100%|██████████| 1000/1000 [00:05<00:00, 197.94it/s]"
     ]
    },
    {
     "name": "stdout",
     "output_type": "stream",
     "text": [
      "OK! All tests passed.\n"
     ]
    },
    {
     "name": "stderr",
     "output_type": "stream",
     "text": [
      "\n"
     ]
    }
   ],
   "source": [
    "run_tests(problem28_bruteforce, problem28, input_generator28)"
   ]
  },
  {
   "cell_type": "code",
   "execution_count": 72,
   "metadata": {},
   "outputs": [
    {
     "data": {
      "text/plain": [
       "'6756 19751921'"
      ]
     },
     "execution_count": 72,
     "metadata": {},
     "output_type": "execute_result"
    }
   ],
   "source": [
    "solutions[28] = '{} {}'.format(problem28('./data/27data/28/27-28a.txt'), problem28('./data/27data/28/27-28b.txt'))\n",
    "solutions[28]"
   ]
  },
  {
   "cell_type": "markdown",
   "metadata": {},
   "source": [
    "## 32"
   ]
  },
  {
   "cell_type": "code",
   "execution_count": 73,
   "metadata": {},
   "outputs": [],
   "source": [
    "from itertools import combinations, product\n",
    "\n",
    "def problem32_bruteforce(path):\n",
    "    with open(path) as f:\n",
    "        n = int(f.readline())\n",
    "        a = list()\n",
    "        for _ in range(n):\n",
    "            triplet = list(map(int, f.readline().split()))\n",
    "            a.append(triplet)\n",
    "\n",
    "        result = None\n",
    "        \n",
    "        for option in list(product([0, 1, 2], repeat=n)):\n",
    "            s = 0\n",
    "            for i, x in enumerate(option):\n",
    "                s += a[i][x]\n",
    "\n",
    "            if s % 11 == 0 and (result == None or s < result):\n",
    "                result = s\n",
    "\n",
    "        return result\n",
    "\n",
    "def problem32(path):\n",
    "    with open(path) as f:\n",
    "        n = int(f.readline())\n",
    "        s = 0\n",
    "\n",
    "        m = [10 ** 20] * 11\n",
    "\n",
    "        for _ in range(n):\n",
    "            triplet = list(map(int, f.readline().split()))\n",
    "            triplet.sort()\n",
    "\n",
    "            s += triplet[0]\n",
    "            m_new = m.copy()\n",
    "\n",
    "            for i in [1, 2]:\n",
    "                d = triplet[i] - triplet[0]\n",
    "                r = d % 11\n",
    "                if r > 0:\n",
    "                    for k in range(1, 11):\n",
    "                        r0 = (r + k) % 11\n",
    "                        m_new[r0] = min(m[k] + d, m_new[r0])\n",
    "                    m_new[r] = min(m_new[r], d)\n",
    "            m = m_new.copy()\n",
    "\n",
    "        if s % 11 == 0:\n",
    "            return s\n",
    "\n",
    "        return s + m[11 - s % 11]"
   ]
  },
  {
   "cell_type": "code",
   "execution_count": 74,
   "metadata": {},
   "outputs": [
    {
     "data": {
      "text/plain": [
       "'5896 14078757'"
      ]
     },
     "execution_count": 74,
     "metadata": {},
     "output_type": "execute_result"
    }
   ],
   "source": [
    "solutions[32] = '{} {}'.format(problem32('./data/27data/32/27-32a.txt'), problem32('./data/27data/32/27-32b.txt'))\n",
    "solutions[32]"
   ]
  },
  {
   "cell_type": "code",
   "execution_count": 75,
   "metadata": {},
   "outputs": [],
   "source": [
    "from random import randint\n",
    "\n",
    "def input_generator32(path):\n",
    "    with open(path, 'w+') as f:\n",
    "        n = 10\n",
    "        f.write(str(n) + '\\n')\n",
    "\n",
    "        for i in range(n):\n",
    "            f.write(str(randint(1, 100000)) + ' ' + str(randint(1, 100000)) + ' ' + str(randint(1, 100000)) + '\\n')"
   ]
  },
  {
   "cell_type": "code",
   "execution_count": 76,
   "metadata": {},
   "outputs": [
    {
     "name": "stdout",
     "output_type": "stream",
     "text": [
      "Testing in progress...\n"
     ]
    },
    {
     "name": "stderr",
     "output_type": "stream",
     "text": [
      "100%|██████████| 1000/1000 [01:03<00:00, 15.68it/s]"
     ]
    },
    {
     "name": "stdout",
     "output_type": "stream",
     "text": [
      "OK! All tests passed.\n"
     ]
    },
    {
     "name": "stderr",
     "output_type": "stream",
     "text": [
      "\n"
     ]
    }
   ],
   "source": [
    "run_tests(problem32_bruteforce, problem32, input_generator32)"
   ]
  },
  {
   "cell_type": "code",
   "execution_count": 77,
   "metadata": {},
   "outputs": [
    {
     "data": {
      "text/plain": [
       "'5896 14078757'"
      ]
     },
     "execution_count": 77,
     "metadata": {},
     "output_type": "execute_result"
    }
   ],
   "source": [
    "answers[32]"
   ]
  },
  {
   "cell_type": "markdown",
   "metadata": {},
   "source": [
    "## 34"
   ]
  },
  {
   "cell_type": "code",
   "execution_count": 78,
   "metadata": {},
   "outputs": [],
   "source": [
    "from itertools import combinations, product\n",
    "\n",
    "def problem34_bruteforce(path):\n",
    "    with open(path) as f:\n",
    "        n = int(f.readline())\n",
    "        a = list()\n",
    "        for _ in range(n):\n",
    "            triplet = list(map(int, f.readline().split()))\n",
    "            a.append(triplet)\n",
    "\n",
    "        result = None\n",
    "        \n",
    "        index_combinations = list(combinations(range(3), 2))\n",
    "        for option in list(product(index_combinations, repeat=n)):\n",
    "            s = 0\n",
    "            for i, pair in enumerate(option):\n",
    "                s += a[i][pair[0]] + a[i][pair[1]]\n",
    "\n",
    "            if s % 6 == 0 and (result == None or s > result):\n",
    "                result = s\n",
    "\n",
    "        return result\n",
    "\n",
    "def problem34(path):\n",
    "    with open(path) as f:\n",
    "        n = int(f.readline())\n",
    "        s = 0\n",
    "\n",
    "        m = 10 ** 20\n",
    "\n",
    "        for _ in range(n):\n",
    "            a = list(map(int, f.readline().split()))\n",
    "            a.sort()\n",
    "\n",
    "            s += a[0] + a[1]\n",
    "\n",
    "            r = a[2] - a[1]\n",
    "\n",
    "            if r < m:\n",
    "                if r % 6 == 0:\n",
    "                    m = r\n",
    "                elif a[2] - a[0] and (a[2] - a[0]) % 6 == 0:\n",
    "                    m = a[2] - a[0]\n",
    "\n",
    "        if s % 6 == 0:\n",
    "            return s\n",
    "\n",
    "        return s - r"
   ]
  },
  {
   "cell_type": "code",
   "execution_count": 79,
   "metadata": {},
   "outputs": [],
   "source": [
    "from random import randint\n",
    "\n",
    "def input_generator34(path):\n",
    "    with open(path, 'w+') as f:\n",
    "        n = 10\n",
    "        f.write(str(n) + '\\n')\n",
    "\n",
    "        for i in range(n):\n",
    "            f.write(str(randint(1, 100000)) + ' ' + str(randint(1, 100000)) + ' ' + str(randint(1, 100000)) + '\\n')"
   ]
  },
  {
   "cell_type": "code",
   "execution_count": 141,
   "metadata": {},
   "outputs": [
    {
     "name": "stdout",
     "output_type": "stream",
     "text": [
      "Testing in progress...\n"
     ]
    },
    {
     "name": "stderr",
     "output_type": "stream",
     "text": [
      "  0%|          | 1/1000 [00:00<01:49,  9.09it/s]"
     ]
    },
    {
     "name": "stdout",
     "output_type": "stream",
     "text": [
      "Test 1 failed. Expected 1157178, actual 705804\n"
     ]
    },
    {
     "name": "stderr",
     "output_type": "stream",
     "text": [
      "  0%|          | 3/1000 [00:00<01:47,  9.29it/s]"
     ]
    },
    {
     "name": "stdout",
     "output_type": "stream",
     "text": [
      "Test 2 failed. Expected 1271952, actual 745542\n",
      "Test 3 failed. Expected 1304742, actual 644648\n"
     ]
    },
    {
     "name": "stderr",
     "output_type": "stream",
     "text": [
      "  0%|          | 5/1000 [00:00<01:47,  9.26it/s]"
     ]
    },
    {
     "name": "stdout",
     "output_type": "stream",
     "text": [
      "Test 4 failed. Expected 1170702, actual 692624\n",
      "Test 5 failed. Expected 1216434, actual 636656\n"
     ]
    },
    {
     "name": "stderr",
     "output_type": "stream",
     "text": [
      "  1%|          | 7/1000 [00:00<01:46,  9.35it/s]"
     ]
    },
    {
     "name": "stdout",
     "output_type": "stream",
     "text": [
      "Test 6 failed. Expected 1258944, actual 726462\n",
      "Test 7 failed. Expected 1123812, actual 686655\n"
     ]
    },
    {
     "name": "stderr",
     "output_type": "stream",
     "text": [
      "  1%|          | 9/1000 [00:00<01:46,  9.27it/s]"
     ]
    },
    {
     "name": "stdout",
     "output_type": "stream",
     "text": [
      "Test 8 failed. Expected 1107348, actual 588264\n",
      "Test 9 failed. Expected 1286160, actual 828747\n"
     ]
    },
    {
     "name": "stderr",
     "output_type": "stream",
     "text": [
      "  1%|          | 9/1000 [00:01<01:58,  8.36it/s]"
     ]
    },
    {
     "name": "stdout",
     "output_type": "stream",
     "text": [
      "Test 10 failed. Expected 1225302, actual 854580\n",
      "Testing is stopped after 10 failed tests.\n"
     ]
    },
    {
     "name": "stderr",
     "output_type": "stream",
     "text": [
      "\n"
     ]
    }
   ],
   "source": [
    "run_tests(problem34_bruteforce, problem34, input_generator34)"
   ]
  },
  {
   "cell_type": "code",
   "execution_count": 81,
   "metadata": {},
   "outputs": [
    {
     "data": {
      "text/plain": [
       "'9572 30227092'"
      ]
     },
     "execution_count": 81,
     "metadata": {},
     "output_type": "execute_result"
    }
   ],
   "source": [
    "solutions[34] = '{} {}'.format(problem34('./data/27data/34/27-34a.txt'), problem34('./data/27data/34/27-34b.txt'))\n",
    "solutions[34]"
   ]
  },
  {
   "cell_type": "code",
   "execution_count": 82,
   "metadata": {},
   "outputs": [
    {
     "data": {
      "text/plain": [
       "'9750 30227250'"
      ]
     },
     "execution_count": 82,
     "metadata": {},
     "output_type": "execute_result"
    }
   ],
   "source": [
    "answers[34]"
   ]
  },
  {
   "cell_type": "markdown",
   "metadata": {},
   "source": [
    "## Задача 35"
   ]
  },
  {
   "cell_type": "code",
   "execution_count": 135,
   "metadata": {},
   "outputs": [
    {
     "data": {
      "text/plain": [
       "'51 24019058'"
      ]
     },
     "execution_count": 135,
     "metadata": {},
     "output_type": "execute_result"
    }
   ],
   "source": [
    "def problem35_bruteforce(path):\n",
    "    with open(path) as f:\n",
    "        n = int(f.readline())\n",
    "        a = list()\n",
    "        for i in range(n):\n",
    "            a.append(int(f.readline()))\n",
    "        \n",
    "        answer = 0\n",
    "        for l in range(n):\n",
    "            for r in range(l+1, n):\n",
    "                if a[l] > 0 and a[r] > 0 and (a[l] + a[r]) % 2 == 0 and 0 in a[l:r]:\n",
    "                    answer += 1\n",
    "\n",
    "        return answer\n",
    "\n",
    "def problem35(path):\n",
    "    with open(path) as f:\n",
    "        n = int(f.readline())\n",
    "        z = -1 # позиция ближайшего слева нуля к i-му элементу\n",
    "        c1 = 0 # количество положительных нечетных элементов до текущего z-го\n",
    "        c2 = 0 # количество положительных четных элементов до текущего z-го\n",
    "\n",
    "        r1 = 0\n",
    "        r2 = 0\n",
    "        answer = 0\n",
    "\n",
    "        for i in range(n):\n",
    "            x = int(f.readline())\n",
    "            if x == 0:\n",
    "                z = i\n",
    "                c1 += r1\n",
    "                c2 += r2\n",
    "                r1 = 0\n",
    "                r2 = 0\n",
    "            elif x > 0:\n",
    "                if x % 2 == 0:\n",
    "                    answer += c2\n",
    "                    r2 += 1\n",
    "                else:\n",
    "                    answer += c1\n",
    "                    r1 += 1\n",
    "\n",
    "\n",
    "        return answer\n",
    "\n",
    "\n",
    "solutions[35] = '{} {}'.format(problem35_bruteforce('./data/27data/35/27-35a.txt'), problem35('./data/27data/35/27-35b.txt'))\n",
    "solutions[35]"
   ]
  },
  {
   "cell_type": "code",
   "execution_count": 136,
   "metadata": {},
   "outputs": [
    {
     "data": {
      "text/plain": [
       "'51 24019058'"
      ]
     },
     "execution_count": 136,
     "metadata": {},
     "output_type": "execute_result"
    }
   ],
   "source": [
    "answers[35]"
   ]
  },
  {
   "cell_type": "code",
   "execution_count": 139,
   "metadata": {},
   "outputs": [],
   "source": [
    "from random import randint\n",
    "\n",
    "def input_generator35(path):\n",
    "    with open(path, 'w+') as f:\n",
    "        n = 10\n",
    "        f.write(str(n) + '\\n')\n",
    "\n",
    "        for i in range(n):\n",
    "            f.write(str(randint(0, 100000)) + '\\n')"
   ]
  },
  {
   "cell_type": "code",
   "execution_count": 140,
   "metadata": {},
   "outputs": [
    {
     "name": "stdout",
     "output_type": "stream",
     "text": [
      "Testing in progress...\n"
     ]
    },
    {
     "name": "stderr",
     "output_type": "stream",
     "text": [
      "100%|██████████| 1000/1000 [00:04<00:00, 244.87it/s]"
     ]
    },
    {
     "name": "stdout",
     "output_type": "stream",
     "text": [
      "OK! All tests passed.\n"
     ]
    },
    {
     "name": "stderr",
     "output_type": "stream",
     "text": [
      "\n"
     ]
    }
   ],
   "source": [
    "run_tests(problem35_bruteforce, problem35, input_generator35)"
   ]
  },
  {
   "cell_type": "markdown",
   "metadata": {},
   "source": [
    "## Задача 74"
   ]
  },
  {
   "cell_type": "code",
   "execution_count": 83,
   "metadata": {},
   "outputs": [
    {
     "data": {
      "text/plain": [
       "'21 51023'"
      ]
     },
     "execution_count": 83,
     "metadata": {},
     "output_type": "execute_result"
    }
   ],
   "source": [
    "def problem74_bruteforce(path):\n",
    "    with open(path) as f:\n",
    "        n = int(f.readline())\n",
    "        a = list()\n",
    "        for i in range(n):\n",
    "            a.append(int(f.readline()))\n",
    "        \n",
    "        answer = 0\n",
    "        for l in range(n):\n",
    "            for r in range(l+1, min(l+21, n)):\n",
    "                if sum(a[l:r]) % 39 == 0:\n",
    "                    answer += 1\n",
    "        \n",
    "        return answer\n",
    "\n",
    "def problem74(path):\n",
    "    with open(path) as f:\n",
    "        n = int(f.readline())\n",
    "        answer = 0\n",
    "\n",
    "        s = [int(f.readline())] # последние 20 префикс сумм\n",
    "        for i in range(1, 20):\n",
    "            s.append(s[i-1] + int(f.readline()))\n",
    "\n",
    "        for k in range(19):\n",
    "            if s[-1] % 39 == s[k] % 39:\n",
    "                answer += 1\n",
    "\n",
    "        for i in range(n-20):\n",
    "            for k in range(19):\n",
    "                if s[-1] % 39 == s[k] % 39:\n",
    "                    answer += 1\n",
    "            x = int(f.readline())\n",
    "            s.pop(0)\n",
    "            s.append(s[-1] + x)\n",
    "        \n",
    "        return answer\n",
    "\n",
    "solutions[74] = '{} {}'.format(problem74_bruteforce('./data/27data/74/27-74a.txt'), problem74_bruteforce('./data/27data/74/27-74b.txt'))\n",
    "solutions[74]"
   ]
  },
  {
   "cell_type": "code",
   "execution_count": 84,
   "metadata": {},
   "outputs": [
    {
     "data": {
      "text/plain": [
       "'21 51023'"
      ]
     },
     "execution_count": 84,
     "metadata": {},
     "output_type": "execute_result"
    }
   ],
   "source": [
    "answers[74]"
   ]
  },
  {
   "cell_type": "code",
   "execution_count": 85,
   "metadata": {},
   "outputs": [
    {
     "data": {
      "text/plain": [
       "51023"
      ]
     },
     "execution_count": 85,
     "metadata": {},
     "output_type": "execute_result"
    }
   ],
   "source": [
    "problem74_bruteforce('./data/27data/74/27-74b.txt')"
   ]
  },
  {
   "cell_type": "code",
   "execution_count": 86,
   "metadata": {},
   "outputs": [],
   "source": [
    "from random import randint\n",
    "\n",
    "def input_generator74(path):\n",
    "    with open(path, 'w+') as f:\n",
    "        n = 100\n",
    "        f.write(str(n) + '\\n')\n",
    "\n",
    "        for i in range(n):\n",
    "            f.write(str(randint(1, 100000)) + '\\n')"
   ]
  },
  {
   "cell_type": "code",
   "execution_count": 87,
   "metadata": {},
   "outputs": [
    {
     "name": "stdout",
     "output_type": "stream",
     "text": [
      "Testing in progress...\n"
     ]
    },
    {
     "name": "stderr",
     "output_type": "stream",
     "text": [
      "  1%|          | 9/1000 [00:00<00:06, 153.86it/s]"
     ]
    },
    {
     "name": "stdout",
     "output_type": "stream",
     "text": [
      "Test 1 failed. Expected 36, actual 28\n",
      "Test 2 failed. Expected 38, actual 30\n",
      "Test 3 failed. Expected 50, actual 46\n",
      "Test 4 failed. Expected 52, actual 46\n",
      "Test 5 failed. Expected 38, actual 30\n",
      "Test 6 failed. Expected 61, actual 50\n",
      "Test 7 failed. Expected 48, actual 39\n",
      "Test 8 failed. Expected 41, actual 38\n",
      "Test 9 failed. Expected 57, actual 53\n",
      "Test 10 failed. Expected 51, actual 43\n",
      "Testing is stopped after 10 failed tests.\n"
     ]
    },
    {
     "name": "stderr",
     "output_type": "stream",
     "text": [
      "\n"
     ]
    }
   ],
   "source": [
    "run_tests(problem74_bruteforce, problem74, input_generator74)"
   ]
  },
  {
   "cell_type": "code",
   "execution_count": 88,
   "metadata": {},
   "outputs": [
    {
     "data": {
      "text/plain": [
       "21"
      ]
     },
     "execution_count": 88,
     "metadata": {},
     "output_type": "execute_result"
    }
   ],
   "source": [
    "problem74_bruteforce('./data/27data/74/27-74a.txt')"
   ]
  },
  {
   "cell_type": "markdown",
   "metadata": {},
   "source": [
    "## Задача 76"
   ]
  },
  {
   "cell_type": "code",
   "execution_count": 89,
   "metadata": {},
   "outputs": [],
   "source": [
    "def problem76_bruteforce(path):\n",
    "    with open(path) as f:\n",
    "        n = int(f.readline())\n",
    "        a = list()\n",
    "\n",
    "        for i in range(n):\n",
    "            a.append(int(f.readline()))\n",
    "\n",
    "        answer = 0\n",
    "        for i in range(n):\n",
    "            for j in range(i+2, n):\n",
    "                if (a[i] + a[j]) % 3 == 0 and (sum(a[i+1:j]) % 2 == 0):\n",
    "                    answer += 1\n",
    "\n",
    "        return answer\n",
    "\n",
    "def problem76(path):\n",
    "    with open(path) as f:\n",
    "        n = int(f.readline())\n",
    "        c0 = [0] * 3 # c[j] - количество четных до i-1 итерации, дающих при делении на 3 остаток j\n",
    "        c1 = [0] * 3 # c[j] - количество нечетных до i-1 итерации, дающих при делении на 3 остаток j\n",
    "\n",
    "        x_prev = int(f.readline())\n",
    "        answer = 0\n",
    "        s = 0\n",
    "\n",
    "        for i in range(1, n):\n",
    "            x = int(f.readline())\n",
    "            s += x_prev\n",
    "            r = x % 3\n",
    "\n",
    "            if s % 2 == 0:\n",
    "                answer += c0[(3-r) % 3]\n",
    "            else:\n",
    "                answer += c1[(3-r) % 3]\n",
    "\n",
    "            if s % 2 == 0:\n",
    "                c0[x_prev % 3] += 1\n",
    "            else:\n",
    "                c1[x_prev % 3] += 1\n",
    "\n",
    "            x_prev = x\n",
    "\n",
    "        return answer"
   ]
  },
  {
   "cell_type": "code",
   "execution_count": 90,
   "metadata": {},
   "outputs": [
    {
     "data": {
      "text/plain": [
       "'27 833306999'"
      ]
     },
     "execution_count": 90,
     "metadata": {},
     "output_type": "execute_result"
    }
   ],
   "source": [
    "solutions[76] = '{} {}'.format(problem76_bruteforce('./data/27data/76/27-76a.txt'), problem76('./data/27data/76/27-76b.txt'))\n",
    "solutions[76]"
   ]
  },
  {
   "cell_type": "code",
   "execution_count": 91,
   "metadata": {},
   "outputs": [
    {
     "data": {
      "text/plain": [
       "'27 833306999'"
      ]
     },
     "execution_count": 91,
     "metadata": {},
     "output_type": "execute_result"
    }
   ],
   "source": [
    "answers[76]"
   ]
  },
  {
   "cell_type": "code",
   "execution_count": 92,
   "metadata": {},
   "outputs": [],
   "source": [
    "from random import randint\n",
    "\n",
    "def input_generator76(path):\n",
    "    with open(path, 'w+') as f:\n",
    "        n = 20\n",
    "        f.write(str(n) + '\\n')\n",
    "\n",
    "        for i in range(n):\n",
    "            f.write(str(randint(1, 50)) + '\\n')"
   ]
  },
  {
   "cell_type": "code",
   "execution_count": 93,
   "metadata": {},
   "outputs": [
    {
     "name": "stdout",
     "output_type": "stream",
     "text": [
      "Testing in progress...\n"
     ]
    },
    {
     "name": "stderr",
     "output_type": "stream",
     "text": [
      "100%|██████████| 1000/1000 [00:04<00:00, 237.93it/s]"
     ]
    },
    {
     "name": "stdout",
     "output_type": "stream",
     "text": [
      "OK! All tests passed.\n"
     ]
    },
    {
     "name": "stderr",
     "output_type": "stream",
     "text": [
      "\n"
     ]
    }
   ],
   "source": [
    "run_tests(problem76_bruteforce, problem76, input_generator76)"
   ]
  },
  {
   "cell_type": "markdown",
   "metadata": {},
   "source": [
    "## 79"
   ]
  },
  {
   "cell_type": "code",
   "execution_count": 94,
   "metadata": {},
   "outputs": [],
   "source": [
    "from collections import defaultdict\n",
    "\n",
    "def problem79_bruteforce(path):\n",
    "    with open(path) as f:\n",
    "        n = int(f.readline())\n",
    "        a = list()\n",
    "\n",
    "        for i in range(n):\n",
    "            a.append(int(f.readline()))\n",
    "\n",
    "        answer = 0\n",
    "        for i in range(n):\n",
    "            for j in range(i, n):\n",
    "                if a[i] % 21 == 0 and a[i] == a[j] * a[j]:\n",
    "                    answer = max(answer, j-i+1)\n",
    "\n",
    "        return answer\n",
    "\n",
    "def problem79(path):\n",
    "    with open(path) as f:\n",
    "        n = int(f.readline())\n",
    "        m = defaultdict(lambda: None)\n",
    "\n",
    "        answer = 0\n",
    "        for i in range(n):\n",
    "            x = int(f.readline())\n",
    "            if x % 21 == 0 and m[x] == None:\n",
    "                m[x] = i\n",
    "\n",
    "            if m[x ** 2] != None:\n",
    "                answer = max(answer, i - m[x ** 2] + 1)\n",
    "\n",
    "        return answer"
   ]
  },
  {
   "cell_type": "code",
   "execution_count": 95,
   "metadata": {},
   "outputs": [],
   "source": [
    "from random import randint\n",
    "\n",
    "def input_generator79(path):\n",
    "    with open(path, 'w+') as f:\n",
    "        n = 20\n",
    "        f.write(str(n) + '\\n')\n",
    "\n",
    "        for i in range(n):\n",
    "            f.write(str(randint(1, 50000)) + '\\n')"
   ]
  },
  {
   "cell_type": "code",
   "execution_count": 96,
   "metadata": {},
   "outputs": [
    {
     "name": "stdout",
     "output_type": "stream",
     "text": [
      "Testing in progress...\n"
     ]
    },
    {
     "name": "stderr",
     "output_type": "stream",
     "text": [
      "100%|██████████| 1000/1000 [00:04<00:00, 245.70it/s]"
     ]
    },
    {
     "name": "stdout",
     "output_type": "stream",
     "text": [
      "OK! All tests passed.\n"
     ]
    },
    {
     "name": "stderr",
     "output_type": "stream",
     "text": [
      "\n"
     ]
    }
   ],
   "source": [
    "run_tests(problem79_bruteforce, problem79, input_generator79)"
   ]
  },
  {
   "cell_type": "code",
   "execution_count": 97,
   "metadata": {},
   "outputs": [
    {
     "data": {
      "text/plain": [
       "'337 148613'"
      ]
     },
     "execution_count": 97,
     "metadata": {},
     "output_type": "execute_result"
    }
   ],
   "source": [
    "answers[79]"
   ]
  },
  {
   "cell_type": "code",
   "execution_count": 98,
   "metadata": {},
   "outputs": [
    {
     "data": {
      "text/plain": [
       "337"
      ]
     },
     "execution_count": 98,
     "metadata": {},
     "output_type": "execute_result"
    }
   ],
   "source": [
    "problem79_bruteforce('./data/27data/79/27-79a.txt')"
   ]
  },
  {
   "cell_type": "code",
   "execution_count": 99,
   "metadata": {},
   "outputs": [
    {
     "data": {
      "text/plain": [
       "148613"
      ]
     },
     "execution_count": 99,
     "metadata": {},
     "output_type": "execute_result"
    }
   ],
   "source": [
    "problem79('./data/27data/79/27-79b.txt')"
   ]
  },
  {
   "cell_type": "markdown",
   "metadata": {},
   "source": [
    "## 82"
   ]
  },
  {
   "cell_type": "code",
   "execution_count": 100,
   "metadata": {},
   "outputs": [],
   "source": [
    "def isPrime(x: int):\n",
    "    if x == 1:\n",
    "        return False\n",
    "\n",
    "    i = 2\n",
    "    while i * i <= x:\n",
    "        if x % i == 0:\n",
    "            return False\n",
    "        i += 1\n",
    "    \n",
    "    return True\n",
    "\n",
    "def problem82_bruteforce(path):\n",
    "    with open(path) as f:\n",
    "        n = int(f.readline())\n",
    "        k = 9\n",
    "        a = list()\n",
    "        for i in range(n):\n",
    "            a.append(int(f.readline()))\n",
    "\n",
    "        result = 0\n",
    "        for length in range(1, n+1):\n",
    "            for l in range(n-length+1):\n",
    "                c = 0\n",
    "                s = sum(a[l:l+length])\n",
    "                for i in range(l, l+length):\n",
    "                    # s += a[i]\n",
    "                    if isPrime(a[i]):\n",
    "                        c += 1\n",
    "\n",
    "                if c % k == 0 and s > result:\n",
    "                    result = s\n",
    "\n",
    "        return result\n",
    "\n",
    "def problem82(path):\n",
    "    with open(path) as f:\n",
    "        n = int(f.readline())\n",
    "        k = 9\n",
    "        \n",
    "        count = 0 # количество простых чисел\n",
    "        s = 0 # сумма всех чисел (на i-й итерации это i-ая префикс-сумма)\n",
    "        infty = 10 ** 20\n",
    "        tailSum = [0] + [infty] * (k-1) # tailSum[j] - наименьшее значение префикс-суммы, в которой количество простых чисел дает остаток j при делении на k\n",
    "        answer = 0\n",
    "\n",
    "        for i in range(n):\n",
    "            x = int(f.readline())\n",
    "            s += x\n",
    "            if isPrime(x):\n",
    "                count += 1\n",
    "            \n",
    "            r = count % k\n",
    "            # if tailSum[r] is None:\n",
    "            #     tailSum[r] = s # такое заполнение обеспечивает, что tailSum[r] - наименьшая префикс-сумма, ведь префикс-суммы неубывают с увеличением индекса\n",
    "            # elif count >= k:\n",
    "            #     answer = max(answer, s - tailSum[r])\n",
    "\n",
    "            if r == 0 and s > answer: # если r = 0, то подходит сама префикс-сумма\n",
    "                answer = max(answer, s)\n",
    "            elif tailSum[r] != infty and s - tailSum[r] > answer:\n",
    "                answer = s - tailSum[r]\n",
    "\n",
    "\n",
    "            tailSum[r] = min(tailSum[r], s)\n",
    "\n",
    "        return answer"
   ]
  },
  {
   "cell_type": "code",
   "execution_count": 101,
   "metadata": {},
   "outputs": [
    {
     "data": {
      "text/plain": [
       "67645"
      ]
     },
     "execution_count": 101,
     "metadata": {},
     "output_type": "execute_result"
    }
   ],
   "source": [
    "problem82_bruteforce('./data/27data/82/27-82a.txt')"
   ]
  },
  {
   "cell_type": "code",
   "execution_count": 102,
   "metadata": {},
   "outputs": [
    {
     "data": {
      "text/plain": [
       "67645"
      ]
     },
     "execution_count": 102,
     "metadata": {},
     "output_type": "execute_result"
    }
   ],
   "source": [
    "problem82('./data/27data/82/27-82a.txt')"
   ]
  },
  {
   "cell_type": "code",
   "execution_count": 103,
   "metadata": {},
   "outputs": [
    {
     "data": {
      "text/plain": [
       "'67645 69976583'"
      ]
     },
     "execution_count": 103,
     "metadata": {},
     "output_type": "execute_result"
    }
   ],
   "source": [
    "solutions[82] = '{} {}'.format(problem82_bruteforce('./data/27data/82/27-82a.txt'), problem82('./data/27data/82/27-82b.txt'))\n",
    "solutions[82]"
   ]
  },
  {
   "cell_type": "code",
   "execution_count": 104,
   "metadata": {},
   "outputs": [],
   "source": [
    "from random import randint\n",
    "\n",
    "def input_generator82(path):\n",
    "    with open(path, 'w+') as f:\n",
    "        n = 15\n",
    "        f.write(str(n) + '\\n')\n",
    "\n",
    "        for i in range(n):\n",
    "            f.write(str(randint(1, 10000)) + '\\n')"
   ]
  },
  {
   "cell_type": "code",
   "execution_count": 105,
   "metadata": {},
   "outputs": [
    {
     "name": "stdout",
     "output_type": "stream",
     "text": [
      "Testing in progress...\n"
     ]
    },
    {
     "name": "stderr",
     "output_type": "stream",
     "text": [
      "100%|██████████| 1000/1000 [00:04<00:00, 200.86it/s]"
     ]
    },
    {
     "name": "stdout",
     "output_type": "stream",
     "text": [
      "OK! All tests passed.\n"
     ]
    },
    {
     "name": "stderr",
     "output_type": "stream",
     "text": [
      "\n"
     ]
    }
   ],
   "source": [
    "run_tests(problem82_bruteforce, problem82, input_generator82)"
   ]
  },
  {
   "cell_type": "markdown",
   "metadata": {},
   "source": [
    "## 86"
   ]
  },
  {
   "cell_type": "code",
   "execution_count": 106,
   "metadata": {},
   "outputs": [
    {
     "data": {
      "text/plain": [
       "'15218 253665'"
      ]
     },
     "execution_count": 106,
     "metadata": {},
     "output_type": "execute_result"
    }
   ],
   "source": [
    "def problem86_bruteforce(path):\n",
    "    with open(path) as f:\n",
    "        n, k = map(int, f.readline().split())\n",
    "        a = list()\n",
    "        for i in range(n):\n",
    "            a.append(int(f.readline()))\n",
    "\n",
    "        result = float('-inf')\n",
    "        for length in range(1, n+1):\n",
    "            for l in range(n-length+1):\n",
    "                s = sum(a[l:l+length])\n",
    "                c = 0\n",
    "                for x in a[l:l+length]:\n",
    "                    if x < 0 and abs(x) % 10 == 7:\n",
    "                        c += 1\n",
    "\n",
    "                if c % k == 0 and s > result:\n",
    "                    result = s\n",
    "\n",
    "        return result\n",
    "\n",
    "def problem86(path):\n",
    "    with open(path) as f:\n",
    "        n, k = map(int, f.readline().split())\n",
    "        answer = 0\n",
    "        count = 0 # количество отрицательных, оканчивающихся на 7\n",
    "        s = 0 # сумма всех чисел\n",
    "\n",
    "        infty = 10 ** 20\n",
    "        m = [infty] * k # m[i] - минимальная префикс-сумма, в которой количество отрицательных чисел, оканчивающихся на 7, кратно k\n",
    "\n",
    "        for _ in range(n):\n",
    "            x = int(f.readline())\n",
    "            s += x\n",
    "\n",
    "            if abs(x) % 10 == 7 and x < 0:\n",
    "                count += 1\n",
    "\n",
    "            r = count % k\n",
    "\n",
    "            if r == 0 and s > answer: # если r = 0, то подходит сама префикс-сумма\n",
    "                answer = s\n",
    "            elif m[r] != infty and s - m[r] > answer:\n",
    "                answer = s - m[r]\n",
    "\n",
    "            m[r] = min(m[r], s)\n",
    "        \n",
    "        return answer\n",
    "\n",
    "solutions[86] = '{} {}'.format(problem86_bruteforce('./data/27data/86/27-86a.txt'), problem86('./data/27data/86/27-86b.txt'))\n",
    "solutions[86]"
   ]
  },
  {
   "cell_type": "code",
   "execution_count": 107,
   "metadata": {},
   "outputs": [],
   "source": [
    "from random import randint\n",
    "\n",
    "def input_generator86(path):\n",
    "    with open(path, 'w+') as f:\n",
    "        n = 10\n",
    "        k = randint(1, 15)\n",
    "        f.write(str(n) + ' ' + str(k) + '\\n')\n",
    "\n",
    "        for i in range(n):\n",
    "            f.write(str(randint(1, 10000)) + '\\n')"
   ]
  },
  {
   "cell_type": "code",
   "execution_count": 108,
   "metadata": {},
   "outputs": [
    {
     "name": "stdout",
     "output_type": "stream",
     "text": [
      "Testing in progress...\n"
     ]
    },
    {
     "name": "stderr",
     "output_type": "stream",
     "text": [
      "100%|██████████| 1000/1000 [00:04<00:00, 224.16it/s]"
     ]
    },
    {
     "name": "stdout",
     "output_type": "stream",
     "text": [
      "OK! All tests passed.\n"
     ]
    },
    {
     "name": "stderr",
     "output_type": "stream",
     "text": [
      "\n"
     ]
    }
   ],
   "source": [
    "run_tests(problem86_bruteforce, problem86, input_generator86)"
   ]
  },
  {
   "cell_type": "markdown",
   "metadata": {},
   "source": [
    "## 87"
   ]
  },
  {
   "cell_type": "code",
   "execution_count": 109,
   "metadata": {},
   "outputs": [
    {
     "data": {
      "text/plain": [
       "'15406 256483'"
      ]
     },
     "execution_count": 109,
     "metadata": {},
     "output_type": "execute_result"
    }
   ],
   "source": [
    "def isSpecial(x):\n",
    "    if x >= 0:\n",
    "        return False\n",
    "\n",
    "    x = abs(x)\n",
    "    \n",
    "    while x > 0:\n",
    "        if x % 5 == 2:\n",
    "            return False\n",
    "        x //= 5\n",
    "\n",
    "    return True\n",
    "\n",
    "def problem87_bruteforce(path):\n",
    "    with open(path) as f:\n",
    "        n, k = map(int, f.readline().split())\n",
    "        a = list()\n",
    "        for i in range(n):\n",
    "            a.append(int(f.readline()))\n",
    "\n",
    "        result = -10001\n",
    "        # for length in range(1, n+1):\n",
    "        #     for l in range(n-length+1):\n",
    "        for l in range(n):\n",
    "            for r in range(l, n):\n",
    "                s = sum(a[l:r])\n",
    "                c = 0\n",
    "                for x in a[l:r]:\n",
    "                    if isSpecial(x):\n",
    "                        c += 1\n",
    "\n",
    "                if c % k == 0 and s > result:\n",
    "                    result = s\n",
    "\n",
    "        return result\n",
    "\n",
    "def problem87(path):\n",
    "    with open(path) as f:\n",
    "        n, k = map(int, f.readline().split())\n",
    "        answer = 0\n",
    "        count = 0 # количество особенных\n",
    "        s = 0 # сумма всех чисел\n",
    "\n",
    "        infty = 10 ** 20\n",
    "        m = [infty] * k # m[i] - минимальная префикс-сумма, в которой количество особенных кратно k\n",
    "\n",
    "        for _ in range(n):\n",
    "            x = int(f.readline())\n",
    "            s += x\n",
    "\n",
    "            if isSpecial(x):\n",
    "                count += 1\n",
    "\n",
    "            r = count % k\n",
    "\n",
    "            if r == 0 and s > answer:\n",
    "                answer = max(answer, s)\n",
    "            elif m[r] != infty and s - m[r] > answer:\n",
    "                answer = s - m[r]\n",
    "\n",
    "            m[r] = min(m[r], s)\n",
    "        \n",
    "        return answer\n",
    "\n",
    "solutions[87] = '{} {}'.format(problem87_bruteforce('./data/27data/87/27-87a.txt'), problem87('./data/27data/87/27-87b.txt'))\n",
    "solutions[87]"
   ]
  },
  {
   "cell_type": "code",
   "execution_count": 110,
   "metadata": {},
   "outputs": [
    {
     "data": {
      "text/plain": [
       "15406"
      ]
     },
     "execution_count": 110,
     "metadata": {},
     "output_type": "execute_result"
    }
   ],
   "source": [
    "problem87_bruteforce('./data/27data/87/27-87a.txt')"
   ]
  },
  {
   "cell_type": "code",
   "execution_count": 111,
   "metadata": {},
   "outputs": [
    {
     "data": {
      "text/plain": [
       "15406"
      ]
     },
     "execution_count": 111,
     "metadata": {},
     "output_type": "execute_result"
    }
   ],
   "source": [
    "problem87('./data/27data/87/27-87a.txt')"
   ]
  },
  {
   "cell_type": "markdown",
   "metadata": {},
   "source": [
    "## 88"
   ]
  },
  {
   "cell_type": "code",
   "execution_count": 112,
   "metadata": {},
   "outputs": [
    {
     "data": {
      "text/plain": [
       "'11527919 168873874'"
      ]
     },
     "execution_count": 112,
     "metadata": {},
     "output_type": "execute_result"
    }
   ],
   "source": [
    "def isSpecial(x):\n",
    "    if x >= 0:\n",
    "        return False\n",
    "\n",
    "    x = -x\n",
    "\n",
    "    i = 2\n",
    "    while i * i <= x:\n",
    "        if x % i == 0:\n",
    "            return False\n",
    "        i += 1\n",
    "\n",
    "    return True\n",
    "\n",
    "def problem88_bruteforce(path):\n",
    "    with open(path) as f:\n",
    "        n, k = map(int, f.readline().split())\n",
    "        a = list()\n",
    "        for i in range(n):\n",
    "            a.append(int(f.readline()))\n",
    "\n",
    "        result = -10001\n",
    "        for l in range(n):\n",
    "            for r in range(l, n):\n",
    "                s = sum(a[l:r])\n",
    "                c = 0\n",
    "                for x in a[l:r]:\n",
    "                    if isSpecial(x):\n",
    "                        c += 1\n",
    "\n",
    "                if c % k == 0 and s > result:\n",
    "                    result = s\n",
    "\n",
    "        return result\n",
    "\n",
    "def problem88(path):\n",
    "    with open(path) as f:\n",
    "        n, k = map(int, f.readline().split())\n",
    "        answer = 0\n",
    "        count = 0 # количество особенных\n",
    "        s = 0 # сумма всех чисел\n",
    "\n",
    "        infty = 10 ** 20\n",
    "        m = [infty] * k # m[i] - минимальная префикс-сумма, в которой количество особенных кратно k\n",
    "\n",
    "        for _ in range(n):\n",
    "            x = int(f.readline())\n",
    "            s += x\n",
    "\n",
    "            if isSpecial(x):\n",
    "                count += 1\n",
    "\n",
    "            r = count % k\n",
    "\n",
    "            if r == 0 and s > answer:\n",
    "                answer = max(answer, s)\n",
    "            elif m[r] != infty and s - m[r] > answer:\n",
    "                answer = s - m[r]\n",
    "\n",
    "            m[r] = min(m[r], s)\n",
    "\n",
    "        return answer\n",
    "\n",
    "solutions[88] = '{} {}'.format(problem88('./data/27data/88/27-88a.txt'), problem88('./data/27data/88/27-88b.txt'))\n",
    "solutions[88]"
   ]
  },
  {
   "cell_type": "code",
   "execution_count": 113,
   "metadata": {},
   "outputs": [
    {
     "data": {
      "text/plain": [
       "11527919"
      ]
     },
     "execution_count": 113,
     "metadata": {},
     "output_type": "execute_result"
    }
   ],
   "source": [
    "problem88_bruteforce('./data/27data/88/27-88a.txt')"
   ]
  },
  {
   "cell_type": "code",
   "execution_count": 114,
   "metadata": {},
   "outputs": [],
   "source": [
    "def special(x):\n",
    "    if x > 0:\n",
    "        return False\n",
    "    if x == 1 or x == 0:\n",
    "        return False\n",
    "    x = abs(x)\n",
    "    l = 2\n",
    "    while l*l <= x:\n",
    "        if x % l == 0:\n",
    "            return False\n",
    "        l += 1\n",
    "    return True\n",
    "\n",
    "def problem88_Artem(path):\n",
    "    f = open(path)\n",
    "    n, k = map(int, f.readline().split())\n",
    "\n",
    "    max_sum = -10**20\n",
    "    a = [10**20]*k\n",
    "\n",
    "    sum = 0\n",
    "    c = 0\n",
    "    for i in range(n):\n",
    "        x = int(f.readline())\n",
    "        sum += x\n",
    "\n",
    "        if special(x):\n",
    "            c += 1\n",
    "\n",
    "        r = c % k\n",
    "        if r == 0:\n",
    "            max_sum = max(max_sum, sum)\n",
    "\n",
    "        max_sum = max(max_sum, sum - a[r])\n",
    "\n",
    "        a[r] = min(a[r], sum)\n",
    "    return max_sum"
   ]
  },
  {
   "cell_type": "code",
   "execution_count": 115,
   "metadata": {},
   "outputs": [
    {
     "data": {
      "text/plain": [
       "'11527919 168873874'"
      ]
     },
     "execution_count": 115,
     "metadata": {},
     "output_type": "execute_result"
    }
   ],
   "source": [
    "answers[88]"
   ]
  },
  {
   "cell_type": "code",
   "execution_count": 116,
   "metadata": {},
   "outputs": [],
   "source": [
    "from random import randint\n",
    "\n",
    "def input_generator88(path):\n",
    "    with open(path, 'w+') as f:\n",
    "        n = 15\n",
    "        k = randint(1, 6)\n",
    "        f.write(str(n) + ' ' + str(k) + '\\n')\n",
    "\n",
    "        for i in range(n):\n",
    "            f.write(str(randint(-100000, 100000)) + '\\n')"
   ]
  },
  {
   "cell_type": "code",
   "execution_count": 117,
   "metadata": {},
   "outputs": [
    {
     "name": "stdout",
     "output_type": "stream",
     "text": [
      "Testing in progress...\n"
     ]
    },
    {
     "name": "stderr",
     "output_type": "stream",
     "text": [
      "  2%|▏         | 20/1000 [00:00<00:04, 197.04it/s]"
     ]
    },
    {
     "name": "stdout",
     "output_type": "stream",
     "text": [
      "Test 5 failed. Expected 45586, actual 79831\n",
      "Test 12 failed. Expected 293586, actual 384318\n",
      "Test 16 failed. Expected 230487, actual 288010\n",
      "Test 22 failed. Expected 127743, actual 202424\n",
      "Test 26 failed. Expected 275396, actual 288463\n",
      "Test 30 failed. Expected 194449, actual 196272\n"
     ]
    },
    {
     "name": "stderr",
     "output_type": "stream",
     "text": [
      "  4%|▍         | 40/1000 [00:00<00:04, 194.23it/s]"
     ]
    },
    {
     "name": "stdout",
     "output_type": "stream",
     "text": [
      "Test 39 failed. Expected 170644, actual 211933\n",
      "Test 40 failed. Expected 126979, actual 130432\n"
     ]
    },
    {
     "name": "stderr",
     "output_type": "stream",
     "text": [
      "  6%|▋         | 63/1000 [00:00<00:04, 197.49it/s]"
     ]
    },
    {
     "name": "stdout",
     "output_type": "stream",
     "text": [
      "Test 62 failed. Expected 287040, actual 343865\n",
      "Test 64 failed. Expected 434038, actual 505579\n",
      "Testing is stopped after 10 failed tests.\n"
     ]
    },
    {
     "name": "stderr",
     "output_type": "stream",
     "text": [
      "\n"
     ]
    }
   ],
   "source": [
    "run_tests(problem88_bruteforce, problem88_Artem, input_generator88)"
   ]
  },
  {
   "cell_type": "code",
   "execution_count": 118,
   "metadata": {},
   "outputs": [],
   "source": [
    "def isSpecNumber(x):\n",
    "    if x >= 0:\n",
    "        return False\n",
    "    x = abs(x)\n",
    "    if x <= 1:\n",
    "        return False\n",
    "    d = 2\n",
    "    while d*d <= x:\n",
    "        if x % d == 0:\n",
    "            return False\n",
    "        d += 1\n",
    "    return True\n",
    "\n",
    "def problem88_polyakov(path):\n",
    "    f = open(path)\n",
    "    n, K = map(int, f.readline().split())\n",
    "\n",
    "    maxSum = -10**20\n",
    "    minTails = [10**20]*K\n",
    "\n",
    "    sumTotal = 0\n",
    "    count = 0\n",
    "    for i in range(n):\n",
    "\n",
    "        x = int(f.readline())\n",
    "        sumTotal += x\n",
    "\n",
    "        if isSpecNumber(x):\n",
    "            count += 1\n",
    "\n",
    "        r = count % K\n",
    "        if r == 0 and sumTotal > maxSum:\n",
    "            maxSum = sumTotal\n",
    "\n",
    "        if minTails[r] != 10**20 and sumTotal - minTails[r] > maxSum:\n",
    "            maxSum = sumTotal - minTails[r]\n",
    "\n",
    "        minTails[r] = min(minTails[r], sumTotal)\n",
    "\n",
    "    f.close()\n",
    "\n",
    "    return maxSum"
   ]
  },
  {
   "cell_type": "code",
   "execution_count": 119,
   "metadata": {},
   "outputs": [
    {
     "name": "stdout",
     "output_type": "stream",
     "text": [
      "Testing in progress...\n"
     ]
    },
    {
     "name": "stderr",
     "output_type": "stream",
     "text": [
      "  0%|          | 0/1000 [00:00<?, ?it/s]"
     ]
    },
    {
     "name": "stdout",
     "output_type": "stream",
     "text": [
      "Test 5 failed. Expected 210998, actual 219473\n"
     ]
    },
    {
     "name": "stderr",
     "output_type": "stream",
     "text": [
      "  2%|▏         | 19/1000 [00:00<00:05, 189.06it/s]"
     ]
    },
    {
     "name": "stdout",
     "output_type": "stream",
     "text": [
      "Test 8 failed. Expected 141074, actual 175871\n",
      "Test 14 failed. Expected 269142, actual 296796\n",
      "Test 15 failed. Expected 439554, actual 499926\n",
      "Test 17 failed. Expected 184489, actual 249536\n",
      "Test 21 failed. Expected 575768, actual 638826\n",
      "Test 22 failed. Expected 340224, actual 388937\n",
      "Test 31 failed. Expected 200658, actual 248505\n"
     ]
    },
    {
     "name": "stderr",
     "output_type": "stream",
     "text": [
      "  4%|▍         | 38/1000 [00:00<00:05, 178.57it/s]"
     ]
    },
    {
     "name": "stdout",
     "output_type": "stream",
     "text": [
      "Test 38 failed. Expected 405117, actual 490084\n"
     ]
    },
    {
     "name": "stderr",
     "output_type": "stream",
     "text": [
      "  4%|▍         | 42/1000 [00:00<00:05, 175.00it/s]"
     ]
    },
    {
     "name": "stdout",
     "output_type": "stream",
     "text": [
      "Test 43 failed. Expected 224104, actual 257470\n",
      "Testing is stopped after 10 failed tests.\n"
     ]
    },
    {
     "name": "stderr",
     "output_type": "stream",
     "text": [
      "\n"
     ]
    }
   ],
   "source": [
    "run_tests(problem88_bruteforce, problem88_polyakov, input_generator88)"
   ]
  },
  {
   "cell_type": "markdown",
   "metadata": {},
   "source": [
    "## 91"
   ]
  },
  {
   "cell_type": "code",
   "execution_count": 120,
   "metadata": {},
   "outputs": [
    {
     "data": {
      "text/plain": [
       "'6597803 168674858'"
      ]
     },
     "execution_count": 120,
     "metadata": {},
     "output_type": "execute_result"
    }
   ],
   "source": [
    "def isSpecial(x):\n",
    "    if x >= 0:\n",
    "        return False\n",
    "\n",
    "    x = abs(x)\n",
    "    \n",
    "    s = 0\n",
    "    while x > 0:\n",
    "        s += x % 3\n",
    "        x //= 3\n",
    "\n",
    "    return s == 12\n",
    "\n",
    "def problem91_bruteforce(path):\n",
    "    with open(path) as f:\n",
    "        n, k, d = map(int, f.readline().split())\n",
    "        a = list()\n",
    "        for i in range(n):\n",
    "            a.append(int(f.readline()))\n",
    "\n",
    "        result = -10001\n",
    "        for length in [x * d for x in range(1, n // d + 1)]:\n",
    "            for l in range(n-length+1):\n",
    "                r = l+length\n",
    "                s = sum(a[l:r])\n",
    "                c = 0\n",
    "                for x in a[l:r]:\n",
    "                    if isSpecial(x):\n",
    "                        c += 1\n",
    "\n",
    "                if c % k == 0 and s > result:\n",
    "                    result = s\n",
    "\n",
    "        return result\n",
    "\n",
    "def problem91(path):\n",
    "    with open(path) as f:\n",
    "        n, k, d = map(int, f.readline().split())\n",
    "        answer = -10001\n",
    "        s = 0\n",
    "        count = 0\n",
    "\n",
    "        infty = 10 ** 20\n",
    "        m = [infty] * k # m[i] - минимальная префикс-сумма, в которой количество особенных кратно k\n",
    "        c = [0] * k # c[i] - номер итерации, на которой встречена префикс-сумма m[i]\n",
    "\n",
    "        for i in range(n):\n",
    "            x = int(f.readline())\n",
    "            s += x\n",
    "\n",
    "            if isSpecial(x):\n",
    "                count += 1\n",
    "\n",
    "            r = count % k\n",
    "\n",
    "            if s > answer and r == 0 and i % d == 0:\n",
    "                answer = s\n",
    "            elif m[r] != infty and s - m[r] > answer and c[r] % d == i % d:\n",
    "                answer = s - m[r]\n",
    "            \n",
    "            if s < m[r]:\n",
    "                m[r] = s\n",
    "                c[r] = i\n",
    "\n",
    "        return answer\n",
    "\n",
    "solutions[91] = '{} {}'.format(problem91('./data/27data/91/27-91a.txt'), problem91('./data/27data/91/27-91b.txt'))\n",
    "solutions[91]"
   ]
  },
  {
   "cell_type": "code",
   "execution_count": 121,
   "metadata": {},
   "outputs": [
    {
     "data": {
      "text/plain": [
       "6597803"
      ]
     },
     "execution_count": 121,
     "metadata": {},
     "output_type": "execute_result"
    }
   ],
   "source": [
    "problem91_bruteforce('./data/27data/91/27-91a.txt')"
   ]
  },
  {
   "cell_type": "code",
   "execution_count": 122,
   "metadata": {},
   "outputs": [
    {
     "data": {
      "text/plain": [
       "6597803"
      ]
     },
     "execution_count": 122,
     "metadata": {},
     "output_type": "execute_result"
    }
   ],
   "source": [
    "problem91('./data/27data/91/27-91a.txt')"
   ]
  },
  {
   "cell_type": "markdown",
   "metadata": {},
   "source": [
    "## 92"
   ]
  },
  {
   "cell_type": "code",
   "execution_count": 123,
   "metadata": {},
   "outputs": [
    {
     "data": {
      "text/plain": [
       "'4710 7368'"
      ]
     },
     "execution_count": 123,
     "metadata": {},
     "output_type": "execute_result"
    }
   ],
   "source": [
    "def isSpecial(x):\n",
    "    return x > 0 and x % 2 == 0\n",
    "\n",
    "def problem92_bruteforce(path):\n",
    "    with open(path) as f:\n",
    "        n = int(f.readline())\n",
    "        a = list()\n",
    "        for i in range(n):\n",
    "            a.append(int(f.readline()))\n",
    "\n",
    "        result = -10001\n",
    "        for length in range(n):\n",
    "            for l in range(n-length+1):\n",
    "                r = l+length\n",
    "                s = 0\n",
    "                c = 0\n",
    "                for x in a[l:r]:\n",
    "                    s += x\n",
    "                    if isSpecial(x):\n",
    "                        c += 1\n",
    "\n",
    "                if c == 1 and s > result:\n",
    "                    result = s\n",
    "\n",
    "        return result\n",
    "\n",
    "def problem92(path):\n",
    "    with open(path) as f:\n",
    "        n = int(f.readline())\n",
    "        answer = 0\n",
    "        count = 0 # количество особенных\n",
    "        s = 0 # сумма всех чисел (текущая префикс-сумма на i-й итерации)\n",
    "\n",
    "        infty = 10 ** 20\n",
    "        m = infty # минимальная префикс-сумма, в которой count-1 особенных чисел\n",
    "        m_next = infty # минимальная префикс-сумма, в которой count особенных чисел\n",
    "\n",
    "        for i in range(n):\n",
    "            x = int(f.readline())\n",
    "            s += x\n",
    "\n",
    "            if isSpecial(x):\n",
    "                count += 1\n",
    "                m = m_next\n",
    "                m_next = infty\n",
    "\n",
    "            if count == 1 and s > answer:\n",
    "                answer = max(answer, s)\n",
    "            elif count > 1:\n",
    "                answer = max(answer, s - m)\n",
    "                m_next = min(m_next, s)\n",
    "        \n",
    "        return answer\n",
    "\n",
    "solutions[92] = '{} {}'.format(problem92('./data/27data/92/27-92a.txt'), problem92('./data/27data/92/27-92b.txt'))\n",
    "solutions[92]"
   ]
  },
  {
   "cell_type": "code",
   "execution_count": 124,
   "metadata": {},
   "outputs": [],
   "source": [
    "def problem92_Artem(path):\n",
    "    def special(x):\n",
    "        if x > 0 and x % 2 == 0:\n",
    "            return True\n",
    "\n",
    "    f = open(path)\n",
    "    n = int(f.readline())\n",
    "\n",
    "    max_sum = -10**20\n",
    "\n",
    "    sum = 0\n",
    "    a = [10**20] * 2\n",
    "    for i in range(n):\n",
    "        x = int(f.readline())\n",
    "        sum += x\n",
    "\n",
    "        if special(x):\n",
    "            a[0] = a[1]\n",
    "            a[1] = sum\n",
    "\n",
    "        max_sum = max(max_sum, sum - a[0])\n",
    "\n",
    "        a[1] = min(a[1], sum)\n",
    "    return max_sum"
   ]
  },
  {
   "cell_type": "code",
   "execution_count": 125,
   "metadata": {},
   "outputs": [
    {
     "data": {
      "text/plain": [
       "4710"
      ]
     },
     "execution_count": 125,
     "metadata": {},
     "output_type": "execute_result"
    }
   ],
   "source": [
    "problem92_bruteforce('./data/27data/92/27-92a.txt')"
   ]
  },
  {
   "cell_type": "code",
   "execution_count": 126,
   "metadata": {},
   "outputs": [
    {
     "data": {
      "text/plain": [
       "7368"
      ]
     },
     "execution_count": 126,
     "metadata": {},
     "output_type": "execute_result"
    }
   ],
   "source": [
    "problem92_Artem('./data/27data/92/27-92b.txt')"
   ]
  },
  {
   "cell_type": "code",
   "execution_count": 127,
   "metadata": {},
   "outputs": [
    {
     "data": {
      "text/plain": [
       "'4710 7368'"
      ]
     },
     "execution_count": 127,
     "metadata": {},
     "output_type": "execute_result"
    }
   ],
   "source": [
    "answers[92]"
   ]
  },
  {
   "cell_type": "code",
   "execution_count": 128,
   "metadata": {},
   "outputs": [],
   "source": [
    "from random import randint\n",
    "\n",
    "def input_generator92(path):\n",
    "    with open(path, 'w+') as f:\n",
    "        n = 15\n",
    "        f.write(str(n) + '\\n')\n",
    "\n",
    "        for i in range(n):\n",
    "            f.write(str(randint(-10000, 10000)) + '\\n')"
   ]
  },
  {
   "cell_type": "code",
   "execution_count": 129,
   "metadata": {},
   "outputs": [
    {
     "name": "stdout",
     "output_type": "stream",
     "text": [
      "Testing in progress...\n"
     ]
    },
    {
     "name": "stderr",
     "output_type": "stream",
     "text": [
      "  2%|▏         | 15/1000 [00:00<00:05, 194.81it/s]"
     ]
    },
    {
     "name": "stdout",
     "output_type": "stream",
     "text": [
      "Test 3 failed. Expected 16479, actual 12089\n",
      "Test 4 failed. Expected 10809, actual 10135\n",
      "Test 7 failed. Expected 14755, actual 11283\n",
      "Test 8 failed. Expected 14047, actual 12023\n",
      "Test 10 failed. Expected 8438, actual 0\n",
      "Test 11 failed. Expected 8100, actual 7576\n",
      "Test 13 failed. Expected 18084, actual 8932\n",
      "Test 14 failed. Expected 21012, actual 8747\n",
      "Test 15 failed. Expected -10001, actual 0\n",
      "Test 16 failed. Expected 6920, actual 0\n",
      "Testing is stopped after 10 failed tests.\n"
     ]
    },
    {
     "name": "stderr",
     "output_type": "stream",
     "text": [
      "\n"
     ]
    }
   ],
   "source": [
    "run_tests(problem92_bruteforce, problem92, input_generator92)"
   ]
  },
  {
   "cell_type": "code",
   "execution_count": 130,
   "metadata": {},
   "outputs": [
    {
     "name": "stdout",
     "output_type": "stream",
     "text": [
      "Testing in progress...\n"
     ]
    },
    {
     "name": "stderr",
     "output_type": "stream",
     "text": [
      "  0%|          | 0/1000 [00:00<?, ?it/s]"
     ]
    },
    {
     "name": "stdout",
     "output_type": "stream",
     "text": [
      "Test 1 failed. Expected 17044, actual 10942\n",
      "Test 2 failed. Expected 14766, actual 10357\n",
      "Test 4 failed. Expected 23456, actual 9592\n",
      "Test 7 failed. Expected 14063, actual 12793\n",
      "Test 8 failed. Expected 21390, actual 10747\n",
      "Test 11 failed. Expected 13021, actual 8111\n",
      "Test 12 failed. Expected 14043, actual 8382\n",
      "Test 13 failed. Expected 7128, actual 6255\n",
      "Test 15 failed. Expected 16780, actual 0\n"
     ]
    },
    {
     "name": "stderr",
     "output_type": "stream",
     "text": [
      "  2%|▏         | 15/1000 [00:00<00:04, 202.71it/s]"
     ]
    },
    {
     "name": "stdout",
     "output_type": "stream",
     "text": [
      "Test 16 failed. Expected 10879, actual 9315\n",
      "Testing is stopped after 10 failed tests.\n"
     ]
    },
    {
     "name": "stderr",
     "output_type": "stream",
     "text": [
      "\n"
     ]
    }
   ],
   "source": [
    "run_tests(problem92_bruteforce, problem92, input_generator92)"
   ]
  },
  {
   "cell_type": "markdown",
   "metadata": {},
   "source": [
    "## Проверка решений"
   ]
  },
  {
   "cell_type": "code",
   "execution_count": 131,
   "metadata": {},
   "outputs": [
    {
     "name": "stdout",
     "output_type": "stream",
     "text": [
      "Error in problem 8. Correct Answer: 11009 200. Given: 3809 200\n",
      "Error in problem 19. Correct Answer: 663497670999806000. Given: 663497670 97618752000\n",
      "Error in problem 34. Correct Answer: 9750 30227250. Given: 9572 30227092\n",
      "Solved problems: [1, 2, 4, 5, 6, 7, 12, 13, 14, 18, 28, 32, 74, 76, 82, 86, 87, 88, 91, 92]\n"
     ]
    }
   ],
   "source": [
    "ok_flag = True\n",
    "\n",
    "solutions = [str(solution) if solution != None else None for solution in solutions]\n",
    "solved = []\n",
    "\n",
    "for i in range(1, len(answers)):\n",
    "    if solutions[i] is not None:\n",
    "        if solutions[i].split() == answers[i].split():\n",
    "            solved.append(i)\n",
    "        else:\n",
    "            print('Error in problem {}. Correct Answer: {}. Given: {}'.format(i, answers[i], solutions[i]))\n",
    "            ok_flag = False\n",
    "\n",
    "if ok_flag:\n",
    "    print('OK!')\n",
    "print('Solved problems: {}'.format(solved))"
   ]
  }
 ],
 "metadata": {
  "interpreter": {
   "hash": "73e03da126b73bfff3642ec5261d56fa25c444ea595de51041687efaa60dda41"
  },
  "kernelspec": {
   "display_name": "Python 3.9.7 64-bit ('base': conda)",
   "language": "python",
   "name": "python3"
  },
  "language_info": {
   "codemirror_mode": {
    "name": "ipython",
    "version": 3
   },
   "file_extension": ".py",
   "mimetype": "text/x-python",
   "name": "python",
   "nbconvert_exporter": "python",
   "pygments_lexer": "ipython3",
   "version": "3.9.7"
  },
  "orig_nbformat": 4
 },
 "nbformat": 4,
 "nbformat_minor": 2
}
