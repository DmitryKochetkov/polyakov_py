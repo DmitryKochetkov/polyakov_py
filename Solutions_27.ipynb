{
 "cells": [
  {
   "cell_type": "markdown",
   "metadata": {},
   "source": [
    "# Задача 27 (Самая сложная программа в ЕГЭ)"
   ]
  },
  {
   "cell_type": "code",
   "execution_count": 1,
   "metadata": {},
   "outputs": [],
   "source": [
    "import pandas as pd\n",
    "answers = pd.read_csv('answers.csv', encoding='windows-1251')['27'].to_list()\n",
    "answers = [None] + answers\n",
    "\n",
    "solutions = [None] * (len(answers)+1) # solutions[i] - решение i-й задачи. solutions[0] не используется."
   ]
  },
  {
   "cell_type": "code",
   "execution_count": 2,
   "metadata": {},
   "outputs": [
    {
     "data": {
      "text/plain": [
       "'30 360137507'"
      ]
     },
     "execution_count": 2,
     "metadata": {},
     "output_type": "execute_result"
    }
   ],
   "source": [
    "answers[13]"
   ]
  },
  {
   "cell_type": "code",
   "execution_count": 3,
   "metadata": {},
   "outputs": [],
   "source": [
    "test_env = True # если True, то тесты будут запущены"
   ]
  },
  {
   "cell_type": "code",
   "execution_count": 4,
   "metadata": {},
   "outputs": [],
   "source": [
    "from tqdm import tqdm\n",
    "\n",
    "def run_tests(f_bruteforce, f, run_id: str):\n",
    "    \"\"\"\n",
    "    Runs random tests using bruteforce solution.\n",
    "\n",
    "    ## Parameters\n",
    "\n",
    "    `f_bruteforce`: bruteforce solution.\n",
    "\n",
    "    `f`: Efficient solution.\n",
    "\n",
    "    `path`: Path to the input files folder.\n",
    "    \"\"\"\n",
    "\n",
    "    if test_env:\n",
    "        failed_tests = 0\n",
    "        print('Run ID: {}. Testing in progress...'.format(run_id))\n",
    "        for test_id in tqdm(range(1, 1000+1)):\n",
    "            path = './tests/{}/random/test_{}.txt'.format(run_id, test_id)\n",
    "            expected = f_bruteforce(path)\n",
    "            actual = f(path)\n",
    "            \n",
    "            if expected != actual:\n",
    "                failed_tests += 1\n",
    "                print('Test {} failed. Expected {}, actual {}'.format(test_id, expected, actual))\n",
    "\n",
    "            if failed_tests >= 10:\n",
    "                print('Testing is stopped after 10 failed tests.')\n",
    "                break\n",
    "\n",
    "        if failed_tests == 0:\n",
    "            print('OK! All tests passed.')\n",
    "    else:\n",
    "        print('Tests are skipped. Set test_env variable to True in order to test.')"
   ]
  },
  {
   "cell_type": "markdown",
   "metadata": {},
   "source": [
    "## Задача 1"
   ]
  },
  {
   "cell_type": "markdown",
   "metadata": {},
   "source": [
    "Имеется набор данных, состоящий из целых чисел. Необходимо выбрать из каждой пары ровно одно число так, чтобы сумма всех выбранных чисел не делилась на 3 и при этом была минимально возможной. Гарантируется, что искомую сумму получить можно. Программа должна напечатать одно число – минимально возможную сумму, соответствующую условиям задачи.\n",
    "\n",
    "**Входные данные**: Даны два входных файла: файл A (`27-1a.txt`) и файл B (`27-1b.txt`), каждый из которых содержит в первой строке количество чисел $N (1 ≤ N ≤ 100000)$. Каждая из следующих N строк содержит два натуральных числа, не превышающих по модулю 10000.\n",
    "\n",
    "**Пример входного файла:**\n",
    "\n",
    "```\n",
    "6\n",
    "1 3\n",
    "5 12\n",
    "6 9\n",
    "5 4\n",
    "3 3\n",
    "1 1\n",
    "```\n",
    "\n",
    "Для указанных входных данных значением искомой суммы должно быть число 20.\n",
    "\n",
    "\n",
    "В ответе укажите два числа: сначала искомое значение для файла А, затем для файла B."
   ]
  },
  {
   "cell_type": "code",
   "execution_count": 5,
   "metadata": {},
   "outputs": [
    {
     "data": {
      "text/plain": [
       "'67303 200157496'"
      ]
     },
     "execution_count": 5,
     "metadata": {},
     "output_type": "execute_result"
    }
   ],
   "source": [
    "from itertools import product\n",
    "\n",
    "def problem1_bruteforce(path):\n",
    "    with open(path) as f:\n",
    "        n = int(f.readline())\n",
    "        a = list()\n",
    "        for _ in range(n):\n",
    "            pair = list(map(int, f.readline().split()))\n",
    "            a.append(pair)\n",
    "\n",
    "        result = None\n",
    "\n",
    "        # option - кортеж вида (i, x), где i - номер пары, x - 0 или 1, индекс элемента пары, который выбран в сумму\n",
    "        for option in list(product([0, 1], repeat=n)):\n",
    "            s = 0\n",
    "            for i, x in enumerate(option):\n",
    "                s += a[i][x]\n",
    "\n",
    "            if s % 3 != 0 and (result == None or s < result):\n",
    "                result = s\n",
    "\n",
    "        return result\n",
    "\n",
    "def problem1(path):\n",
    "    with open(path) as f:\n",
    "        n = int(f.readline())\n",
    "\n",
    "        # Очевидно, наша цель - брать все время меньшее число.\n",
    "\n",
    "        r1 = 100001 # минимальное из всех не взятых в сумму чисел, дающее в остатке от деление на 3 число 1\n",
    "        r2 = 100001 # минимальное из всех не взятых чисел, дающее в остатке от деление на 3 число 2\n",
    "\n",
    "        s = 0 # ответ на задачу\n",
    "\n",
    "        for _ in range(n):\n",
    "            x, y = map(int, f.readline().split())\n",
    "            if x > y:\n",
    "                x, y = y, x\n",
    "\n",
    "            # теперь x - меньшее из чисел, y - большее\n",
    "\n",
    "            s += x\n",
    "\n",
    "            d = y - x\n",
    "            if d < r1 and d % 3 == 1:\n",
    "                r1 = d\n",
    "            if d < r2 and d % 3 == 2:\n",
    "                r2 = d\n",
    "\n",
    "        if s % 3 != 0:\n",
    "            return s\n",
    "        \n",
    "        return min(s + r1, s + r2)\n",
    "\n",
    "\n",
    "solutions[1] = '{} {}'.format(problem1('./data/27data/1/27-1a.txt'), problem1('./data/27data/1/27-1b.txt'))\n",
    "solutions[1]"
   ]
  },
  {
   "cell_type": "code",
   "execution_count": 6,
   "metadata": {},
   "outputs": [],
   "source": [
    "def problem1_polyakov(path):\n",
    "    with open(path) as f:\n",
    "        n = int(f.readline())\n",
    "        D = 3\n",
    "\n",
    "        s, dMin  = 0, 10001\n",
    "        for i in range(n):\n",
    "            a, b = map( int, f.readline().split() )\n",
    "            s += min( a, b )\n",
    "            d = abs( a-b )\n",
    "            if d % D > 0:\n",
    "                dMin = min( d, dMin )\n",
    "\n",
    "        if s % D != 0:\n",
    "            return s\n",
    "        else:\n",
    "            return s + dMin"
   ]
  },
  {
   "cell_type": "code",
   "execution_count": 7,
   "metadata": {},
   "outputs": [],
   "source": [
    "from random import randint\n",
    "\n",
    "for test_id in range(1, 1000+1):\n",
    "    with open('./tests/27_01/random/test_{}.txt'.format(test_id), 'w+') as f:\n",
    "        n = 12\n",
    "        f.write(str(n) + '\\n')\n",
    "\n",
    "        for i in range(n):\n",
    "            f.write(str(randint(1, 30000)) + ' ' + str(randint(1, 30000)) + '\\n')"
   ]
  },
  {
   "cell_type": "code",
   "execution_count": 8,
   "metadata": {},
   "outputs": [
    {
     "name": "stdout",
     "output_type": "stream",
     "text": [
      "Run ID: 27_01. Testing in progress...\n"
     ]
    },
    {
     "name": "stderr",
     "output_type": "stream",
     "text": [
      "100%|██████████| 1000/1000 [00:35<00:00, 27.92it/s]"
     ]
    },
    {
     "name": "stdout",
     "output_type": "stream",
     "text": [
      "OK! All tests passed.\n"
     ]
    },
    {
     "name": "stderr",
     "output_type": "stream",
     "text": [
      "\n"
     ]
    }
   ],
   "source": [
    "run_tests(problem1_bruteforce, problem1, '27_01')"
   ]
  },
  {
   "cell_type": "code",
   "execution_count": 9,
   "metadata": {},
   "outputs": [
    {
     "name": "stdout",
     "output_type": "stream",
     "text": [
      "Run ID: 27_01. Testing in progress...\n"
     ]
    },
    {
     "name": "stderr",
     "output_type": "stream",
     "text": [
      "100%|██████████| 1000/1000 [00:19<00:00, 52.47it/s]"
     ]
    },
    {
     "name": "stdout",
     "output_type": "stream",
     "text": [
      "OK! All tests passed.\n"
     ]
    },
    {
     "name": "stderr",
     "output_type": "stream",
     "text": [
      "\n"
     ]
    }
   ],
   "source": [
    "run_tests(problem1_bruteforce, problem1_polyakov, '27_01')"
   ]
  },
  {
   "cell_type": "markdown",
   "metadata": {},
   "source": [
    "## Задача 2"
   ]
  },
  {
   "cell_type": "code",
   "execution_count": 10,
   "metadata": {},
   "outputs": [
    {
     "data": {
      "text/plain": [
       "'109737 401536407'"
      ]
     },
     "execution_count": 10,
     "metadata": {},
     "output_type": "execute_result"
    }
   ],
   "source": [
    "def problem2_bruteforce(path):\n",
    "    with open(path) as f:\n",
    "        n = int(f.readline())\n",
    "        a = list()\n",
    "        for _ in range(n):\n",
    "            pair = list(map(int, f.readline().split()))\n",
    "            a.append(pair)\n",
    "\n",
    "        result = None\n",
    "\n",
    "        for option in list(product([0, 1], repeat=n)):\n",
    "            s = 0\n",
    "            for i, x in enumerate(option):\n",
    "                s += a[i][x]\n",
    "\n",
    "            if s % 3 == 0 and (result == None or s > result):\n",
    "                result = s\n",
    "\n",
    "        return result\n",
    "\n",
    "def problem2(path):\n",
    "    with open(path) as f:\n",
    "        n = int(f.readline())\n",
    "\n",
    "        # Очевидно, наша цель - брать все время наибольшее число из пары.\n",
    "\n",
    "        r11 = 100001\n",
    "        r12 = 100001\n",
    "        r21 = 100001\n",
    "        r22 = 100001\n",
    "\n",
    "        s = 0 # ответ на задачу\n",
    "\n",
    "        for _ in range(n):\n",
    "            x, y = map(int, f.readline().split())\n",
    "            if x > y:\n",
    "                x, y = y, x\n",
    "\n",
    "            # теперь x - меньшее из чисел, y - большее\n",
    "\n",
    "            s += y\n",
    "\n",
    "            d = y - x\n",
    "            \n",
    "            if d % 3 == 1:\n",
    "                if d < r11:\n",
    "                    r12 = r11\n",
    "                    r11 = d\n",
    "                elif (d < r12):\n",
    "                    r12 = d\n",
    "            \n",
    "            elif d % 3 == 2:\n",
    "                if d < r21:\n",
    "                    r22 = r21\n",
    "                    r21 = d\n",
    "                elif d < r22:\n",
    "                    r22 = d\n",
    "\n",
    "        if s % 3 == 0:\n",
    "            return s\n",
    "        elif s % 3 == 1:\n",
    "            return max(s - r11, s - r21 - r22)\n",
    "        else:\n",
    "            return max(s - r21, s - r11 - r12)\n",
    "\n",
    "\n",
    "solutions[2] = '{} {}'.format(problem2('./data/27data/2/27-2a.txt'), problem2('./data/27data/2/27-2b.txt'))\n",
    "solutions[2]"
   ]
  },
  {
   "cell_type": "code",
   "execution_count": 11,
   "metadata": {},
   "outputs": [],
   "source": [
    "from random import randint\n",
    "\n",
    "for test_id in range(1, 1000+1):\n",
    "    with open('./tests/27_02/random/test_{}.txt'.format(test_id), 'w+') as f:\n",
    "        n = 12\n",
    "        f.write(str(n) + '\\n')\n",
    "\n",
    "        for i in range(n):\n",
    "            f.write(str(randint(1, 30000)) + ' ' + str(randint(1, 30000)) + '\\n')"
   ]
  },
  {
   "cell_type": "code",
   "execution_count": 12,
   "metadata": {},
   "outputs": [
    {
     "name": "stdout",
     "output_type": "stream",
     "text": [
      "Run ID: 27_02. Testing in progress...\n"
     ]
    },
    {
     "name": "stderr",
     "output_type": "stream",
     "text": [
      "100%|██████████| 1000/1000 [00:34<00:00, 28.66it/s]"
     ]
    },
    {
     "name": "stdout",
     "output_type": "stream",
     "text": [
      "OK! All tests passed.\n"
     ]
    },
    {
     "name": "stderr",
     "output_type": "stream",
     "text": [
      "\n"
     ]
    }
   ],
   "source": [
    "run_tests(problem2_bruteforce, problem2, '27_02')"
   ]
  },
  {
   "cell_type": "markdown",
   "metadata": {},
   "source": [
    "## Задача 4"
   ]
  },
  {
   "cell_type": "code",
   "execution_count": 13,
   "metadata": {},
   "outputs": [],
   "source": [
    "def problem4_incorrect(path):\n",
    "    with open(path) as f:\n",
    "        n = int(f.readline())\n",
    "\n",
    "        s = 0 # ответ на задачу\n",
    "        r = [10001] * 5 # r[i] - наименьшая разница между x и y по всем парам среди тех разниц, у которых остаток от деления на 5 равен i\n",
    "\n",
    "        for _ in range(n):\n",
    "            x, y = map(int, f.readline().split())\n",
    "            if x > y:\n",
    "                x, y = y, x\n",
    "\n",
    "            s += x\n",
    "            d = y - x\n",
    "            r[d % 5] = min(r[d % 5], d)\n",
    "\n",
    "        print(r)\n",
    "\n",
    "        if s % 5 == 0:\n",
    "            return s\n",
    "\n",
    "        return s - r[1]"
   ]
  },
  {
   "cell_type": "code",
   "execution_count": 14,
   "metadata": {},
   "outputs": [
    {
     "data": {
      "text/plain": [
       "'123720 402332230'"
      ]
     },
     "execution_count": 14,
     "metadata": {},
     "output_type": "execute_result"
    }
   ],
   "source": [
    "def problem4_bruteforce(path):\n",
    "    with open(path) as f:\n",
    "        n = int(f.readline())\n",
    "        a = list()\n",
    "        for _ in range(n):\n",
    "            pair = list(map(int, f.readline().split()))\n",
    "            a.append(pair)\n",
    "\n",
    "        result = None\n",
    "\n",
    "        for option in list(product([0, 1], repeat=n)):\n",
    "            s = 0\n",
    "            for i, x in enumerate(option):\n",
    "                s += a[i][x]\n",
    "\n",
    "            if s % 5 == 0 and (result == None or s > result):\n",
    "                result = s\n",
    "\n",
    "        return result\n",
    "\n",
    "def problem4(path):\n",
    "    with open(path) as f:\n",
    "        n = int(f.readline())\n",
    "\n",
    "        s = 0\n",
    "        m = [10 ** 20] * 5\n",
    "        for i in range(n):\n",
    "            x, y = map(int, f.readline().split())\n",
    "            a = abs(x-y)\n",
    "            s += max(x,y)\n",
    "\n",
    "            m[a % 5] = min(m[a % 5], a)\n",
    "\n",
    "        \n",
    "        if s % 5 == 1:\n",
    "            s -= m[1]\n",
    "        if s % 5 == 2:\n",
    "            s -= m[2]\n",
    "        if s % 5 == 3:\n",
    "            s -= min(m[1]+m[2],m[3])\n",
    "        if s % 5 == 4:\n",
    "            s -= min(m[1]+m[3],m[4])\n",
    "\n",
    "        return s\n",
    "\n",
    "solutions[4] = '{} {}'.format(problem4('./data/27data/4/27-4a.txt'), problem4('./data/27data/4/27-4b.txt'))\n",
    "solutions[4]"
   ]
  },
  {
   "cell_type": "code",
   "execution_count": 15,
   "metadata": {},
   "outputs": [],
   "source": [
    "from random import randint\n",
    "\n",
    "for test_id in range(1, 1000+1):\n",
    "    with open('./tests/27_04/random/test_{}.txt'.format(test_id), 'w+') as f:\n",
    "        n = 12\n",
    "        f.write(str(n) + '\\n')\n",
    "\n",
    "        for i in range(n):\n",
    "            f.write(str(randint(1, 100000)) + ' ' + str(randint(1, 100000)) + '\\n')"
   ]
  },
  {
   "cell_type": "code",
   "execution_count": 16,
   "metadata": {},
   "outputs": [
    {
     "name": "stdout",
     "output_type": "stream",
     "text": [
      "Run ID: 27_04. Testing in progress...\n"
     ]
    },
    {
     "name": "stderr",
     "output_type": "stream",
     "text": [
      "  0%|          | 3/1000 [00:00<00:38, 26.20it/s]"
     ]
    },
    {
     "name": "stdout",
     "output_type": "stream",
     "text": [
      "Test 2 failed. Expected 766045, actual 765935\n"
     ]
    },
    {
     "name": "stderr",
     "output_type": "stream",
     "text": [
      "  1%|          | 6/1000 [00:00<00:35, 28.08it/s]"
     ]
    },
    {
     "name": "stdout",
     "output_type": "stream",
     "text": [
      "Test 7 failed. Expected 942625, actual 931250\n"
     ]
    },
    {
     "name": "stderr",
     "output_type": "stream",
     "text": [
      "  2%|▏         | 20/1000 [00:00<00:30, 31.64it/s]"
     ]
    },
    {
     "name": "stdout",
     "output_type": "stream",
     "text": [
      "Test 14 failed. Expected 770650, actual 766810\n",
      "Test 18 failed. Expected 794650, actual 776170\n",
      "Test 20 failed. Expected 816300, actual -99999999999999171718\n"
     ]
    },
    {
     "name": "stderr",
     "output_type": "stream",
     "text": [
      "  3%|▎         | 28/1000 [00:00<00:32, 29.47it/s]"
     ]
    },
    {
     "name": "stdout",
     "output_type": "stream",
     "text": [
      "Test 22 failed. Expected 740370, actual 740295\n",
      "Test 23 failed. Expected 680330, actual 642205\n"
     ]
    },
    {
     "name": "stderr",
     "output_type": "stream",
     "text": [
      "  3%|▎         | 31/1000 [00:01<00:34, 28.10it/s]"
     ]
    },
    {
     "name": "stdout",
     "output_type": "stream",
     "text": [
      "Test 29 failed. Expected 906595, actual 854825\n",
      "Test 33 failed. Expected 711140, actual -99999999999999247743\n"
     ]
    },
    {
     "name": "stderr",
     "output_type": "stream",
     "text": [
      "  3%|▎         | 34/1000 [00:01<00:35, 27.43it/s]"
     ]
    },
    {
     "name": "stdout",
     "output_type": "stream",
     "text": [
      "Test 35 failed. Expected 818355, actual -99999999999999142788\n",
      "Testing is stopped after 10 failed tests.\n"
     ]
    },
    {
     "name": "stderr",
     "output_type": "stream",
     "text": [
      "\n"
     ]
    }
   ],
   "source": [
    "run_tests(problem4_bruteforce, problem4, '27_04')"
   ]
  },
  {
   "cell_type": "markdown",
   "metadata": {},
   "source": [
    "## Задача 5"
   ]
  },
  {
   "cell_type": "code",
   "execution_count": 17,
   "metadata": {},
   "outputs": [],
   "source": [
    "def problem5_bruteforce(path):\n",
    "    with open(path) as f:\n",
    "        n = int(f.readline())\n",
    "        a = list()\n",
    "        for _ in range(n):\n",
    "            pair = list(map(int, f.readline().split()))\n",
    "            a.append(pair)\n",
    "\n",
    "        result = None\n",
    "\n",
    "        for option in list(product([0, 1], repeat=n)):\n",
    "            s = 0\n",
    "            for i, x in enumerate(option):\n",
    "                s += a[i][x]\n",
    "\n",
    "            if s % 5 == 0 and (result == None or s < result):\n",
    "                result = s\n",
    "\n",
    "        return result\n",
    "\n",
    "\n",
    "def problem5(path):\n",
    "    with open(path) as f:\n",
    "        n = int(f.readline())\n",
    "        s = 0\n",
    "\n",
    "        infty = 10 ** 20\n",
    "        m = [infty] * 5\n",
    "\n",
    "        for i in range(n):\n",
    "            x, y = map(int, f.readline().split())\n",
    "            a = abs(x - y)\n",
    "            s += min(x, y)\n",
    "            m[a % 5] = min(m[a % 5], a)\n",
    "\n",
    "        if s % 5 == 1:\n",
    "            s += min(m[1] + m[3], m[4])\n",
    "        if s % 5 == 2:\n",
    "            s += min(m[1] + m[2], m[3])\n",
    "        if s % 5 == 3:\n",
    "            s += m[2]\n",
    "        if s % 5 == 4:\n",
    "            s += m[1]\n",
    "\n",
    "        return s\n",
    "\n",
    "\n",
    "def problem5_polyakov(path):\n",
    "    with open(path) as f:\n",
    "        n = int(f.readline())\n",
    "        s = 0\n",
    "\n",
    "        D = 5\n",
    "        s, dMin = 0, [10 ** 20] * D\n",
    "        for i in range(n):\n",
    "            a, b = map(int, f.readline().split())\n",
    "            s += min(a, b)\n",
    "            d = abs(a-b)\n",
    "            r = d % D\n",
    "            if r > 0:\n",
    "                dMinNew = dMin[:]\n",
    "                for k in range(1, D):\n",
    "                    r0 = (r + k) % D\n",
    "                    dMinNew[r0] = min(d+dMin[k], dMinNew[r0])\n",
    "                dMinNew[r] = min(d, dMinNew[r])\n",
    "                dMin = dMinNew[:]\n",
    "\n",
    "        if s % D == 0:\n",
    "            return s\n",
    "        else:\n",
    "            return s + dMin[D - s % D]\n"
   ]
  },
  {
   "cell_type": "code",
   "execution_count": 18,
   "metadata": {},
   "outputs": [
    {
     "data": {
      "text/plain": [
       "75960"
      ]
     },
     "execution_count": 18,
     "metadata": {},
     "output_type": "execute_result"
    }
   ],
   "source": [
    "problem5_bruteforce('./data/27data/5/27-5a.txt')"
   ]
  },
  {
   "cell_type": "code",
   "execution_count": 19,
   "metadata": {},
   "outputs": [
    {
     "data": {
      "text/plain": [
       "'75960 203343860'"
      ]
     },
     "execution_count": 19,
     "metadata": {},
     "output_type": "execute_result"
    }
   ],
   "source": [
    "solutions[5] = '{} {}'.format(problem5('./data/27data/5/27-5a.txt'), problem5('./data/27data/5/27-5b.txt'))\n",
    "solutions[5]"
   ]
  },
  {
   "cell_type": "code",
   "execution_count": 20,
   "metadata": {},
   "outputs": [],
   "source": [
    "from random import randint\n",
    "\n",
    "for test_id in range(1, 1000+1):\n",
    "    with open('./tests/27_05/random/test_{}.txt'.format(test_id), 'w+') as f:\n",
    "        n = 12\n",
    "        f.write(str(n) + '\\n')\n",
    "\n",
    "        for i in range(n):\n",
    "            f.write(str(randint(1, 30000)) + ' ' + str(randint(1, 30000)) + '\\n')"
   ]
  },
  {
   "cell_type": "code",
   "execution_count": 21,
   "metadata": {},
   "outputs": [
    {
     "name": "stdout",
     "output_type": "stream",
     "text": [
      "Run ID: 27_05. Testing in progress...\n"
     ]
    },
    {
     "name": "stderr",
     "output_type": "stream",
     "text": [
      "  0%|          | 3/1000 [00:00<00:37, 26.67it/s]"
     ]
    },
    {
     "name": "stdout",
     "output_type": "stream",
     "text": [
      "Test 1 failed. Expected 137350, actual 138775\n",
      "Test 2 failed. Expected 115310, actual 100000000000000105479\n"
     ]
    },
    {
     "name": "stderr",
     "output_type": "stream",
     "text": [
      "  1%|          | 12/1000 [00:00<00:38, 25.54it/s]"
     ]
    },
    {
     "name": "stdout",
     "output_type": "stream",
     "text": [
      "Test 7 failed. Expected 146870, actual 147410\n"
     ]
    },
    {
     "name": "stderr",
     "output_type": "stream",
     "text": [
      "  4%|▎         | 35/1000 [00:01<00:33, 28.79it/s]"
     ]
    },
    {
     "name": "stdout",
     "output_type": "stream",
     "text": [
      "Test 31 failed. Expected 125465, actual 100000000000000122943\n",
      "Test 34 failed. Expected 124100, actual 124505\n"
     ]
    },
    {
     "name": "stderr",
     "output_type": "stream",
     "text": [
      "  5%|▍         | 47/1000 [00:01<00:34, 27.33it/s]"
     ]
    },
    {
     "name": "stdout",
     "output_type": "stream",
     "text": [
      "Test 44 failed. Expected 107460, actual 119240\n"
     ]
    },
    {
     "name": "stderr",
     "output_type": "stream",
     "text": [
      "  5%|▌         | 54/1000 [00:01<00:32, 29.22it/s]"
     ]
    },
    {
     "name": "stdout",
     "output_type": "stream",
     "text": [
      "Test 50 failed. Expected 82450, actual 83725\n"
     ]
    },
    {
     "name": "stderr",
     "output_type": "stream",
     "text": [
      "  6%|▌         | 61/1000 [00:02<00:31, 30.00it/s]"
     ]
    },
    {
     "name": "stdout",
     "output_type": "stream",
     "text": [
      "Test 57 failed. Expected 80595, actual 100000000000000069943\n"
     ]
    },
    {
     "name": "stderr",
     "output_type": "stream",
     "text": [
      "  7%|▋         | 66/1000 [00:02<00:33, 27.63it/s]"
     ]
    },
    {
     "name": "stdout",
     "output_type": "stream",
     "text": [
      "Test 65 failed. Expected 150935, actual 159335\n",
      "Test 67 failed. Expected 141460, actual 155950\n",
      "Testing is stopped after 10 failed tests.\n"
     ]
    },
    {
     "name": "stderr",
     "output_type": "stream",
     "text": [
      "\n"
     ]
    }
   ],
   "source": [
    "run_tests(problem5_bruteforce, problem5, '27_05')"
   ]
  },
  {
   "cell_type": "code",
   "execution_count": 22,
   "metadata": {},
   "outputs": [
    {
     "name": "stdout",
     "output_type": "stream",
     "text": [
      "Run ID: 27_05. Testing in progress...\n"
     ]
    },
    {
     "name": "stderr",
     "output_type": "stream",
     "text": [
      "100%|██████████| 1000/1000 [00:34<00:00, 29.36it/s]"
     ]
    },
    {
     "name": "stdout",
     "output_type": "stream",
     "text": [
      "OK! All tests passed.\n"
     ]
    },
    {
     "name": "stderr",
     "output_type": "stream",
     "text": [
      "\n"
     ]
    }
   ],
   "source": [
    "run_tests(problem5_bruteforce, problem5_polyakov, '27_05')"
   ]
  },
  {
   "cell_type": "markdown",
   "metadata": {},
   "source": [
    "## Задача 6"
   ]
  },
  {
   "cell_type": "markdown",
   "metadata": {},
   "source": [
    "Имеется набор данных, состоящий из положительных целых чисел, каждое из которых не превышает 1000. Требуется найти для этой последовательности контрольное значение – наибольшее число $R$, удовлетворяющее следующим условиям:\n",
    "\n",
    "* $R$ – произведение двух различных переданных элементов последовательности («различные» означает, что не рассматриваются квадраты переданных чисел, произведения различных, но равных по величине элементов допускаются);\n",
    "* $R$ делится на 6.\n",
    "\n",
    "**Входные данные**: Даны два входных файла: файл A (`27-1a.txt`) и файл B (`27-1b.txt`), каждый из которых содержит в первой строке количество чисел $N (1 ≤ N ≤ 100000)$. Каждая из следующих N строк содержит два натуральных числа, не превышающих по модулю 10000.\n",
    "\n",
    "**Пример входного файла:**\n",
    "\n",
    "```\n",
    "6\n",
    "60\n",
    "17\n",
    "3\n",
    "7\n",
    "9\n",
    "60\n",
    "```\n",
    "\n",
    "Для указанных входных данных искомое контрольное значение равно 3600.\n",
    "\n",
    "В ответе укажите два числа: сначала искомое значение для файла А, затем для файла B."
   ]
  },
  {
   "cell_type": "code",
   "execution_count": 23,
   "metadata": {},
   "outputs": [],
   "source": [
    "def problem6_bruteforce(path: str):\n",
    "    with open(path) as f:\n",
    "        n = int(f.readline())\n",
    "        a = list()\n",
    "        for i in range(n):\n",
    "            a.append(int(f.readline()))\n",
    "        \n",
    "        result = 0\n",
    "        for i in range(n):\n",
    "            for j in range(i+1, n):\n",
    "                x = a[i] * a[j]\n",
    "                if x % 6 == 0 and x > result:\n",
    "                    result = x\n",
    "\n",
    "        return result"
   ]
  },
  {
   "cell_type": "code",
   "execution_count": 24,
   "metadata": {},
   "outputs": [],
   "source": [
    "def problem6(path: str):\n",
    "    with open(path) as f:\n",
    "        n = int(f.readline())\n",
    "\n",
    "        m = 0\n",
    "        m2 = 0\n",
    "        m3 = 0\n",
    "        m61 = 0\n",
    "        m62 = 0\n",
    "\n",
    "        for i in range(n):\n",
    "            x = int(f.readline())\n",
    "            if x % 6 == 0:\n",
    "                if x > m61:\n",
    "                    m62 = m61\n",
    "                    m61 = x\n",
    "                elif x > m62:\n",
    "                    m62 = x\n",
    "            elif x % 3 == 0:\n",
    "                m3 = max(m3, x)\n",
    "            elif x % 2 == 0:\n",
    "                m2 = max(m2, x)\n",
    "            else:\n",
    "                m = max(m, x)\n",
    "\n",
    "        return max(m2 * m3, max(m2, m3, m) * m61, m61 * m62)"
   ]
  },
  {
   "cell_type": "code",
   "execution_count": 25,
   "metadata": {},
   "outputs": [],
   "source": [
    "def problem6_polyakov(path: str):\n",
    "    with open(path) as f:\n",
    "        n = int(f.readline())\n",
    "        max6 = 0\n",
    "        maxX = 0\n",
    "        max2 = 0\n",
    "        max3 = 0\n",
    "        for i in range(n):\n",
    "            x = int(f.readline())\n",
    "            if x % 6 == 0 and x > max6:\n",
    "                if max6 > maxX: maxX = max6\n",
    "                max6 = x\n",
    "            else:\n",
    "                if x > maxX: maxX = x\n",
    "                if x % 2 == 0 and x > max2: max2 = x\n",
    "                elif x % 3 == 0 and x > max3: max3 = x\n",
    "\n",
    "        R = max( max6*maxX, max2*max3 )\n",
    "\n",
    "        return R"
   ]
  },
  {
   "cell_type": "code",
   "execution_count": 26,
   "metadata": {},
   "outputs": [
    {
     "data": {
      "text/plain": [
       "'782040 997002'"
      ]
     },
     "execution_count": 26,
     "metadata": {},
     "output_type": "execute_result"
    }
   ],
   "source": [
    "solutions[6] = '{} {}'.format(problem6_bruteforce('./data/27data/6/27-6a.txt'), problem6('./data/27data/6/27-6b.txt'))\n",
    "solutions[6]"
   ]
  },
  {
   "cell_type": "markdown",
   "metadata": {},
   "source": [
    "### Генерация тестов"
   ]
  },
  {
   "cell_type": "code",
   "execution_count": 27,
   "metadata": {},
   "outputs": [],
   "source": [
    "from random import randint\n",
    "\n",
    "for test_id in range(1, 1000+1):\n",
    "    with open('./tests/27_06/random/test_{}.txt'.format(test_id), 'w+') as f:\n",
    "        n = 100\n",
    "        f.write(str(n) + '\\n')\n",
    "\n",
    "        for i in range(n):\n",
    "            f.write(str(randint(1, 30000)) + '\\n')"
   ]
  },
  {
   "cell_type": "code",
   "execution_count": 28,
   "metadata": {},
   "outputs": [
    {
     "name": "stdout",
     "output_type": "stream",
     "text": [
      "Run ID: 27_06. Testing in progress...\n"
     ]
    },
    {
     "name": "stderr",
     "output_type": "stream",
     "text": [
      "100%|██████████| 1000/1000 [00:17<00:00, 57.84it/s]"
     ]
    },
    {
     "name": "stdout",
     "output_type": "stream",
     "text": [
      "OK! All tests passed.\n"
     ]
    },
    {
     "name": "stderr",
     "output_type": "stream",
     "text": [
      "\n"
     ]
    }
   ],
   "source": [
    "run_tests(problem6_bruteforce, problem6, '27_06')"
   ]
  },
  {
   "cell_type": "code",
   "execution_count": 29,
   "metadata": {},
   "outputs": [
    {
     "name": "stdout",
     "output_type": "stream",
     "text": [
      "Run ID: 27_06. Testing in progress...\n"
     ]
    },
    {
     "name": "stderr",
     "output_type": "stream",
     "text": [
      "100%|██████████| 1000/1000 [00:02<00:00, 363.70it/s]"
     ]
    },
    {
     "name": "stdout",
     "output_type": "stream",
     "text": [
      "OK! All tests passed.\n"
     ]
    },
    {
     "name": "stderr",
     "output_type": "stream",
     "text": [
      "\n"
     ]
    }
   ],
   "source": [
    "run_tests(problem6_bruteforce, problem6_polyakov, '27_06')"
   ]
  },
  {
   "cell_type": "markdown",
   "metadata": {},
   "source": [
    "## Задача 7"
   ]
  },
  {
   "cell_type": "code",
   "execution_count": 30,
   "metadata": {},
   "outputs": [
    {
     "data": {
      "text/plain": [
       "420"
      ]
     },
     "execution_count": 30,
     "metadata": {},
     "output_type": "execute_result"
    }
   ],
   "source": [
    "def problem7_bruteforce(path: str):\n",
    "    with open(path) as f:\n",
    "        n = int(f.readline())\n",
    "        a = list()\n",
    "\n",
    "        for i in range(n):\n",
    "            a.append(int(f.readline()))\n",
    "        \n",
    "        result = 0\n",
    "        for i in range(n):\n",
    "            for j in range(i+1, n):\n",
    "                x = a[i] * a[j]\n",
    "                if x % 7 == 0 and x % 49 != 0 and x > result:\n",
    "                    result = x\n",
    "\n",
    "        return result\n",
    "\n",
    "problem7_bruteforce('./tests/27_07/manual/example.txt')"
   ]
  },
  {
   "cell_type": "code",
   "execution_count": 31,
   "metadata": {},
   "outputs": [
    {
     "data": {
      "text/plain": [
       "420"
      ]
     },
     "execution_count": 31,
     "metadata": {},
     "output_type": "execute_result"
    }
   ],
   "source": [
    "def problem7(path: str):\n",
    "    with open(path) as f:\n",
    "        n = int(f.readline())\n",
    "        m7 = 0\n",
    "        m = 0\n",
    "\n",
    "        for i in range(n):\n",
    "            x = int(f.readline())\n",
    "            if x % 7 == 0 and x % 49 != 0 and x > m7:\n",
    "                m7 = x\n",
    "            elif x % 7 != 0 and x > m:\n",
    "                m = x\n",
    "\n",
    "        return m7 * m\n",
    "        \n",
    "\n",
    "problem7('./tests/27_07/manual/example.txt')"
   ]
  },
  {
   "cell_type": "code",
   "execution_count": 32,
   "metadata": {},
   "outputs": [
    {
     "data": {
      "text/plain": [
       "'692286 952567'"
      ]
     },
     "execution_count": 32,
     "metadata": {},
     "output_type": "execute_result"
    }
   ],
   "source": [
    "solutions[7] = '{} {}'.format(problem7_bruteforce('./data/27data/7/27-7a.txt'), problem7('./data/27data/7/27-7b.txt'))\n",
    "solutions[7]"
   ]
  },
  {
   "cell_type": "code",
   "execution_count": 33,
   "metadata": {},
   "outputs": [],
   "source": [
    "from random import randint\n",
    "\n",
    "for test_id in range(1, 1000+1):\n",
    "    with open('./tests/27_07/random/test_{}.txt'.format(test_id), 'w+') as f:\n",
    "        n = 100\n",
    "        f.write(str(n) + '\\n')\n",
    "\n",
    "        for i in range(n):\n",
    "            f.write(str(randint(1, 100000)) + '\\n')"
   ]
  },
  {
   "cell_type": "code",
   "execution_count": 34,
   "metadata": {},
   "outputs": [
    {
     "name": "stdout",
     "output_type": "stream",
     "text": [
      "Run ID: 27_07. Testing in progress...\n"
     ]
    },
    {
     "name": "stderr",
     "output_type": "stream",
     "text": [
      "100%|██████████| 1000/1000 [00:18<00:00, 53.94it/s]"
     ]
    },
    {
     "name": "stdout",
     "output_type": "stream",
     "text": [
      "OK! All tests passed.\n"
     ]
    },
    {
     "name": "stderr",
     "output_type": "stream",
     "text": [
      "\n"
     ]
    }
   ],
   "source": [
    "run_tests(problem7_bruteforce, problem7, '27_07')"
   ]
  },
  {
   "cell_type": "markdown",
   "metadata": {},
   "source": [
    "## Задача 8"
   ]
  },
  {
   "cell_type": "markdown",
   "metadata": {},
   "source": [
    "Имеется набор данных, состоящий из положительных целых чисел, каждое из которых не превышает 1000. Они представляют собой результаты измерений, выполняемых прибором с интервалом 1 минута. Требуется найти для этой последовательности контрольное значение – наименьшую сумму квадратов двух результатов измерений, выполненных с интервалом не менее, чем в 5 минут."
   ]
  },
  {
   "cell_type": "code",
   "execution_count": 35,
   "metadata": {},
   "outputs": [
    {
     "data": {
      "text/plain": [
       "'11009 200'"
      ]
     },
     "execution_count": 35,
     "metadata": {},
     "output_type": "execute_result"
    }
   ],
   "source": [
    "def problem8_bruteforce(path: str):\n",
    "    with open(path) as f:\n",
    "        n = int(f.readline())\n",
    "        a = list()\n",
    "\n",
    "        for i in range(n):\n",
    "            a.append(int(f.readline()))\n",
    "        \n",
    "        result = 10 ** 20\n",
    "        for i in range(n):\n",
    "            for j in range(i+5, n):\n",
    "                x = (a[i] ** 2) + (a[j] ** 2)\n",
    "                if x < result:\n",
    "                    result = x\n",
    "\n",
    "        return result\n",
    "\n",
    "def problem8(path: str):\n",
    "    with open(path) as f:\n",
    "        n = int(f.readline())\n",
    "        window = [0] * 5\n",
    "        answer = 10 ** 20\n",
    "        m = None\n",
    "\n",
    "        for i in range(n):\n",
    "            if i >= 5 and (m == None or window[i % 5] < m):\n",
    "                m = window[i % 5]\n",
    "            x = int(f.readline())\n",
    "            window[i % 5] = x\n",
    "\n",
    "            if m != None:\n",
    "                answer = min(answer, m ** 2 + window[i % 5] ** 2)\n",
    "\n",
    "        return answer\n",
    "\n",
    "solutions[8] = '{} {}'.format(problem8('./data/27data/8/27-8a.txt'), problem8('./data/27data/8/27-8b.txt'))\n",
    "solutions[8]"
   ]
  },
  {
   "cell_type": "code",
   "execution_count": 36,
   "metadata": {},
   "outputs": [
    {
     "data": {
      "text/plain": [
       "'3809 200'"
      ]
     },
     "execution_count": 36,
     "metadata": {},
     "output_type": "execute_result"
    }
   ],
   "source": [
    "def problem8(path: str):\n",
    "    with open(path) as f:\n",
    "        n = int(f.readline())\n",
    "        # window = [0] * 5\n",
    "        answer = 10 ** 20\n",
    "        m = 10 ** 20\n",
    "\n",
    "        for i in range(n):\n",
    "            x = int(f.readline())\n",
    "\n",
    "            if i >= 5:\n",
    "                answer = min(answer, m ** 2 + x ** 2)\n",
    "\n",
    "            m = min(m, x)\n",
    "\n",
    "        return answer\n",
    "\n",
    "solutions[8] = '{} {}'.format(problem8('./data/27data/8/27-8a.txt'), problem8('./data/27data/8/27-8b.txt'))\n",
    "solutions[8]"
   ]
  },
  {
   "cell_type": "markdown",
   "metadata": {},
   "source": [
    "0, 1, 2, 3, 4\n",
    "\n",
    "1, 2, 3, 4, 5\n",
    "\n",
    "2, 3, 4, 5, 6\n",
    "\n",
    "3, 4, 5, 6, 7\n",
    "\n",
    "5, 6, 7, 8, 4"
   ]
  },
  {
   "cell_type": "code",
   "execution_count": 37,
   "metadata": {},
   "outputs": [
    {
     "data": {
      "text/plain": [
       "'11009 200'"
      ]
     },
     "execution_count": 37,
     "metadata": {},
     "output_type": "execute_result"
    }
   ],
   "source": [
    "answers[8]"
   ]
  },
  {
   "cell_type": "code",
   "execution_count": 38,
   "metadata": {},
   "outputs": [
    {
     "data": {
      "text/plain": [
       "11009"
      ]
     },
     "execution_count": 38,
     "metadata": {},
     "output_type": "execute_result"
    }
   ],
   "source": [
    "problem8_bruteforce('./data/27data/8/27-8a.txt')"
   ]
  },
  {
   "cell_type": "code",
   "execution_count": 39,
   "metadata": {},
   "outputs": [
    {
     "data": {
      "text/plain": [
       "3809"
      ]
     },
     "execution_count": 39,
     "metadata": {},
     "output_type": "execute_result"
    }
   ],
   "source": [
    "problem8('./data/27data/8/27-8a.txt')"
   ]
  },
  {
   "cell_type": "code",
   "execution_count": 40,
   "metadata": {},
   "outputs": [],
   "source": [
    "from random import randint\n",
    "\n",
    "for test_id in range(1, 1000+1):\n",
    "    with open('./tests/27_08/random/test_{}.txt'.format(test_id), 'w+') as f:\n",
    "        n = 100\n",
    "        f.write(str(n) + '\\n')\n",
    "\n",
    "        for i in range(n):\n",
    "            f.write(str(randint(1, 100000)) + '\\n')"
   ]
  },
  {
   "cell_type": "code",
   "execution_count": 41,
   "metadata": {},
   "outputs": [
    {
     "name": "stdout",
     "output_type": "stream",
     "text": [
      "Run ID: 27_08. Testing in progress...\n"
     ]
    },
    {
     "name": "stderr",
     "output_type": "stream",
     "text": [
      "  2%|▏         | 15/1000 [00:00<00:23, 42.01it/s]"
     ]
    },
    {
     "name": "stdout",
     "output_type": "stream",
     "text": [
      "Test 10 failed. Expected 32107225, actual 2433033\n"
     ]
    },
    {
     "name": "stderr",
     "output_type": "stream",
     "text": [
      "  2%|▎         | 25/1000 [00:00<00:22, 43.40it/s]"
     ]
    },
    {
     "name": "stdout",
     "output_type": "stream",
     "text": [
      "Test 21 failed. Expected 7346165, actual 3631880\n",
      "Test 28 failed. Expected 11516170, actual 9907330\n"
     ]
    },
    {
     "name": "stderr",
     "output_type": "stream",
     "text": [
      "  4%|▎         | 35/1000 [00:00<00:23, 41.95it/s]"
     ]
    },
    {
     "name": "stdout",
     "output_type": "stream",
     "text": [
      "Test 30 failed. Expected 8443073, actual 6660554\n"
     ]
    },
    {
     "name": "stderr",
     "output_type": "stream",
     "text": [
      "  4%|▍         | 45/1000 [00:01<00:22, 42.11it/s]"
     ]
    },
    {
     "name": "stdout",
     "output_type": "stream",
     "text": [
      "Test 40 failed. Expected 32139106, actual 9368554\n"
     ]
    },
    {
     "name": "stderr",
     "output_type": "stream",
     "text": [
      "  6%|▌         | 55/1000 [00:01<00:22, 41.70it/s]"
     ]
    },
    {
     "name": "stdout",
     "output_type": "stream",
     "text": [
      "Test 50 failed. Expected 488645, actual 251093\n"
     ]
    },
    {
     "name": "stderr",
     "output_type": "stream",
     "text": [
      "  7%|▋         | 70/1000 [00:01<00:22, 41.14it/s]"
     ]
    },
    {
     "name": "stdout",
     "output_type": "stream",
     "text": [
      "Test 64 failed. Expected 10148130, actual 6539557\n",
      "Test 66 failed. Expected 6830685, actual 1484005\n"
     ]
    },
    {
     "name": "stderr",
     "output_type": "stream",
     "text": [
      "  9%|▉         | 94/1000 [00:02<00:21, 42.39it/s]"
     ]
    },
    {
     "name": "stdout",
     "output_type": "stream",
     "text": [
      "Test 91 failed. Expected 18132850, actual 13434354\n",
      "Test 95 failed. Expected 6205825, actual 6044818\n",
      "Testing is stopped after 10 failed tests.\n"
     ]
    },
    {
     "name": "stderr",
     "output_type": "stream",
     "text": [
      "\n"
     ]
    }
   ],
   "source": [
    "run_tests(problem8_bruteforce, problem8, '27_08')"
   ]
  },
  {
   "cell_type": "markdown",
   "metadata": {},
   "source": [
    "## Задача 9"
   ]
  },
  {
   "cell_type": "code",
   "execution_count": 42,
   "metadata": {},
   "outputs": [],
   "source": [
    "def problem9_bruteforce(path: str):\n",
    "    with open(path) as f:\n",
    "        n = int(f.readline())\n",
    "        a = list()\n",
    "\n",
    "        for i in range(n):\n",
    "            a.append(int(f.readline()))\n",
    "        \n",
    "        result = None\n",
    "        for i in range(n-6):\n",
    "            for j in range(i+6, n):\n",
    "                x = a[i] * a[j]\n",
    "                if x % 2 == 1 and (result == None or x < result):\n",
    "                    result = x\n",
    "\n",
    "        if result == None:\n",
    "            return -1\n",
    "        \n",
    "        return result"
   ]
  },
  {
   "cell_type": "code",
   "execution_count": 43,
   "metadata": {},
   "outputs": [
    {
     "data": {
      "text/plain": [
       "2465"
      ]
     },
     "execution_count": 43,
     "metadata": {},
     "output_type": "execute_result"
    }
   ],
   "source": [
    "problem9_bruteforce('./data/27data/9/27-9a.txt')"
   ]
  },
  {
   "cell_type": "markdown",
   "metadata": {},
   "source": [
    "## Задача 12"
   ]
  },
  {
   "cell_type": "code",
   "execution_count": 44,
   "metadata": {},
   "outputs": [
    {
     "data": {
      "text/plain": [
       "'47 745460178'"
      ]
     },
     "execution_count": 44,
     "metadata": {},
     "output_type": "execute_result"
    }
   ],
   "source": [
    "def problem12_bruteforce(path: str):\n",
    "    with open(path) as f:\n",
    "        n = int(f.readline())\n",
    "        a = list()\n",
    "\n",
    "        for i in range(n):\n",
    "            a.append(int(f.readline()))\n",
    "\n",
    "        answer = 0\n",
    "        for i in range(n):\n",
    "            for j in range(i+1, n):\n",
    "                if (a[i] * a[j]) % 6 == 0:\n",
    "                    answer += 1\n",
    "\n",
    "        return answer\n",
    "\n",
    "def problem12(path: str):\n",
    "    with open(path) as f:\n",
    "        n = int(f.readline())\n",
    "\n",
    "        answer = 0\n",
    "        k6 = 0 # количество кратных 6\n",
    "        k3 = 0 # количество не кратных 6, кратных 3\n",
    "        k2 = 0 # количество не кратных 6, кратных 2\n",
    "\n",
    "        for i in range(n):\n",
    "            x = int(f.readline())\n",
    "            if x % 6 == 0:\n",
    "                k6 += 1\n",
    "            elif x % 3 == 0:\n",
    "                k3 += 1\n",
    "            elif x % 2 == 0:\n",
    "                k2 += 1\n",
    "        \n",
    "        answer = k2 * k3 + k6 * (n - k6) + (k6 * (k6-1) // 2)\n",
    "        return answer\n",
    "\n",
    "solutions[12] = '{} {}'.format(problem12_bruteforce('./data/27data/12/27-12a.txt'), problem12('./data/27data/12/27-12b.txt'))\n",
    "solutions[12]"
   ]
  },
  {
   "cell_type": "markdown",
   "metadata": {},
   "source": [
    "## Задача 13"
   ]
  },
  {
   "cell_type": "code",
   "execution_count": 45,
   "metadata": {},
   "outputs": [
    {
     "data": {
      "text/plain": [
       "'30 360137507'"
      ]
     },
     "execution_count": 45,
     "metadata": {},
     "output_type": "execute_result"
    }
   ],
   "source": [
    "def problem13_bruteforce(path: str):\n",
    "    with open(path) as f:\n",
    "        n = int(f.readline())\n",
    "        a = list()\n",
    "\n",
    "        for i in range(n):\n",
    "            a.append(int(f.readline()))\n",
    "        \n",
    "        answer = 0\n",
    "        for i in range(n):\n",
    "            for j in range(i+7, n):\n",
    "                if (a[i] * a[j]) % 14 == 0:\n",
    "                    answer += 1\n",
    "\n",
    "        return answer\n",
    "\n",
    "def problem13(path: str):\n",
    "    with open(path) as f:\n",
    "        n = int(f.readline())\n",
    "        buf = [int(f.readline()) for i in range(7)]\n",
    "        answer = 0\n",
    "        c14 = 0 # количество чисел, кратных 14, с индексами от 0 до i-7\n",
    "        c2 = 0 # количество чисел, кратных 2, с индексами от 0 до i-7\n",
    "        c7 = 0 # количество чисел, кратных 7, с индексами от 0 до i-7\n",
    "        c = 0 # количество чисел, не кратных 2 и 7, с индексами от 0 до i-7\n",
    "\n",
    "        for i in range(7, n):\n",
    "            x = int(f.readline())\n",
    "            if buf[i % 7] % 14 == 0:\n",
    "                c14 += 1\n",
    "            elif buf[i % 7] % 2 == 0:\n",
    "                c2 += 1\n",
    "            elif buf[i % 7] % 7 == 0:\n",
    "                c7 += 1\n",
    "            else:\n",
    "                c += 1\n",
    "\n",
    "            buf[i % 7] = x\n",
    "\n",
    "            if x % 14 == 0:\n",
    "                answer += c14 + c7 + c2 + c\n",
    "            elif x % 2 == 0:\n",
    "                answer += c14 + c7\n",
    "            elif x % 7 == 0:\n",
    "                answer += c14 + c2\n",
    "            else:\n",
    "                answer += c14\n",
    "        \n",
    "        return answer\n",
    "\n",
    "solutions[13] = '{} {}'.format(problem13_bruteforce('./data/27data/13/27-13a.txt'), problem13('./data/27data/13/27-13b.txt'))\n",
    "solutions[13]"
   ]
  },
  {
   "cell_type": "code",
   "execution_count": 46,
   "metadata": {},
   "outputs": [
    {
     "data": {
      "text/plain": [
       "'30 360137507'"
      ]
     },
     "execution_count": 46,
     "metadata": {},
     "output_type": "execute_result"
    }
   ],
   "source": [
    "answers[13]"
   ]
  },
  {
   "cell_type": "code",
   "execution_count": 47,
   "metadata": {},
   "outputs": [],
   "source": [
    "from random import randint\n",
    "\n",
    "for test_id in range(1, 1000+1):\n",
    "    with open('./tests/27_13/random/test_{}.txt'.format(test_id), 'w+') as f:\n",
    "        n = 100\n",
    "        f.write(str(n) + '\\n')\n",
    "\n",
    "        for i in range(n):\n",
    "            f.write(str(randint(1, 100000)) + '\\n')"
   ]
  },
  {
   "cell_type": "code",
   "execution_count": 48,
   "metadata": {},
   "outputs": [
    {
     "name": "stdout",
     "output_type": "stream",
     "text": [
      "Run ID: 27_13. Testing in progress...\n"
     ]
    },
    {
     "name": "stderr",
     "output_type": "stream",
     "text": [
      "100%|██████████| 1000/1000 [00:16<00:00, 60.52it/s]"
     ]
    },
    {
     "name": "stdout",
     "output_type": "stream",
     "text": [
      "OK! All tests passed.\n"
     ]
    },
    {
     "name": "stderr",
     "output_type": "stream",
     "text": [
      "\n"
     ]
    }
   ],
   "source": [
    "run_tests(problem13_bruteforce, problem13, '27_13')"
   ]
  },
  {
   "cell_type": "code",
   "execution_count": 49,
   "metadata": {},
   "outputs": [
    {
     "data": {
      "text/plain": [
       "'30 360137507'"
      ]
     },
     "execution_count": 49,
     "metadata": {},
     "output_type": "execute_result"
    }
   ],
   "source": [
    "answers[13]"
   ]
  },
  {
   "cell_type": "markdown",
   "metadata": {},
   "source": [
    "## Задача 14"
   ]
  },
  {
   "cell_type": "code",
   "execution_count": 50,
   "metadata": {},
   "outputs": [
    {
     "data": {
      "text/plain": [
       "'17 150016535'"
      ]
     },
     "execution_count": 50,
     "metadata": {},
     "output_type": "execute_result"
    }
   ],
   "source": [
    "def problem14_bruteforce(path: str):\n",
    "    with open(path) as f:\n",
    "        n = int(f.readline())\n",
    "        a = list()\n",
    "\n",
    "        for i in range(n):\n",
    "            a.append(int(f.readline()))\n",
    "\n",
    "        answer = 0\n",
    "        for i in range(n):\n",
    "            for j in range(i+1, n):\n",
    "                if (a[i] + a[j]) % 12 == 0:\n",
    "                    answer += 1\n",
    "\n",
    "        return answer\n",
    "\n",
    "def problem14(path: str):\n",
    "    with open(path) as f:\n",
    "        n = int(f.readline())\n",
    "\n",
    "        answer = 0\n",
    "        r = [0] * 12\n",
    "        for i in range(n):\n",
    "            x = int(f.readline())\n",
    "            r[x % 12] += 1\n",
    "\n",
    "        answer += r[0] * (r[0] - 1) // 2\n",
    "        answer += r[6] * (r[6] - 1) // 2\n",
    "\n",
    "        for i in range(1, 6):\n",
    "            answer += r[i] * r[12-i]\n",
    "        return answer\n",
    "\n",
    "solutions[14] = '{} {}'.format(problem14_bruteforce('./data/27data/14/27-14a.txt'), problem14('./data/27data/14/27-14b.txt'))\n",
    "solutions[14]"
   ]
  },
  {
   "cell_type": "code",
   "execution_count": 51,
   "metadata": {},
   "outputs": [
    {
     "data": {
      "text/plain": [
       "'17 150016535'"
      ]
     },
     "execution_count": 51,
     "metadata": {},
     "output_type": "execute_result"
    }
   ],
   "source": [
    "answers[14]"
   ]
  },
  {
   "cell_type": "code",
   "execution_count": 52,
   "metadata": {},
   "outputs": [
    {
     "data": {
      "text/plain": [
       "2"
      ]
     },
     "execution_count": 52,
     "metadata": {},
     "output_type": "execute_result"
    }
   ],
   "source": [
    "problem14_bruteforce('./tests/27_14/manual/example.txt')"
   ]
  },
  {
   "cell_type": "code",
   "execution_count": 53,
   "metadata": {},
   "outputs": [
    {
     "data": {
      "text/plain": [
       "2"
      ]
     },
     "execution_count": 53,
     "metadata": {},
     "output_type": "execute_result"
    }
   ],
   "source": [
    "problem14('./tests/27_14/manual/example.txt')"
   ]
  },
  {
   "cell_type": "code",
   "execution_count": 54,
   "metadata": {},
   "outputs": [
    {
     "data": {
      "text/plain": [
       "17"
      ]
     },
     "execution_count": 54,
     "metadata": {},
     "output_type": "execute_result"
    }
   ],
   "source": [
    "problem14_bruteforce('./data/27data/14/27-14a.txt')"
   ]
  },
  {
   "cell_type": "code",
   "execution_count": 55,
   "metadata": {},
   "outputs": [
    {
     "data": {
      "text/plain": [
       "17"
      ]
     },
     "execution_count": 55,
     "metadata": {},
     "output_type": "execute_result"
    }
   ],
   "source": [
    "problem14('./data/27data/14/27-14a.txt')"
   ]
  },
  {
   "cell_type": "code",
   "execution_count": 56,
   "metadata": {},
   "outputs": [],
   "source": [
    "from random import randint\n",
    "\n",
    "for test_id in range(1, 1000+1):\n",
    "    with open('./tests/27_14/random/test_{}.txt'.format(test_id), 'w+') as f:\n",
    "        n = 100\n",
    "        f.write(str(n) + '\\n')\n",
    "\n",
    "        for i in range(n):\n",
    "            f.write(str(randint(1, 1000)) + '\\n')"
   ]
  },
  {
   "cell_type": "code",
   "execution_count": 57,
   "metadata": {},
   "outputs": [
    {
     "name": "stdout",
     "output_type": "stream",
     "text": [
      "Run ID: 27_14. Testing in progress...\n"
     ]
    },
    {
     "name": "stderr",
     "output_type": "stream",
     "text": [
      "100%|██████████| 1000/1000 [00:16<00:00, 59.24it/s]"
     ]
    },
    {
     "name": "stdout",
     "output_type": "stream",
     "text": [
      "OK! All tests passed.\n"
     ]
    },
    {
     "name": "stderr",
     "output_type": "stream",
     "text": [
      "\n"
     ]
    }
   ],
   "source": [
    "run_tests(problem14_bruteforce, problem14, '27_14')"
   ]
  },
  {
   "cell_type": "markdown",
   "metadata": {},
   "source": [
    "## Задача 15"
   ]
  },
  {
   "cell_type": "code",
   "execution_count": 58,
   "metadata": {},
   "outputs": [],
   "source": [
    "def problem15_bruteforce(path: str):\n",
    "    with open(path) as f:\n",
    "        n = int(f.readline())\n",
    "        a = list()\n",
    "\n",
    "        for i in range(n):\n",
    "            a.append(int(f.readline()))\n",
    "        \n",
    "        answer = 0\n",
    "        for i in range(n):\n",
    "            for j in range(i+5, n):\n",
    "                s = a[i] + a[j]\n",
    "                if s % 14 == 0:\n",
    "                    answer += 1\n",
    "\n",
    "        return answer\n",
    "\n",
    "def problem15(path: str):\n",
    "    with open(path) as f:\n",
    "        n = int(f.readline())\n",
    "        answer = 0\n",
    "\n",
    "        window = [0] * 5\n",
    "\n",
    "        for i in range(n):\n",
    "            x = int(f.readline())\n",
    "\n",
    "        return answer"
   ]
  },
  {
   "cell_type": "code",
   "execution_count": 59,
   "metadata": {},
   "outputs": [
    {
     "data": {
      "text/plain": [
       "8"
      ]
     },
     "execution_count": 59,
     "metadata": {},
     "output_type": "execute_result"
    }
   ],
   "source": [
    "problem15_bruteforce('./data/27data/15/27-15a.txt')"
   ]
  },
  {
   "cell_type": "code",
   "execution_count": 60,
   "metadata": {},
   "outputs": [],
   "source": [
    "# run_tests(problem15_bruteforce, problem15, '27_15')"
   ]
  },
  {
   "cell_type": "markdown",
   "metadata": {},
   "source": [
    "## Задача 18"
   ]
  },
  {
   "cell_type": "code",
   "execution_count": 61,
   "metadata": {},
   "outputs": [],
   "source": [
    "def problem18_bruteforce(path: str):\n",
    "    with open(path) as f:\n",
    "        n = int(f.readline())\n",
    "        a = list()\n",
    "\n",
    "        for i in range(n):\n",
    "            a.append(int(f.readline()))\n",
    "\n",
    "        answer = 0\n",
    "        for i in range(n):\n",
    "            for j in range(i+1, min(i+5, n)):\n",
    "                if (a[i] * a[j]) % 13 == 0 and (a[i] + a[j]) % 2 == 1:\n",
    "                    answer += 1\n",
    "\n",
    "        return answer"
   ]
  },
  {
   "cell_type": "code",
   "execution_count": 62,
   "metadata": {},
   "outputs": [
    {
     "data": {
      "text/plain": [
       "1"
      ]
     },
     "execution_count": 62,
     "metadata": {},
     "output_type": "execute_result"
    }
   ],
   "source": [
    "problem18_bruteforce('./tests/27_18/manual/example.txt')"
   ]
  },
  {
   "cell_type": "code",
   "execution_count": 63,
   "metadata": {},
   "outputs": [
    {
     "data": {
      "text/plain": [
       "'11 17813'"
      ]
     },
     "execution_count": 63,
     "metadata": {},
     "output_type": "execute_result"
    }
   ],
   "source": [
    "answers[18]"
   ]
  },
  {
   "cell_type": "code",
   "execution_count": 64,
   "metadata": {},
   "outputs": [],
   "source": [
    "def problem18(path: str):\n",
    "    with open(path) as f:\n",
    "        n = int(f.readline())\n",
    "\n",
    "        return 0"
   ]
  },
  {
   "cell_type": "code",
   "execution_count": 65,
   "metadata": {},
   "outputs": [
    {
     "data": {
      "text/plain": [
       "'11 17813'"
      ]
     },
     "execution_count": 65,
     "metadata": {},
     "output_type": "execute_result"
    }
   ],
   "source": [
    "solutions[18] = '{} {}'.format(problem18_bruteforce('./data/27data/18/27-18a.txt'), problem18_bruteforce('./data/27data/18/27-18b.txt'))\n",
    "solutions[18]"
   ]
  },
  {
   "cell_type": "markdown",
   "metadata": {},
   "source": [
    "## №19"
   ]
  },
  {
   "cell_type": "markdown",
   "metadata": {},
   "source": [
    "Имеется набор данных, состоящий из целых чисел. Необходимо определить максимальное произведение подпоследовательности, состоящей из одного или более идущих подряд элементов.\n",
    "\n",
    "\n",
    "**Входные данные**: Даны два входных файла: файл A (`27-19a.txt`) и файл B (`27-19b.txt`), каждый из которых содержит в первой строке количество чисел N (1 ≤ N ≤ 100000). Каждая из следующих N строк содержит целое число, не превышающее по модулю 100.\n",
    "\n",
    "**Пример входного файла:**\n",
    "\n",
    "```\n",
    "7\n",
    "2\n",
    "3\n",
    "-2\n",
    "-3\n",
    "-1\n",
    "4\n",
    "6\n",
    "```\n",
    "\n",
    "Для указанных входных данных наибольшее произведение равно 72. Его можно получить для последовательности -3 -1 4 6. \n",
    "\n",
    "\n",
    "В ответе укажите два числа: сначала искомое значение для файла А, затем для файла B.\n",
    "\n"
   ]
  },
  {
   "cell_type": "code",
   "execution_count": 66,
   "metadata": {},
   "outputs": [],
   "source": [
    "def problem19_bruteforce(path):\n",
    "    with open(path) as f:\n",
    "        n = int(f.readline())\n",
    "        a = list()\n",
    "        for i in range(n):\n",
    "            a.append(int(f.readline()))\n",
    "\n",
    "        result = float('-inf')\n",
    "        for length in range(n):\n",
    "            for l in range(n-length):\n",
    "                p = 1\n",
    "                for x in a[l:l+length]:\n",
    "                    p *= x\n",
    "\n",
    "                if p > result:\n",
    "                    result = p\n",
    "\n",
    "        return result"
   ]
  },
  {
   "cell_type": "code",
   "execution_count": 67,
   "metadata": {},
   "outputs": [
    {
     "data": {
      "text/plain": [
       "'663497670 999398400'"
      ]
     },
     "execution_count": 67,
     "metadata": {},
     "output_type": "execute_result"
    }
   ],
   "source": [
    "def problem19(path):\n",
    "    with open(path) as f:\n",
    "        ans = 1\n",
    "        p = 1\n",
    "\n",
    "        n = int(f.readline())\n",
    "        for i in range(n):\n",
    "            x = int(f.readline())\n",
    "            if x > 0:\n",
    "                if p > 0:\n",
    "                    p *= x\n",
    "                else:\n",
    "                    if p > ans:\n",
    "                        ans = p\n",
    "                    p = 1\n",
    "            else:\n",
    "                if p < 0:\n",
    "                    p *= x\n",
    "                else:\n",
    "                    if p > ans:\n",
    "                        ans = p\n",
    "                    p = 1\n",
    "        \n",
    "        return ans\n",
    "\n",
    "solutions[19] = '{} {}'.format(problem19_bruteforce('./data/27data/19/27-19a.txt'), problem19('./data/27data/19/27-19b.txt'))\n",
    "solutions[19]"
   ]
  },
  {
   "cell_type": "code",
   "execution_count": 68,
   "metadata": {},
   "outputs": [
    {
     "data": {
      "text/plain": [
       "'663497670 97618752000'"
      ]
     },
     "execution_count": 68,
     "metadata": {},
     "output_type": "execute_result"
    }
   ],
   "source": [
    "def problem19_polyakov(path):\n",
    "    with open(path) as f:\n",
    "        n = int(f.readline())\n",
    "\n",
    "        x = int(f.readline())  # первое число\n",
    "        dp_min = dp_max = answer = x\n",
    "\n",
    "        for _ in range(n-1):\n",
    "            x = int(f.readline())\n",
    "            t = min(dp_min, dp_max, x)\n",
    "            dp_max = max(dp_min*x, dp_max*x, x)\n",
    "            dp_min = t\n",
    "            answer = max(answer, dp_max)\n",
    "\n",
    "        return answer\n",
    "\n",
    "solutions[19] = '{} {}'.format(problem19_bruteforce('./data/27data/19/27-19a.txt'), problem19_polyakov('./data/27data/19/27-19b.txt'))\n",
    "solutions[19]"
   ]
  },
  {
   "cell_type": "code",
   "execution_count": 69,
   "metadata": {},
   "outputs": [],
   "source": [
    "from random import randint\n",
    "\n",
    "for test_id in range(1, 1000+1):\n",
    "    with open('./tests/27_19/random/test_{}.txt'.format(test_id), 'w+') as f:\n",
    "        n = 50\n",
    "        f.write(str(n) + '\\n')\n",
    "\n",
    "        for i in range(n):\n",
    "            f.write(str(randint(-100, 100)) + '\\n')"
   ]
  },
  {
   "cell_type": "code",
   "execution_count": 70,
   "metadata": {},
   "outputs": [
    {
     "name": "stdout",
     "output_type": "stream",
     "text": [
      "Run ID: 27_19. Testing in progress...\n"
     ]
    },
    {
     "name": "stderr",
     "output_type": "stream",
     "text": [
      "  1%|          | 9/1000 [00:00<00:20, 47.87it/s]"
     ]
    },
    {
     "name": "stdout",
     "output_type": "stream",
     "text": [
      "Test 1 failed. Expected 55894466135828913927562589500008578674614327635971963197849600000000000000, actual 65007360\n",
      "Test 2 failed. Expected 652259344329683334205055142867730553241600000, actual 166093200\n",
      "Test 3 failed. Expected 166848870931981903820205601468776997686305515037887914240796262400000000, actual 117196123968\n",
      "Test 4 failed. Expected 2413579326998884513620918570164976080268627987033878618422322714306936832000000, actual 274040952\n",
      "Test 5 failed. Expected 66070183712546451139274216329221797724776950328468088667826175344640000000000, actual 6405840\n",
      "Test 6 failed. Expected 247707575987711786197722943532174766884795522497989759636560651747328000000000000, actual 711735897600\n",
      "Test 7 failed. Expected 109811609884897053332697253776124717334245776370625427569458401194803200000000000, actual 394400\n",
      "Test 8 failed. Expected 38013780196378050685046178362592983005454265952928740147200000, actual 198968000\n",
      "Test 9 failed. Expected 7503712034236692580664986059331860358725492660279632280383693783040000000000000000, actual 378989520000\n",
      "Test 10 failed. Expected 10763657898095961832299144698880000000, actual 6007232\n",
      "Testing is stopped after 10 failed tests.\n"
     ]
    },
    {
     "name": "stderr",
     "output_type": "stream",
     "text": [
      "\n"
     ]
    }
   ],
   "source": [
    "run_tests(problem19_bruteforce, problem19, '27_19')"
   ]
  },
  {
   "cell_type": "markdown",
   "metadata": {},
   "source": [
    "## Задача 28"
   ]
  },
  {
   "cell_type": "markdown",
   "metadata": {},
   "source": [
    "Имеется набор данных, состоящий из пар положительных целых чисел. Необходимо выбрать из каждой пары ровно одно число так, чтобы восьмеричная запись суммы всех выбранных чисел НЕ оканчивалась на 2 и при этом была минимально возможной. Гарантируется, что искомую сумму получить можно. Программа должна напечатать одно число – минимально возможную сумму, соответствующую условиям задачи."
   ]
  },
  {
   "cell_type": "code",
   "execution_count": 71,
   "metadata": {},
   "outputs": [],
   "source": [
    "from itertools import combinations, product\n",
    "\n",
    "def problem28_bruteforce(path):\n",
    "    with open(path) as f:\n",
    "        n = int(f.readline())\n",
    "        a = list()\n",
    "        for _ in range(n):\n",
    "            pair = list(map(int, f.readline().split()))\n",
    "            a.append(pair)\n",
    "\n",
    "        result = None\n",
    "\n",
    "        # option - кортеж вида (i, x), где i - номер пары, x - 0 или 1, индекс элемента пары, который выбран в сумму\n",
    "        for option in list(product([0, 1], repeat=n)):\n",
    "            s = 0\n",
    "            for i, x in enumerate(option):\n",
    "                s += a[i][x]\n",
    "\n",
    "            if (s % 8) != 2 and (result == None or s < result):\n",
    "                result = s\n",
    "\n",
    "        return result\n",
    "\n",
    "def problem28(path):\n",
    "    with open(path) as f:\n",
    "        n = int(f.readline())\n",
    "        s = 0\n",
    "        infty = 10 ** 20\n",
    "        m = infty\n",
    "\n",
    "        for _ in range(n):\n",
    "            x, y = map(int, f.readline().split())\n",
    "            if x > y:\n",
    "                x, y = y, x\n",
    "            \n",
    "            s += x\n",
    "            d = y - x\n",
    "            \n",
    "            if d % 8 != 0:\n",
    "                m = min(m, d)\n",
    "\n",
    "        if (s % 8) != 2:\n",
    "            return s\n",
    "    \n",
    "        return s + m"
   ]
  },
  {
   "cell_type": "code",
   "execution_count": 72,
   "metadata": {},
   "outputs": [
    {
     "data": {
      "text/plain": [
       "6756"
      ]
     },
     "execution_count": 72,
     "metadata": {},
     "output_type": "execute_result"
    }
   ],
   "source": [
    "problem28_bruteforce('./data/27data/28/27-28a.txt')"
   ]
  },
  {
   "cell_type": "code",
   "execution_count": 73,
   "metadata": {},
   "outputs": [],
   "source": [
    "from random import randint\n",
    "\n",
    "for test_id in range(1, 1000+1):\n",
    "    with open('./tests/27_28/random/test_{}.txt'.format(test_id), 'w+') as f:\n",
    "        n = 10\n",
    "        f.write(str(n) + '\\n')\n",
    "\n",
    "        for i in range(n):\n",
    "            f.write(str(randint(1, 100000)) + ' ' + str(randint(1, 100000)) + '\\n')"
   ]
  },
  {
   "cell_type": "code",
   "execution_count": 74,
   "metadata": {},
   "outputs": [
    {
     "name": "stdout",
     "output_type": "stream",
     "text": [
      "Run ID: 27_28. Testing in progress...\n"
     ]
    },
    {
     "name": "stderr",
     "output_type": "stream",
     "text": [
      "100%|██████████| 1000/1000 [00:19<00:00, 50.53it/s]"
     ]
    },
    {
     "name": "stdout",
     "output_type": "stream",
     "text": [
      "OK! All tests passed.\n"
     ]
    },
    {
     "name": "stderr",
     "output_type": "stream",
     "text": [
      "\n"
     ]
    }
   ],
   "source": [
    "run_tests(problem28_bruteforce, problem28, '27_28')"
   ]
  },
  {
   "cell_type": "code",
   "execution_count": 75,
   "metadata": {},
   "outputs": [
    {
     "data": {
      "text/plain": [
       "'6756 19751921'"
      ]
     },
     "execution_count": 75,
     "metadata": {},
     "output_type": "execute_result"
    }
   ],
   "source": [
    "solutions[28] = '{} {}'.format(problem28('./data/27data/28/27-28a.txt'), problem28('./data/27data/28/27-28b.txt'))\n",
    "solutions[28]"
   ]
  },
  {
   "cell_type": "markdown",
   "metadata": {},
   "source": [
    "## 32"
   ]
  },
  {
   "cell_type": "code",
   "execution_count": 76,
   "metadata": {},
   "outputs": [],
   "source": [
    "from itertools import combinations, product\n",
    "\n",
    "def problem32_bruteforce(path):\n",
    "    with open(path) as f:\n",
    "        n = int(f.readline())\n",
    "        a = list()\n",
    "        for _ in range(n):\n",
    "            triplet = list(map(int, f.readline().split()))\n",
    "            a.append(triplet)\n",
    "\n",
    "        result = None\n",
    "        \n",
    "        for option in list(product([0, 1, 2], repeat=n)):\n",
    "            s = 0\n",
    "            for i, x in enumerate(option):\n",
    "                s += a[i][x]\n",
    "\n",
    "            if s % 11 == 0 and (result == None or s < result):\n",
    "                result = s\n",
    "\n",
    "        return result\n",
    "\n",
    "def problem32(path):\n",
    "    with open(path) as f:\n",
    "        n = int(f.readline())\n",
    "        s = 0\n",
    "\n",
    "        m = [10 ** 20] * 11\n",
    "\n",
    "        for _ in range(n):\n",
    "            triplet = list(map(int, f.readline().split()))\n",
    "            triplet.sort()\n",
    "\n",
    "            s += triplet[0]\n",
    "            m_new = m.copy()\n",
    "\n",
    "            for i in [1, 2]:\n",
    "                d = triplet[i] - triplet[0]\n",
    "                r = d % 11\n",
    "                if r > 0:\n",
    "                    for k in range(1, 11):\n",
    "                        r0 = (r + k) % 11\n",
    "                        m_new[r0] = min(m[k] + d, m_new[r0])\n",
    "                    m_new[r] = min(m_new[r], d)\n",
    "            m = m_new.copy()\n",
    "\n",
    "        if s % 11 == 0:\n",
    "            return s\n",
    "\n",
    "        return s + m[11 - s % 11]"
   ]
  },
  {
   "cell_type": "code",
   "execution_count": 77,
   "metadata": {},
   "outputs": [
    {
     "data": {
      "text/plain": [
       "'5896 14078757'"
      ]
     },
     "execution_count": 77,
     "metadata": {},
     "output_type": "execute_result"
    }
   ],
   "source": [
    "solutions[32] = '{} {}'.format(problem32('./data/27data/32/27-32a.txt'), problem32('./data/27data/32/27-32b.txt'))\n",
    "solutions[32]"
   ]
  },
  {
   "cell_type": "code",
   "execution_count": 78,
   "metadata": {},
   "outputs": [],
   "source": [
    "from random import randint\n",
    "\n",
    "for test_id in range(1, 1000+1):\n",
    "    with open('./tests/27_32/random/test_{}.txt'.format(test_id), 'w+') as f:\n",
    "        n = 10\n",
    "        f.write(str(n) + '\\n')\n",
    "\n",
    "        for i in range(n):\n",
    "            f.write(str(randint(1, 100000)) + ' ' + str(randint(1, 100000)) + ' ' + str(randint(1, 100000)) + '\\n')"
   ]
  },
  {
   "cell_type": "code",
   "execution_count": 79,
   "metadata": {},
   "outputs": [
    {
     "name": "stdout",
     "output_type": "stream",
     "text": [
      "Run ID: 27_32. Testing in progress...\n"
     ]
    },
    {
     "name": "stderr",
     "output_type": "stream",
     "text": [
      "100%|██████████| 1000/1000 [03:49<00:00,  4.35it/s]"
     ]
    },
    {
     "name": "stdout",
     "output_type": "stream",
     "text": [
      "OK! All tests passed.\n"
     ]
    },
    {
     "name": "stderr",
     "output_type": "stream",
     "text": [
      "\n"
     ]
    }
   ],
   "source": [
    "run_tests(problem32_bruteforce, problem32, '27_32')"
   ]
  },
  {
   "cell_type": "code",
   "execution_count": 80,
   "metadata": {},
   "outputs": [
    {
     "data": {
      "text/plain": [
       "'5896 14078757'"
      ]
     },
     "execution_count": 80,
     "metadata": {},
     "output_type": "execute_result"
    }
   ],
   "source": [
    "answers[32]"
   ]
  },
  {
   "cell_type": "markdown",
   "metadata": {},
   "source": [
    "## 34"
   ]
  },
  {
   "cell_type": "code",
   "execution_count": 81,
   "metadata": {},
   "outputs": [],
   "source": [
    "from itertools import combinations, product\n",
    "\n",
    "def problem34_bruteforce(path):\n",
    "    with open(path) as f:\n",
    "        n = int(f.readline())\n",
    "        a = list()\n",
    "        for _ in range(n):\n",
    "            triplet = list(map(int, f.readline().split()))\n",
    "            a.append(triplet)\n",
    "\n",
    "        result = None\n",
    "        \n",
    "        index_combinations = list(combinations(range(3), 2))\n",
    "        for option in list(product(index_combinations, repeat=n)):\n",
    "            s = 0\n",
    "            for i, pair in enumerate(option):\n",
    "                s += a[i][pair[0]] + a[i][pair[1]]\n",
    "\n",
    "            if s % 6 == 0 and (result == None or s > result):\n",
    "                result = s\n",
    "\n",
    "        return result\n",
    "\n",
    "def problem34(path):\n",
    "    with open(path) as f:\n",
    "        n = int(f.readline())\n",
    "        s = 0\n",
    "\n",
    "        m = 10 ** 20\n",
    "\n",
    "        for _ in range(n):\n",
    "            a = list(map(int, f.readline().split()))\n",
    "            a.sort()\n",
    "\n",
    "            s += a[0] + a[1]\n",
    "\n",
    "            r = a[2] - a[1]\n",
    "\n",
    "            if r < m:\n",
    "                if r % 6 == 0:\n",
    "                    m = r\n",
    "                elif a[2] - a[0] and (a[2] - a[0]) % 6 == 0:\n",
    "                    m = a[2] - a[0]\n",
    "\n",
    "        if s % 6 == 0:\n",
    "            return s\n",
    "\n",
    "        return s - r"
   ]
  },
  {
   "cell_type": "code",
   "execution_count": 82,
   "metadata": {},
   "outputs": [],
   "source": [
    "from random import randint\n",
    "\n",
    "for test_id in range(1, 1000+1):\n",
    "    with open('./tests/27_34/random/test_{}.txt'.format(test_id), 'w+') as f:\n",
    "        n = 10\n",
    "        f.write(str(n) + '\\n')\n",
    "\n",
    "        for i in range(n):\n",
    "            f.write(str(randint(1, 100000)) + ' ' + str(randint(1, 100000)) + ' ' + str(randint(1, 100000)) + '\\n')"
   ]
  },
  {
   "cell_type": "code",
   "execution_count": 83,
   "metadata": {},
   "outputs": [
    {
     "name": "stdout",
     "output_type": "stream",
     "text": [
      "Run ID: 27_34. Testing in progress...\n"
     ]
    },
    {
     "name": "stderr",
     "output_type": "stream",
     "text": [
      "  0%|          | 1/1000 [00:00<07:33,  2.20it/s]"
     ]
    },
    {
     "name": "stdout",
     "output_type": "stream",
     "text": [
      "Test 1 failed. Expected 1155912, actual 591010\n"
     ]
    },
    {
     "name": "stderr",
     "output_type": "stream",
     "text": [
      "  0%|          | 2/1000 [00:00<07:23,  2.25it/s]"
     ]
    },
    {
     "name": "stdout",
     "output_type": "stream",
     "text": [
      "Test 2 failed. Expected 1378074, actual 849487\n"
     ]
    },
    {
     "name": "stderr",
     "output_type": "stream",
     "text": [
      "  0%|          | 3/1000 [00:01<07:35,  2.19it/s]"
     ]
    },
    {
     "name": "stdout",
     "output_type": "stream",
     "text": [
      "Test 3 failed. Expected 1375410, actual 742074\n"
     ]
    },
    {
     "name": "stderr",
     "output_type": "stream",
     "text": [
      "  0%|          | 4/1000 [00:01<06:59,  2.37it/s]"
     ]
    },
    {
     "name": "stdout",
     "output_type": "stream",
     "text": [
      "Test 4 failed. Expected 1314102, actual 819754\n"
     ]
    },
    {
     "name": "stderr",
     "output_type": "stream",
     "text": [
      "  0%|          | 5/1000 [00:02<07:02,  2.35it/s]"
     ]
    },
    {
     "name": "stdout",
     "output_type": "stream",
     "text": [
      "Test 5 failed. Expected 1332948, actual 824837\n"
     ]
    },
    {
     "name": "stderr",
     "output_type": "stream",
     "text": [
      "  1%|          | 6/1000 [00:02<06:51,  2.42it/s]"
     ]
    },
    {
     "name": "stdout",
     "output_type": "stream",
     "text": [
      "Test 6 failed. Expected 1395558, actual 831304\n"
     ]
    },
    {
     "name": "stderr",
     "output_type": "stream",
     "text": [
      "  1%|          | 7/1000 [00:02<05:44,  2.88it/s]"
     ]
    },
    {
     "name": "stdout",
     "output_type": "stream",
     "text": [
      "Test 7 failed. Expected 1134804, actual 578708\n"
     ]
    },
    {
     "name": "stderr",
     "output_type": "stream",
     "text": [
      "  1%|          | 8/1000 [00:02<05:04,  3.26it/s]"
     ]
    },
    {
     "name": "stdout",
     "output_type": "stream",
     "text": [
      "Test 8 failed. Expected 1151256, actual 643746\n"
     ]
    },
    {
     "name": "stderr",
     "output_type": "stream",
     "text": [
      "  1%|          | 9/1000 [00:03<05:47,  2.85it/s]"
     ]
    },
    {
     "name": "stdout",
     "output_type": "stream",
     "text": [
      "Test 9 failed. Expected 1153746, actual 672393\n"
     ]
    },
    {
     "name": "stderr",
     "output_type": "stream",
     "text": [
      "  1%|          | 9/1000 [00:03<06:58,  2.37it/s]"
     ]
    },
    {
     "name": "stdout",
     "output_type": "stream",
     "text": [
      "Test 10 failed. Expected 1264038, actual 833025\n",
      "Testing is stopped after 10 failed tests.\n"
     ]
    },
    {
     "name": "stderr",
     "output_type": "stream",
     "text": [
      "\n"
     ]
    }
   ],
   "source": [
    "run_tests(problem34_bruteforce, problem34, '27_34')"
   ]
  },
  {
   "cell_type": "code",
   "execution_count": 84,
   "metadata": {},
   "outputs": [
    {
     "data": {
      "text/plain": [
       "'9572 30227092'"
      ]
     },
     "execution_count": 84,
     "metadata": {},
     "output_type": "execute_result"
    }
   ],
   "source": [
    "solutions[34] = '{} {}'.format(problem34('./data/27data/34/27-34a.txt'), problem34('./data/27data/34/27-34b.txt'))\n",
    "solutions[34]"
   ]
  },
  {
   "cell_type": "code",
   "execution_count": 85,
   "metadata": {},
   "outputs": [
    {
     "data": {
      "text/plain": [
       "'9750 30227250'"
      ]
     },
     "execution_count": 85,
     "metadata": {},
     "output_type": "execute_result"
    }
   ],
   "source": [
    "answers[34]"
   ]
  },
  {
   "cell_type": "markdown",
   "metadata": {},
   "source": [
    "## Задача 74"
   ]
  },
  {
   "cell_type": "code",
   "execution_count": 86,
   "metadata": {},
   "outputs": [
    {
     "data": {
      "text/plain": [
       "'21 51023'"
      ]
     },
     "execution_count": 86,
     "metadata": {},
     "output_type": "execute_result"
    }
   ],
   "source": [
    "def problem74_bruteforce(path):\n",
    "    with open(path) as f:\n",
    "        n = int(f.readline())\n",
    "        a = list()\n",
    "        for i in range(n):\n",
    "            a.append(int(f.readline()))\n",
    "        \n",
    "        answer = 0\n",
    "        for l in range(n):\n",
    "            for r in range(l+1, min(l+21, n)):\n",
    "                if sum(a[l:r]) % 39 == 0:\n",
    "                    answer += 1\n",
    "        \n",
    "        return answer\n",
    "\n",
    "def problem74(path):\n",
    "    with open(path) as f:\n",
    "        n = int(f.readline())\n",
    "        answer = 0\n",
    "\n",
    "        s = [int(f.readline())] # последние 20 префикс сумм\n",
    "        for i in range(1, 20):\n",
    "            s.append(s[i-1] + int(f.readline()))\n",
    "\n",
    "        for k in range(19):\n",
    "            if s[-1] % 39 == s[k] % 39:\n",
    "                answer += 1\n",
    "\n",
    "        for i in range(n-20):\n",
    "            for k in range(19):\n",
    "                if s[-1] % 39 == s[k] % 39:\n",
    "                    answer += 1\n",
    "            x = int(f.readline())\n",
    "            s.pop(0)\n",
    "            s.append(s[-1] + x)\n",
    "        \n",
    "        return answer\n",
    "\n",
    "solutions[74] = '{} {}'.format(problem74_bruteforce('./data/27data/74/27-74a.txt'), problem74_bruteforce('./data/27data/74/27-74b.txt'))\n",
    "solutions[74]"
   ]
  },
  {
   "cell_type": "code",
   "execution_count": 87,
   "metadata": {},
   "outputs": [
    {
     "data": {
      "text/plain": [
       "'21 51023'"
      ]
     },
     "execution_count": 87,
     "metadata": {},
     "output_type": "execute_result"
    }
   ],
   "source": [
    "answers[74]"
   ]
  },
  {
   "cell_type": "code",
   "execution_count": 88,
   "metadata": {},
   "outputs": [
    {
     "data": {
      "text/plain": [
       "51023"
      ]
     },
     "execution_count": 88,
     "metadata": {},
     "output_type": "execute_result"
    }
   ],
   "source": [
    "problem74_bruteforce('./data/27data/74/27-74b.txt')"
   ]
  },
  {
   "cell_type": "code",
   "execution_count": 89,
   "metadata": {},
   "outputs": [],
   "source": [
    "from random import randint\n",
    "\n",
    "for test_id in range(1, 1000+1):\n",
    "    with open('./tests/27_74/random/test_{}.txt'.format(test_id), 'w+') as f:\n",
    "        n = 100\n",
    "        f.write(str(n) + '\\n')\n",
    "\n",
    "        for i in range(n):\n",
    "            f.write(str(randint(1, 100000)) + '\\n')"
   ]
  },
  {
   "cell_type": "code",
   "execution_count": 90,
   "metadata": {},
   "outputs": [
    {
     "data": {
      "text/plain": [
       "5127340"
      ]
     },
     "execution_count": 90,
     "metadata": {},
     "output_type": "execute_result"
    }
   ],
   "source": [
    "problem74_bruteforce('./tests/27_74/random/test_10m.txt')"
   ]
  },
  {
   "cell_type": "code",
   "execution_count": 91,
   "metadata": {},
   "outputs": [
    {
     "name": "stdout",
     "output_type": "stream",
     "text": [
      "Run ID: 27_74. Testing in progress...\n"
     ]
    },
    {
     "name": "stderr",
     "output_type": "stream",
     "text": [
      "  1%|          | 6/1000 [00:00<00:19, 50.85it/s]"
     ]
    },
    {
     "name": "stdout",
     "output_type": "stream",
     "text": [
      "Test 1 failed. Expected 49, actual 46\n",
      "Test 2 failed. Expected 42, actual 37\n",
      "Test 3 failed. Expected 38, actual 35\n",
      "Test 4 failed. Expected 51, actual 41\n",
      "Test 5 failed. Expected 49, actual 37\n",
      "Test 6 failed. Expected 50, actual 41\n",
      "Test 7 failed. Expected 51, actual 37\n",
      "Test 8 failed. Expected 47, actual 40\n",
      "Test 9 failed. Expected 40, actual 34\n"
     ]
    },
    {
     "name": "stderr",
     "output_type": "stream",
     "text": [
      "  1%|          | 9/1000 [00:00<00:21, 45.69it/s]"
     ]
    },
    {
     "name": "stdout",
     "output_type": "stream",
     "text": [
      "Test 10 failed. Expected 47, actual 40\n",
      "Testing is stopped after 10 failed tests.\n"
     ]
    },
    {
     "name": "stderr",
     "output_type": "stream",
     "text": [
      "\n"
     ]
    }
   ],
   "source": [
    "run_tests(problem74_bruteforce, problem74, '27_74')"
   ]
  },
  {
   "cell_type": "code",
   "execution_count": 92,
   "metadata": {},
   "outputs": [
    {
     "data": {
      "text/plain": [
       "21"
      ]
     },
     "execution_count": 92,
     "metadata": {},
     "output_type": "execute_result"
    }
   ],
   "source": [
    "problem74_bruteforce('./data/27data/74/27-74a.txt')"
   ]
  },
  {
   "cell_type": "markdown",
   "metadata": {},
   "source": [
    "## Задача 76"
   ]
  },
  {
   "cell_type": "code",
   "execution_count": 93,
   "metadata": {},
   "outputs": [],
   "source": [
    "def problem76_bruteforce(path):\n",
    "    with open(path) as f:\n",
    "        n = int(f.readline())\n",
    "        a = list()\n",
    "\n",
    "        for i in range(n):\n",
    "            a.append(int(f.readline()))\n",
    "\n",
    "        answer = 0\n",
    "        for i in range(n):\n",
    "            for j in range(i+2, n):\n",
    "                if (a[i] + a[j]) % 3 == 0 and (sum(a[i+1:j]) % 2 == 0):\n",
    "                    answer += 1\n",
    "\n",
    "        return answer\n",
    "\n",
    "def problem76(path):\n",
    "    with open(path) as f:\n",
    "        n = int(f.readline())\n",
    "        c0 = [0] * 3 # c[j] - количество четных до i-1 итерации, дающих при делении на 3 остаток j\n",
    "        c1 = [0] * 3 # c[j] - количество нечетных до i-1 итерации, дающих при делении на 3 остаток j\n",
    "\n",
    "        x_prev = int(f.readline())\n",
    "        answer = 0\n",
    "        s = 0\n",
    "\n",
    "        for i in range(1, n):\n",
    "            x = int(f.readline())\n",
    "            s += x_prev\n",
    "            r = x % 3\n",
    "\n",
    "            if s % 2 == 0:\n",
    "                answer += c0[(3-r) % 3]\n",
    "            else:\n",
    "                answer += c1[(3-r) % 3]\n",
    "\n",
    "            if s % 2 == 0:\n",
    "                c0[x_prev % 3] += 1\n",
    "            else:\n",
    "                c1[x_prev % 3] += 1\n",
    "\n",
    "            x_prev = x\n",
    "\n",
    "        return answer"
   ]
  },
  {
   "cell_type": "code",
   "execution_count": 94,
   "metadata": {},
   "outputs": [
    {
     "data": {
      "text/plain": [
       "'27 833306999'"
      ]
     },
     "execution_count": 94,
     "metadata": {},
     "output_type": "execute_result"
    }
   ],
   "source": [
    "solutions[76] = '{} {}'.format(problem76_bruteforce('./data/27data/76/27-76a.txt'), problem76('./data/27data/76/27-76b.txt'))\n",
    "solutions[76]"
   ]
  },
  {
   "cell_type": "code",
   "execution_count": 95,
   "metadata": {},
   "outputs": [
    {
     "data": {
      "text/plain": [
       "'27 833306999'"
      ]
     },
     "execution_count": 95,
     "metadata": {},
     "output_type": "execute_result"
    }
   ],
   "source": [
    "answers[76]"
   ]
  },
  {
   "cell_type": "code",
   "execution_count": 96,
   "metadata": {},
   "outputs": [
    {
     "data": {
      "text/plain": [
       "4"
      ]
     },
     "execution_count": 96,
     "metadata": {},
     "output_type": "execute_result"
    }
   ],
   "source": [
    "problem76_bruteforce('./tests/27_76/manual/example.txt')"
   ]
  },
  {
   "cell_type": "code",
   "execution_count": 97,
   "metadata": {},
   "outputs": [
    {
     "data": {
      "text/plain": [
       "4"
      ]
     },
     "execution_count": 97,
     "metadata": {},
     "output_type": "execute_result"
    }
   ],
   "source": [
    "problem76('./tests/27_76/manual/example.txt')"
   ]
  },
  {
   "cell_type": "code",
   "execution_count": 98,
   "metadata": {},
   "outputs": [],
   "source": [
    "from random import randint\n",
    "\n",
    "for test_id in range(1, 1000+1):\n",
    "    with open('./tests/27_76/random/test_{}.txt'.format(test_id), 'w+') as f:\n",
    "        n = 20\n",
    "        f.write(str(n) + '\\n')\n",
    "\n",
    "        for i in range(n):\n",
    "            f.write(str(randint(1, 50)) + '\\n')"
   ]
  },
  {
   "cell_type": "code",
   "execution_count": 99,
   "metadata": {},
   "outputs": [
    {
     "name": "stdout",
     "output_type": "stream",
     "text": [
      "Run ID: 27_76. Testing in progress...\n"
     ]
    },
    {
     "name": "stderr",
     "output_type": "stream",
     "text": [
      "100%|██████████| 1000/1000 [00:14<00:00, 70.46it/s]"
     ]
    },
    {
     "name": "stdout",
     "output_type": "stream",
     "text": [
      "OK! All tests passed.\n"
     ]
    },
    {
     "name": "stderr",
     "output_type": "stream",
     "text": [
      "\n"
     ]
    }
   ],
   "source": [
    "run_tests(problem76_bruteforce, problem76, '27_76')"
   ]
  },
  {
   "cell_type": "markdown",
   "metadata": {},
   "source": [
    "## 79"
   ]
  },
  {
   "cell_type": "code",
   "execution_count": 100,
   "metadata": {},
   "outputs": [],
   "source": [
    "from collections import defaultdict\n",
    "\n",
    "def problem79_bruteforce(path):\n",
    "    with open(path) as f:\n",
    "        n = int(f.readline())\n",
    "        a = list()\n",
    "\n",
    "        for i in range(n):\n",
    "            a.append(int(f.readline()))\n",
    "\n",
    "        answer = 0\n",
    "        for i in range(n):\n",
    "            for j in range(i, n):\n",
    "                if a[i] % 21 == 0 and a[i] == a[j] * a[j]:\n",
    "                    answer = max(answer, j-i+1)\n",
    "\n",
    "        return answer\n",
    "\n",
    "def problem79(path):\n",
    "    with open(path) as f:\n",
    "        n = int(f.readline())\n",
    "        m = defaultdict(lambda: None)\n",
    "\n",
    "        answer = 0\n",
    "        for i in range(n):\n",
    "            x = int(f.readline())\n",
    "            if x % 21 == 0 and m[x] == None:\n",
    "                m[x] = i\n",
    "\n",
    "            if m[x ** 2] != None:\n",
    "                answer = max(answer, i - m[x ** 2] + 1)\n",
    "\n",
    "        return answer"
   ]
  },
  {
   "cell_type": "code",
   "execution_count": 101,
   "metadata": {},
   "outputs": [],
   "source": [
    "from random import randint\n",
    "\n",
    "for test_id in range(1, 1000+1):\n",
    "    with open('./tests/27_79/random/test_{}.txt'.format(test_id), 'w+') as f:\n",
    "        n = 20\n",
    "        f.write(str(n) + '\\n')\n",
    "\n",
    "        for i in range(n):\n",
    "            f.write(str(randint(1, 50000)) + '\\n')"
   ]
  },
  {
   "cell_type": "code",
   "execution_count": 102,
   "metadata": {},
   "outputs": [
    {
     "name": "stdout",
     "output_type": "stream",
     "text": [
      "Run ID: 27_79. Testing in progress...\n"
     ]
    },
    {
     "name": "stderr",
     "output_type": "stream",
     "text": [
      "100%|██████████| 1000/1000 [00:14<00:00, 66.77it/s]"
     ]
    },
    {
     "name": "stdout",
     "output_type": "stream",
     "text": [
      "OK! All tests passed.\n"
     ]
    },
    {
     "name": "stderr",
     "output_type": "stream",
     "text": [
      "\n"
     ]
    }
   ],
   "source": [
    "run_tests(problem79_bruteforce, problem79, '27_79')"
   ]
  },
  {
   "cell_type": "code",
   "execution_count": 103,
   "metadata": {},
   "outputs": [
    {
     "data": {
      "text/plain": [
       "'337 148613'"
      ]
     },
     "execution_count": 103,
     "metadata": {},
     "output_type": "execute_result"
    }
   ],
   "source": [
    "answers[79]"
   ]
  },
  {
   "cell_type": "code",
   "execution_count": 104,
   "metadata": {},
   "outputs": [
    {
     "data": {
      "text/plain": [
       "337"
      ]
     },
     "execution_count": 104,
     "metadata": {},
     "output_type": "execute_result"
    }
   ],
   "source": [
    "problem79_bruteforce('./data/27data/79/27-79a.txt')"
   ]
  },
  {
   "cell_type": "code",
   "execution_count": 105,
   "metadata": {},
   "outputs": [
    {
     "data": {
      "text/plain": [
       "148613"
      ]
     },
     "execution_count": 105,
     "metadata": {},
     "output_type": "execute_result"
    }
   ],
   "source": [
    "problem79('./data/27data/79/27-79b.txt')"
   ]
  },
  {
   "cell_type": "markdown",
   "metadata": {},
   "source": [
    "## 82"
   ]
  },
  {
   "cell_type": "code",
   "execution_count": 106,
   "metadata": {},
   "outputs": [],
   "source": [
    "def isPrime(x: int):\n",
    "    if x == 1:\n",
    "        return False\n",
    "\n",
    "    i = 2\n",
    "    while i * i <= x:\n",
    "        if x % i == 0:\n",
    "            return False\n",
    "        i += 1\n",
    "    \n",
    "    return True\n",
    "\n",
    "def problem82_bruteforce(path):\n",
    "    with open(path) as f:\n",
    "        n = int(f.readline())\n",
    "        k = 9\n",
    "        a = list()\n",
    "        for i in range(n):\n",
    "            a.append(int(f.readline()))\n",
    "\n",
    "        result = 0\n",
    "        for length in range(1, n+1):\n",
    "            for l in range(n-length+1):\n",
    "                c = 0\n",
    "                s = sum(a[l:l+length])\n",
    "                for i in range(l, l+length):\n",
    "                    # s += a[i]\n",
    "                    if isPrime(a[i]):\n",
    "                        c += 1\n",
    "\n",
    "                if c % k == 0 and s > result:\n",
    "                    result = s\n",
    "\n",
    "        return result\n",
    "\n",
    "def problem82(path):\n",
    "    with open(path) as f:\n",
    "        n = int(f.readline())\n",
    "        k = 9\n",
    "        \n",
    "        count = 0 # количество простых чисел\n",
    "        s = 0 # сумма всех чисел (на i-й итерации это i-ая префикс-сумма)\n",
    "        infty = 10 ** 20\n",
    "        tailSum = [0] + [infty] * (k-1) # tailSum[j] - наименьшее значение префикс-суммы, в которой количество простых чисел дает остаток j при делении на k\n",
    "        answer = 0\n",
    "\n",
    "        for i in range(n):\n",
    "            x = int(f.readline())\n",
    "            s += x\n",
    "            if isPrime(x):\n",
    "                count += 1\n",
    "            \n",
    "            r = count % k\n",
    "            # if tailSum[r] is None:\n",
    "            #     tailSum[r] = s # такое заполнение обеспечивает, что tailSum[r] - наименьшая префикс-сумма, ведь префикс-суммы неубывают с увеличением индекса\n",
    "            # elif count >= k:\n",
    "            #     answer = max(answer, s - tailSum[r])\n",
    "\n",
    "            if r == 0 and s > answer: # если r = 0, то подходит сама префикс-сумма\n",
    "                answer = max(answer, s)\n",
    "            elif tailSum[r] != infty and s - tailSum[r] > answer:\n",
    "                answer = s - tailSum[r]\n",
    "\n",
    "\n",
    "            tailSum[r] = min(tailSum[r], s)\n",
    "\n",
    "        return answer"
   ]
  },
  {
   "cell_type": "code",
   "execution_count": 107,
   "metadata": {},
   "outputs": [
    {
     "data": {
      "text/plain": [
       "67645"
      ]
     },
     "execution_count": 107,
     "metadata": {},
     "output_type": "execute_result"
    }
   ],
   "source": [
    "problem82_bruteforce('./data/27data/82/27-82a.txt')"
   ]
  },
  {
   "cell_type": "code",
   "execution_count": 108,
   "metadata": {},
   "outputs": [
    {
     "data": {
      "text/plain": [
       "67645"
      ]
     },
     "execution_count": 108,
     "metadata": {},
     "output_type": "execute_result"
    }
   ],
   "source": [
    "problem82('./data/27data/82/27-82a.txt')"
   ]
  },
  {
   "cell_type": "code",
   "execution_count": 109,
   "metadata": {},
   "outputs": [
    {
     "data": {
      "text/plain": [
       "'67645 69976583'"
      ]
     },
     "execution_count": 109,
     "metadata": {},
     "output_type": "execute_result"
    }
   ],
   "source": [
    "solutions[82] = '{} {}'.format(problem82_bruteforce('./data/27data/82/27-82a.txt'), problem82('./data/27data/82/27-82b.txt'))\n",
    "solutions[82]"
   ]
  },
  {
   "cell_type": "code",
   "execution_count": 110,
   "metadata": {},
   "outputs": [],
   "source": [
    "from random import randint\n",
    "\n",
    "for test_id in range(1, 1000+1):\n",
    "    with open('./tests/27_82/random/test_{}.txt'.format(test_id), 'w+') as f:\n",
    "        n = 15\n",
    "        f.write(str(n) + '\\n')\n",
    "\n",
    "        for i in range(n):\n",
    "            f.write(str(randint(1, 10000)) + '\\n')"
   ]
  },
  {
   "cell_type": "code",
   "execution_count": 111,
   "metadata": {},
   "outputs": [
    {
     "name": "stdout",
     "output_type": "stream",
     "text": [
      "Run ID: 27_82. Testing in progress...\n"
     ]
    },
    {
     "name": "stderr",
     "output_type": "stream",
     "text": [
      "100%|██████████| 1000/1000 [00:18<00:00, 54.29it/s]"
     ]
    },
    {
     "name": "stdout",
     "output_type": "stream",
     "text": [
      "OK! All tests passed.\n"
     ]
    },
    {
     "name": "stderr",
     "output_type": "stream",
     "text": [
      "\n"
     ]
    }
   ],
   "source": [
    "run_tests(problem82_bruteforce, problem82, '27_82')"
   ]
  },
  {
   "cell_type": "markdown",
   "metadata": {},
   "source": [
    "## 86"
   ]
  },
  {
   "cell_type": "code",
   "execution_count": 112,
   "metadata": {},
   "outputs": [
    {
     "data": {
      "text/plain": [
       "'15218 253665'"
      ]
     },
     "execution_count": 112,
     "metadata": {},
     "output_type": "execute_result"
    }
   ],
   "source": [
    "def problem86_bruteforce(path):\n",
    "    with open(path) as f:\n",
    "        n, k = map(int, f.readline().split())\n",
    "        a = list()\n",
    "        for i in range(n):\n",
    "            a.append(int(f.readline()))\n",
    "\n",
    "        result = float('-inf')\n",
    "        for length in range(1, n+1):\n",
    "            for l in range(n-length+1):\n",
    "                s = sum(a[l:l+length])\n",
    "                c = 0\n",
    "                for x in a[l:l+length]:\n",
    "                    if x < 0 and abs(x) % 10 == 7:\n",
    "                        c += 1\n",
    "\n",
    "                if c % k == 0 and s > result:\n",
    "                    result = s\n",
    "\n",
    "        return result\n",
    "\n",
    "def problem86(path):\n",
    "    with open(path) as f:\n",
    "        n, k = map(int, f.readline().split())\n",
    "        answer = 0\n",
    "        count = 0 # количество отрицательных, оканчивающихся на 7\n",
    "        s = 0 # сумма всех чисел\n",
    "\n",
    "        infty = 10 ** 20\n",
    "        m = [infty] * k # m[i] - минимальная префикс-сумма, в которой количество отрицательных чисел, оканчивающихся на 7, кратно k\n",
    "\n",
    "        for _ in range(n):\n",
    "            x = int(f.readline())\n",
    "            s += x\n",
    "\n",
    "            if abs(x) % 10 == 7 and x < 0:\n",
    "                count += 1\n",
    "\n",
    "            r = count % k\n",
    "\n",
    "            if r == 0 and s > answer: # если r = 0, то подходит сама префикс-сумма\n",
    "                answer = s\n",
    "            elif m[r] != infty and s - m[r] > answer:\n",
    "                answer = s - m[r]\n",
    "\n",
    "            m[r] = min(m[r], s)\n",
    "        \n",
    "        return answer\n",
    "\n",
    "solutions[86] = '{} {}'.format(problem86_bruteforce('./data/27data/86/27-86a.txt'), problem86('./data/27data/86/27-86b.txt'))\n",
    "solutions[86]"
   ]
  },
  {
   "cell_type": "code",
   "execution_count": 113,
   "metadata": {},
   "outputs": [],
   "source": [
    "from random import randint\n",
    "\n",
    "for test_id in range(1, 1000+1):\n",
    "    with open('./tests/27_86/random/test_{}.txt'.format(test_id), 'w+') as f:\n",
    "        n = 10\n",
    "        k = randint(1, 15)\n",
    "        f.write(str(n) + ' ' + str(k) + '\\n')\n",
    "\n",
    "        for i in range(n):\n",
    "            f.write(str(randint(1, 10000)) + '\\n')"
   ]
  },
  {
   "cell_type": "code",
   "execution_count": 114,
   "metadata": {},
   "outputs": [
    {
     "name": "stdout",
     "output_type": "stream",
     "text": [
      "Run ID: 27_86. Testing in progress...\n"
     ]
    },
    {
     "name": "stderr",
     "output_type": "stream",
     "text": [
      "100%|██████████| 1000/1000 [00:15<00:00, 66.26it/s]"
     ]
    },
    {
     "name": "stdout",
     "output_type": "stream",
     "text": [
      "OK! All tests passed.\n"
     ]
    },
    {
     "name": "stderr",
     "output_type": "stream",
     "text": [
      "\n"
     ]
    }
   ],
   "source": [
    "run_tests(problem86_bruteforce, problem86, '27_86')"
   ]
  },
  {
   "cell_type": "markdown",
   "metadata": {},
   "source": [
    "## 87"
   ]
  },
  {
   "cell_type": "code",
   "execution_count": 115,
   "metadata": {},
   "outputs": [
    {
     "data": {
      "text/plain": [
       "'15406 256483'"
      ]
     },
     "execution_count": 115,
     "metadata": {},
     "output_type": "execute_result"
    }
   ],
   "source": [
    "def isSpecial(x):\n",
    "    if x >= 0:\n",
    "        return False\n",
    "\n",
    "    x = abs(x)\n",
    "    \n",
    "    while x > 0:\n",
    "        if x % 5 == 2:\n",
    "            return False\n",
    "        x //= 5\n",
    "\n",
    "    return True\n",
    "\n",
    "def problem87_bruteforce(path):\n",
    "    with open(path) as f:\n",
    "        n, k = map(int, f.readline().split())\n",
    "        a = list()\n",
    "        for i in range(n):\n",
    "            a.append(int(f.readline()))\n",
    "\n",
    "        result = -10001\n",
    "        # for length in range(1, n+1):\n",
    "        #     for l in range(n-length+1):\n",
    "        for l in range(n):\n",
    "            for r in range(l, n):\n",
    "                s = sum(a[l:r])\n",
    "                c = 0\n",
    "                for x in a[l:r]:\n",
    "                    if isSpecial(x):\n",
    "                        c += 1\n",
    "\n",
    "                if c % k == 0 and s > result:\n",
    "                    result = s\n",
    "\n",
    "        return result\n",
    "\n",
    "def problem87(path):\n",
    "    with open(path) as f:\n",
    "        n, k = map(int, f.readline().split())\n",
    "        answer = 0\n",
    "        count = 0 # количество особенных\n",
    "        s = 0 # сумма всех чисел\n",
    "\n",
    "        infty = 10 ** 20\n",
    "        m = [infty] * k # m[i] - минимальная префикс-сумма, в которой количество особенных кратно k\n",
    "\n",
    "        for _ in range(n):\n",
    "            x = int(f.readline())\n",
    "            s += x\n",
    "\n",
    "            if isSpecial(x):\n",
    "                count += 1\n",
    "\n",
    "            r = count % k\n",
    "\n",
    "            if r == 0 and s > answer:\n",
    "                answer = max(answer, s)\n",
    "            elif m[r] != infty and s - m[r] > answer:\n",
    "                answer = s - m[r]\n",
    "\n",
    "            m[r] = min(m[r], s)\n",
    "        \n",
    "        return answer\n",
    "\n",
    "solutions[87] = '{} {}'.format(problem87_bruteforce('./data/27data/87/27-87a.txt'), problem87('./data/27data/87/27-87b.txt'))\n",
    "solutions[87]"
   ]
  },
  {
   "cell_type": "code",
   "execution_count": 116,
   "metadata": {},
   "outputs": [
    {
     "data": {
      "text/plain": [
       "15406"
      ]
     },
     "execution_count": 116,
     "metadata": {},
     "output_type": "execute_result"
    }
   ],
   "source": [
    "problem87_bruteforce('./data/27data/87/27-87a.txt')"
   ]
  },
  {
   "cell_type": "code",
   "execution_count": 117,
   "metadata": {},
   "outputs": [
    {
     "data": {
      "text/plain": [
       "15406"
      ]
     },
     "execution_count": 117,
     "metadata": {},
     "output_type": "execute_result"
    }
   ],
   "source": [
    "problem87('./data/27data/87/27-87a.txt')"
   ]
  },
  {
   "cell_type": "markdown",
   "metadata": {},
   "source": [
    "## 88"
   ]
  },
  {
   "cell_type": "code",
   "execution_count": 118,
   "metadata": {},
   "outputs": [
    {
     "data": {
      "text/plain": [
       "'11527919 168873874'"
      ]
     },
     "execution_count": 118,
     "metadata": {},
     "output_type": "execute_result"
    }
   ],
   "source": [
    "def isSpecial(x):\n",
    "    if x >= 0:\n",
    "        return False\n",
    "\n",
    "    x = -x\n",
    "\n",
    "    i = 2\n",
    "    while i * i <= x:\n",
    "        if x % i == 0:\n",
    "            return False\n",
    "        i += 1\n",
    "\n",
    "    return True\n",
    "\n",
    "def problem88_bruteforce(path):\n",
    "    with open(path) as f:\n",
    "        n, k = map(int, f.readline().split())\n",
    "        a = list()\n",
    "        for i in range(n):\n",
    "            a.append(int(f.readline()))\n",
    "\n",
    "        result = -10001\n",
    "        for l in range(n):\n",
    "            for r in range(l, n):\n",
    "                s = sum(a[l:r])\n",
    "                c = 0\n",
    "                for x in a[l:r]:\n",
    "                    if isSpecial(x):\n",
    "                        c += 1\n",
    "\n",
    "                if c % k == 0 and s > result:\n",
    "                    result = s\n",
    "\n",
    "        return result\n",
    "\n",
    "def problem88(path):\n",
    "    with open(path) as f:\n",
    "        n, k = map(int, f.readline().split())\n",
    "        answer = 0\n",
    "        count = 0 # количество особенных\n",
    "        s = 0 # сумма всех чисел\n",
    "\n",
    "        infty = 10 ** 20\n",
    "        m = [infty] * k # m[i] - минимальная префикс-сумма, в которой количество особенных кратно k\n",
    "\n",
    "        for _ in range(n):\n",
    "            x = int(f.readline())\n",
    "            s += x\n",
    "\n",
    "            if isSpecial(x):\n",
    "                count += 1\n",
    "\n",
    "            r = count % k\n",
    "\n",
    "            if r == 0 and s > answer:\n",
    "                answer = max(answer, s)\n",
    "            elif m[r] != infty and s - m[r] > answer:\n",
    "                answer = s - m[r]\n",
    "\n",
    "            m[r] = min(m[r], s)\n",
    "\n",
    "        return answer\n",
    "\n",
    "solutions[88] = '{} {}'.format(problem88('./data/27data/88/27-88a.txt'), problem88('./data/27data/88/27-88b.txt'))\n",
    "solutions[88]"
   ]
  },
  {
   "cell_type": "markdown",
   "metadata": {},
   "source": [
    "-7\n",
    "32\n",
    "-3\n",
    "17\n",
    "9\n",
    "-8\n",
    "3"
   ]
  },
  {
   "cell_type": "code",
   "execution_count": 119,
   "metadata": {},
   "outputs": [
    {
     "data": {
      "text/plain": [
       "48"
      ]
     },
     "execution_count": 119,
     "metadata": {},
     "output_type": "execute_result"
    }
   ],
   "source": [
    "problem88_bruteforce('./tests/27_88/manual/example.txt')"
   ]
  },
  {
   "cell_type": "code",
   "execution_count": 120,
   "metadata": {},
   "outputs": [
    {
     "data": {
      "text/plain": [
       "11527919"
      ]
     },
     "execution_count": 120,
     "metadata": {},
     "output_type": "execute_result"
    }
   ],
   "source": [
    "problem88_bruteforce('./data/27data/88/27-88a.txt')"
   ]
  },
  {
   "cell_type": "code",
   "execution_count": 121,
   "metadata": {},
   "outputs": [],
   "source": [
    "def special(x):\n",
    "    if x > 0:\n",
    "        return False\n",
    "    if x == 1 or x == 0:\n",
    "        return False\n",
    "    x = abs(x)\n",
    "    l = 2\n",
    "    while l*l <= x:\n",
    "        if x % l == 0:\n",
    "            return False\n",
    "        l += 1\n",
    "    return True\n",
    "\n",
    "def problem88_Artem(path):\n",
    "    f = open(path)\n",
    "    n, k = map(int, f.readline().split())\n",
    "\n",
    "    max_sum = -10**20\n",
    "    a = [10**20]*k\n",
    "\n",
    "    sum = 0\n",
    "    c = 0\n",
    "    for i in range(n):\n",
    "        x = int(f.readline())\n",
    "        sum += x\n",
    "\n",
    "        if special(x):\n",
    "            c += 1\n",
    "\n",
    "        r = c % k\n",
    "        if r == 0:\n",
    "            max_sum = max(max_sum, sum)\n",
    "\n",
    "        max_sum = max(max_sum, sum - a[r])\n",
    "\n",
    "        a[r] = min(a[r], sum)\n",
    "    return max_sum"
   ]
  },
  {
   "cell_type": "code",
   "execution_count": 122,
   "metadata": {},
   "outputs": [
    {
     "data": {
      "text/plain": [
       "'11527919 168873874'"
      ]
     },
     "execution_count": 122,
     "metadata": {},
     "output_type": "execute_result"
    }
   ],
   "source": [
    "answers[88]"
   ]
  },
  {
   "cell_type": "code",
   "execution_count": 123,
   "metadata": {},
   "outputs": [],
   "source": [
    "from random import randint\n",
    "\n",
    "for test_id in range(1, 1000+1):\n",
    "    with open('./tests/27_88/random/test_{}.txt'.format(test_id), 'w+') as f:\n",
    "        n = 15\n",
    "        k = randint(1, 6)\n",
    "        f.write(str(n) + ' ' + str(k) + '\\n')\n",
    "\n",
    "        for i in range(n):\n",
    "            f.write(str(randint(-100000, 100000)) + '\\n')"
   ]
  },
  {
   "cell_type": "code",
   "execution_count": 124,
   "metadata": {},
   "outputs": [
    {
     "name": "stdout",
     "output_type": "stream",
     "text": [
      "Run ID: 27_88. Testing in progress...\n"
     ]
    },
    {
     "name": "stderr",
     "output_type": "stream",
     "text": [
      "  0%|          | 5/1000 [00:00<00:21, 46.73it/s]"
     ]
    },
    {
     "name": "stdout",
     "output_type": "stream",
     "text": [
      "Test 6 failed. Expected 104410, actual 131750\n",
      "Test 7 failed. Expected 76129, actual 115955\n",
      "Test 8 failed. Expected 153829, actual 203362\n"
     ]
    },
    {
     "name": "stderr",
     "output_type": "stream",
     "text": [
      "  1%|          | 11/1000 [00:00<00:19, 50.43it/s]"
     ]
    },
    {
     "name": "stdout",
     "output_type": "stream",
     "text": [
      "Test 14 failed. Expected 303219, actual 319181\n",
      "Test 15 failed. Expected 164261, actual 172193\n"
     ]
    },
    {
     "name": "stderr",
     "output_type": "stream",
     "text": [
      "  2%|▎         | 25/1000 [00:00<00:16, 59.50it/s]"
     ]
    },
    {
     "name": "stdout",
     "output_type": "stream",
     "text": [
      "Test 22 failed. Expected 484507, actual 516833\n"
     ]
    },
    {
     "name": "stderr",
     "output_type": "stream",
     "text": [
      "  3%|▎         | 31/1000 [00:00<00:17, 55.70it/s]"
     ]
    },
    {
     "name": "stdout",
     "output_type": "stream",
     "text": [
      "Test 27 failed. Expected 457159, actual 532216\n",
      "Test 28 failed. Expected 97529, actual 190441\n",
      "Test 31 failed. Expected 242380, actual 290400\n"
     ]
    },
    {
     "name": "stderr",
     "output_type": "stream",
     "text": [
      "  4%|▎         | 35/1000 [00:00<00:17, 53.97it/s]"
     ]
    },
    {
     "name": "stdout",
     "output_type": "stream",
     "text": [
      "Test 36 failed. Expected 159980, actual 203978\n",
      "Testing is stopped after 10 failed tests.\n"
     ]
    },
    {
     "name": "stderr",
     "output_type": "stream",
     "text": [
      "\n"
     ]
    }
   ],
   "source": [
    "run_tests(problem88_bruteforce, problem88_Artem, '27_88')"
   ]
  },
  {
   "cell_type": "code",
   "execution_count": 125,
   "metadata": {},
   "outputs": [],
   "source": [
    "def isSpecNumber(x):\n",
    "    if x >= 0:\n",
    "        return False\n",
    "    x = abs(x)\n",
    "    if x <= 1:\n",
    "        return False\n",
    "    d = 2\n",
    "    while d*d <= x:\n",
    "        if x % d == 0:\n",
    "            return False\n",
    "        d += 1\n",
    "    return True\n",
    "\n",
    "def problem88_polyakov(path):\n",
    "    f = open(path)\n",
    "    n, K = map(int, f.readline().split())\n",
    "\n",
    "    maxSum = -10**20\n",
    "    minTails = [10**20]*K\n",
    "\n",
    "    sumTotal = 0\n",
    "    count = 0\n",
    "    for i in range(n):\n",
    "\n",
    "        x = int(f.readline())\n",
    "        sumTotal += x\n",
    "\n",
    "        if isSpecNumber(x):\n",
    "            count += 1\n",
    "\n",
    "        r = count % K\n",
    "        if r == 0 and sumTotal > maxSum:\n",
    "            maxSum = sumTotal\n",
    "\n",
    "        if minTails[r] != 10**20 and sumTotal - minTails[r] > maxSum:\n",
    "            maxSum = sumTotal - minTails[r]\n",
    "\n",
    "        minTails[r] = min(minTails[r], sumTotal)\n",
    "\n",
    "    f.close()\n",
    "\n",
    "    return maxSum"
   ]
  },
  {
   "cell_type": "code",
   "execution_count": 126,
   "metadata": {},
   "outputs": [
    {
     "name": "stdout",
     "output_type": "stream",
     "text": [
      "Run ID: 27_88. Testing in progress...\n"
     ]
    },
    {
     "name": "stderr",
     "output_type": "stream",
     "text": [
      "  4%|▎         | 35/1000 [00:00<00:03, 297.88it/s]"
     ]
    },
    {
     "name": "stdout",
     "output_type": "stream",
     "text": [
      "Test 6 failed. Expected 104410, actual 131750\n",
      "Test 7 failed. Expected 76129, actual 115955\n",
      "Test 8 failed. Expected 153829, actual 203362\n",
      "Test 14 failed. Expected 303219, actual 319181\n",
      "Test 15 failed. Expected 164261, actual 172193\n",
      "Test 22 failed. Expected 484507, actual 516833\n",
      "Test 27 failed. Expected 457159, actual 532216\n",
      "Test 28 failed. Expected 97529, actual 190441\n",
      "Test 31 failed. Expected 242380, actual 290400\n",
      "Test 36 failed. Expected 159980, actual 203978\n",
      "Testing is stopped after 10 failed tests.\n"
     ]
    },
    {
     "name": "stderr",
     "output_type": "stream",
     "text": [
      "\n"
     ]
    }
   ],
   "source": [
    "run_tests(problem88_bruteforce, problem88_polyakov, '27_88')"
   ]
  },
  {
   "cell_type": "markdown",
   "metadata": {},
   "source": [
    "## 91"
   ]
  },
  {
   "cell_type": "code",
   "execution_count": 127,
   "metadata": {},
   "outputs": [
    {
     "data": {
      "text/plain": [
       "'6597803 168674858'"
      ]
     },
     "execution_count": 127,
     "metadata": {},
     "output_type": "execute_result"
    }
   ],
   "source": [
    "def isSpecial(x):\n",
    "    if x >= 0:\n",
    "        return False\n",
    "\n",
    "    x = abs(x)\n",
    "    \n",
    "    s = 0\n",
    "    while x > 0:\n",
    "        s += x % 3\n",
    "        x //= 3\n",
    "\n",
    "    return s == 12\n",
    "\n",
    "def problem91_bruteforce(path):\n",
    "    with open(path) as f:\n",
    "        n, k, d = map(int, f.readline().split())\n",
    "        a = list()\n",
    "        for i in range(n):\n",
    "            a.append(int(f.readline()))\n",
    "\n",
    "        result = -10001\n",
    "        for length in [x * d for x in range(1, n // d + 1)]:\n",
    "            for l in range(n-length+1):\n",
    "                r = l+length\n",
    "                s = sum(a[l:r])\n",
    "                c = 0\n",
    "                for x in a[l:r]:\n",
    "                    if isSpecial(x):\n",
    "                        c += 1\n",
    "\n",
    "                if c % k == 0 and s > result:\n",
    "                    result = s\n",
    "\n",
    "        return result\n",
    "\n",
    "def problem91(path):\n",
    "    with open(path) as f:\n",
    "        n, k, d = map(int, f.readline().split())\n",
    "        answer = -10001\n",
    "        s = 0\n",
    "        count = 0\n",
    "\n",
    "        infty = 10 ** 20\n",
    "        m = [infty] * k # m[i] - минимальная префикс-сумма, в которой количество особенных кратно k\n",
    "        c = [0] * k # c[i] - номер итерации, на которой встречена префикс-сумма m[i]\n",
    "\n",
    "        for i in range(n):\n",
    "            x = int(f.readline())\n",
    "            s += x\n",
    "\n",
    "            if isSpecial(x):\n",
    "                count += 1\n",
    "\n",
    "            r = count % k\n",
    "\n",
    "            if s > answer and r == 0 and i % d == 0:\n",
    "                answer = s\n",
    "            elif m[r] != infty and s - m[r] > answer and c[r] % d == i % d:\n",
    "                answer = s - m[r]\n",
    "            \n",
    "            if s < m[r]:\n",
    "                m[r] = s\n",
    "                c[r] = i\n",
    "\n",
    "        return answer\n",
    "\n",
    "solutions[91] = '{} {}'.format(problem91('./data/27data/91/27-91a.txt'), problem91('./data/27data/91/27-91b.txt'))\n",
    "solutions[91]"
   ]
  },
  {
   "cell_type": "code",
   "execution_count": 128,
   "metadata": {},
   "outputs": [
    {
     "data": {
      "text/plain": [
       "6597803"
      ]
     },
     "execution_count": 128,
     "metadata": {},
     "output_type": "execute_result"
    }
   ],
   "source": [
    "problem91_bruteforce('./data/27data/91/27-91a.txt')"
   ]
  },
  {
   "cell_type": "code",
   "execution_count": 129,
   "metadata": {},
   "outputs": [
    {
     "data": {
      "text/plain": [
       "6597803"
      ]
     },
     "execution_count": 129,
     "metadata": {},
     "output_type": "execute_result"
    }
   ],
   "source": [
    "problem91('./data/27data/91/27-91a.txt')"
   ]
  },
  {
   "cell_type": "markdown",
   "metadata": {},
   "source": [
    "## 92"
   ]
  },
  {
   "cell_type": "code",
   "execution_count": 130,
   "metadata": {},
   "outputs": [
    {
     "data": {
      "text/plain": [
       "'4710 7368'"
      ]
     },
     "execution_count": 130,
     "metadata": {},
     "output_type": "execute_result"
    }
   ],
   "source": [
    "def isSpecial(x):\n",
    "    return x > 0 and x % 2 == 0\n",
    "\n",
    "def problem92_bruteforce(path):\n",
    "    with open(path) as f:\n",
    "        n = int(f.readline())\n",
    "        a = list()\n",
    "        for i in range(n):\n",
    "            a.append(int(f.readline()))\n",
    "\n",
    "        result = -10001\n",
    "        for length in range(n):\n",
    "            for l in range(n-length+1):\n",
    "                r = l+length\n",
    "                s = 0\n",
    "                c = 0\n",
    "                for x in a[l:r]:\n",
    "                    s += x\n",
    "                    if isSpecial(x):\n",
    "                        c += 1\n",
    "\n",
    "                if c == 1 and s > result:\n",
    "                    result = s\n",
    "\n",
    "        return result\n",
    "\n",
    "def problem92(path):\n",
    "    with open(path) as f:\n",
    "        n = int(f.readline())\n",
    "        answer = 0\n",
    "        count = 0 # количество особенных\n",
    "        s = 0 # сумма всех чисел (текущая префикс-сумма на i-й итерации)\n",
    "\n",
    "        infty = 10 ** 20\n",
    "        m = infty # минимальная префикс-сумма, в которой count-1 особенных чисел\n",
    "        m_next = infty # минимальная префикс-сумма, в которой count особенных чисел\n",
    "\n",
    "        for i in range(n):\n",
    "            x = int(f.readline())\n",
    "            s += x\n",
    "\n",
    "            if isSpecial(x):\n",
    "                count += 1\n",
    "                m = m_next\n",
    "                m_next = infty\n",
    "\n",
    "            if count == 1 and s > answer:\n",
    "                answer = max(answer, s)\n",
    "            elif count > 1:\n",
    "                answer = max(answer, s - m)\n",
    "                m_next = min(m_next, s)\n",
    "        \n",
    "        return answer\n",
    "\n",
    "solutions[92] = '{} {}'.format(problem92('./data/27data/92/27-92a.txt'), problem92('./data/27data/92/27-92b.txt'))\n",
    "solutions[92]"
   ]
  },
  {
   "cell_type": "code",
   "execution_count": 131,
   "metadata": {},
   "outputs": [],
   "source": [
    "def problem92_Artem(path):\n",
    "    def special(x):\n",
    "        if x > 0 and x % 2 == 0:\n",
    "            return True\n",
    "\n",
    "    f = open(path)\n",
    "    n = int(f.readline())\n",
    "\n",
    "    max_sum = -10**20\n",
    "\n",
    "    sum = 0\n",
    "    a = [10**20] * 2\n",
    "    for i in range(n):\n",
    "        x = int(f.readline())\n",
    "        sum += x\n",
    "\n",
    "        if special(x):\n",
    "            a[0] = a[1]\n",
    "            a[1] = sum\n",
    "\n",
    "        max_sum = max(max_sum, sum - a[0])\n",
    "\n",
    "        a[1] = min(a[1], sum)\n",
    "    return max_sum"
   ]
  },
  {
   "cell_type": "code",
   "execution_count": 132,
   "metadata": {},
   "outputs": [
    {
     "data": {
      "text/plain": [
       "32"
      ]
     },
     "execution_count": 132,
     "metadata": {},
     "output_type": "execute_result"
    }
   ],
   "source": [
    "problem92_bruteforce('./tests/27_92/manual/example.txt')"
   ]
  },
  {
   "cell_type": "code",
   "execution_count": 133,
   "metadata": {},
   "outputs": [
    {
     "data": {
      "text/plain": [
       "32"
      ]
     },
     "execution_count": 133,
     "metadata": {},
     "output_type": "execute_result"
    }
   ],
   "source": [
    "problem92('./tests/27_92/manual/example.txt')"
   ]
  },
  {
   "cell_type": "code",
   "execution_count": 134,
   "metadata": {},
   "outputs": [
    {
     "data": {
      "text/plain": [
       "4710"
      ]
     },
     "execution_count": 134,
     "metadata": {},
     "output_type": "execute_result"
    }
   ],
   "source": [
    "problem92_bruteforce('./data/27data/92/27-92a.txt')"
   ]
  },
  {
   "cell_type": "code",
   "execution_count": 135,
   "metadata": {},
   "outputs": [
    {
     "data": {
      "text/plain": [
       "7368"
      ]
     },
     "execution_count": 135,
     "metadata": {},
     "output_type": "execute_result"
    }
   ],
   "source": [
    "problem92_Artem('./data/27data/92/27-92b.txt')"
   ]
  },
  {
   "cell_type": "code",
   "execution_count": 136,
   "metadata": {},
   "outputs": [
    {
     "data": {
      "text/plain": [
       "'4710 7368'"
      ]
     },
     "execution_count": 136,
     "metadata": {},
     "output_type": "execute_result"
    }
   ],
   "source": [
    "answers[92]"
   ]
  },
  {
   "cell_type": "code",
   "execution_count": 137,
   "metadata": {},
   "outputs": [],
   "source": [
    "from random import randint\n",
    "\n",
    "for test_id in range(1, 1000+1):\n",
    "    with open('./tests/27_92/random/test_{}.txt'.format(test_id), 'w+') as f:\n",
    "        n = 15\n",
    "        f.write(str(n) + '\\n')\n",
    "\n",
    "        for i in range(n):\n",
    "            f.write(str(randint(-10000, 10000)) + '\\n')"
   ]
  },
  {
   "cell_type": "code",
   "execution_count": 138,
   "metadata": {},
   "outputs": [
    {
     "name": "stdout",
     "output_type": "stream",
     "text": [
      "Run ID: 27_92. Testing in progress...\n"
     ]
    },
    {
     "name": "stderr",
     "output_type": "stream",
     "text": [
      "  1%|          | 7/1000 [00:00<00:14, 67.64it/s]"
     ]
    },
    {
     "name": "stdout",
     "output_type": "stream",
     "text": [
      "Test 1 failed. Expected 30363, actual 1578\n",
      "Test 5 failed. Expected 13531, actual 0\n",
      "Test 6 failed. Expected 9362, actual 0\n",
      "Test 8 failed. Expected 7806, actual 0\n",
      "Test 9 failed. Expected 7194, actual 5104\n",
      "Test 10 failed. Expected 16794, actual 10817\n",
      "Test 11 failed. Expected 18435, actual 15301\n"
     ]
    },
    {
     "name": "stderr",
     "output_type": "stream",
     "text": [
      "  1%|▏         | 14/1000 [00:00<00:14, 67.25it/s]"
     ]
    },
    {
     "name": "stdout",
     "output_type": "stream",
     "text": [
      "Test 12 failed. Expected 21814, actual 21126\n"
     ]
    },
    {
     "name": "stderr",
     "output_type": "stream",
     "text": [
      "  2%|▏         | 16/1000 [00:00<00:16, 60.95it/s]"
     ]
    },
    {
     "name": "stdout",
     "output_type": "stream",
     "text": [
      "Test 16 failed. Expected 12831, actual 5568\n",
      "Test 17 failed. Expected 18125, actual 15579\n",
      "Testing is stopped after 10 failed tests.\n"
     ]
    },
    {
     "name": "stderr",
     "output_type": "stream",
     "text": [
      "\n"
     ]
    }
   ],
   "source": [
    "run_tests(problem92_bruteforce, problem92, '27_92')"
   ]
  },
  {
   "cell_type": "code",
   "execution_count": 139,
   "metadata": {},
   "outputs": [
    {
     "name": "stdout",
     "output_type": "stream",
     "text": [
      "Run ID: 27_92. Testing in progress...\n"
     ]
    },
    {
     "name": "stderr",
     "output_type": "stream",
     "text": [
      "  2%|▏         | 16/1000 [00:00<00:02, 359.51it/s]"
     ]
    },
    {
     "name": "stdout",
     "output_type": "stream",
     "text": [
      "Test 1 failed. Expected 30363, actual 1578\n",
      "Test 5 failed. Expected 13531, actual 0\n",
      "Test 6 failed. Expected 9362, actual 0\n",
      "Test 8 failed. Expected 7806, actual 0\n",
      "Test 9 failed. Expected 7194, actual 5104\n",
      "Test 10 failed. Expected 16794, actual 10817\n",
      "Test 11 failed. Expected 18435, actual 15301\n",
      "Test 12 failed. Expected 21814, actual 21126\n",
      "Test 16 failed. Expected 12831, actual 5568\n",
      "Test 17 failed. Expected 18125, actual 15579\n",
      "Testing is stopped after 10 failed tests.\n"
     ]
    },
    {
     "name": "stderr",
     "output_type": "stream",
     "text": [
      "\n"
     ]
    }
   ],
   "source": [
    "run_tests(problem92_bruteforce, problem92, '27_92')"
   ]
  },
  {
   "cell_type": "markdown",
   "metadata": {},
   "source": [
    "## Проверка решений"
   ]
  },
  {
   "cell_type": "code",
   "execution_count": 140,
   "metadata": {},
   "outputs": [
    {
     "name": "stdout",
     "output_type": "stream",
     "text": [
      "Error in problem 8. Correct Answer: 11009 200. Given: 3809 200\n",
      "Error in problem 19. Correct Answer: 663497670999806000. Given: 663497670 97618752000\n",
      "Error in problem 34. Correct Answer: 9750 30227250. Given: 9572 30227092\n",
      "Solved problems: [1, 2, 4, 5, 6, 7, 12, 13, 14, 18, 28, 32, 74, 76, 82, 86, 87, 88, 91, 92]\n"
     ]
    }
   ],
   "source": [
    "ok_flag = True\n",
    "\n",
    "solutions = [str(solution) if solution != None else None for solution in solutions]\n",
    "solved = []\n",
    "\n",
    "for i in range(1, len(answers)):\n",
    "    if solutions[i] is not None:\n",
    "        if solutions[i].split() == answers[i].split():\n",
    "            solved.append(i)\n",
    "        else:\n",
    "            print('Error in problem {}. Correct Answer: {}. Given: {}'.format(i, answers[i], solutions[i]))\n",
    "            ok_flag = False\n",
    "\n",
    "if ok_flag:\n",
    "    print('OK!')\n",
    "print('Solved problems: {}'.format(solved))"
   ]
  }
 ],
 "metadata": {
  "interpreter": {
   "hash": "73e03da126b73bfff3642ec5261d56fa25c444ea595de51041687efaa60dda41"
  },
  "kernelspec": {
   "display_name": "Python 3.9.7 64-bit ('base': conda)",
   "language": "python",
   "name": "python3"
  },
  "language_info": {
   "codemirror_mode": {
    "name": "ipython",
    "version": 3
   },
   "file_extension": ".py",
   "mimetype": "text/x-python",
   "name": "python",
   "nbconvert_exporter": "python",
   "pygments_lexer": "ipython3",
   "version": "3.9.7"
  },
  "orig_nbformat": 4
 },
 "nbformat": 4,
 "nbformat_minor": 2
}
