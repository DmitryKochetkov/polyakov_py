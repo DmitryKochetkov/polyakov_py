{
 "cells": [
  {
   "cell_type": "markdown",
   "source": [
    "# Задание 16 (Рекурсивные алгоритмы)"
   ],
   "metadata": {}
  },
  {
   "cell_type": "markdown",
   "source": [
    "## №72"
   ],
   "metadata": {}
  },
  {
   "cell_type": "markdown",
   "source": [],
   "metadata": {}
  },
  {
   "cell_type": "code",
   "execution_count": null,
   "source": [
    "def F(n):\r\n",
    "    if n <= 70:\r\n",
    "        return F(n+2) + 2 * F(3 * n) \r\n",
    "    else:\r\n",
    "        return n-50\r\n",
    "\r\n",
    "print(F(40))"
   ],
   "outputs": [],
   "metadata": {}
  },
  {
   "cell_type": "markdown",
   "source": [
    "## №74"
   ],
   "metadata": {}
  },
  {
   "cell_type": "code",
   "execution_count": null,
   "source": [
    "# Плохая функция\r\n",
    "def F(n):\r\n",
    "    if n < -100000:\r\n",
    "        return 1\r\n",
    "    elif n > 10:\r\n",
    "        return F(n-1) + 3*F(n-3)+2\r\n",
    "    else:\r\n",
    "        return -F(n-1)\r\n",
    "\r\n",
    "# Хорошая эквивалентная функция\r\n",
    "def G(n):\r\n",
    "    if n <= 10:\r\n",
    "        if n % 2 == 1:\r\n",
    "            return 1\r\n",
    "        else:\r\n",
    "            return -1\r\n",
    "    else:\r\n",
    "        return G(n-1) + 3*G(n-3)+2\r\n",
    "\r\n",
    "print(G(20))"
   ],
   "outputs": [],
   "metadata": {}
  },
  {
   "cell_type": "markdown",
   "source": [
    "## №80"
   ],
   "metadata": {}
  },
  {
   "cell_type": "markdown",
   "source": [],
   "metadata": {}
  },
  {
   "cell_type": "code",
   "execution_count": null,
   "source": [
    "def F(n):\r\n",
    "    try:\r\n",
    "        if n <= 5:\r\n",
    "            return (True, n)\r\n",
    "        elif n % 3 == 0:\r\n",
    "            x = F(n // 3 + 2)\r\n",
    "            if x[0]:\r\n",
    "                return (True, n + x[1])\r\n",
    "            else:\r\n",
    "                return (False, 0)\r\n",
    "        else:\r\n",
    "            x = F(n+3)\r\n",
    "            if x[0]:\r\n",
    "                return (True, n + x[1])\r\n",
    "            else:\r\n",
    "                return (False, 0)\r\n",
    "    except RecursionError:\r\n",
    "        return (False, 0)\r\n",
    "\r\n",
    "n = 6\r\n",
    "k = F(n)\r\n",
    "while True:\r\n",
    "    n += 1\r\n",
    "    k = F(n)\r\n",
    "    if k[0] and k[1] >= 1000:\r\n",
    "        break\r\n",
    "\r\n",
    "print(n)\r\n",
    "print(F(n))"
   ],
   "outputs": [],
   "metadata": {}
  },
  {
   "cell_type": "markdown",
   "source": [
    "## №81"
   ],
   "metadata": {}
  },
  {
   "cell_type": "code",
   "execution_count": null,
   "source": [
    "def F(n):\r\n",
    "    if n <= 5:\r\n",
    "        return n\r\n",
    "    elif n > 5 and n % 5 == 0:\r\n",
    "        return n + F(n / 5 + 1)\r\n",
    "    elif n > 5 and n % 5 != 0:\r\n",
    "        return n + F(n+6)\r\n",
    "m = 0\r\n",
    "n = 8\r\n",
    "while n < 200:\r\n",
    "    if n % 6 != 0:\r\n",
    "        if F(n) > 1000:\r\n",
    "            m = n\r\n",
    "            break\r\n",
    "        n += 1\r\n",
    "    else:\r\n",
    "        n += 2\r\n",
    "print(m)"
   ],
   "outputs": [],
   "metadata": {}
  },
  {
   "cell_type": "markdown",
   "source": [
    "## №82"
   ],
   "metadata": {}
  },
  {
   "cell_type": "code",
   "execution_count": null,
   "source": [
    "def F(n):\r\n",
    "    if n <= 5:\r\n",
    "        return n\r\n",
    "    elif n > 5 and n % 4 == 0:\r\n",
    "        return n + F(n / 2 - 1)\r\n",
    "    elif n > 5 and n % 4 != 0:\r\n",
    "        return n + F(n+2)\r\n",
    "n = 0\r\n",
    "while n < 1000000:\r\n",
    "    try:\r\n",
    "        F(n)\r\n",
    "    except RecursionError: break\r\n",
    "    else: n += 2\r\n",
    "print(n-2)"
   ],
   "outputs": [],
   "metadata": {}
  },
  {
   "cell_type": "markdown",
   "source": [
    "## №95"
   ],
   "metadata": {}
  },
  {
   "cell_type": "markdown",
   "source": [],
   "metadata": {}
  },
  {
   "cell_type": "code",
   "execution_count": null,
   "source": [
    "def F(n):\r\n",
    "    if n < 10:\r\n",
    "        return n\r\n",
    "    else:\r\n",
    "        return F(G(n))\r\n",
    "\r\n",
    "def G(n):\r\n",
    "    if n < 10:\r\n",
    "        return n\r\n",
    "    else:\r\n",
    "        a = n % 10 + G(n // 10)\r\n",
    "        # print(a)\r\n",
    "        return a\r\n",
    "\r\n",
    "print(G(12345678987654321))"
   ],
   "outputs": [],
   "metadata": {}
  }
 ],
 "metadata": {
  "orig_nbformat": 4,
  "language_info": {
   "name": "python"
  }
 },
 "nbformat": 4,
 "nbformat_minor": 2
}