{
 "cells": [
  {
   "cell_type": "markdown",
   "metadata": {},
   "source": [
    "# Задача 23"
   ]
  },
  {
   "cell_type": "code",
   "execution_count": 4,
   "metadata": {},
   "outputs": [],
   "source": [
    "import pandas as pd\n",
    "answers = pd.read_csv('answers.csv', encoding='windows-1251')['23'].dropna().astype('int').to_list()\n",
    "answers = [None] + answers"
   ]
  },
  {
   "cell_type": "markdown",
   "metadata": {},
   "source": [
    "Исполнитель Калькулятор преобразует число на экране. У исполнителя есть две команды, которым присвоены номера:\n",
    "1. Прибавить 1\n",
    "2. Умножить на 3\n",
    "\n",
    "Программа для исполнителя Калькулятор – это последовательность команд. Сколько существует программ, для которых при исходном числе 1 результатом является число 65, и при этом траектория вычислений содержит число 20?"
   ]
  },
  {
   "cell_type": "code",
   "execution_count": 15,
   "metadata": {},
   "outputs": [
    {
     "data": {
      "text/plain": [
       "12"
      ]
     },
     "execution_count": 15,
     "metadata": {},
     "output_type": "execute_result"
    }
   ],
   "source": [
    "dp = [0] * 21\n",
    "dp[1] = 1\n",
    "for i in range(2, 20+1):\n",
    "    dp[i] = dp[i-1]\n",
    "    if i % 3 == 0 and i // 3 >= 1:\n",
    "        dp[i] += dp[i // 3]\n",
    "dp[20]"
   ]
  },
  {
   "cell_type": "code",
   "execution_count": 16,
   "metadata": {},
   "outputs": [
    {
     "data": {
      "text/plain": [
       "3"
      ]
     },
     "execution_count": 16,
     "metadata": {},
     "output_type": "execute_result"
    }
   ],
   "source": [
    "dp = [0] * 66\n",
    "dp[20] = 1\n",
    "for i in range(21, 65+1):\n",
    "    dp[i] = dp[i-1]\n",
    "    if i % 3 == 0 and i // 3 >= 20:\n",
    "        dp[i] += dp[i // 3]\n",
    "dp[65]"
   ]
  },
  {
   "cell_type": "code",
   "execution_count": 17,
   "metadata": {},
   "outputs": [
    {
     "data": {
      "text/plain": [
       "36"
      ]
     },
     "execution_count": 17,
     "metadata": {},
     "output_type": "execute_result"
    }
   ],
   "source": [
    "12 * 3"
   ]
  },
  {
   "cell_type": "markdown",
   "metadata": {},
   "source": [
    "## 68"
   ]
  },
  {
   "cell_type": "markdown",
   "metadata": {},
   "source": [
    "Исполнитель Июнь15 преобразует число на экране. У исполнителя есть две команды, которым присвоены номера:\n",
    "\n",
    "1. Прибавить 1\n",
    "2. Умножить на 2\n",
    "\n",
    "Первая команда увеличивает число на экране на 1, вторая умножает его на \t2. Программа для исполнителя Июнь15 – это последовательность команд. Сколько существует программ, для которых при исходном числе 2 результатом является число 31 и при этом траектория вычислений содержит число 15 и не содержит число 22?\n"
   ]
  },
  {
   "cell_type": "code",
   "execution_count": 20,
   "metadata": {},
   "outputs": [
    {
     "data": {
      "text/plain": [
       "13"
      ]
     },
     "execution_count": 20,
     "metadata": {},
     "output_type": "execute_result"
    }
   ],
   "source": [
    "dp = [0] * 16\n",
    "dp[2] = 1\n",
    "for i in range(3, 15+1):\n",
    "    dp[i] = dp[i-1]\n",
    "    if i % 2 == 0 and i // 2 >= 2:\n",
    "        dp[i] += dp[i // 2]\n",
    "dp[15]"
   ]
  },
  {
   "cell_type": "code",
   "execution_count": 25,
   "metadata": {},
   "outputs": [
    {
     "data": {
      "text/plain": [
       "13"
      ]
     },
     "execution_count": 25,
     "metadata": {},
     "output_type": "execute_result"
    }
   ],
   "source": [
    "dp = [0] * 32\n",
    "dp[15] = 13\n",
    "for i in range(16, 31+1):\n",
    "    if i == 22:\n",
    "        dp[i] = 0\n",
    "    else:\n",
    "        dp[i] = dp[i-1]\n",
    "        if i % 2 == 0 and i // 2 >= 15:\n",
    "            dp[i] += dp[i // 2]\n",
    "dp[31]"
   ]
  },
  {
   "cell_type": "markdown",
   "metadata": {},
   "source": [
    "## 132"
   ]
  },
  {
   "cell_type": "code",
   "execution_count": 1,
   "metadata": {},
   "outputs": [
    {
     "name": "stdout",
     "output_type": "stream",
     "text": [
      "254\n"
     ]
    }
   ],
   "source": [
    "dp = [0] * 47\n",
    "dp[5] = 1\n",
    "\n",
    "for i in range(6, 47):\n",
    "    dp[i] = dp[i-1]\n",
    "    dp[i] += dp[i // 2]\n",
    "\n",
    "print(dp[46])"
   ]
  },
  {
   "cell_type": "markdown",
   "metadata": {},
   "source": [
    "## 161"
   ]
  },
  {
   "cell_type": "code",
   "execution_count": 8,
   "metadata": {},
   "outputs": [
    {
     "data": {
      "text/plain": [
       "[0, 0, 0, 0, 0, 0, 1, 1, 1, 2, 3, 4, 6, 9, 14, 20, 29, 43, 63, 92, 135, 198]"
      ]
     },
     "execution_count": 8,
     "metadata": {},
     "output_type": "execute_result"
    }
   ],
   "source": [
    "dp = [0] * 22\n",
    "dp[6] = 1\n",
    "\n",
    "# fib_indeces = [1, 2]\n",
    "fib = [1, 1]\n",
    "\n",
    "for i in range(3, 50):\n",
    "    # fib_indeces.append(i)\n",
    "    fib.append(fib[i-2] + fib[i-3])\n",
    "    \n",
    "\n",
    "for i in range(7, 22):\n",
    "    dp[i] += dp[i-1] + dp[i-3]\n",
    "    try:\n",
    "        x = fib.index(dp[i])\n",
    "        dp[i] += dp[x]\n",
    "    except:\n",
    "        pass\n",
    "\n",
    "dp"
   ]
  },
  {
   "cell_type": "code",
   "execution_count": 7,
   "metadata": {},
   "outputs": [
    {
     "name": "stdout",
     "output_type": "stream",
     "text": [
      "[0, 0, 0, 0, 0, 0, 1, 1, 2, 3, 4, 6, 9, 14, 20, 29, 43, 63, 92, 135, 198, 292]\n"
     ]
    }
   ],
   "source": [
    "p = [0]*22\n",
    "p[6] = 1\n",
    "for i in range(7,22):\n",
    "    p[i] += p[i-1] + p[i-3]\n",
    "    if i == 8:\n",
    "        p[i] += p[6]\n",
    "    if i == 13:\n",
    "        p[i] += p[7]\n",
    "    if i == 21:\n",
    "        p[i] += p[8]\n",
    "print(p)"
   ]
  },
  {
   "cell_type": "markdown",
   "metadata": {},
   "source": [
    "## 162"
   ]
  },
  {
   "cell_type": "markdown",
   "metadata": {},
   "source": [
    "Исполнитель Калькулятор преобразует число, записанное на экране. У исполнителя есть три команды, которым присвоены номера: \n",
    "\n",
    "1. Прибавь 1\n",
    "2. Прибавь 2\n",
    "3. Умножь на 2\n",
    "\n",
    "Первая команда увеличивает число на экране на 1, вторая увеличивает его на 2, третья – умножает на 2. Программа для исполнителя – это последовательность команд. Сколько существует программ, которые преобразуют исходное число 1 в число 15 и при этом не содержат двух команд умножения подряд?\n"
   ]
  },
  {
   "cell_type": "code",
   "execution_count": 13,
   "metadata": {},
   "outputs": [
    {
     "name": "stdout",
     "output_type": "stream",
     "text": [
      "[0, 1, 1, 3, 5, 9, 15, 27, 45, 77, 127, 213, 349, 577, 941, 1545]\n",
      "[0, 0, 1, 0, 1, 0, 3, 0, 5, 0, 9, 0, 15, 0, 27, 0]\n",
      "1545\n"
     ]
    }
   ],
   "source": [
    "dp = [0] * 16 # dp[i] - количество программ, в которых последняя операция - не умножение\n",
    "dp_m = [0] * 16 # dp[i] - количество программ, в которых последняя операция - умножение\n",
    "\n",
    "dp[1] = 1\n",
    "\n",
    "for i in range(2, 16):\n",
    "    dp[i] = dp[i-1] + dp_m[i-1]\n",
    "    dp[i] += dp[i-2] + dp_m[i-2]\n",
    "    \n",
    "    if i % 2 == 0:\n",
    "        dp_m[i] = dp[i // 2]\n",
    "\n",
    "print(dp)\n",
    "print(dp_m)\n",
    "\n",
    "print(dp[15] + dp_m[15])"
   ]
  },
  {
   "cell_type": "code",
   "execution_count": 14,
   "metadata": {},
   "outputs": [
    {
     "data": {
      "text/plain": [
       "1545"
      ]
     },
     "execution_count": 14,
     "metadata": {},
     "output_type": "execute_result"
    }
   ],
   "source": [
    "answers[162]"
   ]
  },
  {
   "cell_type": "markdown",
   "metadata": {},
   "source": [
    "## 163"
   ]
  },
  {
   "cell_type": "markdown",
   "metadata": {},
   "source": [
    "Исполнитель Калькулятор преобразует число, записанное на экране. У исполнителя есть три команды, которым присвоены номера: \n",
    "\n",
    "1. Прибавь 1\n",
    "2. Прибавь 2\n",
    "3. Умножь на 2\n",
    "\n",
    "Первая команда увеличивает число на экране на 1, вторая увеличивает его на 2, третья – умножает на 2. Программа для исполнителя – это последовательность команд. Сколько существует программ, которые преобразуют исходное число 1 в число 12 и при этом не содержат двух команд «Прибавить 2» подряд?"
   ]
  },
  {
   "cell_type": "code",
   "execution_count": 14,
   "metadata": {},
   "outputs": [
    {
     "name": "stdout",
     "output_type": "stream",
     "text": [
      "[0, 1, 2, 2, 5, 7, 12, 17, 31, 43, 69, 100, 160]\n",
      "[0, 0, 0, 1, 2, 2, 5, 7, 12, 17, 31, 43, 69]\n",
      "229\n"
     ]
    }
   ],
   "source": [
    "dp = [0] * 13 # dp[i] - количество программ, в которых последняя операция - не прибавление 2\n",
    "dp_m = [0] * 13 # dp[i] - количество программ, в которых последняя операция - прибавление 2\n",
    "\n",
    "dp[1] = 1\n",
    "\n",
    "for i in range(2, 13):\n",
    "    dp[i] = dp[i-1] + dp_m[i-1]\n",
    "\n",
    "    if i % 2 == 0:\n",
    "        dp[i] += dp[i // 2] + dp_m[i // 2]\n",
    "    \n",
    "    dp_m[i] = dp[i - 2]\n",
    "\n",
    "print(dp)\n",
    "print(dp_m)\n",
    "\n",
    "print(dp[12] + dp_m[12])"
   ]
  },
  {
   "cell_type": "code",
   "execution_count": 6,
   "metadata": {},
   "outputs": [
    {
     "data": {
      "text/plain": [
       "229"
      ]
     },
     "execution_count": 6,
     "metadata": {},
     "output_type": "execute_result"
    }
   ],
   "source": [
    "answers[163]"
   ]
  },
  {
   "cell_type": "markdown",
   "metadata": {},
   "source": [
    "## Пробник"
   ]
  },
  {
   "cell_type": "markdown",
   "metadata": {},
   "source": [
    "Исполнитель преобразует число на экране. У исполнителя есть две команды, которым присвоены номера:\n",
    "\n",
    "1. Прибавить 1\n",
    "2. Умножить на 2\n",
    "\n",
    "Первая команда увеличивает число на экране на 1, вторая умножает его на 2. Программа для исполнителя Июнь15 – это последовательность команд. Сколько существует программ, для которых при исходном числе 2 результатом является число 31 и при этом траектория вычислений содержит число 12 и не содержит число 21?\n"
   ]
  },
  {
   "cell_type": "code",
   "execution_count": 26,
   "metadata": {},
   "outputs": [
    {
     "data": {
      "text/plain": [
       "10"
      ]
     },
     "execution_count": 26,
     "metadata": {},
     "output_type": "execute_result"
    }
   ],
   "source": [
    "dp = [0] * 16\n",
    "dp[2] = 1\n",
    "for i in range(3, 12+1):\n",
    "    dp[i] = dp[i-1]\n",
    "    if i % 2 == 0 and i // 2 >= 2:\n",
    "        dp[i] += dp[i // 2]\n",
    "dp[12]"
   ]
  },
  {
   "cell_type": "code",
   "execution_count": 28,
   "metadata": {},
   "outputs": [
    {
     "data": {
      "text/plain": [
       "40"
      ]
     },
     "execution_count": 28,
     "metadata": {},
     "output_type": "execute_result"
    }
   ],
   "source": [
    "dp = [0] * 32\n",
    "dp[12] = 10\n",
    "for i in range(13, 31+1):\n",
    "    if i == 21:\n",
    "        dp[i] = 0\n",
    "    else:\n",
    "        dp[i] = dp[i-1]\n",
    "        if i % 2 == 0 and i // 2 >= 12:\n",
    "            dp[i] += dp[i // 2]\n",
    "dp[31]"
   ]
  }
 ],
 "metadata": {
  "interpreter": {
   "hash": "b3ba2566441a7c06988d0923437866b63cedc61552a5af99d1f4fb67d367b25f"
  },
  "kernelspec": {
   "display_name": "Python 3.9.7 ('base')",
   "language": "python",
   "name": "python3"
  },
  "language_info": {
   "codemirror_mode": {
    "name": "ipython",
    "version": 3
   },
   "file_extension": ".py",
   "mimetype": "text/x-python",
   "name": "python",
   "nbconvert_exporter": "python",
   "pygments_lexer": "ipython3",
   "version": "3.9.7"
  },
  "orig_nbformat": 4
 },
 "nbformat": 4,
 "nbformat_minor": 2
}
