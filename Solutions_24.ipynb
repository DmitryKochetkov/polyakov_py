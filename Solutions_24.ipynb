{
 "cells": [
  {
   "cell_type": "markdown",
   "metadata": {},
   "source": [
    "# Задача 24"
   ]
  },
  {
   "cell_type": "code",
   "execution_count": null,
   "metadata": {},
   "outputs": [],
   "source": [
    "import pandas as pd\n",
    "answers = pd.read_csv('answers.csv', encoding='windows-1251')['24'].to_list()\n",
    "answers = [None] + answers\n",
    "\n",
    "solutions = [None] * (len(answers)+1) # solutions[i] - решение i-й задачи. solutions[0] не используется."
   ]
  },
  {
   "cell_type": "code",
   "execution_count": null,
   "metadata": {},
   "outputs": [],
   "source": [
    "# maps problem number to the input file\n",
    "problem_files = { \n",
    "    1: './data/24data/k7data/k7-0.txt',\n",
    "    2: './data/24data/k7data/k7-3.txt',\n",
    "    3: './data/24data/k7data/k7-5.txt',\n",
    "    4: './data/24data/k7data/k7-20.txt',\n",
    "    5: './data/24data/k7data/k7-25.txt',\n",
    "    6: './data/24data/k7data/k7-29.txt',\n",
    "    7: './data/24data/k7data/k7-40.txt',\n",
    "    8: './data/24data/k7data/k7-42.txt',\n",
    "    9: './data/24data/k7data/k7-44.txt',\n",
    "    10: './data/24data/k7data/k7-45.txt',\n",
    "    26: './data/24data/k7data/k7a-6.txt',\n",
    "    77: './data/24data/k8data/k8-1.txt',\n",
    "    78: './data/24data/k8data/k8-2.txt',\n",
    "    79: './data/24data/k8data/k8-3.txt',\n",
    "    80: './data/24data/k8data/k8-4.txt',\n",
    "    81: './data/24data/k8data/k8-5.txt',\n",
    "    82: './data/24data/k8data/k8-6.txt',\n",
    "    83: './data/24data/k8data/k8-7.txt',\n",
    "    84: './data/24data/k8data/k8-8.txt',\n",
    "    85: './data/24data/k8data/k8-9.txt',\n",
    "    86: './data/24data/k8data/k8-10.txt',\n",
    "    87: './data/24data/24-1.txt'\n",
    "}"
   ]
  },
  {
   "cell_type": "code",
   "execution_count": null,
   "metadata": {},
   "outputs": [],
   "source": [
    "def check(problems, func):\n",
    "    for i in problems:\n",
    "        try:\n",
    "            with open(problem_files[i]) as f:\n",
    "                s = f.readlines()[0]\n",
    "                solutions[i] = func(s)\n",
    "        except KeyError:\n",
    "            print('Skipping problem {} (no input file specified)'.format(i))"
   ]
  },
  {
   "cell_type": "markdown",
   "metadata": {},
   "source": [
    "## Длина самой длинной подцепочки (Задачи 1-20)"
   ]
  },
  {
   "cell_type": "markdown",
   "metadata": {},
   "source": [
    "Ищется длина самой длинной подцепочки, состоящей из символов C."
   ]
  },
  {
   "cell_type": "code",
   "execution_count": null,
   "metadata": {},
   "outputs": [],
   "source": [
    "def solution1_20(s):\n",
    "    answer = 0\n",
    "    a = 0\n",
    "\n",
    "    for i in range(len(s)):    \n",
    "        if s[i] == 'C':\n",
    "            a += 1\n",
    "        else:\n",
    "            answer = max(answer, a)\n",
    "            a = 0\n",
    "\n",
    "    answer = max(answer, a)\n",
    "\n",
    "    return answer"
   ]
  },
  {
   "cell_type": "code",
   "execution_count": null,
   "metadata": {},
   "outputs": [],
   "source": [
    "check(range(1, 20+1), solution1_20)"
   ]
  },
  {
   "cell_type": "markdown",
   "metadata": {},
   "source": [
    "## #24"
   ]
  },
  {
   "cell_type": "markdown",
   "metadata": {},
   "source": [
    "Ищется длина самой длинной подцепочки, не содержащей символа D."
   ]
  },
  {
   "cell_type": "code",
   "execution_count": null,
   "metadata": {},
   "outputs": [],
   "source": [
    "# Задача 24\n",
    "\n",
    "def solution24(s):\n",
    "    answer = 0\n",
    "    a = 0\n",
    "\n",
    "    for i in range(len(s)):    \n",
    "        if s[i] != 'D':\n",
    "            a += 1\n",
    "        else:\n",
    "            answer = max(answer, a)\n",
    "            a = 0\n",
    "\n",
    "    answer = max(answer, a)\n",
    "\n",
    "    return answer\n",
    "\n",
    "with open('./data/24data/k7data/k7a-4.txt') as f:\n",
    "    s = f.readlines()[0]\n",
    "    solutions[24] = solution24(s)"
   ]
  },
  {
   "cell_type": "markdown",
   "metadata": {},
   "source": [
    "## #26"
   ]
  },
  {
   "cell_type": "markdown",
   "metadata": {},
   "source": [
    "Ищется длина самой длинной подцепочки из символов A, B, C, D, E, F, не содержащей гласных."
   ]
  },
  {
   "cell_type": "code",
   "execution_count": null,
   "metadata": {},
   "outputs": [],
   "source": [
    "def solution26(s):\n",
    "    vowels = 'AE'\n",
    "    answer = 0\n",
    "    b = 0\n",
    "    for i in range(len(s)):\n",
    "        if s[i] not in vowels:\n",
    "            b += 1\n",
    "            if answer < b:\n",
    "                answer = b\n",
    "        else:\n",
    "            b = 0\n",
    "    return answer\n",
    "\n",
    "check([26], solution26)"
   ]
  },
  {
   "cell_type": "markdown",
   "metadata": {},
   "source": [
    "## #27"
   ]
  },
  {
   "cell_type": "code",
   "execution_count": null,
   "metadata": {},
   "outputs": [],
   "source": [
    "def solution27(s):\n",
    "    f = 'EAB'\n",
    "\n",
    "    answer = 0\n",
    "    a = 0\n",
    "\n",
    "    for i in range(len(s)):    \n",
    "        if s[i] == f[a % 3]:\n",
    "            a += 1\n",
    "        else:\n",
    "            answer = max(answer, a)\n",
    "            a = 0\n",
    "\n",
    "    answer = max(answer, a)\n",
    "\n",
    "    return answer\n",
    "\n",
    "with open('./data/24data/k7data/k7b-1.txt') as f:\n",
    "    s = f.readlines()[0]\n",
    "    solutions[27] = solution27(s)"
   ]
  },
  {
   "cell_type": "markdown",
   "metadata": {},
   "source": [
    "## #52-71"
   ]
  },
  {
   "cell_type": "markdown",
   "metadata": {},
   "source": [
    "Ищется длина самой длинной подцепочки из одинаковых символов. Если в файле несколько цепочек одинаковой длины, нужно взять первую из них. Вывести сначала символ, из которого строится эта подцепочка, а затем через пробел – длину этой подцепочки."
   ]
  },
  {
   "cell_type": "code",
   "execution_count": null,
   "metadata": {},
   "outputs": [],
   "source": [
    "def solution52_71(s):\n",
    "    answer = 0\n",
    "    character = s[0]\n",
    "    a = 1\n",
    "\n",
    "    for i in range(1, len(s)):    \n",
    "        if s[i] == s[i-1]:\n",
    "            a += 1\n",
    "            if a > answer:\n",
    "                character = s[i]\n",
    "                answer = a\n",
    "        else:\n",
    "            a = 1\n",
    "\n",
    "    return '{} {}'.format(character, answer)\n",
    "\n",
    "with open('./data/24data/k8data/k8-4.txt') as f:\n",
    "    s = f.readlines()[0]\n",
    "    solutions[53] = solution52_71(s)"
   ]
  },
  {
   "cell_type": "markdown",
   "metadata": {},
   "source": [
    "### #67"
   ]
  },
  {
   "cell_type": "code",
   "execution_count": null,
   "metadata": {},
   "outputs": [],
   "source": [
    "with open('./data/24data/k8data/k8-91.txt') as f:\n",
    "    s = f.readlines()[0]\n",
    "    solutions[67] = solution52_71(s)"
   ]
  },
  {
   "cell_type": "markdown",
   "metadata": {},
   "source": [
    "## #77-86"
   ]
  },
  {
   "cell_type": "markdown",
   "metadata": {},
   "source": [
    "Определите максимальное количество идущих подряд символов, среди которых каждые два соседних различны."
   ]
  },
  {
   "cell_type": "code",
   "execution_count": null,
   "metadata": {},
   "outputs": [],
   "source": [
    "def solution77_86(s):\n",
    "    answer = 1\n",
    "    a = 1\n",
    "\n",
    "    for i in range(1, len(s)):    \n",
    "        if s[i] != s[i-1]:\n",
    "            a += 1\n",
    "            if a > answer:\n",
    "                answer = a\n",
    "        else:\n",
    "            a = 1\n",
    "\n",
    "    return str(answer)"
   ]
  },
  {
   "cell_type": "code",
   "execution_count": null,
   "metadata": {},
   "outputs": [],
   "source": [
    "check(range(77, 86+1), solution77_86)"
   ]
  },
  {
   "cell_type": "markdown",
   "metadata": {},
   "source": [
    "## 87-92"
   ]
  },
  {
   "cell_type": "code",
   "execution_count": null,
   "metadata": {},
   "outputs": [],
   "source": [
    "def solution87(s):\n",
    "    a = '123456789'\n",
    "    b = ''\n",
    "    answer = 0\n",
    "    for i in range(len(s)):\n",
    "        if s[i] in a:\n",
    "            b += str(s[i])\n",
    "            if answer < int(b) and int(b)%2 != 0:\n",
    "                answer = int(b)\n",
    "        else:\n",
    "            b = ''\n",
    "    return answer\n",
    "\n",
    "check([87], solution87)"
   ]
  },
  {
   "cell_type": "code",
   "execution_count": null,
   "metadata": {},
   "outputs": [],
   "source": [
    "# 93-97\n",
    "\n",
    "with open('./data/24data/24-2.txt') as f:\n",
    "    s = f.readlines()[0]\n",
    "    answer = 0\n",
    "    k = 1\n",
    "\n",
    "    for i in range(len(s)-1):\n",
    "        if s[i] < s[i+1]:\n",
    "            k += 1\n",
    "        else:\n",
    "            k = 1\n",
    "        answer = max(answer, k)\n",
    "\n",
    "solutions[95] = answer"
   ]
  },
  {
   "cell_type": "code",
   "execution_count": null,
   "metadata": {},
   "outputs": [],
   "source": [
    "# 99\n",
    "\n",
    "with open('./data/24data/24-1.txt') as f:\n",
    "    s = f.readlines()[0]\n",
    "    answer = ''\n",
    "    k = s[0]\n",
    "\n",
    "    for i in range(1, len(s)):\n",
    "        if s[i-1] < s[i]:\n",
    "            k += s[i]\n",
    "        else:\n",
    "            k = s[i]\n",
    "\n",
    "        if len(k) > len(answer):\n",
    "            answer = k\n",
    "\n",
    "solutions[99] = answer"
   ]
  },
  {
   "cell_type": "code",
   "execution_count": null,
   "metadata": {},
   "outputs": [],
   "source": [
    "solutions[99]"
   ]
  },
  {
   "cell_type": "code",
   "execution_count": null,
   "metadata": {},
   "outputs": [],
   "source": [
    "# 100\n",
    "\n",
    "with open('./data/24data/24-2.txt') as f:\n",
    "    s = f.readlines()[0]\n",
    "    answer = ''\n",
    "    k = s[0]\n",
    "\n",
    "    for i in range(1, len(s)):\n",
    "        if s[i-1] < s[i]:\n",
    "            k += s[i]\n",
    "        else:\n",
    "            k = s[i]\n",
    "\n",
    "        if len(k) > len(answer):\n",
    "            answer = k\n",
    "\n",
    "solutions[100] = answer"
   ]
  },
  {
   "cell_type": "code",
   "execution_count": null,
   "metadata": {},
   "outputs": [],
   "source": [
    "# 105\n",
    "\n",
    "with open('./data/24data/24-2.txt') as f:\n",
    "    s = f.readlines()[0]\n",
    "    answer = 0\n",
    "    answer_str = ''\n",
    "    k = s[0]\n",
    "\n",
    "    for i in range(1, len(s)):\n",
    "        if s[i-1] < s[i]:\n",
    "            k += s[i]\n",
    "        else:\n",
    "            k = s[i]\n",
    "\n",
    "        if len(k) > len(answer_str):\n",
    "            answer_str = k\n",
    "            answer = i-len(k)+2 # TODO: разобаться, почему тут +2\n",
    "\n",
    "solutions[105] = answer"
   ]
  },
  {
   "cell_type": "code",
   "execution_count": null,
   "metadata": {},
   "outputs": [],
   "source": [
    "# 123\n",
    "\n",
    "with open('./data/24data/24-1.txt') as f:\n",
    "    s = f.readlines()[0]\n",
    "    answer = 0\n",
    "    p = -1\n",
    "\n",
    "    for i in range(1, len(s)-1):\n",
    "        if s[i] > s[i-1] and s[i] > s[i+1]:\n",
    "            if p == -1:\n",
    "                p = i\n",
    "            else:\n",
    "                answer = max(answer, i-p)\n",
    "                p = i\n",
    "\n",
    "solutions[123] = answer"
   ]
  },
  {
   "cell_type": "code",
   "execution_count": null,
   "metadata": {},
   "outputs": [],
   "source": [
    "# 125\n",
    "\n",
    "with open('./data/24data/24-5.txt') as f:\n",
    "    s = f.readlines()[0]\n",
    "    answer = 0\n",
    "\n",
    "    for i in range(1, len(s)):\n",
    "        if s[i-1] == '(' and s[i] == ')':\n",
    "            answer += 1\n",
    "    \n",
    "solutions[125] = answer"
   ]
  },
  {
   "cell_type": "code",
   "execution_count": null,
   "metadata": {},
   "outputs": [],
   "source": [
    "# 126\n",
    "\n",
    "def solution126(s):\n",
    "    f = '()'\n",
    "\n",
    "    answer = 0\n",
    "    a = 0\n",
    "\n",
    "    for i in range(len(s)):\n",
    "        if s[i] == f[a % len(f)]:\n",
    "            a += 1\n",
    "        else:\n",
    "            answer = max(answer, a // 2)\n",
    "            a = 0\n",
    "\n",
    "    answer = max(answer, a // 2)\n",
    "\n",
    "    return answer\n",
    "\n",
    "with open('./data/24data/24-5.txt') as f:\n",
    "    s = f.readlines()[0]\n",
    "    solutions[126] = solution126(s)"
   ]
  },
  {
   "cell_type": "code",
   "execution_count": null,
   "metadata": {},
   "outputs": [],
   "source": [
    "# 129\n",
    "\n",
    "def solution129():\n",
    "    with open('./data/24data/24-5.txt') as f:\n",
    "        s = f.readlines()[0]\n",
    "        c = 0\n",
    "        for i in range(1, len(s)):\n",
    "            if s[i] == '(':\n",
    "                c += 1\n",
    "\n",
    "            if c == 10000:\n",
    "                return i+1\n",
    "        \n",
    "        return None\n",
    "\n",
    "solutions[129] = solution129()"
   ]
  },
  {
   "cell_type": "code",
   "execution_count": null,
   "metadata": {},
   "outputs": [],
   "source": [
    "# 137\n",
    "\n",
    "s = 'ABC'\n",
    "\n",
    "def solution137():\n",
    "    c = 0\n",
    "\n",
    "    with open('./data/24data/24-s1.txt') as f:\n",
    "        for line in f.readlines():\n",
    "            if line.count('J') > line.count('E'):\n",
    "                c += 1\n",
    "\n",
    "    return c\n",
    "\n",
    "solutions[137] = solution137()"
   ]
  },
  {
   "cell_type": "markdown",
   "metadata": {},
   "source": [
    "## #146"
   ]
  },
  {
   "cell_type": "code",
   "execution_count": null,
   "metadata": {},
   "outputs": [],
   "source": [
    "def solution146():\n",
    "    with open('./data/24data/24-j8.txt') as file:\n",
    "        s = file.readline().strip('\\n')\n",
    "\n",
    "        lenn = 1\n",
    "        max_lenn = 0\n",
    "\n",
    "        for i in range(len(s)-1):\n",
    "            if int(s[i]) + int(s[i+1]) >= 10:\n",
    "                lenn += 1\n",
    "            else:\n",
    "                max_lenn = max(lenn, max_lenn)\n",
    "                lenn = 1\n",
    "\n",
    "        return max_lenn\n",
    "\n",
    "solutions[146] = solution146()"
   ]
  },
  {
   "cell_type": "markdown",
   "metadata": {},
   "source": [
    "## #166. Выбор строк с условием. Максимальное расстояние между одинаковыми буквами в строке."
   ]
  },
  {
   "cell_type": "code",
   "execution_count": null,
   "metadata": {},
   "outputs": [],
   "source": [
    "def max_distance_between_same_letters(s):\n",
    "    return 0\n",
    "\n",
    "distances = list()\n",
    "with open('./data/24data/24-164.txt') as f:\n",
    "    for line in f.readlines():\n",
    "        if line.count('G') < 15:\n",
    "            distances.append(str(max_distance_between_same_letters(line)))\n",
    "\n",
    "answer = '\\n'.join(distances)\n",
    "print(answer)\n",
    "# solutions[166] = answer"
   ]
  },
  {
   "cell_type": "markdown",
   "metadata": {},
   "source": [
    "## #174"
   ]
  },
  {
   "cell_type": "code",
   "execution_count": null,
   "metadata": {},
   "outputs": [],
   "source": [
    "def max_closed_substring_length(line):\n",
    "    result = 0\n",
    "    nearest_position = dict()\n",
    "\n",
    "    for i in range(len(line)):\n",
    "        if line[i] in nearest_position.keys():\n",
    "            result = max(result, i-nearest_position[line[i]])\n",
    "            \n",
    "        nearest_position[line[i]] = i\n",
    "    \n",
    "    return result\n",
    "\n",
    "def count_closed_substrings(line):\n",
    "    result = 0\n",
    "    nearest_position = dict()\n",
    "\n",
    "    for i in range(len(line)):\n",
    "        if line[i] in nearest_position.keys():\n",
    "            if nearest_position[line[i]] != i-1:\n",
    "                result += 1\n",
    "\n",
    "        nearest_position[line[i]] = i\n",
    "        # else:\n",
    "        #     result += 1\n",
    "\n",
    "    return result\n",
    "\n",
    "max_distance = 0\n",
    "closed_substrings = 0\n",
    "\n",
    "with open('./data/24data/24-174.txt') as f:\n",
    "    for line in f.readlines():\n",
    "        if line.count('R') < 30:\n",
    "            closed_substrings += count_closed_substrings(line)\n",
    "            max_distance = max(max_distance, max_closed_substring_length(line))\n",
    "\n",
    "solutions[174] = '{} {}'.format(max_distance, closed_substrings)"
   ]
  },
  {
   "cell_type": "code",
   "execution_count": null,
   "metadata": {},
   "outputs": [],
   "source": [
    "count_closed_substrings('INFORMATIKA')"
   ]
  },
  {
   "cell_type": "code",
   "execution_count": null,
   "metadata": {},
   "outputs": [],
   "source": [
    "solutions[174]"
   ]
  },
  {
   "cell_type": "markdown",
   "metadata": {},
   "source": [
    "## Checking solutions"
   ]
  },
  {
   "cell_type": "code",
   "execution_count": null,
   "metadata": {},
   "outputs": [],
   "source": [
    "ok_flag = True\n",
    "\n",
    "solutions = [str(solution) if solution != None else None for solution in solutions]\n",
    "solved = []\n",
    "\n",
    "for i in range(1, len(answers)):\n",
    "    if solutions[i] is not None:\n",
    "        if solutions[i] == answers[i]:\n",
    "            solved.append(i)\n",
    "        else:\n",
    "            print('Error in problem {}. Correct Answer: {}. Given: {}'.format(i, answers[i], solutions[i]))\n",
    "            ok_flag = False\n",
    "\n",
    "if ok_flag:\n",
    "    print('OK!')\n",
    "print('Solved problems: {}'.format(solved))"
   ]
  }
 ],
 "metadata": {
  "interpreter": {
   "hash": "cb6379b8b7577161aa18638ebe768932c951d71bf468a98e7ca6c24ee0b82852"
  },
  "kernelspec": {
   "display_name": "Python 3.10.0 64-bit",
   "name": "python3"
  },
  "language_info": {
   "codemirror_mode": {
    "name": "ipython",
    "version": 3
   },
   "file_extension": ".py",
   "mimetype": "text/x-python",
   "name": "python",
   "nbconvert_exporter": "python",
   "pygments_lexer": "ipython3",
   "version": "3.9.7"
  },
  "orig_nbformat": 4
 },
 "nbformat": 4,
 "nbformat_minor": 2
}
